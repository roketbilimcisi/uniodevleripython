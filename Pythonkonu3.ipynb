{
  "nbformat": 4,
  "nbformat_minor": 0,
  "metadata": {
    "colab": {
      "provenance": [],
      "authorship_tag": "ABX9TyNHcgYTEo2CUOHJlZd92ACm",
      "include_colab_link": true
    },
    "kernelspec": {
      "name": "python3",
      "display_name": "Python 3"
    },
    "language_info": {
      "name": "python"
    }
  },
  "cells": [
    {
      "cell_type": "markdown",
      "metadata": {
        "id": "view-in-github",
        "colab_type": "text"
      },
      "source": [
        "<a href=\"https://colab.research.google.com/github/roketbilimcisi/roketbilimcisi/blob/main/Pythonkonu3.ipynb\" target=\"_parent\"><img src=\"https://colab.research.google.com/assets/colab-badge.svg\" alt=\"Open In Colab\"/></a>"
      ]
    },
    {
      "cell_type": "markdown",
      "source": [
        "**1. `print()` Fonksiyonu Kullanımı**"
      ],
      "metadata": {
        "id": "V9IYiaM2jPNc"
      }
    },
    {
      "cell_type": "code",
      "source": [
        "# Metin ve değişkenleri ekrana yazdırma\n",
        "isim = \"Ali\"\n",
        "yas = 25\n",
        "\n",
        "print(\"Merhaba, Python!\")  # Merhaba, Python!\n",
        "print(\"Ad:\", isim, \"Yaş:\", yas)  # Ad: Ali Yaş: 25\n",
        "\n",
        "# print() fonksiyonu ile metin ve değişkenleri birleştirme\n",
        "sehir = \"Istanbul\"\n",
        "print(\"Merhaba, ben \" + isim + \" ve \" + sehir + \"da yaşıyorum.\")  # Merhaba, ben Ali ve Istanbul'da yaşıyorum.\n"
      ],
      "metadata": {
        "id": "zBvAyZeYp15j"
      },
      "execution_count": null,
      "outputs": []
    },
    {
      "cell_type": "markdown",
      "source": [
        "**2. `input()` Fonksiyonu Kullanımı**"
      ],
      "metadata": {
        "id": "5aL8qXDvqA4C"
      }
    },
    {
      "cell_type": "code",
      "source": [
        "# Kullanıcıdan veri almak için input fonksiyonu\n",
        "isim_input = input(\"Adınızı girin: \")\n",
        "yas_input = input(\"Yaşınızı girin: \")\n",
        "\n",
        "# Kullanıcının girdiği verileri yazdırma\n",
        "print(\"Adınız:\", isim_input)\n",
        "print(\"Yaşınız:\", yas_input)"
      ],
      "metadata": {
        "id": "kNYo91KvqGZH"
      },
      "execution_count": null,
      "outputs": []
    },
    {
      "cell_type": "markdown",
      "source": [
        "**3. Sayısal Verilerle Formatlama**"
      ],
      "metadata": {
        "id": "xPxGBrWKppzS"
      }
    },
    {
      "cell_type": "code",
      "source": [
        "# Pi sayısını formatlama örneği\n",
        "pi = 3.14159\n",
        "print(\"Pi sayısı yaklaşık olarak (2 basamak) : {:.2f}\".format(pi))  # Pi sayısı 3.14\n",
        "print(\"Pi sayısı yaklaşık olarak (4 basamak): {:.4f}\".format(pi))  # Pi sayısı 3.1416"
      ],
      "metadata": {
        "id": "sjyMvbEzjSDe"
      },
      "execution_count": null,
      "outputs": []
    },
    {
      "cell_type": "markdown",
      "source": [
        "**4. Kullanıcıdan Bilgi Alarak Mesaj Yazdırma**"
      ],
      "metadata": {
        "id": "rzWvkuUKjUMU"
      }
    },
    {
      "cell_type": "code",
      "source": [
        "# Kullanıcıdan isim ve yaş bilgisi alıp mesaj yazdırma\n",
        "ad = input(\"Adınızı girin: \")\n",
        "yas = int(input(\"Yaşınızı girin: \"))\n",
        "print(f\"Merhaba, benim adım {ad} ve {yas} yaşındayım.\")\n"
      ],
      "metadata": {
        "id": "yL2hiR2SjX7v"
      },
      "execution_count": null,
      "outputs": []
    },
    {
      "cell_type": "markdown",
      "source": [
        "**5. Basit Matematiksel İşlem ile Formatlama**\n",
        "\n"
      ],
      "metadata": {
        "id": "vtxjjRVFjZj8"
      }
    },
    {
      "cell_type": "code",
      "source": [
        "# İki sayı alıp toplama işlemi yaparak sonucu formatlı bir şekilde yazdırma\n",
        "sayi1 = int(input(\"Birinci sayıyı girin: \"))\n",
        "sayi2 = int(input(\"İkinci sayıyı girin: \"))\n",
        "toplam = sayi1 + sayi2\n",
        "print(f\"Girdiğiniz {sayi1} ve {sayi2} sayılarının toplamı: {toplam}\")\n"
      ],
      "metadata": {
        "id": "sZLfIg_njm0u"
      },
      "execution_count": null,
      "outputs": []
    },
    {
      "cell_type": "markdown",
      "source": [
        "**6. İndirimli Fiyat Hesaplama**"
      ],
      "metadata": {
        "id": "ZjvvMHXyjwOI"
      }
    },
    {
      "cell_type": "code",
      "source": [
        "# Ürün fiyatına indirim uygulayarak son fiyatı yazdırma\n",
        "fiyat = float(input(\"Ürünün fiyatını girin: \"))\n",
        "indirim_orani = 0.20  # %20 indirim\n",
        "indirimli_fiyat = fiyat * (1 - indirim_orani)\n",
        "print(f\"Ürünün indirimli fiyatı: {indirimli_fiyat:.2f} TL\""
      ],
      "metadata": {
        "id": "piGHTs_Pj0HE"
      },
      "execution_count": null,
      "outputs": []
    },
    {
      "cell_type": "markdown",
      "source": [
        "**7. Format ve F-String Kullanımı**"
      ],
      "metadata": {
        "id": "EPfXw7KPj2Uo"
      }
    },
    {
      "cell_type": "code",
      "source": [
        "# Hem .format() hem de f-string kullanarak aynı sonucu elde etme\n",
        "isim = \"Ali\"\n",
        "yas = 25\n",
        "sehir = \"İstanbul\"\n",
        "\n",
        "# format() kullanımı\n",
        "print(\"Adım {}, yaşım {} ve yaşadığım şehir {}\".format(isim, yas, sehir))\n",
        "\n",
        "# f-string kullanımı\n",
        "print(f\"Adım {isim}, yaşım {yas} ve yaşadığım şehir {sehir}\")\n"
      ],
      "metadata": {
        "id": "-oBBaIKBj6fI"
      },
      "execution_count": null,
      "outputs": []
    },
    {
      "cell_type": "markdown",
      "source": [
        "**8. Tarih Formatlama**"
      ],
      "metadata": {
        "id": "3MU5P9bSj8J_"
      }
    },
    {
      "cell_type": "code",
      "source": [
        "# Kullanıcıdan gün, ay ve yıl bilgilerini alıp tarih formatında yazdırma\n",
        "gun = input(\"Gün: \")\n",
        "ay = input(\"Ay: \")\n",
        "yil = input(\"Yıl: \")\n",
        "print(f\"Tarih: {gun}/{ay}/{yil}\")"
      ],
      "metadata": {
        "id": "lDJX_D6oj_So"
      },
      "execution_count": null,
      "outputs": []
    },
    {
      "cell_type": "markdown",
      "source": [
        "**9. Kişisel Bilgileri Formatlama**\n",
        "\n"
      ],
      "metadata": {
        "id": "_qgs7_AEkB7O"
      }
    },
    {
      "cell_type": "code",
      "source": [
        "# Kullanıcıdan ad, soyad ve şehir bilgisi alıp formatlı bir şekilde yazdırma\n",
        "ad = input(\"Adınızı girin: \")\n",
        "soyad = input(\"Soyadınızı girin: \")\n",
        "sehir = input(\"Şehir adınızı girin: \")\n",
        "print(f\"Merhaba, benim adım {ad} {soyad} ve {sehir} şehrinde yaşıyorum.\")"
      ],
      "metadata": {
        "id": "wSi27cLkkFCF"
      },
      "execution_count": null,
      "outputs": []
    },
    {
      "cell_type": "markdown",
      "source": [
        "**10. Ondalık Sayıları Formatlama**"
      ],
      "metadata": {
        "id": "hPJJrANXkGmL"
      }
    },
    {
      "cell_type": "code",
      "source": [
        "# Pi sayısını farklı ondalık basamaklarla formatlama\n",
        "pi = 3.14159265\n",
        "print(\"Pi sayısı (2 basamak):\", format(pi, '.2f'))  # 3.14\n",
        "print(\"Pi sayısı (3 basamak):\", format(pi, '.3f'))  # 3.142\n",
        "print(\"Pi sayısı (4 basamak):\", format(pi, '.4f'))  # 3.1416"
      ],
      "metadata": {
        "id": "tmBdYsBekKfV"
      },
      "execution_count": null,
      "outputs": []
    },
    {
      "cell_type": "markdown",
      "source": [
        "**11. Yaş Farkı Hesaplama**"
      ],
      "metadata": {
        "id": "8ZkMCJB7kMV7"
      }
    },
    {
      "cell_type": "code",
      "source": [
        "# İki kişinin yaş farkını hesaplama\n",
        "yas1 = int(input(\"Birinci kişinin yaşını girin: \"))\n",
        "yas2 = int(input(\"İkinci kişinin yaşını girin: \"))\n",
        "yas_farki = abs(yas1 - yas2)\n",
        "print(f\"İki kişi arasındaki yaş farkı: {yas_farki} yıl\")"
      ],
      "metadata": {
        "id": "B9lFpTClkP-b"
      },
      "execution_count": null,
      "outputs": []
    },
    {
      "cell_type": "markdown",
      "source": [
        "**12. KDV'li Fiyat Hesaplama**"
      ],
      "metadata": {
        "id": "vGxoD171kTB1"
      }
    },
    {
      "cell_type": "code",
      "source": [
        "# Kullanıcıdan ürün fiyatı alıp KDV'li fiyatı hesaplama\n",
        "fiyat = float(input(\"Ürünün fiyatını girin: \"))\n",
        "kdv_orani = 0.18  # %18 KDV\n",
        "kdvli_fiyat = fiyat * (1 + kdv_orani)\n",
        "print(f\"Ürünün KDV'li fiyatı: {kdvli_fiyat:.2f} TL\")"
      ],
      "metadata": {
        "id": "MyrhMNVxkVNg"
      },
      "execution_count": null,
      "outputs": []
    },
    {
      "cell_type": "markdown",
      "source": [
        "**13. `print()` Fonksiyonu ile Formatlama**"
      ],
      "metadata": {
        "id": "pUTcOfJYkW9L"
      }
    },
    {
      "cell_type": "code",
      "source": [
        "# end parametresi ile aynı satırda yazdırma\n",
        "print(\"Merhaba\", end=\" \")\n",
        "print(\"Dünya!\")\n",
        "\n",
        "# sep parametresi ile kelimeler arasına özel karakter ekleme\n",
        "print(\"Merhaba\", \"Dünya\", \"2024\", sep=\"***\")"
      ],
      "metadata": {
        "id": "4ieJRc8AkccR"
      },
      "execution_count": null,
      "outputs": []
    },
    {
      "cell_type": "markdown",
      "source": [
        "**14. F-String ile Alt Satırlarda Yazdırma**"
      ],
      "metadata": {
        "id": "1kN-ylAVkenR"
      }
    },
    {
      "cell_type": "code",
      "source": [
        "# F-String ile alt satırlara yazdırma\n",
        "isim = \"Ayşe\"\n",
        "yas = 30\n",
        "print(f\"Merhaba {isim},\\nYaşınız: {yas}\\nHoş geldiniz!\")"
      ],
      "metadata": {
        "id": "tYrn4ilmkhc-"
      },
      "execution_count": null,
      "outputs": []
    },
    {
      "cell_type": "markdown",
      "source": [
        "**15. Çok Satırlı Metin Yazdırma**"
      ],
      "metadata": {
        "id": "WnG3PPkxkjaC"
      }
    },
    {
      "cell_type": "code",
      "source": [
        "# Çok satırlı metin yazdırma\n",
        "print(\"\"\"Merhaba!\n",
        "Python programlamaya hoş geldiniz!\n",
        "Bu dil çok esnek ve eğlenceli!\"\"\")"
      ],
      "metadata": {
        "id": "aZ0-w5LSkmy-"
      },
      "execution_count": null,
      "outputs": []
    },
    {
      "cell_type": "markdown",
      "source": [
        "**16. `input()` Fonksiyonu ile Veri Alma**"
      ],
      "metadata": {
        "id": "x5jcybfTkqWS"
      }
    },
    {
      "cell_type": "code",
      "source": [
        "# input() fonksiyonu ile kullanıcıdan veri alma\n",
        "isim = input(\"Adınızı girin: \")\n",
        "sehir = input(\"Şehir adınızı girin: \")\n",
        "print(f\"Merhaba, ben {isim} ve {sehir} şehrinde yaşıyorum.\")"
      ],
      "metadata": {
        "id": "YdYI6HJ-kutc"
      },
      "execution_count": null,
      "outputs": []
    },
    {
      "cell_type": "markdown",
      "source": [
        "**17. `sep` Parametresi ile Ayrım Ekleme**"
      ],
      "metadata": {
        "id": "MsTguactkw5W"
      }
    },
    {
      "cell_type": "code",
      "source": [
        "# sep parametresi ile kelimeler arasına ayrım karakteri ekleme\n",
        "print(\"Python\", \"Programlama\", \"Dili\", sep=\"-\")  # Python-Programlama-Dili"
      ],
      "metadata": {
        "id": "rdg9t0kmk1OZ"
      },
      "execution_count": null,
      "outputs": []
    },
    {
      "cell_type": "markdown",
      "source": [
        "**18. Birden Fazla `print()` ile Yan Yana Yazdırma**"
      ],
      "metadata": {
        "id": "QaTtDVL5k4_i"
      }
    },
    {
      "cell_type": "code",
      "source": [
        "# Birden fazla print() fonksiyonu ile aynı satıra yazdırma\n",
        "print(\"Python programlamaya\", end=\" \")\n",
        "print(\"hoş geldiniz!\", end=\" \")\n",
        "print(\"Bu dil çok esnektir.\")"
      ],
      "metadata": {
        "id": "XkxzmNjsk-Co"
      },
      "execution_count": null,
      "outputs": []
    }
  ]
}
