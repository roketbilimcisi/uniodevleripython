{
  "nbformat": 4,
  "nbformat_minor": 0,
  "metadata": {
    "colab": {
      "provenance": [],
      "authorship_tag": "ABX9TyPF+QYAteoHdVn86xXn6od4",
      "include_colab_link": true
    },
    "kernelspec": {
      "name": "python3",
      "display_name": "Python 3"
    },
    "language_info": {
      "name": "python"
    }
  },
  "cells": [
    {
      "cell_type": "markdown",
      "metadata": {
        "id": "view-in-github",
        "colab_type": "text"
      },
      "source": [
        "<a href=\"https://colab.research.google.com/github/roketbilimcisi/uniodevleripython/blob/main/pythonkonu2.ipynb\" target=\"_parent\"><img src=\"https://colab.research.google.com/assets/colab-badge.svg\" alt=\"Open In Colab\"/></a>"
      ]
    },
    {
      "cell_type": "markdown",
      "source": [
        "**1. Yorum Satırları (Comments)**"
      ],
      "metadata": {
        "id": "YneTu5JwE9eM"
      }
    },
    {
      "cell_type": "markdown",
      "source": [
        "Yorumlar, kodun açıklanmasını ve daha okunabilir olmasını sağlar:\n",
        "\n"
      ],
      "metadata": {
        "id": "Qr7KylP2FBFV"
      }
    },
    {
      "cell_type": "markdown",
      "source": [
        "Tek satırlık yorumlar: # sembolü ile başlar"
      ],
      "metadata": {
        "id": "fYdEPtfGFPNJ"
      }
    },
    {
      "cell_type": "code",
      "source": [
        "# Bu bir tek satırlık yorumdur.\n",
        "print(\"Benim Adım Furkan Sönmez\")"
      ],
      "metadata": {
        "colab": {
          "base_uri": "https://localhost:8080/"
        },
        "id": "pgCuWQbSFUV-",
        "outputId": "1eb8ffa3-c008-4f34-f0f0-6ad642f16cbd"
      },
      "execution_count": null,
      "outputs": [
        {
          "output_type": "stream",
          "name": "stdout",
          "text": [
            "Merhaba Dünya\n"
          ]
        }
      ]
    },
    {
      "cell_type": "markdown",
      "source": [
        "Çok satırlı yorumlar: Üç tırnak (''' veya \"\"\") arasına yazılır.\n"
      ],
      "metadata": {
        "id": "iGMtf480FVMk"
      }
    },
    {
      "cell_type": "code",
      "source": [
        "\"\"\"\n",
        "Bu çok satırlı bir yorumdur.\n",
        "Kodun belirli bir kısmını açıklamak için kullanılır.\n",
        "\"\"\"\n",
        "\n",
        "print(\"üstteki sadece yorum satırı\")"
      ],
      "metadata": {
        "colab": {
          "base_uri": "https://localhost:8080/"
        },
        "id": "8yeJLa41FYpP",
        "outputId": "928f4877-a206-4fa0-8831-0ec4c886725c"
      },
      "execution_count": null,
      "outputs": [
        {
          "output_type": "stream",
          "name": "stdout",
          "text": [
            "üstteki sadece yorum satırı\n"
          ]
        }
      ]
    },
    {
      "cell_type": "markdown",
      "source": [
        "**2. Değişkenler (Variables)**"
      ],
      "metadata": {
        "id": "v1lEtJmLFa4N"
      }
    },
    {
      "cell_type": "markdown",
      "source": [
        "Değişkenler, verileri saklamak için kullanılır. Örnek:\n"
      ],
      "metadata": {
        "id": "5Z9XHydkFmh4"
      }
    },
    {
      "cell_type": "code",
      "source": [
        "isim = \"Furkan\"\n",
        "yas = 20\n",
        "evli_mi = False  # Hayır\n",
        "\n",
        "print(isim)  # Furkan\n",
        "print(yas)   # 20\n",
        "print(evli_mi)  # False\n",
        "\n",
        "# 1.Yöntem bunun sonrası kendim fazladan not !\n",
        "if evli_mi:\n",
        "    print(isim , \"Evlidir\")\n",
        "else:\n",
        "    print(isim , \"Evli değildir\")\n",
        "# 2 . yöntem uzun halde yazmak istesem\n",
        "if evli_mi == True:\n",
        "  print(\"Evet evlidir\")\n",
        "elif evli_mi == False :\n",
        "  print(\"Hayır evli değildir\")\n",
        "\n",
        "#3.Yöntem\n",
        "\n",
        "if evli_mi == True:\n",
        "  print(\"Evet evlidir\")\n",
        "else :\n",
        "  print(\"Hayır evli değildir\")"
      ],
      "metadata": {
        "colab": {
          "base_uri": "https://localhost:8080/"
        },
        "id": "NVs4GmvBFrGD",
        "outputId": "55a7c8d9-e897-46dd-fca3-0bd385cf6f37"
      },
      "execution_count": null,
      "outputs": [
        {
          "output_type": "stream",
          "name": "stdout",
          "text": [
            "Furkan\n",
            "20\n",
            "False\n",
            "Furkan Evli değildir\n",
            "Hayır evli değildir\n",
            "Hayır evli değildir\n"
          ]
        }
      ]
    },
    {
      "cell_type": "markdown",
      "source": [
        "**3. Veri Türleri (Data Types)**\n"
      ],
      "metadata": {
        "id": "InqbwJBDFsPo"
      }
    },
    {
      "cell_type": "markdown",
      "source": [
        "Python'da çeşitli veri türleri vardır:\n",
        "\n",
        "* Tam sayı: int\n",
        "\n",
        "* Ondalık sayı: float\n",
        "\n",
        "* Metin: str\n",
        "\n",
        "* Mantıksal değer: bool\n"
      ],
      "metadata": {
        "id": "oaZX5VV_FuZf"
      }
    },
    {
      "cell_type": "code",
      "source": [
        "#Örnek\n",
        "sayi = 42          # int\n",
        "pi = 3.14159       # float\n",
        "oran = 0.85        # float\n",
        "ad = \"Zeynep\"      # str\n",
        "aktif_mi = True    # bool\n",
        "\n",
        "print(\"sistemdeki sayı değeri :\" , sayi)\n",
        "print(\"Oran :\",oran)\n",
        "print(\"pi değeri :\",pi)\n",
        "print(\"İsim :\" ,ad)\n",
        "print(\"Aktif mi ? :\" ,aktif_mi)"
      ],
      "metadata": {
        "colab": {
          "base_uri": "https://localhost:8080/"
        },
        "id": "LTVpJuTuGAU6",
        "outputId": "c50c81fb-5c24-4568-a9c0-aef0f02447d5"
      },
      "execution_count": null,
      "outputs": [
        {
          "output_type": "stream",
          "name": "stdout",
          "text": [
            "sistemdeki sayı değeri : 42\n",
            "Oran : 0.85\n",
            "pi değeri : 3.14159\n",
            "İsim : Zeynep\n",
            "Aktif mi ? : True\n"
          ]
        }
      ]
    },
    {
      "cell_type": "markdown",
      "source": [
        "**4. Aritmetik Operatörler (Arithmetic Operators)**"
      ],
      "metadata": {
        "id": "L_KoXl6TGC-v"
      }
    },
    {
      "cell_type": "markdown",
      "source": [
        "Matematiksel işlemler için kullanılır.\n",
        "\n",
        "* Toplama: +\n",
        "\n",
        "* Çıkarma: -\n",
        "\n",
        "* Çarpma: *\n",
        "\n",
        "* Bölme: /\n",
        "\n",
        "* Üs alma: **\n",
        "\n",
        "* Mod (kalan): %\n",
        "\n",
        "* Tam sayı bölme: //\n",
        "\n"
      ],
      "metadata": {
        "id": "hoDD3seCGFS-"
      }
    },
    {
      "cell_type": "code",
      "source": [
        "# Matematiksel işlemler\n",
        "\n",
        "a = 10\n",
        "b = 3\n",
        "\n",
        "# Toplama\n",
        "toplama = a + b  # 10 + 3 = 13\n",
        "print(\"Toplama:\", toplama)  # Toplama: 13\n",
        "\n",
        "# Çıkarma\n",
        "cikarma = a - b  # 10 - 3 = 7\n",
        "print(\"Çıkarma:\", cikarma)  # Çıkarma: 7\n",
        "\n",
        "# Çarpma\n",
        "carpma = a * b  # 10 * 3 = 30\n",
        "print(\"Çarpma:\", carpma)  # Çarpma: 30\n",
        "\n",
        "# Bölme\n",
        "bolme = a / b  # 10 / 3 = 3.3333...\n",
        "print(\"Bölme:\", bolme)  # Bölme: 3.3333333333333335\n",
        "\n",
        "# Üs alma\n",
        "us_alma = a ** b  # 10 ** 3 = 1000\n",
        "print(\"Üs alma:\", us_alma)  # Üs alma: 1000\n",
        "\n",
        "# Mod (kalan)\n",
        "mod = a % b  # 10 % 3 = 1\n",
        "print(\"Mod (kalan):\", mod)  # Mod (kalan): 1\n",
        "\n",
        "# Tam sayı bölme\n",
        "tam_sayi_bolme = a // b  # 10 // 3 = 3\n",
        "print(\"Tam sayı bölme:\", tam_sayi_bolme)  # Tam sayı bölme: 3"
      ],
      "metadata": {
        "colab": {
          "base_uri": "https://localhost:8080/"
        },
        "id": "mKzamIE6GKM9",
        "outputId": "9916ecd0-964d-40b5-b7a0-6da437810843"
      },
      "execution_count": null,
      "outputs": [
        {
          "output_type": "stream",
          "name": "stdout",
          "text": [
            "Toplama: 13\n",
            "Çıkarma: 7\n",
            "Çarpma: 30\n",
            "Bölme: 3.3333333333333335\n",
            "Üs alma: 1000\n",
            "Mod (kalan): 1\n",
            "Tam sayı bölme: 3\n"
          ]
        }
      ]
    },
    {
      "cell_type": "markdown",
      "source": [
        "**5. Karşılaştırma Operatörleri (Comparison Operators)**\n"
      ],
      "metadata": {
        "id": "wiNBL7_CGNV0"
      }
    },
    {
      "cell_type": "markdown",
      "source": [
        "İki değeri karşılaştırmak için kullanılır:\n",
        "\n",
        "* Eşit mi? ==\n",
        "\n",
        "* Eşit değil mi? !=\n",
        "\n",
        "* Küçük mü? <\n",
        "\n",
        "* Büyük mü? >\n",
        "\n",
        "* Küçük veya eşit mi? <=\n",
        "\n",
        "* Büyük veya eşit mi? >=\n"
      ],
      "metadata": {
        "id": "LLzpu7PEGQJb"
      }
    },
    {
      "cell_type": "code",
      "source": [
        "# Karşılaştırma işlemleri\n",
        "x = 7\n",
        "y = 10\n",
        "\n",
        "# Eşit mi?\n",
        "esit_mi = x == y  # 7 == 10 --> False\n",
        "print(\"Eşit mi?:\", esit_mi)  # Eşit mi?: False\n",
        "\n",
        "# Eşit değil mi?\n",
        "esit_degil_mi = x != y  # 7 != 10 --> True\n",
        "print(\"Eşit değil mi?:\", esit_degil_mi)  # Eşit değil mi?: True\n",
        "\n",
        "# Küçük mü?\n",
        "kucuk_mu = x < y  # 7 < 10 --> True\n",
        "print(\"Küçük mü?:\", kucuk_mu)  # Küçük mü?: True\n",
        "\n",
        "# Büyük mü?\n",
        "buyuk_mu = x > y  # 7 > 10 --> False\n",
        "print(\"Büyük mü?:\", buyuk_mu)  # Büyük mü?: False\n",
        "\n",
        "# Küçük veya eşit mi?\n",
        "kucuk_veya_esit_mi = x <= y  # 7 <= 10 --> True\n",
        "print(\"Küçük veya eşit mi?:\", kucuk_veya_esit_mi)  # Küçük veya eşit mi?: True\n",
        "\n",
        "# Büyük veya eşit mi?\n",
        "buyuk_veya_esit_mi = x >= y  # 7 >= 10 --> False\n",
        "print(\"Büyük veya eşit mi?:\", buyuk_veya_esit_mi)  # Büyük veya eşit mi?: False"
      ],
      "metadata": {
        "colab": {
          "base_uri": "https://localhost:8080/"
        },
        "id": "WyhZokFwGYwl",
        "outputId": "88a9cb67-305a-4bd9-f4c2-a97cc8193a5c"
      },
      "execution_count": null,
      "outputs": [
        {
          "output_type": "stream",
          "name": "stdout",
          "text": [
            "Eşit mi?: False\n",
            "Eşit değil mi?: True\n",
            "Küçük mü?: True\n",
            "Büyük mü?: False\n",
            "Küçük veya eşit mi?: True\n",
            "Büyük veya eşit mi?: False\n"
          ]
        }
      ]
    },
    {
      "cell_type": "markdown",
      "source": [
        "**6. Mantıksal Operatörler (Logical Operators)**\n"
      ],
      "metadata": {
        "id": "wzPkHrXEGZof"
      }
    },
    {
      "cell_type": "markdown",
      "source": [
        "* and: Her iki ifade de doğruysa True döner.\n",
        "\n",
        "* or: İfadelerden biri doğruysa True döner.\n",
        "\n",
        "* not: İfadenin tersini alır."
      ],
      "metadata": {
        "id": "FDDuu0_wGbrJ"
      }
    },
    {
      "cell_type": "code",
      "source": [
        "a = True\n",
        "b = False\n",
        "\n",
        "print(a and b)  # False\n",
        "print(a or b)   # True\n",
        "print(not a)    # False\n",
        "\n",
        "# Değişkenler\n",
        "x = True\n",
        "y = False\n",
        "\n",
        "# and operatörü: Her iki ifade doğruysa True döner\n",
        "and_result = x and y\n",
        "print(\"and sonucu:\", and_result)  # False, çünkü y False\n",
        "\n",
        "# or operatörü: Bir ifade doğruysa True döner\n",
        "or_result = x or y\n",
        "print(\"or sonucu:\", or_result)  # True, çünkü x True\n",
        "\n",
        "# not operatörü: x'in tersini alır\n",
        "not_result_x = not x\n",
        "print(\"not x sonucu:\", not_result_x)  # False, çünkü x True\n",
        "\n",
        "# not operatörü: y'nin tersini alır\n",
        "not_result_y = not y\n",
        "print(\"not y sonucu:\", not_result_y)  # True, çünkü y False\n"
      ],
      "metadata": {
        "colab": {
          "base_uri": "https://localhost:8080/"
        },
        "id": "wDEYo8yEGeFR",
        "outputId": "e5810b08-3145-4e77-81a7-c1b02abea290"
      },
      "execution_count": null,
      "outputs": [
        {
          "output_type": "stream",
          "name": "stdout",
          "text": [
            "False\n",
            "True\n",
            "False\n",
            "and sonucu: False\n",
            "or sonucu: True\n",
            "not x sonucu: False\n",
            "not y sonucu: True\n"
          ]
        }
      ]
    },
    {
      "cell_type": "markdown",
      "source": [
        "**7. Atama Operatörleri (Assignment Operators)**\n"
      ],
      "metadata": {
        "id": "dmeXWd25GiAg"
      }
    },
    {
      "cell_type": "markdown",
      "source": [
        "Değişkenlere değer atamak veya mevcut değerleri değiştirmek için kullanılır:\n",
        "\n",
        "*   Temel Atama: (=)\n",
        "*   Toplayarak atama: (+=)\n",
        "*   Çıkararak atama: (-=)\n",
        "*   Çarparak Atama (*=)\n",
        "* Bölerek Atama (/=)\n",
        "* Modül (Kalan) Atama (%=)\n",
        "* Üs Alarak Ataması (**=)\n",
        "* Tam Sayı Bölmesi Ataması (//=)\n",
        "\n",
        "\n"
      ],
      "metadata": {
        "id": "_30kdh3uGk7D"
      }
    },
    {
      "cell_type": "code",
      "source": [
        "# 1. Temel Atama (=)\n",
        "# Bu operatör, bir değişkene bir değer atamak için kullanılır\n",
        "x = 5\n",
        "y = 10\n",
        "print(\"Temel Atama:\")\n",
        "print(\"x:\", x)  # 5\n",
        "print(\"y:\", y)  # 10\n",
        "print()\n",
        "\n",
        "# 2. Toplayarak Atama (+=)\n",
        "# Bu operatör, mevcut değeri artırır ve sonucu aynı değişkene atar\n",
        "x += 3  # x'e 3 ekler\n",
        "y += 5  # y'ye 5 ekler\n",
        "print(\"Toplayarak Atama (+=):\")\n",
        "print(\"x + 3:\", x)  # 8\n",
        "print(\"y + 5:\", y)  # 15\n",
        "print()\n",
        "\n",
        "# 3. Çıkararak Atama (-=)\n",
        "# Bu operatör, mevcut değeri azaltır ve sonucu aynı değişkene atar\n",
        "x -= 4  # x'ten 4 çıkarır\n",
        "y -= 5  # y'den 5 çıkarır\n",
        "print(\"Çıkararak Atama (-=):\")\n",
        "print(\"x - 4:\", x)  # 4\n",
        "print(\"y - 5:\", y)  # 10\n",
        "print()\n",
        "\n",
        "# 4. Çarparak Atama (*=)\n",
        "# Bu operatör, mevcut değeri çarpar ve sonucu aynı değişkene atar\n",
        "x *= 2  # x'i 2 ile çarpar\n",
        "y *= 3  # y'yi 3 ile çarpar\n",
        "print(\"Çarparak Atama (*=):\")\n",
        "print(\"x * 2:\", x)  # 8\n",
        "print(\"y * 3:\", y)  # 30\n",
        "print()\n",
        "\n",
        "# 5. Bölerek Atama (/=)\n",
        "# Bu operatör, mevcut değeri böler ve sonucu aynı değişkene atar\n",
        "x /= 4  # x'i 4 ile böler\n",
        "y /= 3  # y'yi 3 ile böler\n",
        "print(\"Bölerek Atama (/=):\")\n",
        "print(\"x / 4:\", x)  # 2.0\n",
        "print(\"y / 3:\", y)  # 10.0\n",
        "print()\n",
        "\n",
        "# 6. Modül (Kalan) Atama (%=)\n",
        "# Bu operatör, bir sayının başka bir sayıya bölümünden kalanını alır ve sonucu aynı değişkene atar\n",
        "x %= 3  # x'in 3'e bölümünden kalanı alır\n",
        "y %= 4  # y'nin 4'e bölümünden kalanı alır\n",
        "print(\"Modül Atama (%=):\")\n",
        "print(\"x % 3:\", x)  # 2, çünkü 2 % 3 = 2\n",
        "print(\"y % 4:\", y)  # 2, çünkü 10 % 4 = 2\n",
        "print()\n",
        "\n",
        "# 7. Üs Alarak Ataması (**=)\n",
        "# Bu operatör, mevcut değeri bir sayı ile üssünü alır ve sonucu aynı değişkene atar\n",
        "x **= 2  # x'in karesini alır\n",
        "y **= 3  # y'nin küpünü alır\n",
        "print(\"Üs Alarak Ataması (**=):\")\n",
        "print(\"x ** 2:\", x)  # 4, çünkü 2 ** 2 = 4\n",
        "print(\"y ** 3:\", y)  # 8, çünkü 2 ** 3 = 8\n",
        "print()\n",
        "\n",
        "# 8. Tam Sayı Bölmesi Ataması (//=)\n",
        "# Bu operatör, bir sayıyı başka bir sayıya tam sayı bölmesi yapar ve sonucu aynı değişkene atar\n",
        "\n",
        "x = 17\n",
        "x //= 5  # 17'yi 5'e böler ve kalan kısmı atarak sadece tam sayı kısmını alır\n",
        "print(\"Tam sayı bölmesi sonucu (17 // 5):\", x)  # 3, çünkü 17 // 5 = 3\n",
        "\n",
        "y = 20\n",
        "y //= 6  # 20'yi 6'ya böler ve kalan kısmı atarak sadece tam sayı kısmını alır\n",
        "print(\"Tam sayı bölmesi sonucu (20 // 6):\", y)  # 3, çünkü 20 // 6 = 3\n"
      ],
      "metadata": {
        "colab": {
          "base_uri": "https://localhost:8080/"
        },
        "id": "ovHwyT6NGmRV",
        "outputId": "dc65d791-5471-4b3b-99b7-74dc98c5dbfd"
      },
      "execution_count": null,
      "outputs": [
        {
          "output_type": "stream",
          "name": "stdout",
          "text": [
            "Temel Atama:\n",
            "x: 5\n",
            "y: 10\n",
            "\n",
            "Toplayarak Atama (+=):\n",
            "x + 3: 8\n",
            "y + 5: 15\n",
            "\n",
            "Çıkararak Atama (-=):\n",
            "x - 4: 4\n",
            "y - 5: 10\n",
            "\n",
            "Çarparak Atama (*=):\n",
            "x * 2: 8\n",
            "y * 3: 30\n",
            "\n",
            "Bölerek Atama (/=):\n",
            "x / 4: 2.0\n",
            "y / 3: 10.0\n",
            "\n",
            "Modül Atama (%=):\n",
            "x % 3: 2.0\n",
            "y % 4: 2.0\n",
            "\n",
            "Üs Alarak Ataması (**=):\n",
            "x ** 2: 4.0\n",
            "y ** 3: 8.0\n",
            "\n",
            "Tam sayı bölmesi sonucu (17 // 5): 3\n",
            "Tam sayı bölmesi sonucu (20 // 6): 3\n"
          ]
        }
      ]
    },
    {
      "cell_type": "markdown",
      "source": [
        "**8. Örnek Uygulamalar**\n"
      ],
      "metadata": {
        "id": "o35hjnRuGp-Z"
      }
    },
    {
      "cell_type": "markdown",
      "source": [
        "1-) İki sayının toplamı :\n"
      ],
      "metadata": {
        "id": "SGmG4puXG2KR"
      }
    },
    {
      "cell_type": "markdown",
      "source": [],
      "metadata": {
        "id": "6OQ3VNM-TjJp"
      }
    },
    {
      "cell_type": "code",
      "source": [
        "sayi1 = 10\n",
        "sayi2 = 20\n",
        "toplam = sayi1 + sayi2\n",
        "print(\"Toplam:\", toplam)  # 30\n"
      ],
      "metadata": {
        "colab": {
          "base_uri": "https://localhost:8080/"
        },
        "id": "bIjv-jbPGzAe",
        "outputId": "c150cf8f-696f-4044-8ce2-ac52974338a0"
      },
      "execution_count": null,
      "outputs": [
        {
          "output_type": "stream",
          "name": "stdout",
          "text": [
            "Toplam: 30\n"
          ]
        }
      ]
    },
    {
      "cell_type": "markdown",
      "source": [
        "2-) Depo kontrolü\n",
        "\n"
      ],
      "metadata": {
        "id": "yLyBVj1PG7gG"
      }
    },
    {
      "cell_type": "code",
      "source": [
        "kapasite = 100\n",
        "mevcut = 80\n",
        "yeni_malzeme = 30\n",
        "if mevcut + yeni_malzeme <= kapasite:\n",
        "    print(\"Depo uygun\")\n",
        "else:\n",
        "    print(\"Depo kapasitesini aşacak\")"
      ],
      "metadata": {
        "colab": {
          "base_uri": "https://localhost:8080/"
        },
        "id": "Aeexi9iGG-mp",
        "outputId": "476c2c4a-ea7e-4cdb-848d-db449fef0583"
      },
      "execution_count": null,
      "outputs": [
        {
          "output_type": "stream",
          "name": "stdout",
          "text": [
            "Depo kapasitesini aşacak\n"
          ]
        }
      ]
    },
    {
      "cell_type": "markdown",
      "source": [
        "3-) Geçme durumu :\n"
      ],
      "metadata": {
        "id": "5JwKJb7NHApQ"
      }
    },
    {
      "cell_type": "code",
      "source": [
        "vize = 60\n",
        "final = 70\n",
        "ortalama = (vize + final) / 2\n",
        "if ortalama >= 50:\n",
        "    print(\"Geçti\")\n",
        "else:\n",
        "    print(\"Kaldı\")"
      ],
      "metadata": {
        "colab": {
          "base_uri": "https://localhost:8080/"
        },
        "id": "vO3cIj4CHImv",
        "outputId": "5d8ae562-f017-4284-ac2b-433953678c97"
      },
      "execution_count": null,
      "outputs": [
        {
          "output_type": "stream",
          "name": "stdout",
          "text": [
            "Geçti\n"
          ]
        }
      ]
    },
    {
      "cell_type": "markdown",
      "source": [
        "4-) Sıcaklığı Fahrenheit'tan Celsius'a çeviren Python programı"
      ],
      "metadata": {
        "id": "CPdjS-KWToiF"
      }
    },
    {
      "cell_type": "code",
      "source": [
        "# Fahrenheit'tan Celsius'a dönüşüm formülü: (Fahrenheit - 32) * 5/9\n",
        "fahrenheit = 97  # örnek Fahrenheit değeri\n",
        "celsius = (fahrenheit - 32) * 5/9  # Fahrenheit'tan Celsius'a dönüşüm\n",
        "print(f\"{fahrenheit}°F = {celsius:.2f}°C\")  # Sonuç\n",
        "# yada istersek\n",
        "print(\"Fahrenheit\" , fahrenheit)\n",
        "print(\"Celcius\" , celsius)"
      ],
      "metadata": {
        "colab": {
          "base_uri": "https://localhost:8080/"
        },
        "id": "XeFUgg1aT-pV",
        "outputId": "55154dd8-c3f2-4f5c-f8a7-bbd8f40fa12d"
      },
      "execution_count": null,
      "outputs": [
        {
          "output_type": "stream",
          "name": "stdout",
          "text": [
            "97°F = 36.11°C\n",
            "Fahrenheit 97\n",
            "Celcius 36.111111111111114\n"
          ]
        }
      ]
    }
  ]
}