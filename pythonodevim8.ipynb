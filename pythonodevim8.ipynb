{
  "cells": [
    {
      "cell_type": "markdown",
      "metadata": {
        "id": "view-in-github",
        "colab_type": "text"
      },
      "source": [
        "<a href=\"https://colab.research.google.com/github/roketbilimcisi/uniodevleripython/blob/main/pythonodevim8.ipynb\" target=\"_parent\"><img src=\"https://colab.research.google.com/assets/colab-badge.svg\" alt=\"Open In Colab\"/></a>"
      ]
    },
    {
      "cell_type": "markdown",
      "metadata": {
        "id": "KjHnjUIwfW2O"
      },
      "source": [
        "# Modül 13: Python'da Hata Yakalama ve İstisnalar ⚙️\n",
        "\n",
        "Bu modülde, Python programlarında beklenmedik durumlarla nasıl başa çıkılacağını öğreneceğiz. **İstisna (Exception)** yönetimi, programlarımızın daha sağlam, güvenilir ve kullanıcı dostu olmasını sağlar."
      ]
    },
    {
      "cell_type": "markdown",
      "metadata": {
        "id": "MGM207i6fW2Q"
      },
      "source": [
        "## 1. Giriş ve Temel Kavramlar 💡\n",
        "\n",
        "Python programları çalışırken çeşitli nedenlerle hatalar oluşabilir:\n",
        "*   Kullanıcıdan geçersiz veri alınması (örneğin, sayı yerine metin girilmesi).\n",
        "*   Var olmayan bir dosyayı açmaya çalışmak.\n",
        "*   Matematiksel hatalar (örneğin, bir sayıyı sıfıra bölmek).\n",
        "\n",
        "Bu gibi durumlarda Python, bir **istisna** fırlatarak programın çalışmasını normalde durdurur ve bir hata mesajı gösterir. Bizim amacımız, bu istisnaları *yakalayarak* (catching) programın çökmesini önlemek ve duruma uygun bir şekilde yanıt vermektir."
      ]
    },
    {
      "cell_type": "markdown",
      "metadata": {
        "id": "jnmPsC2NfW2Q"
      },
      "source": [
        "## 2. Yaygın İstisna Türleri ❗\n",
        "\n",
        "Python'da birçok yerleşik istisna türü bulunur. En sık karşılaşılanlardan bazıları şunlardır:\n",
        "\n",
        "*   `SyntaxError`: Kod yazılırken yapılan dilbilgisi hataları (parantez eksikliği, yanlış girinti vb.). *Bu hata, kod çalıştırılmadan önce tespit edilir.*\n",
        "*   `ValueError`: Fonksiyona doğru türde ama geçersiz bir değer verildiğinde oluşur (örn. `int(\"abc\")`).\n",
        "*   `ZeroDivisionError`: Bir sayıyı sıfıra bölmeye çalışınca oluşur.\n",
        "*   `IndexError`: Bir liste, demet vb. veri yapısında olmayan bir indekse erişmeye çalışınca oluşur.\n",
        "*   `KeyError`: Bir sözlükte olmayan bir anahtarla değere erişmeye çalışınca oluşur.\n",
        "*   `TypeError`: Uyumsuz tipler arasında işlem yapmaya çalışınca oluşur (örn. `3 + \"3\"`).\n",
        "*   `FileNotFoundError`: Var olmayan bir dosyayı açmaya çalışınca oluşur.\n",
        "*   `AttributeError`: Bir nesnede olmayan bir özelliğe veya metoda erişmeye çalışınca oluşur.\n",
        "*   `ModuleNotFoundError`: İçe aktarılmaya çalışılan modül bulunamadığında oluşur.\n",
        "*   `NameError`: Tanımlanmamış bir değişkene veya fonksiyona erişmeye çalışınca oluşur."
      ]
    },
    {
      "cell_type": "markdown",
      "metadata": {
        "id": "7bgiL3PSfW2R"
      },
      "source": [
        "## 3. Temel Yapı: `try` / `except` 🛡️\n",
        "\n",
        "İstisnaları yakalamak için temel yapı `try` ve `except` bloklarıdır.\n",
        "\n",
        "*   `try` bloğu: Hata *çıkma potansiyeli olan* kodları içerir.\n",
        "*   `except` bloğu: `try` bloğunda *belirli bir türde* hata oluşursa çalışacak kodu içerir.\n",
        "\n",
        "**Genel Kullanım:**\n",
        "```python\n",
        "try:\n",
        "    # Hata riski taşıyan kodlar\n",
        "    riskli_islem()\n",
        "except HataTuru:\n",
        "    # HataTuru oluşursa çalışacak kodlar\n",
        "    hata_ele_alma_kodu()\n",
        "```\n",
        "\n",
        "**Örnek:** Kullanıcıdan sayı alıp 10'a bölme işlemi."
      ]
    },
    {
      "cell_type": "code",
      "execution_count": 1,
      "metadata": {
        "colab": {
          "base_uri": "https://localhost:8080/"
        },
        "id": "UEk5wGmlfW2S",
        "outputId": "21e31fe5-7258-4e8a-984c-d0d2b8f072d9"
      },
      "outputs": [
        {
          "output_type": "stream",
          "name": "stdout",
          "text": [
            "Bir sayı girin: 30\n",
            "10 / 30.0 = 0.3333333333333333\n",
            "\n",
            "Program normal şekilde devam ediyor...\n"
          ]
        }
      ],
      "source": [
        "try:\n",
        "    # Kullanıcıdan girdi alıp float'a çevirme (ValueError riski)\n",
        "    x = float(input(\"Bir sayı girin: \"))\n",
        "\n",
        "    # Sıfıra bölme (ZeroDivisionError riski)\n",
        "    sonuc = 10 / x\n",
        "    print(f\"10 / {x} = {sonuc}\")\n",
        "\n",
        "except ZeroDivisionError:\n",
        "    # Sadece ZeroDivisionError yakalanırsa bu blok çalışır\n",
        "    print(\"❌ Sıfıra bölme hatası: Lütfen sıfırdan farklı bir sayı girin.\")\n",
        "\n",
        "except ValueError:\n",
        "    # Sadece ValueError yakalanırsa bu blok çalışır\n",
        "    print(\"❌ Geçersiz giriş: Lütfen numerik bir değer girin.\")\n",
        "\n",
        "except Exception as e:\n",
        "    # Yukarıdaki except'lere uymayan diğer tüm Exception alt türleri yakalanır\n",
        "    # 'as e' ile hata nesnesine erişebiliriz\n",
        "    print(f\"Beklenmeyen bir hata oluştu: {e}\")\n",
        "    print(f\"Hata tipi: {type(e).__name__}\")\n",
        "\n",
        "print(\"\\nProgram normal şekilde devam ediyor...\")"
      ]
    },
    {
      "cell_type": "markdown",
      "metadata": {
        "id": "DblBCj5-fW2T"
      },
      "source": [
        "**Önemli Notlar:**\n",
        "*   `try` bloğunda bir hata oluştuğu anda, o bloğun geri kalanı çalıştırılmaz ve uygun `except` bloğuna atlanır.\n",
        "*   Birden fazla `except` bloğu olabilir. Python, oluşan hatayla eşleşen *ilk* `except` bloğunu çalıştırır.\n",
        "*   `except Exception as e:` en sona konulmalıdır, çünkü `Exception` diğer birçok hatanın üst sınıfıdır ve daha spesifik hataların yakalanmasını engelleyebilir."
      ]
    },
    {
      "cell_type": "markdown",
      "metadata": {
        "id": "jytMxexJfW2U"
      },
      "source": [
        "## 4. `else` ve `finally` Blokları ➡️✅\n",
        "\n",
        "`try`/`except` yapısına isteğe bağlı olarak `else` ve `finally` blokları eklenebilir.\n",
        "\n",
        "*   `else` bloğu: `try` bloğunda **hiçbir hata oluşmazsa** çalışır.\n",
        "*   `finally` bloğu: `try` bloğunda hata oluşsa da oluşmasa da, **her durumda** çalışır. Genellikle kaynak temizliği (dosya kapatma, veritabanı bağlantısını sonlandırma vb.) için kullanılır.\n",
        "\n",
        "**Genel Yapı:**\n",
        "```python\n",
        "try:\n",
        "    # Riskli işlemler\n",
        "    riskli_islem()\n",
        "except HataTuru1:\n",
        "    # HataTuru1 yakalama\n",
        "    hata_ele_alma_1()\n",
        "except HataTuru2:\n",
        "    # HataTuru2 yakalama\n",
        "    hata_ele_alma_2()\n",
        "else:\n",
        "    # Hata oluşmazsa çalışacak kod\n",
        "    basarili_islem_sonrasi()\n",
        "finally:\n",
        "    # Her durumda çalışacak kod (temizlik vb.)\n",
        "    temizlik_islemi()\n",
        "```\n",
        "\n",
        "**Örnek:** Dosya okuma işlemi."
      ]
    },
    {
      "cell_type": "code",
      "execution_count": 2,
      "metadata": {
        "colab": {
          "base_uri": "https://localhost:8080/"
        },
        "id": "Nmv5GoOHfW2U",
        "outputId": "899eb4e7-1c19-4783-9678-bccdf6c73a61"
      },
      "outputs": [
        {
          "output_type": "stream",
          "name": "stdout",
          "text": [
            "'veri.txt' dosyası oluşturuldu.\n",
            "--------------------\n",
            "✅ Dosya başarıyla okundu:\n",
            "Bu test verisidir.\n",
            "🧹 Dosya kapatıldı (finally bloğu).\n"
          ]
        }
      ],
      "source": [
        "# Önce 'veri.txt' adında bir dosya oluşturalım (test için)\n",
        "try:\n",
        "    with open(\"veri.txt\", \"w\") as f_write:\n",
        "        f_write.write(\"Bu test verisidir.\")\n",
        "    print(\"'veri.txt' dosyası oluşturuldu.\")\n",
        "except Exception as e:\n",
        "    print(f\"Dosya oluşturma hatası: {e}\")\n",
        "\n",
        "print(\"-\"*20)\n",
        "\n",
        "# Şimdi dosyayı okumaya çalışalım\n",
        "f = None # f değişkenini try dışında tanımlayarak finally bloğunda erişilebilir kılalım\n",
        "try:\n",
        "    # f = open(\"olmayan_dosya.txt\", \"r\") # FileNotFoundError test etmek için bunu açabilirsiniz\n",
        "    f = open(\"veri.txt\", \"r\")\n",
        "    data = f.read()\n",
        "    # Hata oluşturabilecek başka bir işlem (test için)\n",
        "    # print(10 / 0)\n",
        "\n",
        "except FileNotFoundError:\n",
        "    print(\"❌ Dosya bulunamadı!\")\n",
        "\n",
        "except Exception as e:\n",
        "    print(f\"❌ Okuma sırasında başka bir hata: {e}\")\n",
        "\n",
        "else:\n",
        "    # try bloğu hatasız tamamlanırsa burası çalışır\n",
        "    print(\"✅ Dosya başarıyla okundu:\")\n",
        "    print(data)\n",
        "\n",
        "finally:\n",
        "    # Bu blok her zaman çalışır (hata olsa da olmasa da)\n",
        "    if f:\n",
        "        f.close()\n",
        "        print(\"🧹 Dosya kapatıldı (finally bloğu).\")\n",
        "    else:\n",
        "        print(\"🧹 Kapatılacak dosya nesnesi yok (finally bloğu).\")"
      ]
    },
    {
      "cell_type": "markdown",
      "metadata": {
        "id": "-9iVQAt0fW2V"
      },
      "source": [
        "**`with` Deyimi:** Dosya işlemleri gibi kaynak yönetimi gerektiren durumlarda `finally` bloğunda `close()` çağırmak yerine `with` deyimini kullanmak daha *Pythonic* ve güvenli bir yoldur. `with` bloğu sona erdiğinde (normal veya bir istisna nedeniyle), kaynak otomatik olarak serbest bırakılır (örneğin dosya kapatılır).\n",
        "\n",
        "Yukarıdaki dosya okuma örneğinin `with` ile yazılmış hali:"
      ]
    },
    {
      "cell_type": "code",
      "execution_count": 3,
      "metadata": {
        "colab": {
          "base_uri": "https://localhost:8080/"
        },
        "id": "zvkXpO0qfW2V",
        "outputId": "b44dd47c-3594-425e-c591-440225691160"
      },
      "outputs": [
        {
          "output_type": "stream",
          "name": "stdout",
          "text": [
            "✅ Dosya başarıyla okundu (`with` ile):\n",
            "Bu test verisidir.\n",
            "🧹 İşlem tamamlandı veya hata oluştu (`with` sonrası finally).\n"
          ]
        }
      ],
      "source": [
        "try:\n",
        "    # 'with' kullanıldığında dosya otomatik kapanır, finally'de close() gerekmez\n",
        "    with open(\"veri.txt\", \"r\") as f:\n",
        "        data = f.read()\n",
        "    # with open(\"olmayan_dosya.txt\", \"r\") as f: # Hata testi\n",
        "    #    data = f.read()\n",
        "\n",
        "except FileNotFoundError:\n",
        "    print(\"❌ Dosya bulunamadı! (`with` ile)\")\n",
        "except Exception as e:\n",
        "    print(f\"❌ Okuma sırasında başka bir hata (`with` ile): {e}\")\n",
        "else:\n",
        "    print(\"✅ Dosya başarıyla okundu (`with` ile):\")\n",
        "    print(data)\n",
        "finally:\n",
        "    # finally hala kullanılabilir, ancak dosya kapatma için değil\n",
        "    print(\"🧹 İşlem tamamlandı veya hata oluştu (`with` sonrası finally).\")"
      ]
    },
    {
      "cell_type": "markdown",
      "metadata": {
        "id": "SPtJ4_j6fW2W"
      },
      "source": [
        "## 5. İstisna Nesnesine Erişim (`as`) 🔍\n",
        "\n",
        "`except` bloğunda `as` anahtar kelimesi ile fırlatılan istisna nesnesinin kendisine erişebiliriz. Bu nesne, hata hakkında daha fazla bilgi içerebilir (örneğin, hata mesajı).\n",
        "\n",
        "**Örnek:**"
      ]
    },
    {
      "cell_type": "code",
      "execution_count": 4,
      "metadata": {
        "colab": {
          "base_uri": "https://localhost:8080/"
        },
        "id": "k_V62GmFfW2W",
        "outputId": "0bbdf8f8-9883-413c-f542-287f2a269ca8"
      },
      "outputs": [
        {
          "output_type": "stream",
          "name": "stdout",
          "text": [
            "Bir sayı girin: 50\n",
            "✅ Girdiğiniz sayı: 50\n"
          ]
        }
      ],
      "source": [
        "try:\n",
        "    n = int(input(\"Bir sayı girin: \"))\n",
        "except ValueError as hata: # 'hata' değişkeni ValueError nesnesini tutar\n",
        "    print(f\"❌ Geçersiz giriş!\")\n",
        "    print(f\"Hata Mesajı: {hata}\") # İstisna nesnesinin __str__ metodu mesajı verir\n",
        "    print(f\"Hata Tipi: {type(hata).__name__}\")\n",
        "    # print(f\"Hata Argümanları: {hata.args}\") # Bazı durumlarda faydalı olabilir\n",
        "else:\n",
        "    print(f\"✅ Girdiğiniz sayı: {n}\")"
      ]
    },
    {
      "cell_type": "markdown",
      "metadata": {
        "id": "HWJl9YP8fW2W"
      },
      "source": [
        "## 6. Döngü İçinde Yeniden Deneme 🔄\n",
        "\n",
        "Kullanıcıdan geçerli bir girdi alana kadar işlemi tekrarlamak için `while` döngüsü ve `try/except` yapısı sıkça birlikte kullanılır.\n",
        "\n",
        "**Örnek:** Kullanıcıdan pozitif bir tam sayı alana kadar sormaya devam etme."
      ]
    },
    {
      "cell_type": "code",
      "execution_count": 5,
      "metadata": {
        "colab": {
          "base_uri": "https://localhost:8080/"
        },
        "id": "4OT0-CnifW2W",
        "outputId": "a3137f62-3674-4421-d4e1-c8c9e4fa1278"
      },
      "outputs": [
        {
          "output_type": "stream",
          "name": "stdout",
          "text": [
            "Lütfen pozitif bir tam sayı girin (çıkmak için 'q'): 9\n",
            "✅ Teşekkürler! Girdiğiniz sayı: 9\n",
            "9! = 362880\n"
          ]
        }
      ],
      "source": [
        "import math # Faktöriyel için\n",
        "\n",
        "while True: # Sonsuz döngü (geçerli girdi alındığında break ile çıkılacak)\n",
        "    try:\n",
        "        girdi = input(\"Lütfen pozitif bir tam sayı girin (çıkmak için 'q'): \")\n",
        "        if girdi.lower() == 'q':\n",
        "            print(\"Programdan çıkılıyor.\")\n",
        "            break # Döngüden çık\n",
        "\n",
        "        n = int(girdi) # ValueError riski\n",
        "\n",
        "        if n < 0:\n",
        "            # Negatif sayıları da hata olarak kabul edebiliriz\n",
        "            # raise ValueError(\"Negatif sayı giremezsiniz.\") # Kendi hatamızı fırlatabiliriz\n",
        "             print(\"Uyarı: Negatif sayı girdiniz, lütfen pozitif girin.\")\n",
        "             continue # Döngünün başına dön\n",
        "        elif n == 0:\n",
        "             print(\"Uyarı: Sıfır girdiniz, lütfen pozitif girin.\")\n",
        "             continue # Döngünün başına dön\n",
        "\n",
        "        # Eğer buraya kadar geldiyse, geçerli pozitif tam sayı girilmiştir\n",
        "        print(f\"✅ Teşekkürler! Girdiğiniz sayı: {n}\")\n",
        "        print(f\"{n}! = {math.factorial(n)}\")\n",
        "        break # Geçerli girdi alındı, döngüyü sonlandır\n",
        "\n",
        "    except ValueError as e:\n",
        "        # int() dönüşümü başarısız olursa veya raise ile ValueError fırlatılırsa\n",
        "        print(f\"❌ Hatalı giriş: {e}. Lütfen bir tam sayı girin.\")\n",
        "        # continue demeye gerek yok, döngü zaten devam edecek\n",
        "\n",
        "    except Exception as e:\n",
        "        # Beklenmedik diğer hatalar için\n",
        "        print(f\"Beklenmeyen bir hata oluştu: {e}\")\n",
        "        break # Beklenmedik hatada döngüyü sonlandırabiliriz"
      ]
    },
    {
      "cell_type": "markdown",
      "metadata": {
        "id": "ptXVJbjnfW2X"
      },
      "source": [
        "## 7. Özel İstisna Fırlatma (`raise`) 🚀\n",
        "\n",
        "Bazen kendi belirlediğimiz koşullar sağlandığında programın bir istisna fırlatmasını isteyebiliriz. Bunu `raise` anahtar kelimesi ile yaparız.\n",
        "\n",
        "**Kullanım:**\n",
        "```python\n",
        "if kosul_saglanmiyor:\n",
        "    raise HataTuru(\"Açıklayıcı hata mesajı\")\n",
        "```\n",
        "\n",
        "Yukarıdaki döngü örneğinde negatif sayı girildiğinde `raise ValueError(...)` satırını aktif ederek bunu test edebilirsiniz.\n",
        "\n",
        "`raise` ayrıca, bir `except` bloğu içinde yakalanan hatayı tekrar fırlatmak için de kullanılabilir (genellikle loglama yaptıktan sonra)."
      ]
    },
    {
      "cell_type": "code",
      "execution_count": 6,
      "metadata": {
        "colab": {
          "base_uri": "https://localhost:8080/"
        },
        "id": "SIMId_LkfW2X",
        "outputId": "afae472c-28dd-4fb0-ce13-075532c5712c"
      },
      "outputs": [
        {
          "output_type": "stream",
          "name": "stdout",
          "text": [
            "Sonuç: 4.0\n"
          ]
        }
      ],
      "source": [
        "def bolme_islemi(a, b):\n",
        "    if b == 0:\n",
        "        raise ZeroDivisionError(\"Bölen sıfır olamaz!\")\n",
        "    if not isinstance(a, (int, float)) or not isinstance(b, (int, float)):\n",
        "        raise TypeError(\"Sadece sayılar bölünebilir.\")\n",
        "    return a / b\n",
        "\n",
        "try:\n",
        "    # sonuc = bolme_islemi(10, 0)\n",
        "    # sonuc = bolme_islemi(\"on\", 2)\n",
        "    sonuc = bolme_islemi(20, 5)\n",
        "    print(f\"Sonuç: {sonuc}\")\n",
        "except (ZeroDivisionError, TypeError) as e:\n",
        "    print(f\"Fonksiyonda hata yakalandı: {e}\")\n",
        "except Exception as e:\n",
        "     print(f\"Beklenmedik hata: {e}\")"
      ]
    },
    {
      "cell_type": "markdown",
      "metadata": {
        "id": "ts8A09FZfW2X"
      },
      "source": [
        "## 8. `assert` Deyimi ✅❌\n",
        "\n",
        "`assert` ifadesi, bir koşulun doğruluğunu kontrol etmek için kullanılır. Koşul `False` ise, bir `AssertionError` fırlatır. Genellikle programın belirli bir durumunun *kesinlikle* doğru olması gerektiği varsayılan yerlerde, *debug* (hata ayıklama) amacıyla kullanılır.\n",
        "\n",
        "**Kullanım:**\n",
        "```python\n",
        "assert kosul, \"Koşul False ise gösterilecek mesaj (isteğe bağlı)\"\n",
        "```\n",
        "\n",
        "**Not:** Python `-O` (optimize) seçeneği ile çalıştırıldığında `assert` ifadeleri genellikle göz ardı edilir. Bu nedenle kritik hata kontrolleri için `assert` yerine `if/raise` kullanmak daha güvenlidir."
      ]
    },
    {
      "cell_type": "code",
      "execution_count": 7,
      "metadata": {
        "colab": {
          "base_uri": "https://localhost:8080/"
        },
        "id": "pPsrHUc7fW2X",
        "outputId": "0b86f2e8-f31c-48ce-daa4-bae586065517"
      },
      "outputs": [
        {
          "output_type": "stream",
          "name": "stdout",
          "text": [
            "Assertion Error: İndirim oranı 0 ile 1 arasında olmalı\n"
          ]
        }
      ],
      "source": [
        "def indirim_uygula(fiyat, oran):\n",
        "    assert 0 <= oran <= 1, \"İndirim oranı 0 ile 1 arasında olmalı\"\n",
        "    return fiyat * (1 - oran)\n",
        "\n",
        "try:\n",
        "    # print(indirim_uygula(100, 0.2)) # Doğru kullanım\n",
        "    print(indirim_uygula(100, 1.5)) # Hatalı kullanım\n",
        "except AssertionError as e:\n",
        "    print(f\"Assertion Error: {e}\")"
      ]
    },
    {
      "cell_type": "markdown",
      "metadata": {
        "id": "Ev5X-2YSfW2Y"
      },
      "source": [
        "## 9. `BaseException` vs `Exception` Hiyerarşisi 🌳\n",
        "\n",
        "Python'daki tüm istisnalar `BaseException` sınıfından türemiştir. Ancak genellikle programlarımızda yakalamak istediğimiz hatalar `Exception` sınıfından türeyenlerdir.\n",
        "\n",
        "*   `BaseException`: En temel sınıf. `SystemExit` (programın normal çıkışı), `KeyboardInterrupt` (Ctrl+C ile kesme) gibi programın doğrudan sonlanmasıyla ilgili istisnaları da içerir.\n",
        "*   `Exception`: Programatik hataların (ValueError, TypeError, vb.) temel sınıfıdır. Genellikle `except` bloklarında yakalamak istediğimiz hatalar bu sınıftan türer.\n",
        "\n",
        "**Neden Önemli?**\n",
        "`except BaseException:` kullanmak, `KeyboardInterrupt` gibi programı normal yollarla durdurma girişimlerini de yakalayabilir, bu genellikle istenmeyen bir durumdur. Bu yüzden, çok özel bir neden olmadıkça `except Exception:` veya daha spesifik hata türlerini kullanmak tercih edilir."
      ]
    },
    {
      "cell_type": "code",
      "execution_count": 25,
      "metadata": {
        "colab": {
          "base_uri": "https://localhost:8080/"
        },
        "id": "omLvwQFFfW2Y",
        "outputId": "a1428f8d-b8ad-4f15-a7ee-22daee48dd12"
      },
      "outputs": [
        {
          "output_type": "stream",
          "name": "stdout",
          "text": [
            "\n",
            "Çıkmak için Ctrl+C'ye basın (Exception ile)...\n",
            "\n",
            "KeyboardInterrupt yakalandı, program sonlandırılıyor.\n"
          ]
        }
      ],
      "source": [
        "# try:\n",
        "#     # Kullanıcının Ctrl+C'ye basmasını bekleyin\n",
        "#     print(\"Çıkmak için Ctrl+C'ye basın...\")\n",
        "#     while True:\n",
        "#         pass\n",
        "# except BaseException as e:\n",
        "#     # Bu blok KeyboardInterrupt'ı yakalar, program normalde sonlanmaz!\n",
        "#     print(f'\\nBaseException yakalandı ({type(e).__name__}), ama bu genellikle istenmez.')\n",
        "\n",
        "try:\n",
        "    print(\"\\nÇıkmak için Ctrl+C'ye basın (Exception ile)...\")\n",
        "    # Kullanıcının Ctrl+C'ye basmasını bekleyin\n",
        "    while True:\n",
        "        pass\n",
        "except Exception as e:\n",
        "    # Bu blok KeyboardInterrupt'ı yakalamaz\n",
        "    print(f'Exception yakalandı: {e}')\n",
        "except KeyboardInterrupt:\n",
        "     # KeyboardInterrupt'ı özellikle yakalamak istiyorsak ayrı bir except bloğu kullanırız\n",
        "     print(\"\\nKeyboardInterrupt yakalandı, program sonlandırılıyor.\")"
      ]
    },
    {
      "cell_type": "markdown",
      "metadata": {
        "id": "J59X_O76fW2Y"
      },
      "source": [
        "## 10. Fonksiyon Dekoratörü ile Hata Günlüğü 🪵\n",
        "\n",
        "Tekrarlayan `try/except` blokları yazmak yerine, bir **dekoratör** kullanarak fonksiyonlarda oluşan hataları otomatik olarak yakalayıp *loglamak* (kaydetmek) ve ardından hatayı tekrar fırlatmak (isteğe bağlı) mümkündür. Bu, kod tekrarını azaltır ve hata yönetimini merkezileştirir."
      ]
    },
    {
      "cell_type": "code",
      "execution_count": 9,
      "metadata": {
        "colab": {
          "base_uri": "https://localhost:8080/"
        },
        "id": "H9UkK6i_fW2Y",
        "outputId": "74b48243-f3d6-4555-e361-21d5df4d0265"
      },
      "outputs": [
        {
          "output_type": "stream",
          "name": "stderr",
          "text": [
            "ERROR:root:bolme_islemi_loglu fonksiyonunda hata oluştu: division by zero\n",
            "Traceback (most recent call last):\n",
            "  File \"<ipython-input-9-e291f3f65d41>\", line 14, in wrapper\n",
            "    return func(*args, **kwargs)\n",
            "           ^^^^^^^^^^^^^^^^^^^^^\n",
            "  File \"<ipython-input-9-e291f3f65d41>\", line 31, in bolme_islemi_loglu\n",
            "    return a / b\n",
            "           ~~^~~\n",
            "ZeroDivisionError: division by zero\n",
            "ERROR:root:dosya_oku_loglu fonksiyonunda hata oluştu: [Errno 2] No such file or directory: 'yok_boyle_bir_dosya.txt'\n",
            "Traceback (most recent call last):\n",
            "  File \"<ipython-input-9-e291f3f65d41>\", line 14, in wrapper\n",
            "    return func(*args, **kwargs)\n",
            "           ^^^^^^^^^^^^^^^^^^^^^\n",
            "  File \"<ipython-input-9-e291f3f65d41>\", line 37, in dosya_oku_loglu\n",
            "    with open(dosya_adi, 'r') as f:\n",
            "         ^^^^^^^^^^^^^^^^^^^^\n",
            "FileNotFoundError: [Errno 2] No such file or directory: 'yok_boyle_bir_dosya.txt'\n"
          ]
        },
        {
          "output_type": "stream",
          "name": "stdout",
          "text": [
            "--- Hatalı Bölme Denemesi ---\n",
            "10 / 0 işlemi deneniyor...\n",
            "-> Bölme hatası program seviyesinde yakalandı.\n",
            "\n",
            "--- Olmayan Dosya Okuma Denemesi ---\n",
            "'yok_boyle_bir_dosya.txt' dosyası okunuyor...\n",
            "-> Dosya bulunamadı hatası program seviyesinde yakalandı.\n",
            "\n",
            "--- Başarılı Bölme Denemesi ---\n",
            "20 / 4 işlemi deneniyor...\n",
            "-> Başarılı bölme sonucu: 5.0\n"
          ]
        }
      ],
      "source": [
        "import functools\n",
        "import logging\n",
        "import sys\n",
        "\n",
        "# Temel logging yapılandırması (hataları konsola yazdıracak)\n",
        "logging.basicConfig(level=logging.ERROR,\n",
        "                    format='%(asctime)s - %(levelname)s - %(name)s - %(message)s')\n",
        "\n",
        "def log_exceptions(func):\n",
        "    \"\"\"Bir fonksiyonda oluşan Exception'ları loglayan bir dekoratör.\"\"\"\n",
        "    @functools.wraps(func) # Orijinal fonksiyonun meta verilerini korur\n",
        "    def wrapper(*args, **kwargs):\n",
        "        try:\n",
        "            return func(*args, **kwargs)\n",
        "        except Exception as e:\n",
        "            # Hata oluştuğunda logla\n",
        "            # exc_info=True, traceback bilgisini de loga ekler\n",
        "            logging.error(f\"{func.__name__} fonksiyonunda hata oluştu: {e}\", exc_info=True)\n",
        "            # İsteğe bağlı: Hatayı tekrar fırlatabiliriz, böylece çağıran kod da haberdar olur\n",
        "            raise\n",
        "            # Veya None gibi bir değer döndürebiliriz:\n",
        "            # return None\n",
        "    return wrapper\n",
        "\n",
        "# Dekoratörün Kullanımı\n",
        "\n",
        "@log_exceptions\n",
        "def bolme_islemi_loglu(a, b):\n",
        "    \"\"\"Sıfıra bölme hatası oluşturabilecek fonksiyon.\"\"\"\n",
        "    print(f\"{a} / {b} işlemi deneniyor...\")\n",
        "    return a / b\n",
        "\n",
        "@log_exceptions\n",
        "def dosya_oku_loglu(dosya_adi):\n",
        "    \"\"\"Dosya bulunamama hatası oluşturabilecek fonksiyon.\"\"\"\n",
        "    print(f\"'{dosya_adi}' dosyası okunuyor...\")\n",
        "    with open(dosya_adi, 'r') as f:\n",
        "        return f.read()\n",
        "\n",
        "# Test Edelim\n",
        "print(\"--- Hatalı Bölme Denemesi ---\")\n",
        "try:\n",
        "    bolme_islemi_loglu(10, 0)\n",
        "except ZeroDivisionError:\n",
        "    print(\"-> Bölme hatası program seviyesinde yakalandı.\")\n",
        "\n",
        "print(\"\\n--- Olmayan Dosya Okuma Denemesi ---\")\n",
        "try:\n",
        "    dosya_oku_loglu(\"yok_boyle_bir_dosya.txt\")\n",
        "except FileNotFoundError:\n",
        "    print(\"-> Dosya bulunamadı hatası program seviyesinde yakalandı.\")\n",
        "\n",
        "print(\"\\n--- Başarılı Bölme Denemesi ---\")\n",
        "try:\n",
        "    sonuc = bolme_islemi_loglu(20, 4)\n",
        "    print(f\"-> Başarılı bölme sonucu: {sonuc}\")\n",
        "except Exception:\n",
        "    print(\"-> Beklenmedik bir hata oluştu.\")\n"
      ]
    },
    {
      "cell_type": "markdown",
      "metadata": {
        "id": "_jSUe2OPfW2Z"
      },
      "source": [
        "## 11. Gelişmiş Konular 🚀\n",
        "\n",
        "### a) İstisna Zincirleme (`raise ... from ...`)\n",
        "\n",
        "Bazen bir hatayı yakalayıp, onu *neden* olarak göstererek başka bir hata fırlatmak isteyebiliriz. Bu, hatanın kök nedenini takip etmeyi kolaylaştırır.\n",
        "\n",
        "```python\n",
        "try:\n",
        "    # Hata çıkarabilecek ilk işlem\n",
        "    islem1()\n",
        "except OriginalError as e:\n",
        "    # İlk hatayı yakala ve yeni bir hata fırlatırken onu 'from e' ile bağla\n",
        "    raise NewError(\"İşlem 1'deki hatadan dolayı işlem 2 başarısız oldu\") from e\n",
        "```"
      ]
    },
    {
      "cell_type": "code",
      "execution_count": 10,
      "metadata": {
        "colab": {
          "base_uri": "https://localhost:8080/"
        },
        "id": "GOtpvwq6fW2Z",
        "outputId": "0618eed1-746f-40c6-f836-9df9ed75ff0f"
      },
      "outputs": [
        {
          "output_type": "stream",
          "name": "stdout",
          "text": [
            "Veritabanına bağlanılıyor...\n",
            "Veritabanı hatası yakalandı: Bağlantı zaman aşımına uğradı\n",
            "------------------------------\n",
            "Uygulama seviyesinde hata yakalandı: Kullanıcı verisi işlenemedi\n",
            "    -> Neden (VeritabaniHatasi): Bağlantı zaman aşımına uğradı\n"
          ]
        }
      ],
      "source": [
        "class VeritabaniHatasi(Exception):\n",
        "    \"\"\"Özel veritabanı hatası sınıfı\"\"\"\n",
        "    pass\n",
        "\n",
        "class UygulamaHatasi(Exception):\n",
        "    \"\"\"Özel uygulama hatası sınıfı\"\"\"\n",
        "    pass\n",
        "\n",
        "def veritabanina_baglan():\n",
        "    print(\"Veritabanına bağlanılıyor...\")\n",
        "    # Varsayılan olarak hata fırlatıyoruz\n",
        "    raise VeritabaniHatasi(\"Bağlantı zaman aşımına uğradı\")\n",
        "\n",
        "def kullanici_verisini_isle():\n",
        "    try:\n",
        "        veritabanina_baglan()\n",
        "        print(\"Veri işleniyor...\")\n",
        "    except VeritabaniHatasi as e:\n",
        "        print(f\"Veritabanı hatası yakalandı: {e}\")\n",
        "        # Hatayı zincirleyerek tekrar fırlat\n",
        "        raise UygulamaHatasi(\"Kullanıcı verisi işlenemedi\") from e\n",
        "\n",
        "try:\n",
        "    kullanici_verisini_isle()\n",
        "except UygulamaHatasi as app_e:\n",
        "    print(\"-\"*30)\n",
        "    print(f\"Uygulama seviyesinde hata yakalandı: {app_e}\")\n",
        "    # Zincirlenmiş hatanın nedenini (__cause__) ve bağlamını (__context__) görebiliriz\n",
        "    if app_e.__cause__:\n",
        "        print(f\"    -> Neden ({type(app_e.__cause__).__name__}): {app_e.__cause__}\")\n",
        "    # Not: Traceback çıktısı Jupyter/Colab'da zinciri daha net gösterir."
      ]
    },
    {
      "cell_type": "markdown",
      "metadata": {
        "id": "9SspZaRrfW2Z"
      },
      "source": [
        "### b) Hataları Bastırma (`contextlib.suppress`)\n",
        "\n",
        "`contextlib` modülündeki `suppress` context manager'ı, belirli türdeki hataların sessizce yutulmasını (bastırılmasını) sağlar. Bu, hatanın oluşmasının *beklenen* bir durum olduğu ve özel bir işlem gerektirmediği nadir durumlarda kullanışlı olabilir. Ancak dikkatli kullanılmalıdır, çünkü hataları gizleyebilir."
      ]
    },
    {
      "cell_type": "code",
      "execution_count": 11,
      "metadata": {
        "colab": {
          "base_uri": "https://localhost:8080/"
        },
        "id": "o0Kr83gUfW2a",
        "outputId": "ac5cebbf-ae6c-4fea-f7a3-1aff129ac8a3"
      },
      "outputs": [
        {
          "output_type": "stream",
          "name": "stdout",
          "text": [
            "Var olmayan dosyayı suppress ile silmeyi deniyoruz...\n",
            "Program kesilmeden devam ediyor.\n",
            "KeyError ve TypeError bastırıldı.\n"
          ]
        }
      ],
      "source": [
        "from contextlib import suppress\n",
        "import os\n",
        "\n",
        "# Var olmayan bir dosyayı silmeye çalışırken FileNotFoundError oluşur\n",
        "# Normalde bu hata programı durdurur\n",
        "# try:\n",
        "#     os.remove(\"gecici_dosya.tmp\")\n",
        "# except FileNotFoundError:\n",
        "#     print(\"Dosya zaten yoktu, sorun değil.\")\n",
        "\n",
        "# suppress ile aynı işlemi daha kısa yazabiliriz:\n",
        "print(\"Var olmayan dosyayı suppress ile silmeyi deniyoruz...\")\n",
        "with suppress(FileNotFoundError):\n",
        "    os.remove(\"gecici_dosya.tmp\")\n",
        "    # Eğer dosya olsaydı silinecekti, yoksa hata sessizce yutulacak.\n",
        "    print(\"Eğer bu mesajı görüyorsanız, dosya vardı ve silindi (beklenmedik!).\")\n",
        "\n",
        "print(\"Program kesilmeden devam ediyor.\")\n",
        "\n",
        "# Birden fazla hatayı da bastırabiliriz\n",
        "my_dict = {'a': 1}\n",
        "with suppress(KeyError, TypeError):\n",
        "    print(my_dict['b']) # KeyError\n",
        "    print(my_dict + 1)  # TypeError\n",
        "\n",
        "print(\"KeyError ve TypeError bastırıldı.\")"
      ]
    },
    {
      "cell_type": "markdown",
      "metadata": {
        "id": "IMJUgGcVfW2a"
      },
      "source": [
        "### c) Eşzamanlı Çalışmada Hata Yönetimi (`concurrent.futures`)\n",
        "\n",
        "`concurrent.futures` gibi kütüphanelerle birden fazla iş parçacığı (thread) veya işlem (process) üzerinde çalışırken, her bir görevde oluşan hataları merkezi olarak toplamak ve yönetmek önemlidir. `Future` nesnelerinin `exception()` veya `result()` metodları bu amaçla kullanılır."
      ]
    },
    {
      "cell_type": "code",
      "execution_count": 12,
      "metadata": {
        "colab": {
          "base_uri": "https://localhost:8080/"
        },
        "id": "HdXvDZrufW2a",
        "outputId": "7f9976d3-ce59-49c4-ec09-440d3405d886"
      },
      "outputs": [
        {
          "output_type": "stream",
          "name": "stdout",
          "text": [
            "5 görev ThreadPoolExecutor ile başlatılıyor...\n",
            "Görev(2) başlıyor...\n",
            "Görev(1) başlıyor...\n",
            "Görev(0) başlıyor...\n",
            "Görev(2) bitti.\n",
            "Görev(5) başlıyor...\n",
            "  -> Görev(2) başarıyla tamamlandı. Sonuç: 5.00\n",
            "Görev(5) bitti.\n",
            "Görev(3) başlıyor...\n",
            "  -> Görev(5) başarıyla tamamlandı. Sonuç: 2.00\n",
            "Görev(1) bitti.\n",
            "  -> Görev(1) başarıyla tamamlandı. Sonuç: 10.00\n",
            "  -> ❌ Görev(3) hata ile sonuçlandı: TypeError - Tip 3 hatası!\n",
            "  -> ❌ Görev(0) hata ile sonuçlandı: ValueError - Sıfır girdisi kabul edilmez!\n",
            "\n",
            "Tüm görevler tamamlandı.\n",
            "Başarılı sonuçlar: {2: 5.0, 5: 2.0, 1: 10.0}\n",
            "Hatalar: {3: TypeError('Tip 3 hatası!'), 0: ValueError('Sıfır girdisi kabul edilmez!')}\n"
          ]
        }
      ],
      "source": [
        "from concurrent.futures import ThreadPoolExecutor, as_completed\n",
        "import time\n",
        "\n",
        "def gorev(x):\n",
        "    \"\"\"Basit bir görev, 0 gelirse hata fırlatır.\"\"\"\n",
        "    print(f\"Görev({x}) başlıyor...\")\n",
        "    time.sleep(0.5 / (x + 0.1)) # Girdiyle ters orantılı bekleme\n",
        "    if x == 0:\n",
        "        raise ValueError(\"Sıfır girdisi kabul edilmez!\")\n",
        "    if x == 3:\n",
        "         raise TypeError(\"Tip 3 hatası!\")\n",
        "    print(f\"Görev({x}) bitti.\")\n",
        "    return 10 / x # ZeroDivisionError riski de var (ama girdilerimizden dolayı oluşmayacak)\n",
        "\n",
        "girdiler = [2, 1, 0, 5, 3]\n",
        "sonuclar = {}\n",
        "hatalar = {}\n",
        "\n",
        "print(f\"{len(girdiler)} görev ThreadPoolExecutor ile başlatılıyor...\")\n",
        "with ThreadPoolExecutor(max_workers=3) as executor:\n",
        "    # Görevleri gönder ve Future nesnelerini bir sözlükte sakla\n",
        "    future_to_girdi = {executor.submit(gorev, i): i for i in girdiler}\n",
        "\n",
        "    # Görevler tamamlandıkça işle\n",
        "    for future in as_completed(future_to_girdi):\n",
        "        girdi_degeri = future_to_girdi[future]\n",
        "        try:\n",
        "            # result() metodu, görev hatasız tamamlandıysa sonucu,\n",
        "            # hata oluştuysa o hatayı tekrar fırlatır.\n",
        "            sonuc = future.result()\n",
        "            print(f\"  -> Görev({girdi_degeri}) başarıyla tamamlandı. Sonuç: {sonuc:.2f}\")\n",
        "            sonuclar[girdi_degeri] = sonuc\n",
        "        except Exception as exc:\n",
        "            # result() tarafından fırlatılan hatayı yakala\n",
        "            print(f\"  -> ❌ Görev({girdi_degeri}) hata ile sonuçlandı: {type(exc).__name__} - {exc}\")\n",
        "            hatalar[girdi_degeri] = exc\n",
        "\n",
        "print(\"\\nTüm görevler tamamlandı.\")\n",
        "print(f\"Başarılı sonuçlar: {sonuclar}\")\n",
        "print(f\"Hatalar: {hatalar}\")"
      ]
    },
    {
      "cell_type": "markdown",
      "metadata": {
        "id": "i-LcwLZlfW2b"
      },
      "source": [
        "# 50 Alıştırma Sorusu ve Çözümleri ✍️\n",
        "\n",
        "Aşağıda, konuyu pekiştirmek için çeşitli zorluk seviyelerinde alıştırmalar bulunmaktadır."
      ]
    },
    {
      "cell_type": "markdown",
      "metadata": {
        "id": "5wf6506VfW2b"
      },
      "source": [
        "## A. Kavram Soruları (1-10) 🧠"
      ]
    },
    {
      "cell_type": "markdown",
      "metadata": {
        "id": "lyxQ3UivfW2b"
      },
      "source": [
        "### 1. `try` ve `except` bloklarının temel amacı nedir?"
      ]
    },
    {
      "cell_type": "markdown",
      "metadata": {
        "id": "dARhhTxcfW2b"
      },
      "source": [
        "**Cevap:**\n",
        "*   `try` bloğu: Çalışma zamanında **hata (istisna) oluşturma potansiyeli** olan kod parçacığını sarmalamak için kullanılır.\n",
        "*   `except` bloğu: `try` bloğunda belirli bir türde istisna **fırlatıldığında** çalışacak olan alternatif kod akışını (hata yönetimi kodunu) tanımlamak için kullanılır. Programın çökmesini engeller ve kontrollü bir yanıt verilmesini sağlar."
      ]
    },
    {
      "cell_type": "markdown",
      "metadata": {
        "id": "18b4QZXUfW2b"
      },
      "source": [
        "### 2. `except ZeroDivisionError:` bloğu ne zaman çalışır?"
      ]
    },
    {
      "cell_type": "code",
      "execution_count": 13,
      "metadata": {
        "id": "1bTarwR9fW2c"
      },
      "outputs": [],
      "source": [
        "# try:\n",
        "#     y = 1 / 0\n",
        "# except ZeroDivisionError:\n",
        "#     print(\"Sıfıra bölme hatası yakalandı!\")"
      ]
    },
    {
      "cell_type": "markdown",
      "metadata": {
        "id": "i4w837R1fW2c"
      },
      "source": [
        "**Cevap:**\n",
        "İlişkili `try` bloğu içinde bir sayının sıfıra bölünmesi işlemi gerçekleştirildiğinde (`ZeroDivisionError` istisnası fırlatıldığında) çalışır."
      ]
    },
    {
      "cell_type": "markdown",
      "metadata": {
        "id": "VElZz1wIfW2c"
      },
      "source": [
        "### 3. Mantık hatası ile istisna arasındaki fark nedir?"
      ]
    },
    {
      "cell_type": "markdown",
      "metadata": {
        "id": "GjsEWdpXfW2c"
      },
      "source": [
        "**Cevap:**\n",
        "*   **Mantık Hatası (Logic Error):** Kod dilbilgisi açısından doğrudur, Python tarafından bir istisna fırlatılmaz ve program çalışır, ancak beklenenden **farklı veya yanlış bir sonuç** üretir. (Örn: `ortalama = toplam / adet` yerine `ortalama = toplam - adet` yazmak). Genellikle `try/except` ile yakalanmazlar, testlerle veya dikkatli kod incelemesiyle bulunur.\n",
        "*   **İstisna (Exception):** Python'un çalışma zamanında karşılaştığı ve normal akışı **kesintiye uğratan** bir problemdir (örn: `ValueError`, `TypeError`, `FileNotFoundError`). `try/except` blokları bu tür hataları yönetmek için tasarlanmıştır."
      ]
    },
    {
      "cell_type": "markdown",
      "metadata": {
        "id": "q_F6TSUdfW2c"
      },
      "source": [
        "### 4. `finally` bloğu ne işe yarar ve neden önemlidir?"
      ]
    },
    {
      "cell_type": "markdown",
      "metadata": {
        "id": "WgSJCdaBfW2d"
      },
      "source": [
        "**Cevap:**\n",
        "`finally` bloğu, ilişkili `try` bloğundan **nasıl çıkılırsa çıkılsın** (başarıyla tamamlansa da, bir `except` bloğu çalışsa da, `return`, `break`, `continue` ile çıkılsa da) **her zaman çalışan** kod bloğudur.\n",
        "Önemlidir çünkü genellikle **kaynak temizliği** (açık dosyaları kapatmak, ağ bağlantılarını sonlandırmak, kilitleri serbest bırakmak vb.) için kullanılır. Bu işlemlerin, programın o noktadan sonraki akışı ne olursa olsun mutlaka yapılması gerektiği durumlarda `finally` kritik rol oynar."
      ]
    },
    {
      "cell_type": "markdown",
      "metadata": {
        "id": "dRd2f6uFfW2e"
      },
      "source": [
        "### 5. `int(\"abc\")` ifadesi hangi istisnayı fırlatır ve neden?"
      ]
    },
    {
      "cell_type": "markdown",
      "metadata": {
        "id": "yvdtm0QpfW2e"
      },
      "source": [
        "**Cevap:**\n",
        "`ValueError` fırlatır. Çünkü `int()` fonksiyonu kendisine verilen argümanı bir tam sayıya dönüştürmeye çalışır. Ancak \"abc\" metni, geçerli bir tam sayı temsil etmez. Fonksiyona doğru *türde* (string) ama *geçersiz içerikte/değerde* bir argüman verildiği için `ValueError` oluşur."
      ]
    },
    {
      "cell_type": "markdown",
      "metadata": {
        "id": "uVVoiesQfW2f"
      },
      "source": [
        "### 6. Aşağıdaki kodda “Beklenmeyen hata” mesajı ne zaman yazılır?\n",
        "```python\n",
        "try:\n",
        "    x = int(input(\"Bir sayı girin: \"))\n",
        "    result = 100 / x\n",
        "except (ValueError, ZeroDivisionError):\n",
        "    print(\"Özel hata: Geçersiz giriş veya sıfıra bölme.\")\n",
        "except:\n",
        "    print(\"Beklenmeyen hata\")\n",
        "```"
      ]
    },
    {
      "cell_type": "markdown",
      "metadata": {
        "id": "PfoMm0TnfW2f"
      },
      "source": [
        "**Cevap:**\n",
        "`try` bloğunda `ValueError` veya `ZeroDivisionError` **dışında** başka herhangi bir `Exception` alt türü hata oluştuğunda yazılır. Örneğin:\n",
        "*   Kullanıcı `Ctrl+C`'ye basarsa (`KeyboardInterrupt`, ancak bu `Exception`'dan değil `BaseException`'dan türer, bu yüzden bu `except` bloğu onu yakalamazdı, eğer `except Exception:` olsaydı yine yakalamazdı.)\n",
        "*   Eğer kod içinde `NameError`, `TypeError` gibi başka türde bir hata olsaydı (örneğin `result = 100 / x + non_existent_variable` gibi bir satır olsaydı).\n",
        "\n",
        "*Not:* Parametresiz `except:` bloğu `BaseException` dahil *her şeyi* yakalar (önerilmez). `except Exception:` ise `SystemExit`, `KeyboardInterrupt` gibi sistem seviyesi hatalar dışındaki çoğu programatik hatayı yakalar."
      ]
    },
    {
      "cell_type": "markdown",
      "metadata": {
        "id": "_UFKCga3fW2f"
      },
      "source": [
        "### 7. `raise` deyiminin kullanım amacı nedir?"
      ]
    },
    {
      "cell_type": "markdown",
      "metadata": {
        "id": "f_TYA30GfW2f"
      },
      "source": [
        "**Cevap:**\n",
        "`raise` deyimi, programın akışı içinde belirli bir koşul sağlandığında veya bir hata durumu tespit edildiğinde **manuel olarak bir istisna fırlatmak** için kullanılır. Bu, şunları sağlar:\n",
        "*   Özel hata koşullarını belirtmek (örn: negatif bir değer girildiğinde `ValueError` fırlatmak).\n",
        "*   Bir `except` bloğunda yakalanan bir hatayı, belki logladıktan sonra, tekrar yukarıya (çağıran fonksiyona) fırlatmak."
      ]
    },
    {
      "cell_type": "markdown",
      "metadata": {
        "id": "Q7cCJQLKfW2f"
      },
      "source": [
        "### 8. `assert expr, \"mesaj\"` nasıl çalışır?"
      ]
    },
    {
      "cell_type": "markdown",
      "metadata": {
        "id": "G0GwDHy0fW2g"
      },
      "source": [
        "**Cevap:**\n",
        "`assert` anahtar kelimesi, `expr` olarak verilen ifadenin **doğruluğunu** kontrol eder.\n",
        "*   Eğer `expr` **True** ise, program normal şekilde devam eder.\n",
        "*   Eğer `expr` **False** ise, bir `AssertionError` istisnası fırlatılır. Eğer isteğe bağlı olan `\"mesaj\"` kısmı verilmişse, bu mesaj `AssertionError` nesnesinin argümanı olur.\n",
        "\n",
        "Genellikle kodun belirli noktalarındaki *varsayımları* test etmek ve geliştirme/hata ayıklama (debug) sırasında potansiyel mantık hatalarını erken fark etmek için kullanılır."
      ]
    },
    {
      "cell_type": "markdown",
      "metadata": {
        "id": "oMmNBlUOfW2g"
      },
      "source": [
        "### 9. `except Exception as e:` kullanmak neden bazen tehlikeli olabilir?"
      ]
    },
    {
      "cell_type": "markdown",
      "metadata": {
        "id": "Qw1f985ifW2g"
      },
      "source": [
        "**Cevap:**\n",
        "`except Exception as e:` çok **geniş kapsamlıdır** ve `SystemExit`, `KeyboardInterrupt` dışındaki neredeyse tüm programatik hataları yakalar. Bu durumun potansiyel tehlikeleri şunlardır:\n",
        "*   **Beklenmedik Hataları Gizleme:** Kodunuzda öngörmediğiniz veya farklı şekilde ele almanız gereken hataları (örn: `TypeError`, `NameError`) da yakalayabilir. Bu, altta yatan sorunları maskeleyerek hata ayıklamayı zorlaştırır.\n",
        "*   **Yanlış Hata Yönetimi:** Farklı hata türleri genellikle farklı yönetim stratejileri gerektirir. Hepsini aynı blokta yakalamak, her duruma uygun olmayan genel bir çözüm uygulamak anlamına gelebilir.\n",
        "\n",
        "Genel kural, mümkün olduğunca **spesifik hata türlerini** yakalamaktır. `except Exception:` sadece gerçekten *herhangi bir* programatik hatayı genel bir şekilde ele almak istediğinizde (veya loglayıp tekrar fırlatmak gibi durumlarda) ve genellikle diğer spesifik `except` bloklarından sonra kullanılmalıdır."
      ]
    },
    {
      "cell_type": "markdown",
      "metadata": {
        "id": "LpCsxHNQfW2h"
      },
      "source": [
        "### 10. `BaseException` ile `Exception` arasındaki temel fark nedir?"
      ]
    },
    {
      "cell_type": "markdown",
      "metadata": {
        "id": "J3-5AgXNfW2h"
      },
      "source": [
        "**Cevap:**\n",
        "*   `BaseException`: Python'daki **tüm** yerleşik istisnaların en üstteki temel sınıfıdır. Bu, programın çalışmasını doğrudan sonlandırabilecek sistem seviyesi olayları da içerir (`SystemExit`, `KeyboardInterrupt`, `GeneratorExit`).\n",
        "*   `Exception`: `BaseException`'dan türemiştir ve **programatik hataların** (uygulama seviyesi hatalar) temel sınıfıdır. `ValueError`, `TypeError`, `FileNotFoundError` gibi çoğu standart hata bu sınıftan türer.\n",
        "\n",
        "**Farkın Önemi:** Normal program akışında, genellikle `Exception` ve onun alt sınıflarını yakalamak isteriz. `except BaseException:` kullanmak, programdan çıkış sinyallerini veya kullanıcı müdahalelerini (Ctrl+C) de yakalayabileceği için genellikle önerilmez, çünkü programın beklenmedik şekilde çalışmaya devam etmesine neden olabilir."
      ]
    },
    {
      "cell_type": "markdown",
      "metadata": {
        "id": "miTWLQwafW2h"
      },
      "source": [
        "## B. Çıktı/Tahmin Soruları (11-20) 💻"
      ]
    },
    {
      "cell_type": "markdown",
      "metadata": {
        "id": "7aRqf1gifW2h"
      },
      "source": [
        "### 11. Aşağıdaki kodun çıktısı ne olur?\n",
        "```python\n",
        "try:\n",
        "    print(\"A\")\n",
        "    1/0\n",
        "    print(\"B\") # Bu satır çalışmaz\n",
        "except ZeroDivisionError:\n",
        "    print(\"C\")\n",
        "finally:\n",
        "    print(\"D\")\n",
        "```"
      ]
    },
    {
      "cell_type": "markdown",
      "metadata": {
        "id": "C_cXoYs3fW2i"
      },
      "source": [
        "**Açıklama:**\n",
        "1.  `try` bloğu başlar.\n",
        "2.  `print(\"A\")` çalışır -> **A** yazdırılır.\n",
        "3.  `1/0` işlemi `ZeroDivisionError` fırlatır.\n",
        "4.  `try` bloğunun geri kalanı (`print(\"B\")`) atlanır.\n",
        "5.  Uygun `except ZeroDivisionError:` bloğu bulunur ve çalıştırılır.\n",
        "6.  `print(\"C\")` çalışır -> **C** yazdırılır.\n",
        "7.  `finally` bloğu her zaman çalışır.\n",
        "8.  `print(\"D\")` çalışır -> **D** yazdırılır.\n",
        "\n",
        "**Çıktı:**\n",
        "```\n",
        "A\n",
        "C\n",
        "D\n",
        "```"
      ]
    },
    {
      "cell_type": "markdown",
      "metadata": {
        "id": "9EzaP1cKfW2i"
      },
      "source": [
        "### 12. Aşağıdaki kodun çıktısı ne olur?\n",
        "```python\n",
        "def f():\n",
        "    try:\n",
        "        return 1\n",
        "    finally:\n",
        "        return 2\n",
        "\n",
        "print(f())\n",
        "```"
      ]
    },
    {
      "cell_type": "markdown",
      "metadata": {
        "id": "aEJqfmodfW2i"
      },
      "source": [
        "**Açıklama:**\n",
        "1.  `f()` fonksiyonu çağrılır.\n",
        "2.  `try` bloğuna girilir.\n",
        "3.  `return 1` ifadesi çalıştırılmaya hazırlanır. Dönecek değer geçici olarak `1` olarak belirlenir.\n",
        "4.  Ancak, `try` bloğundan çıkılmadan önce **`finally` bloğunun çalışması gerekir**.\n",
        "5.  `finally` bloğuna girilir.\n",
        "6.  `return 2` ifadesi çalıştırılır. Bir `finally` bloğu içindeki `return` ifadesi, `try` veya `except` bloğundaki **önceki `return` ifadesini geçersiz kılar**.\n",
        "7.  Fonksiyon `2` değerini döndürür.\n",
        "8.  `print()` fonksiyonu `2`'yi yazdırır.\n",
        "\n",
        "**Çıktı:**\n",
        "```\n",
        "2\n",
        "```"
      ]
    },
    {
      "cell_type": "markdown",
      "metadata": {
        "id": "CTNlZcusfW2i"
      },
      "source": [
        "### 13. Aşağıdaki kodun çıktısı ne olur?\n",
        "```python\n",
        "try:\n",
        "    x = [0,1][2] # Liste sınırlarının dışına erişim\n",
        "except IndexError as e:\n",
        "    print(type(e).__name__)\n",
        "```"
      ]
    },
    {
      "cell_type": "markdown",
      "metadata": {
        "id": "GPmeM-FyfW2j"
      },
      "source": [
        "**Açıklama:**\n",
        "1.  `try` bloğu başlar.\n",
        "2.  `x = [0,1][2]` ifadesi çalıştırılır. `[0, 1]` listesinin geçerli indeksleri 0 ve 1'dir. İndeks 2'ye erişmeye çalışmak `IndexError` fırlatır.\n",
        "3.  Uygun `except IndexError as e:` bloğu bulunur.\n",
        "4.  `e` değişkeni fırlatılan `IndexError` nesnesini tutar.\n",
        "5.  `type(e)` ifadesi `IndexError` nesnesinin türünü (`<class 'IndexError'>`) verir.\n",
        "6.  `__name__` özelliği bu türün adını (`'IndexError'`) string olarak verir.\n",
        "7.  `print()` fonksiyonu bu string'i yazdırır.\n",
        "\n",
        "**Çıktı:**\n",
        "```\n",
        "IndexError\n",
        "```"
      ]
    },
    {
      "cell_type": "markdown",
      "metadata": {
        "id": "2Fx-UHbVfW2j"
      },
      "source": [
        "### 14. Aşağıdaki kodun çıktısı ne olur?\n",
        "```python\n",
        "for i in range(3):\n",
        "    try:\n",
        "        print(10 // (1 - i))\n",
        "    except ZeroDivisionError:\n",
        "        print(\"Hata!\") # Hata mesajı yerine sadece 'Hata!' yazdırılıyor\n",
        "        continue # Döngünün sonraki iterasyonuna geç\n",
        "```"
      ]
    },
    {
      "cell_type": "markdown",
      "metadata": {
        "id": "nf5eD0yOfW2j"
      },
      "source": [
        "**Açıklama:**\n",
        "*   **i = 0:**\n",
        "    *   `try` bloğuna girilir.\n",
        "    *   `10 // (1 - 0)` yani `10 // 1` hesaplanır, sonuç `10`.\n",
        "    *   `print(10)` çalışır -> **10** yazdırılır.\n",
        "    *   `except` bloğu atlanır.\n",
        "*   **i = 1:**\n",
        "    *   `try` bloğuna girilir.\n",
        "    *   `10 // (1 - 1)` yani `10 // 0` hesaplanmaya çalışılır, `ZeroDivisionError` fırlatılır.\n",
        "    *   `except ZeroDivisionError:` bloğu çalışır.\n",
        "    *   `print(\"Hata!\")` çalışır -> **Hata!** yazdırılır.\n",
        "    *   `continue` ifadesi döngünün geri kalanını atlar ve sonraki iterasyona geçer.\n",
        "*   **i = 2:**\n",
        "    *   `try` bloğuna girilir.\n",
        "    *   `10 // (1 - 2)` yani `10 // -1` hesaplanır, sonuç `-10`.\n",
        "    *   `print(-10)` çalışır -> **-10** yazdırılır.\n",
        "    *   `except` bloğu atlanır.\n",
        "\n",
        "**Çıktı:**\n",
        "```\n",
        "10\n",
        "Hata!\n",
        "-10\n",
        "```\n",
        "*Not: PDF'teki çıktı `10, -10` idi, ancak kod `Hata!` mesajını da yazdırmalı ve `continue` ile atlamalıydı. Buradaki açıklama koda göredir.*"
      ]
    },
    {
      "cell_type": "markdown",
      "metadata": {
        "id": "6bvkcUkzfW2j"
      },
      "source": [
        "### 15. Aşağıdaki kodun çıktısı ne olur?\n",
        "```python\n",
        "try:\n",
        "    raise KeyboardInterrupt\n",
        "except BaseException:\n",
        "    print(\"Yakalandı\")\n",
        "```"
      ]
    },
    {
      "cell_type": "markdown",
      "metadata": {
        "id": "x-Icj6X9fW2k"
      },
      "source": [
        "**Açıklama:**\n",
        "1.  `try` bloğu başlar.\n",
        "2.  `raise KeyboardInterrupt` ifadesi manuel olarak `KeyboardInterrupt` istisnasını fırlatır.\n",
        "3.  `KeyboardInterrupt`, `Exception` sınıfından değil, doğrudan `BaseException` sınıfından türemiştir.\n",
        "4.  `except BaseException:` bloğu, `BaseException` ve ondan türeyen tüm istisnaları (yani `KeyboardInterrupt` dahil her şeyi) yakalar.\n",
        "5.  Bu blok çalıştırılır.\n",
        "6.  `print(\"Yakalandı\")` çalışır -> **Yakalandı** yazdırılır.\n",
        "\n",
        "**Çıktı:**\n",
        "```\n",
        "Yakalandı\n",
        "```"
      ]
    },
    {
      "cell_type": "markdown",
      "metadata": {
        "id": "D4KTpsr_fW2k"
      },
      "source": [
        "### 16. Aşağıdaki kodun çıktısı ne olur? (Hata mesajı olarak ne yazdırılır?)\n",
        "```python\n",
        "try:\n",
        "    raise ValueError(\"x\")\n",
        "except ValueError as e:\n",
        "    e.args = (\"y\",) # İstisnanın argümanlarını değiştir\n",
        "    raise # Yakalanan istisnayı tekrar fırlat\n",
        "```"
      ]
    },
    {
      "cell_type": "markdown",
      "metadata": {
        "id": "gDlkykdDfW2k"
      },
      "source": [
        "**Açıklama:**\n",
        "1.  `try` bloğunda `ValueError(\"x\")` fırlatılır.\n",
        "2.  `except ValueError as e:` bloğu bu hatayı yakalar. `e` nesnesi ilk başta `ValueError('x')` olur.\n",
        "3.  `e.args = (\"y\",)` satırı, yakalanan `e` istisna nesnesinin argümanlarını `('x',)` yerine `('y',)` olarak değiştirir.\n",
        "4.  `raise` ifadesi, değiştirilmiş `e` nesnesini (yani artık `ValueError('y')` olan nesneyi) tekrar fırlatır.\n",
        "5.  Program bu değiştirilmiş `ValueError` ile sonlanır ve Python traceback'i ile birlikte hatayı yazdırır.\n",
        "\n",
        "**Çıktı (Traceback ile birlikte):**\n",
        "```\n",
        "Traceback (most recent call last):\n",
        "  File \"<stdin>\", line 2, in <module>\n",
        "ValueError: y\n",
        "```\n",
        "Yani program `ValueError: y` hatasıyla sonlanır."
      ]
    },
    {
      "cell_type": "markdown",
      "metadata": {
        "id": "cMoTdsLNfW2k"
      },
      "source": [
        "### 17. Aşağıdaki kodun çıktısı ne olur?\n",
        "```python\n",
        "data = {\"a\": 1}\n",
        "try:\n",
        "    print(data[\"b\"])\n",
        "except KeyError as e:\n",
        "    print(e) # İstisna nesnesinin kendisini yazdır\n",
        "```"
      ]
    },
    {
      "cell_type": "markdown",
      "metadata": {
        "id": "HiOJssVEfW2l"
      },
      "source": [
        "**Açıklama:**\n",
        "1.  `data` sözlüğü oluşturulur.\n",
        "2.  `try` bloğunda `data[\"b\"]` ifadesi çalıştırılır. Sözlükte \"b\" anahtarı olmadığı için `KeyError` fırlatılır.\n",
        "3.  `except KeyError as e:` bloğu hatayı yakalar. `e` nesnesi `KeyError('b')` olur.\n",
        "4.  `print(e)` ifadesi, istisna nesnesinin `__str__` metodunu çağırır. `KeyError` için bu genellikle bulunamayan anahtarı döndürür.\n",
        "\n",
        "**Çıktı:**\n",
        "```\n",
        "'b'\n",
        "```"
      ]
    },
    {
      "cell_type": "markdown",
      "metadata": {
        "id": "ZvbIfkLffW2l"
      },
      "source": [
        "### 18. Aşağıdaki kodun çıktısı ne olur?\n",
        "```python\n",
        "try:\n",
        "    result = 3 + \"3\"\n",
        "except TypeError:\n",
        "    print(\"Tip\")\n",
        "```"
      ]
    },
    {
      "cell_type": "markdown",
      "metadata": {
        "id": "hbeXOE9CfW2l"
      },
      "source": [
        "**Açıklama:**\n",
        "1.  `try` bloğunda `3 + \"3\"` işlemi denenir.\n",
        "2.  Python'da `int` ve `str` tipleri doğrudan toplanamaz. Bu işlem `TypeError` fırlatır.\n",
        "3.  `except TypeError:` bloğu bu hatayı yakalar.\n",
        "4.  `print(\"Tip\")` çalışır -> **Tip** yazdırılır.\n",
        "\n",
        "**Çıktı:**\n",
        "```\n",
        "Tip\n",
        "```"
      ]
    },
    {
      "cell_type": "markdown",
      "metadata": {
        "id": "cAl-P5IqfW2l"
      },
      "source": [
        "### 19. Aşağıdaki kodun çıktısı ne olur? (Varsayılan olarak `nonexistent` modülünün olmadığını varsayın)\n",
        "```python\n",
        "try:\n",
        "    import math, nonexistent\n",
        "except ModuleNotFoundError as e:\n",
        "    print(f\"modül: {e.name}\")\n",
        "```"
      ]
    },
    {
      "cell_type": "markdown",
      "metadata": {
        "id": "DBSGcXlGfW2l"
      },
      "source": [
        "**Açıklama:**\n",
        "1.  `try` bloğunda `import math, nonexistent` ifadesi çalıştırılır.\n",
        "2.  Python önce `math` modülünü bulur ve içe aktarır.\n",
        "3.  Sonra `nonexistent` modülünü bulmaya çalışır. Bulunamadığı için `ModuleNotFoundError` fırlatılır.\n",
        "4.  `except ModuleNotFoundError as e:` bloğu hatayı yakalar.\n",
        "5.  `e` nesnesi fırlatılan hatayı tutar. `ModuleNotFoundError` nesnelerinin genellikle bir `name` özelliği bulunur ve bu özellik bulunamayan modülün adını içerir.\n",
        "6.  `print(f\"modül: {e.name}\")` çalışır ve bulunamayan modülün adını yazdırır.\n",
        "\n",
        "**Çıktı:**\n",
        "```\n",
        "modül: nonexistent\n",
        "```"
      ]
    },
    {
      "cell_type": "markdown",
      "metadata": {
        "id": "FM91_7sHfW2m"
      },
      "source": [
        "### 20. Aşağıdaki kod bir **script** içinde çalıştırılırsa ne olur? Peki **interaktif Python kabuğunda** çalıştırılırsa çıktısı ne olur?\n",
        "```python\n",
        "try:\n",
        "    x = 1/0\n",
        "finally:\n",
        "    x = 99\n",
        "\n",
        "print(x) # Bu satır try/finally bloğunun dışında\n",
        "```"
      ]
    },
    {
      "cell_type": "markdown",
      "metadata": {
        "id": "1TeDXH-2fW2m"
      },
      "source": [
        "**Açıklama:**\n",
        "1.  `try` bloğuna girilir.\n",
        "2.  `x = 1/0` işlemi `ZeroDivisionError` fırlatır.\n",
        "3.  `try` bloğundan çıkılmadan önce `finally` bloğu çalışır.\n",
        "4.  `finally` bloğunda `x = 99` ataması yapılır. `x` değişkeninin değeri `99` olur.\n",
        "5.  `finally` bloğu bittikten sonra, `try` bloğunda fırlatılan **orijinal `ZeroDivisionError` istisnası tekrar fırlatılır** (çünkü yakalanmadı).\n",
        "\n",
        "**Script İçinde Çalıştırılırsa:**\n",
        "*   Orijinal `ZeroDivisionError` tekrar fırlatıldığı için program bu hata ile **sonlanır**.\n",
        "*   `try/finally` bloğundan sonraki `print(x)` satırına **ulaşılamaz**.\n",
        "*   **Çıktı:** (Sadece hata mesajı ve traceback görünür, 99 yazdırılmaz)\n",
        "    ```\n",
        "    Traceback (most recent call last):\n",
        "      File \"<filename.py>\", line 2, in <module>\n",
        "        x = 1/0\n",
        "    ZeroDivisionError: division by zero\n",
        "    ```\n",
        "\n",
        "**İnteraktif Kabukta Çalıştırılırsa:**\n",
        "*   Adımlar aynıdır, `finally` bloğunda `x` 99 olur ve sonra `ZeroDivisionError` fırlatılır.\n",
        "*   Ancak interaktif kabuk, bir komut bloğu çalıştıktan sonra değişkenlerin son değerlerini genellikle *hafızasında tutar*.\n",
        "*   Hata mesajı (traceback) ekrana yazdırılır.\n",
        "*   Eğer hatadan *sonra* kabuğa `print(x)` veya sadece `x` yazarsanız, `finally` bloğunda atanan **99** değerini görürsünüz.\n",
        "*   Ancak koddaki `print(x)` satırı çalışmayacağı için doğrudan çıktı **sadece hata mesajı** olur. PDF'teki \"99 (kabukta)\" ifadesi, hatadan sonra `x`'in değerinin ne *olduğunu* belirtir, kodun doğrudan çıktısını değil.\n",
        "\n",
        "**Özetle:** Kodun *doğrudan çıktısı* her iki durumda da hata mesajıdır. İnteraktif kabukta, hatadan *sonra* `x`'in değeri sorgulanırsa 99 olduğu görülür."
      ]
    },
    {
      "cell_type": "markdown",
      "metadata": {
        "id": "PTAQtZoDfW2m"
      },
      "source": [
        "## C. Kod Düzeltme Soruları (21-35) 🛠️"
      ]
    },
    {
      "cell_type": "markdown",
      "metadata": {
        "id": "xg1rs7p1fW2m"
      },
      "source": [
        "### 21. Soru: Sıfıra Bölme Hatası Düzeltme ❌\n",
        "Aşağıdaki kodda sıfıra bölme hatası var. Kodunuzu yeniden düzenleyerek sıfıra bölündüğünde programın çökmesini engelleyin ve kontrollü bir sonuç (örneğin sonsuz `float('inf')` veya bir uyarı mesajı) alınmasını sağlayın.\n",
        "\n",
        "```python\n",
        "# Hatalı Kod\n",
        "pay = 10\n",
        "payda = 0\n",
        "sonuc = pay / payda\n",
        "print(sonuc)\n",
        "```"
      ]
    },
    {
      "cell_type": "markdown",
      "metadata": {
        "id": "gihTBviIfW2m"
      },
      "source": [
        "#### Çözüm:"
      ]
    },
    {
      "cell_type": "code",
      "execution_count": 14,
      "metadata": {
        "colab": {
          "base_uri": "https://localhost:8080/"
        },
        "id": "NKJJkds-fW2n",
        "outputId": "7f25e481-7e80-4666-d961-39e07a3d5081"
      },
      "outputs": [
        {
          "output_type": "stream",
          "name": "stdout",
          "text": [
            "❌ Hata: 0 ile bölme yapılamaz.\n",
            "-> Sonuç 'sonsuz' olarak ayarlandı.\n",
            "İşlem sonucu: inf\n",
            "Program devam ediyor...\n"
          ]
        }
      ],
      "source": [
        "pay = 10\n",
        "payda = 0\n",
        "sonuc = None # Başlangıç değeri atamak iyi bir pratik olabilir\n",
        "\n",
        "try:\n",
        "    sonuc = pay / payda\n",
        "except ZeroDivisionError:\n",
        "    print(f\"❌ Hata: {payda} ile bölme yapılamaz.\")\n",
        "    # Alternatif 1: Sonsuz değeri ata\n",
        "    sonuc = float('inf')\n",
        "    print(\"-> Sonuç 'sonsuz' olarak ayarlandı.\")\n",
        "    # Alternatif 2: None veya 0 gibi bir değer ata ve durumu logla/bildir\n",
        "    # sonuc = None\n",
        "    # print(\"-> Sonuç 'None' olarak ayarlandı.\")\n",
        "finally:\n",
        "    # Sonucun ne olduğunu göstermek için (isteğe bağlı)\n",
        "    print(f\"İşlem sonucu: {sonuc}\")\n",
        "\n",
        "print(\"Program devam ediyor...\")"
      ]
    },
    {
      "cell_type": "markdown",
      "metadata": {
        "id": "AVsCcJuPfW2n"
      },
      "source": [
        "**Açıklama:**\n",
        "*   Riskli bölme işlemi `try` bloğuna alındı.\n",
        "*   `except ZeroDivisionError:` bloğu ile sıfıra bölme hatası yakalandı.\n",
        "*   Hata durumunda kullanıcıya bilgi verildi ve `sonuc` değişkenine kontrollü bir değer (`float('inf')`) atandı."
      ]
    },
    {
      "cell_type": "markdown",
      "metadata": {
        "id": "c2HhlCLCfW2n"
      },
      "source": [
        "### 22. Soru: Liste Sınır Dışı Erişim Hatası Düzeltme ❌\n",
        "Aşağıdaki kod, liste sınırlarının dışındaki bir indekse erişmeye çalıştığı için `IndexError` veriyor. Kodu, bu hata oluştuğunda kullanıcıya geçerli indeks aralığını bildirecek şekilde düzeltin.\n",
        "\n",
        "```python\n",
        "# Hatalı Kod\n",
        "liste = [10, 20, 30]\n",
        "indeks = 5\n",
        "print(liste[indeks])\n",
        "```"
      ]
    },
    {
      "cell_type": "markdown",
      "metadata": {
        "id": "mVa64qJsfW2n"
      },
      "source": [
        "#### Çözüm:"
      ]
    },
    {
      "cell_type": "code",
      "execution_count": 15,
      "metadata": {
        "colab": {
          "base_uri": "https://localhost:8080/"
        },
        "id": "sL0vPk_pfW2n",
        "outputId": "79bc5dee-c97c-4b40-87dc-d92a07ff37fd"
      },
      "outputs": [
        {
          "output_type": "stream",
          "name": "stdout",
          "text": [
            "❌ Hata: Geçersiz indeks (5).\n",
            "-> Lütfen 0 ile 2 arasında bir indeks kullanın.\n",
            "Program devam ediyor...\n"
          ]
        }
      ],
      "source": [
        "liste = [10, 20, 30]\n",
        "indeks = 5\n",
        "eleman = None\n",
        "\n",
        "try:\n",
        "    eleman = liste[indeks]\n",
        "    print(f\"Listenin {indeks}. indeksindeki eleman: {eleman}\")\n",
        "except IndexError:\n",
        "    print(f\"❌ Hata: Geçersiz indeks ({indeks}).\")\n",
        "    # Listenin boyutunu kontrol et\n",
        "    if len(liste) == 0:\n",
        "        print(\"-> Liste boş.\")\n",
        "    else:\n",
        "        # Geçerli indeks aralığını bildir\n",
        "        gecerli_son_indeks = len(liste) - 1\n",
        "        print(f\"-> Lütfen 0 ile {gecerli_son_indeks} arasında bir indeks kullanın.\")\n",
        "\n",
        "print(\"Program devam ediyor...\")"
      ]
    },
    {
      "cell_type": "markdown",
      "metadata": {
        "id": "04OOeTtsfW2o"
      },
      "source": [
        "**Açıklama:**\n",
        "*   Riskli indeks erişimi `try` bloğuna alındı.\n",
        "*   `except IndexError:` bloğu ile hata yakalandı.\n",
        "*   Hata durumunda, listenin boyutuna göre kullanıcıya uygun bir mesaj ve geçerli indeks aralığı gösterildi."
      ]
    },
    {
      "cell_type": "markdown",
      "metadata": {
        "id": "XG6i1psnfW2o"
      },
      "source": [
        "### 23. Soru: Geçersiz Kullanıcı Girdisi Hatası Düzeltme ❌\n",
        "Aşağıdaki kod, kullanıcı sayısal olmayan bir değer girdiğinde `ValueError` ile çöküyor. Kodu, kullanıcı geçerli bir tam sayı girene kadar sormaya devam edecek şekilde, döngü ve `try/except` kullanarak düzeltin.\n",
        "\n",
        "```python\n",
        "# Hatalı Kod\n",
        "girdi = input(\"Bir tam sayı girin: \")\n",
        "sayi = int(girdi)\n",
        "print(f\"Girdiğiniz sayı: {sayi}\")\n",
        "```"
      ]
    },
    {
      "cell_type": "markdown",
      "metadata": {
        "id": "HceyKGtzfW2o"
      },
      "source": [
        "#### Çözüm:"
      ]
    },
    {
      "cell_type": "code",
      "execution_count": 16,
      "metadata": {
        "colab": {
          "base_uri": "https://localhost:8080/"
        },
        "id": "SxeuyajtfW2o",
        "outputId": "9097fff3-dc67-4ffe-e048-c3d3c4d77646"
      },
      "outputs": [
        {
          "output_type": "stream",
          "name": "stdout",
          "text": [
            "Bir tam sayı girin: 10\n",
            "✅ Teşekkürler! Girdiğiniz sayı: 10\n",
            "Program devam ediyor...\n"
          ]
        }
      ],
      "source": [
        "sayi = None\n",
        "\n",
        "while True: # Geçerli girdi alana kadar döngü\n",
        "    girdi = input(\"Bir tam sayı girin: \")\n",
        "    try:\n",
        "        sayi = int(girdi)\n",
        "        # Eğer int() başarılı olursa, geçerli sayı alınmıştır.\n",
        "        break # Döngüden çık\n",
        "    except ValueError:\n",
        "        # int() başarısız olursa hata mesajı ver ve döngü devam etsin\n",
        "        print(f\"❌ Hata: '{girdi}' geçerli bir tam sayı değil. Lütfen tekrar deneyin.\")\n",
        "    # except Exception as e: # Beklenmedik başka hatalar için (isteğe bağlı)\n",
        "    #    print(f\"Beklenmedik bir hata oluştu: {e}\")\n",
        "    #    break # Veya continue\n",
        "\n",
        "# Döngüden çıkıldığında geçerli sayı alınmıştır\n",
        "print(f\"✅ Teşekkürler! Girdiğiniz sayı: {sayi}\")\n",
        "print(\"Program devam ediyor...\")"
      ]
    },
    {
      "cell_type": "markdown",
      "metadata": {
        "id": "Ky6S88DCfW2o"
      },
      "source": [
        "**Açıklama:**\n",
        "*   Kod bir `while True` döngüsü içine alındı.\n",
        "*   `input()` ve `int()` dönüşümü `try` bloğuna yerleştirildi.\n",
        "*   `ValueError` oluşursa, `except` bloğu bir hata mesajı yazdırır ve döngü `continue` (örtük olarak döngü sonuna gelindiği için) ile başa döner.\n",
        "*   `int()` başarılı olursa, `try` bloğu tamamlanır, `except` atlanır ve `break` ifadesi ile döngü sonlandırılır."
      ]
    },
    {
      "cell_type": "markdown",
      "metadata": {
        "id": "8XWKOsKZfW2o"
      },
      "source": [
        "### 24. Soru: Dosya Bulunamadı Hatası Düzeltme ❌\n",
        "Aşağıdaki kod, `veri.txt` dosyası bulunamazsa `FileNotFoundError` hatası veriyor. Kodu, dosya bulunamadığında kullanıcıyı bilgilendirecek ve programın çökmesini engelleyecek şekilde düzeltin. Kaynak yönetimini iyileştirmek için `with` deyimini kullanın.\n",
        "\n",
        "```python\n",
        "# Hatalı Kod (ve eksik kapatma)\n",
        "f = open(\"veri.txt\", \"r\", encoding=\"utf-8\")\n",
        "content = f.read()\n",
        "print(content)\n",
        "f.close() # Hata durumunda bu satıra ulaşılamayabilir\n",
        "```"
      ]
    },
    {
      "cell_type": "markdown",
      "metadata": {
        "id": "PjoWl8QufW2p"
      },
      "source": [
        "#### Çözüm:"
      ]
    },
    {
      "cell_type": "code",
      "execution_count": 17,
      "metadata": {
        "colab": {
          "base_uri": "https://localhost:8080/"
        },
        "id": "Yx-8yTOWfW2p",
        "outputId": "1b625062-e9d9-4389-d2a6-98d5dce9547d"
      },
      "outputs": [
        {
          "output_type": "stream",
          "name": "stdout",
          "text": [
            "\n",
            "--- 'veri.txt' Dosya İçeriği ---\n",
            "Bu test verisidir.\n",
            "-------------------------\n",
            "Program devam ediyor...\n"
          ]
        }
      ],
      "source": [
        "dosya_adi = \"veri.txt\" # Dosya adını değişkene almak iyi pratik\n",
        "# dosya_adi = \"olmayan_veri.txt\" # Hata durumunu test etmek için\n",
        "content = None\n",
        "\n",
        "try:\n",
        "    # 'with open' kullanıldığında dosya otomatik olarak kapatılır.\n",
        "    with open(dosya_adi, \"r\", encoding=\"utf-8\") as f:\n",
        "        content = f.read()\n",
        "    # Hata oluşmazsa else bloğu çalışır (isteğe bağlı)\n",
        "    # print(f\"'{dosya_adi}' içeriği:\")\n",
        "    # print(content)\n",
        "\n",
        "except FileNotFoundError:\n",
        "    print(f\"❌ Hata: '{dosya_adi}' dosyası bulunamadı.\")\n",
        "    print(\"-> Lütfen dosyanın doğru yerde olduğundan veya adını kontrol edin.\")\n",
        "    content = None # İçeriğin olmadığını belirtmek için\n",
        "\n",
        "except IOError as e: # Diğer G/Ç hataları için (örn: okuma izni yok)\n",
        "    print(f\"❌ Dosya okuma hatası ({type(e).__name__}): {e}\")\n",
        "    content = None\n",
        "\n",
        "except Exception as e: # Beklenmedik diğer hatalar\n",
        "     print(f\"❌ Beklenmeyen bir hata oluştu: {e}\")\n",
        "     content = None\n",
        "\n",
        "finally:\n",
        "    # Dosya içeriği okunabildiyse gösterilebilir\n",
        "    if content is not None:\n",
        "         print(f\"\\n--- '{dosya_adi}' Dosya İçeriği ---\")\n",
        "         print(content)\n",
        "         print(\"-\"*25)\n",
        "    else:\n",
        "        print(f\"\\n'{dosya_adi}' dosyası okunamadı.\")\n",
        "\n",
        "print(\"Program devam ediyor...\")"
      ]
    },
    {
      "cell_type": "markdown",
      "metadata": {
        "id": "btR3dkerfW2p"
      },
      "source": [
        "**Açıklama:**\n",
        "*   Dosya açma ve okuma işlemleri `with open(...)` kullanılarak `try` bloğuna alındı. Bu, dosyanın her durumda (hata olsa da olmasa da) otomatik olarak kapatılmasını sağlar.\n",
        "*   `except FileNotFoundError:` bloğu, dosya bulunamadığında kullanıcıya bilgi verir.\n",
        "*   `except IOError:` gibi daha genel G/Ç hataları veya `except Exception:` da eklenebilir.\n",
        "*   `finally` bloğu, dosyanın okunup okunamadığını kontrol edip ona göre bir mesaj yazdırabilir."
      ]
    },
    {
      "cell_type": "markdown",
      "metadata": {
        "id": "E-Wlli7lfW2p"
      },
      "source": [
        "### 25. Soru: Çoklu Hata Yakalama Düzeltme ❌\n",
        "Aşağıdaki kod hem sıfıra bölme (`ZeroDivisionError`) hem de geçersiz sayısal dönüşüm (`ValueError`) hataları verebilir. Kodu, bu iki hatayı ayrı ayrı yakalayıp kullanıcıya farklı mesajlar verecek şekilde düzeltin.\n",
        "\n",
        "```python\n",
        "# Hatalı Kod\n",
        "a_str = input(\"İlk sayıyı girin (a): \")\n",
        "b_str = input(\"İkinci sayıyı girin (b): \")\n",
        "\n",
        "a = float(a_str)\n",
        "b = float(b_str)\n",
        "\n",
        "sonuc = a / b\n",
        "print(f\"Sonuç ({a} / {b}): {sonuc}\")\n",
        "```"
      ]
    },
    {
      "cell_type": "markdown",
      "metadata": {
        "id": "CrEpYzpIfW2p"
      },
      "source": [
        "#### Çözüm:"
      ]
    },
    {
      "cell_type": "code",
      "execution_count": 18,
      "metadata": {
        "colab": {
          "base_uri": "https://localhost:8080/"
        },
        "id": "xZUV9Uc_fW2q",
        "outputId": "3f628a75-63d9-4be3-b433-aa257f46212f"
      },
      "outputs": [
        {
          "output_type": "stream",
          "name": "stdout",
          "text": [
            "İlk sayıyı girin (a): 8\n",
            "İkinci sayıyı girin (b): 9\n",
            "✅ Sonuç (8.0 / 9.0): 0.8888888888888888\n",
            "Program devam ediyor...\n"
          ]
        }
      ],
      "source": [
        "a = None\n",
        "b = None\n",
        "sonuc = None\n",
        "\n",
        "try:\n",
        "    a_str = input(\"İlk sayıyı girin (a): \")\n",
        "    a = float(a_str) # ValueError riski\n",
        "\n",
        "    b_str = input(\"İkinci sayıyı girin (b): \")\n",
        "    b = float(b_str) # ValueError riski\n",
        "\n",
        "    sonuc = a / b    # ZeroDivisionError riski\n",
        "\n",
        "    print(f\"✅ Sonuç ({a} / {b}): {sonuc}\")\n",
        "\n",
        "except ValueError:\n",
        "    # Hangi girdinin hatalı olduğunu bulmak biraz daha karmaşık olabilir,\n",
        "    # ama genel bir mesaj verebiliriz.\n",
        "    print(\"❌ Hata: Geçersiz sayısal giriş. Lütfen sadece sayı (örn: 10, -5.5) girin.\")\n",
        "    # Daha spesifik olmak için input ve float dönüşümlerini ayrı try/except'lere alabiliriz.\n",
        "\n",
        "except ZeroDivisionError:\n",
        "    print(f\"❌ Hata: Sıfıra bölme ({a} / {b}). İkinci sayı sıfır olamaz.\")\n",
        "\n",
        "except Exception as e:\n",
        "    print(f\"❌ Beklenmeyen bir hata oluştu: {e}\")\n",
        "\n",
        "print(\"Program devam ediyor...\")"
      ]
    },
    {
      "cell_type": "markdown",
      "metadata": {
        "id": "IJAtqU3FfW2q"
      },
      "source": [
        "**Açıklama:**\n",
        "*   Tüm riskli işlemler (input alma, `float` dönüşümü ve bölme) tek bir `try` bloğuna alındı.\n",
        "*   İlk `except ValueError:` bloğu, `float()` dönüşümlerinden herhangi biri başarısız olursa çalışır.\n",
        "*   İkinci `except ZeroDivisionError:` bloğu, `float` dönüşümleri başarılı olur ama bölme işlemi sırasında `b` sıfır ise çalışır.\n",
        "*   Python, oluşan hatayla eşleşen *ilk* `except` bloğunu çalıştırır."
      ]
    },
    {
      "cell_type": "markdown",
      "metadata": {
        "id": "SlgAGv3ufW2q"
      },
      "source": [
        "*(Not: 26-35 arası sorular PDF'te belirtildiği gibi benzer konularda (JSON ayrıştırma, AttributeError, TypeError, KeyError, IOError vb. hataları yakalama ve düzeltme) örnekler içerebilir. Prensip aynıdır: riskli kodu `try` içine almak ve ilgili hata türlerini `except` blokları ile yakalayıp uygun şekilde yönetmek.)*"
      ]
    },
    {
      "cell_type": "markdown",
      "metadata": {
        "id": "iGiQCh1vfW2q"
      },
      "source": [
        "## D. Kendin Yaz Soruları (36-45) ✍️"
      ]
    },
    {
      "cell_type": "markdown",
      "metadata": {
        "id": "yLFyX0GffW2q"
      },
      "source": [
        "### 36. Soru: Yedek Dosya Okuma Fonksiyonu\n",
        "Birincil bir dosyayı okumaya çalışan, ancak `FileNotFoundError` hatası alırsa otomatik olarak belirtilen bir yedek dosyayı okuyan bir fonksiyon (`oku_ve_yedek`) yazın. Fonksiyon, okunan içeriği veya hata durumunda `None` döndürmelidir. `with` deyimini kullanın."
      ]
    },
    {
      "cell_type": "markdown",
      "metadata": {
        "id": "eOHaj39NfW2r"
      },
      "source": [
        "#### Çözüm:"
      ]
    },
    {
      "cell_type": "code",
      "execution_count": 19,
      "metadata": {
        "colab": {
          "base_uri": "https://localhost:8080/"
        },
        "id": "45Ae4YWQfW2r",
        "outputId": "34b5ed54-5c95-4ab4-fc4a-4a6fdfc820bf"
      },
      "outputs": [
        {
          "output_type": "stream",
          "name": "stdout",
          "text": [
            "'birincil.txt' okunuyor...\n",
            "-> 'birincil.txt' bulunamadı.\n",
            "-> Yedek dosya 'yedek.txt' deneniyor...\n",
            "\n",
            "Okunan İçerik:\n",
            "Bu yedek dosyanın içeriğidir.\n"
          ]
        }
      ],
      "source": [
        "import os\n",
        "\n",
        "def oku_ve_yedek(birincil_dosya, yedek_dosya):\n",
        "    \"\"\"Belirtilen dosyayı okur, bulamazsa yedek dosyayı okur.\"\"\"\n",
        "    try:\n",
        "        print(f\"'{birincil_dosya}' okunuyor...\")\n",
        "        with open(birincil_dosya, 'r', encoding='utf-8') as f:\n",
        "            return f.read()\n",
        "    except FileNotFoundError:\n",
        "        print(f\"-> '{birincil_dosya}' bulunamadı.\")\n",
        "        print(f\"-> Yedek dosya '{yedek_dosya}' deneniyor...\")\n",
        "        try:\n",
        "            with open(yedek_dosya, 'r', encoding='utf-8') as f_yedek:\n",
        "                return f_yedek.read()\n",
        "        except FileNotFoundError:\n",
        "            print(f\"-> ❌ Yedek dosya '{yedek_dosya}' da bulunamadı.\")\n",
        "            return None\n",
        "        except IOError as e_yedek: # Yedek dosyada başka okuma hatası\n",
        "            print(f\"-> ❌ Yedek dosya '{yedek_dosya}' okunurken hata: {e_yedek}\")\n",
        "            return None\n",
        "    except IOError as e_birincil: # Birincil dosyada başka okuma hatası\n",
        "         print(f\"-> ❌ Birincil dosya '{birincil_dosya}' okunurken hata: {e_birincil}\")\n",
        "         return None\n",
        "    except Exception as e_genel:\n",
        "        print(f\"-> ❌ Beklenmedik hata: {e_genel}\")\n",
        "        return None\n",
        "\n",
        "# Test için dosyalar oluşturalım\n",
        "with open(\"yedek.txt\", \"w\") as f_yedek_w:\n",
        "    f_yedek_w.write(\"Bu yedek dosyanın içeriğidir.\")\n",
        "# with open(\"birincil.txt\", \"w\") as f_birincil_w: # Bunu açarak birincil dosyanın olduğu durumu test et\n",
        "#     f_birincil_w.write(\"Bu birincil dosyanın içeriğidir.\")\n",
        "\n",
        "# Test edelim\n",
        "icerik = oku_ve_yedek(\"birincil.txt\", \"yedek.txt\")\n",
        "\n",
        "if icerik:\n",
        "    print(\"\\nOkunan İçerik:\")\n",
        "    print(icerik)\n",
        "else:\n",
        "    print(\"\\nDosyalar okunamadı.\")\n",
        "\n",
        "# Test sonrası temizlik (isteğe bağlı)\n",
        "if os.path.exists(\"birincil.txt\"): os.remove(\"birincil.txt\")\n",
        "if os.path.exists(\"yedek.txt\"): os.remove(\"yedek.txt\")"
      ]
    },
    {
      "cell_type": "markdown",
      "metadata": {
        "id": "9AaDPZ3dfW2r"
      },
      "source": [
        "### 37. Soru: Faktöriyel Hesaplama (Girdi Doğrulama ile)\n",
        "Kullanıcıdan **pozitif bir tam sayı** alıp faktöriyelini hesaplayan bir program yazın. Kullanıcı metin, negatif sayı veya sıfır girerse `ValueError` veya uygun bir hata mesajı ile uyarıp tekrar girdi istemelidir. Geçerli girdi alındığında faktöriyeli hesaplayıp ekrana yazdırın ve program sonlansın. `math.factorial` kullanabilirsiniz."
      ]
    },
    {
      "cell_type": "markdown",
      "metadata": {
        "id": "ltqqGNFvfW2r"
      },
      "source": [
        "#### Çözüm:"
      ]
    },
    {
      "cell_type": "code",
      "execution_count": 20,
      "metadata": {
        "colab": {
          "base_uri": "https://localhost:8080/"
        },
        "id": "zPHqMxtZfW2r",
        "outputId": "137dd1b4-5dde-408b-fdd2-6879e0668149"
      },
      "outputs": [
        {
          "output_type": "stream",
          "name": "stdout",
          "text": [
            "Pozitif bir tam sayı girin: 50\n",
            "✅ 50! = 30414093201713378043612608166064768844377641568960512000000000000\n",
            "Program bitti.\n"
          ]
        }
      ],
      "source": [
        "import math\n",
        "\n",
        "def faktoriyel_programi():\n",
        "    \"\"\"Kullanıcıdan pozitif tam sayı alıp faktöriyel hesaplar.\"\"\"\n",
        "    while True:\n",
        "        try:\n",
        "            girdi = input(\"Pozitif bir tam sayı girin: \")\n",
        "            n = int(girdi) # ValueError riski\n",
        "\n",
        "            if n <= 0: # Sıfır veya negatif kontrolü\n",
        "                # raise ValueError(\"Sayı pozitif olmalıdır.\") # Veya sadece print\n",
        "                print(\"❌ Hata: Sayı pozitif olmalıdır. Lütfen tekrar deneyin.\")\n",
        "                continue # Döngünün başına dön\n",
        "\n",
        "            # Geçerli girdi alındı\n",
        "            sonuc = math.factorial(n)\n",
        "            print(f\"✅ {n}! = {sonuc}\")\n",
        "            break # Döngüyü sonlandır\n",
        "\n",
        "        except ValueError:\n",
        "            print(f\"❌ Hata: '{girdi}' geçerli bir tam sayı değil. Lütfen tekrar deneyin.\")\n",
        "            # continue demeye gerek yok, döngü devam edecek\n",
        "        except Exception as e:\n",
        "             print(f\"❌ Beklenmedik bir hata oluştu: {e}\")\n",
        "             break # Beklenmedik hatada çıkabiliriz\n",
        "\n",
        "# Programı çalıştır\n",
        "faktoriyel_programi()\n",
        "print(\"Program bitti.\")"
      ]
    },
    {
      "cell_type": "markdown",
      "metadata": {
        "id": "SitfLumsfW2s"
      },
      "source": [
        "### 38. Soru: Üç Sayıyı Toplama (Hatalı Girişte Tekrar Sorma)\n",
        "Kullanıcıdan üç ayrı tam sayı alan ve bu sayıların toplamını ekrana yazdıran bir program yazın. Kullanıcı herhangi bir aşamada geçersiz bir giriş (sayı olmayan) yaparsa, hata mesajı verip **tüm sayıları baştan istemelidir**. Tüm sayılar geçerli girildiğinde toplamı yazdırıp program sonlanmalıdır."
      ]
    },
    {
      "cell_type": "markdown",
      "metadata": {
        "id": "-nqkBRiAfW2s"
      },
      "source": [
        "#### Çözüm:"
      ]
    },
    {
      "cell_type": "code",
      "execution_count": 21,
      "metadata": {
        "colab": {
          "base_uri": "https://localhost:8080/"
        },
        "id": "G7e6gV3JfW2s",
        "outputId": "9a859457-62a1-44e6-b531-718a35d8b852"
      },
      "outputs": [
        {
          "output_type": "stream",
          "name": "stdout",
          "text": [
            "Lütfen 3 tam sayı girin:\n",
            "  Birinci sayı: 6\n",
            "  İkinci sayı: 8\n",
            "  Üçüncü sayı: 10\n",
            "\n",
            "✅ Girdiğiniz sayıların toplamı (6 + 8 + 10) = 24\n",
            "Program bitti.\n"
          ]
        }
      ],
      "source": [
        "def uc_sayi_topla():\n",
        "    \"\"\"Kullanıcıdan 3 tam sayı alır, hatalı girişte baştan başlar.\"\"\"\n",
        "    while True:\n",
        "        try:\n",
        "            print(\"Lütfen 3 tam sayı girin:\")\n",
        "            girdi1 = input(\"  Birinci sayı: \")\n",
        "            s1 = int(girdi1) # ValueError riski\n",
        "\n",
        "            girdi2 = input(\"  İkinci sayı: \")\n",
        "            s2 = int(girdi2) # ValueError riski\n",
        "\n",
        "            girdi3 = input(\"  Üçüncü sayı: \")\n",
        "            s3 = int(girdi3) # ValueError riski\n",
        "\n",
        "            # Tüm girdiler başarılı\n",
        "            toplam = s1 + s2 + s3\n",
        "            print(f\"\\n✅ Girdiğiniz sayıların toplamı ({s1} + {s2} + {s3}) = {toplam}\")\n",
        "            break # Döngüyü sonlandır\n",
        "\n",
        "        except ValueError:\n",
        "            print(\"❌ Hata: Geçersiz giriş. Lütfen sadece tam sayı girin.\")\n",
        "            print(\"-> Sayıları baştan girmeniz gerekiyor.\\n\")\n",
        "            # continue demeye gerek yok, döngü devam edecek\n",
        "        except Exception as e:\n",
        "            print(f\"❌ Beklenmedik bir hata oluştu: {e}\")\n",
        "            break # Beklenmedik hatada çık\n",
        "\n",
        "# Programı çalıştır\n",
        "uc_sayi_topla()\n",
        "print(\"Program bitti.\")"
      ]
    },
    {
      "cell_type": "markdown",
      "metadata": {
        "id": "2xD9eAZQfW2s"
      },
      "source": [
        "*(Not: 39-45 arası sorular PDF'te belirtildiği gibi Lambda içinde try/except, özel istisna sınıfı tanımlama, veritabanı bağlantısı kapatma (finally/with), API isteği hatalarını yönetme gibi daha spesifik senaryoları içerebilir. Temel `try/except/else/finally` ve `raise` prensipleri geçerlidir.)*"
      ]
    },
    {
      "cell_type": "markdown",
      "metadata": {
        "id": "IiwhpkG6fW2s"
      },
      "source": [
        "## E. Zor/Gelişmiş Sorular (46-50) 🚀"
      ]
    },
    {
      "cell_type": "markdown",
      "metadata": {
        "id": "ylSnG1vSfW2t"
      },
      "source": [
        "### 46. Soru: Hata Loglayan ve Yeniden Fırlatan Dekoratör\n",
        "Bir fonksiyonu saran, fonksiyon çalışırken bir `Exception` oluşursa bu hatayı `logging` modülü ile (hata mesajı ve traceback ile birlikte) loglayan ve **ardından aynı hatayı tekrar fırlatan** bir dekoratör (`log_ve_firlat`) yazın. Bu, hatanın hem kaydedilmesini hem de programın normal hata akışının devam etmesini sağlar."
      ]
    },
    {
      "cell_type": "markdown",
      "metadata": {
        "id": "IjmY0wZNfW2t"
      },
      "source": [
        "#### Çözüm:"
      ]
    },
    {
      "cell_type": "code",
      "execution_count": 22,
      "metadata": {
        "colab": {
          "base_uri": "https://localhost:8080/"
        },
        "id": "ghunYKayfW2t",
        "outputId": "e1177caa-ea9c-44c4-c01a-8579308c9521"
      },
      "outputs": [
        {
          "output_type": "stream",
          "name": "stderr",
          "text": [
            "ERROR:__main__:riskli_islem fonksiyonunda hata! Args: (0,), Kwargs: {}\n",
            "Traceback (most recent call last):\n",
            "  File \"<ipython-input-22-dffdc90b6506>\", line 17, in wrapper\n",
            "    return func(*args, **kwargs)\n",
            "           ^^^^^^^^^^^^^^^^^^^^^\n",
            "  File \"<ipython-input-22-dffdc90b6506>\", line 30, in riskli_islem\n",
            "    raise ValueError(\"Sıfır kabul edilmez\")\n",
            "ValueError: Sıfır kabul edilmez\n"
          ]
        },
        {
          "output_type": "stream",
          "name": "stdout",
          "text": [
            "--- Test Başarılı Durum ---\n",
            "Riskli işlem 5 ile deneniyor...\n",
            "Başarılı sonuç: 20.0\n",
            "\n",
            "--- Test Hatalı Durum (ValueError) ---\n",
            "Riskli işlem 0 ile deneniyor...\n",
            "Ana programda yakalanan hata: ValueError: Sıfır kabul edilmez\n",
            "\n",
            "--- Test Hatalı Durum (ZeroDivisionError) ---\n",
            "\n",
            "Testler bitti.\n"
          ]
        }
      ],
      "source": [
        "import logging\n",
        "import functools\n",
        "import sys\n",
        "\n",
        "# Logging yapılandırması (Hataları görmek için)\n",
        "# Bu yapılandırma, log mesajlarını konsola ERROR seviyesinde yazdırır.\n",
        "logging.basicConfig(level=logging.ERROR,\n",
        "                    format='%(asctime)s | %(levelname)s | %(name)s:%(lineno)d | %(message)s',\n",
        "                    stream=sys.stderr) # Hataları stderr'e yazdır\n",
        "logger = logging.getLogger(__name__)\n",
        "\n",
        "def log_ve_firlat(func):\n",
        "    \"\"\"Bir fonksiyonda oluşan Exception'ları loglar ve tekrar fırlatır.\"\"\"\n",
        "    @functools.wraps(func) # Orijinal fonksiyon bilgilerini koru\n",
        "    def wrapper(*args, **kwargs):\n",
        "        try:\n",
        "            return func(*args, **kwargs)\n",
        "        except Exception as e:\n",
        "            # Hata oluştuğunda logla (exc_info=True traceback'i ekler)\n",
        "            logger.error(f\"{func.__name__} fonksiyonunda hata! Args: {args}, Kwargs: {kwargs}\", exc_info=True)\n",
        "            # Yakalanan aynı hatayı tekrar fırlat\n",
        "            raise\n",
        "    return wrapper\n",
        "\n",
        "# --- Dekoratorü Test Edelim ---\n",
        "@log_ve_firlat\n",
        "def riskli_islem(x):\n",
        "    print(f\"Riskli işlem {x} ile deneniyor...\")\n",
        "    if x == 0:\n",
        "        raise ValueError(\"Sıfır kabul edilmez\")\n",
        "    return 100 / x\n",
        "\n",
        "print(\"--- Test Başarılı Durum ---\")\n",
        "try:\n",
        "    result = riskli_islem(5)\n",
        "    print(f\"Başarılı sonuç: {result}\")\n",
        "except Exception as e_main:\n",
        "    print(f\"Ana programda yakalanan hata: {type(e_main).__name__}: {e_main}\")\n",
        "\n",
        "print(\"\\n--- Test Hatalı Durum (ValueError) ---\")\n",
        "try:\n",
        "    result = riskli_islem(0)\n",
        "    print(f\"Başarılı sonuç: {result}\") # Bu satır çalışmayacak\n",
        "except Exception as e_main:\n",
        "    print(f\"Ana programda yakalanan hata: {type(e_main).__name__}: {e_main}\")\n",
        "\n",
        "print(\"\\n--- Test Hatalı Durum (ZeroDivisionError) ---\")\n",
        "# Not: ZeroDivisionError da loglanacak ve fırlatılacak\n",
        "# @log_ve_firlat\n",
        "# def baska_riskli_islem(x):\n",
        "#     return 10 / x\n",
        "# try:\n",
        "#    baska_riskli_islem(0)\n",
        "# except ZeroDivisionError as e_main:\n",
        "#     print(f\"Ana programda yakalanan hata: {type(e_main).__name__}: {e_main}\")\n",
        "\n",
        "print(\"\\nTestler bitti.\")"
      ]
    },
    {
      "cell_type": "markdown",
      "metadata": {
        "id": "fxijBAjOfW2t"
      },
      "source": [
        "**Açıklama:**\n",
        "*   Dekoratör, `try` bloğunda sarmalanan fonksiyonu çalıştırır.\n",
        "*   `except Exception as e:` bloğu herhangi bir programatik hatayı yakalar.\n",
        "*   `logger.error(...)` ile hata, fonksiyon adı ve traceback bilgisi (`exc_info=True`) ile loglanır.\n",
        "*   `raise` ifadesi (argümansız), yakalanan `e` istisnasının aynısını tekrar fırlatır, böylece dekoratörü çağıran kod bu hatayı normal şekilde yakalayabilir veya program sonlanabilir."
      ]
    },
    {
      "cell_type": "markdown",
      "metadata": {
        "id": "5nwX2JpKfW2t"
      },
      "source": [
        "### 47. Soru: İstisna Zincirleme (`raise ... from ...`)\n",
        "Bir ağ isteği yapmaya çalışan bir fonksiyon simüle edin. İstek sırasında bir `ConnectionError` oluşursa, bu hatayı yakalayıp, onu neden (`__cause__`) olarak göstererek daha genel bir `NetworkOperationFailed` (bunu kendiniz tanımlayın veya `RuntimeError` gibi mevcut bir sınıfı kullanın) istisnası fırlatın."
      ]
    },
    {
      "cell_type": "markdown",
      "metadata": {
        "id": "96R7LU_CfW2t"
      },
      "source": [
        "#### Çözüm:"
      ]
    },
    {
      "cell_type": "code",
      "execution_count": 23,
      "metadata": {
        "colab": {
          "base_uri": "https://localhost:8080/"
        },
        "id": "HSIdqd1yfW2u",
        "outputId": "7b2d0b04-849c-46a5-a6ce-c3635305844b"
      },
      "outputs": [
        {
          "output_type": "stream",
          "name": "stdout",
          "text": [
            "--- Başarılı İstek --- \n",
            "'https://example.com' adresine istek gönderiliyor...\n",
            "İstek başarılı!\n",
            "Yanıt işleniyor...\n",
            "Sonuç: {'data': 'success'}\n",
            "\n",
            "--- Hatalı İstek --- \n",
            "'http://error.com' adresine istek gönderiliyor...\n",
            "-> Bağlantı hatası yakalandı: Uzak sunucuya bağlanılamadı\n",
            "Ana programda yakalanan hata: 'http://error.com' adresinden veri alınamadı\n",
            "  -> Nedeni: ConnectionError: Uzak sunucuya bağlanılamadı\n"
          ]
        }
      ],
      "source": [
        "# Mevcut bir hata sınıfını kullanalım (veya kendimiz tanımlayabiliriz)\n",
        "class NetworkOperationFailed(RuntimeError):\n",
        "    \"Ağ işlemi başarısız olduğunda fırlatılacak özel hata.\"\n",
        "    pass\n",
        "\n",
        "def make_network_request(url):\n",
        "    \"\"\"Bir ağ isteğini simüle eder, ConnectionError fırlatabilir.\"\"\"\n",
        "    print(f\"'{url}' adresine istek gönderiliyor...\")\n",
        "    # Simülasyon: Belirli bir URL'de hata verelim\n",
        "    if \"error.com\" in url:\n",
        "        # Gerçek bir ağ kütüphanesi burada ConnectionError fırlatabilirdi\n",
        "        raise ConnectionError(\"Uzak sunucuya bağlanılamadı\")\n",
        "    else:\n",
        "        print(\"İstek başarılı!\")\n",
        "        return \"{'data': 'success'}\" # Örnek yanıt\n",
        "\n",
        "def process_data_from_network(url):\n",
        "    \"\"\"Ağdan veri alır ve işler, hataları zincirler.\"\"\"\n",
        "    try:\n",
        "        response = make_network_request(url)\n",
        "        # Burada response'u işleme kodları olabilir...\n",
        "        print(\"Yanıt işleniyor...\")\n",
        "        return response\n",
        "    except ConnectionError as conn_err:\n",
        "        print(f\"-> Bağlantı hatası yakalandı: {conn_err}\")\n",
        "        # Hatayı zincirleyerek yeni bir hata fırlat\n",
        "        raise NetworkOperationFailed(f\"'{url}' adresinden veri alınamadı\") from conn_err\n",
        "    except Exception as other_err: # Diğer olası hatalar\n",
        "        print(f\"-> Başka bir hata yakalandı: {other_err}\")\n",
        "        raise NetworkOperationFailed(f\"'{url}' işlenirken bilinmeyen hata\") from other_err\n",
        "\n",
        "# Test edelim\n",
        "print(\"--- Başarılı İstek --- \")\n",
        "try:\n",
        "    result = process_data_from_network(\"https://example.com\")\n",
        "    print(f\"Sonuç: {result}\")\n",
        "except NetworkOperationFailed as e:\n",
        "    print(f\"Ana programda yakalanan hata: {e}\")\n",
        "    if e.__cause__:\n",
        "        print(f\"  -> Nedeni: {type(e.__cause__).__name__}: {e.__cause__}\")\n",
        "\n",
        "print(\"\\n--- Hatalı İstek --- \")\n",
        "try:\n",
        "    result = process_data_from_network(\"http://error.com\")\n",
        "    print(f\"Sonuç: {result}\") # Çalışmayacak\n",
        "except NetworkOperationFailed as e:\n",
        "    print(f\"Ana programda yakalanan hata: {e}\")\n",
        "    # Zincirlenmiş hatanın nedenini göster\n",
        "    if e.__cause__:\n",
        "        print(f\"  -> Nedeni: {type(e.__cause__).__name__}: {e.__cause__}\")\n",
        "    # Tam traceback çıktısı zinciri daha net gösterir\n"
      ]
    },
    {
      "cell_type": "markdown",
      "metadata": {
        "id": "V0sMOUhefW2u"
      },
      "source": [
        "**Açıklama:**\n",
        "*   `process_data_from_network` fonksiyonu içindeki `except ConnectionError as conn_err:` bloğu, alt seviye bağlantı hatasını yakalar.\n",
        "*   `raise NetworkOperationFailed(...) from conn_err` ifadesi, daha üst seviye bir hata (`NetworkOperationFailed`) fırlatırken, orijinal `ConnectionError`'ı (`conn_err`) bu yeni hatanın `__cause__` özelliği olarak ayarlar.\n",
        "*   Bu, hata ayıklama sırasında hatanın kökenine inmayı kolaylaştırır, çünkü traceback her iki hatayı da ve aralarındaki ilişkiyi gösterir."
      ]
    },
    {
      "cell_type": "markdown",
      "metadata": {
        "id": "hJHKZiT7fW2u"
      },
      "source": [
        "### 48. Soru: `contextlib.suppress` ile Belirli Hataları Yoksayma\n",
        "Bir listedeki elemanları tek tek bir fonksiyona gönderen bir kod yazın. Fonksiyon, bazen `TypeError` veya `ValueError` fırlatabilir. `contextlib.suppress` kullanarak bu iki hatayı sessizce yoksayın (program çökmesin ve hata mesajı vermesin), ancak diğer hatalar (varsa) normal şekilde fırlatılsın."
      ]
    },
    {
      "cell_type": "markdown",
      "metadata": {
        "id": "HvmQ390ifW2u"
      },
      "source": [
        "#### Çözüm:"
      ]
    },
    {
      "cell_type": "code",
      "execution_count": 24,
      "metadata": {
        "colab": {
          "base_uri": "https://localhost:8080/",
          "height": 734
        },
        "id": "s-wvOyHtfW2u",
        "outputId": "2fd75fd6-db73-43df-9680-969e47d29bb3"
      },
      "outputs": [
        {
          "output_type": "stream",
          "name": "stdout",
          "text": [
            "Liste işleniyor (ValueError ve TypeError yoksayılacak):\n",
            "  İşlenen öğe: 10 -> Sonuç (100/item): 10.0\n",
            "  İşlenen öğe: '5' -> Sonuç (str->int*2): 10\n",
            "  İşlenen öğe: 'abc'   İşlenen öğe: [1, 2]   İşlenen öğe: 2 -> Sonuç (100/item): 50.0\n",
            "  İşlenen öğe: 0 "
          ]
        },
        {
          "output_type": "error",
          "ename": "ZeroDivisionError",
          "evalue": "Sıfır ile özel işlem hatası",
          "traceback": [
            "\u001b[0;31m---------------------------------------------------------------------------\u001b[0m",
            "\u001b[0;31mZeroDivisionError\u001b[0m                         Traceback (most recent call last)",
            "\u001b[0;32m<ipython-input-24-5f6acd6a866f>\u001b[0m in \u001b[0;36m<cell line: 0>\u001b[0;34m()\u001b[0m\n\u001b[1;32m     29\u001b[0m     \u001b[0;31m# bu hatalar sessizce yutulur ve program devam eder.\u001b[0m\u001b[0;34m\u001b[0m\u001b[0;34m\u001b[0m\u001b[0m\n\u001b[1;32m     30\u001b[0m     \u001b[0;32mwith\u001b[0m \u001b[0msuppress\u001b[0m\u001b[0;34m(\u001b[0m\u001b[0mValueError\u001b[0m\u001b[0;34m,\u001b[0m \u001b[0mTypeError\u001b[0m\u001b[0;34m)\u001b[0m\u001b[0;34m:\u001b[0m\u001b[0;34m\u001b[0m\u001b[0;34m\u001b[0m\u001b[0m\n\u001b[0;32m---> 31\u001b[0;31m         \u001b[0msonuc\u001b[0m \u001b[0;34m=\u001b[0m \u001b[0mislem_yap\u001b[0m\u001b[0;34m(\u001b[0m\u001b[0moge\u001b[0m\u001b[0;34m)\u001b[0m\u001b[0;34m\u001b[0m\u001b[0;34m\u001b[0m\u001b[0m\n\u001b[0m\u001b[1;32m     32\u001b[0m         \u001b[0;31m# Eğer hata yoksayılmazsa (yani işlem başarılıysa) veya\u001b[0m\u001b[0;34m\u001b[0m\u001b[0;34m\u001b[0m\u001b[0m\n\u001b[1;32m     33\u001b[0m         \u001b[0;31m# suppress kapsamı dışındaki bir hata oluşursa (burada oluşmaz\u001b[0m\u001b[0;34m\u001b[0m\u001b[0;34m\u001b[0m\u001b[0m\n",
            "\u001b[0;32m<ipython-input-24-5f6acd6a866f>\u001b[0m in \u001b[0;36mislem_yap\u001b[0;34m(item)\u001b[0m\n\u001b[1;32m     14\u001b[0m     \u001b[0;32melif\u001b[0m \u001b[0mitem\u001b[0m \u001b[0;34m==\u001b[0m \u001b[0;36m0\u001b[0m\u001b[0;34m:\u001b[0m\u001b[0;34m\u001b[0m\u001b[0;34m\u001b[0m\u001b[0m\n\u001b[1;32m     15\u001b[0m          \u001b[0;31m# Sıfır ise ZeroDivisionError ver (bu yoksayılmayacak)\u001b[0m\u001b[0;34m\u001b[0m\u001b[0;34m\u001b[0m\u001b[0m\n\u001b[0;32m---> 16\u001b[0;31m          \u001b[0;32mraise\u001b[0m \u001b[0mZeroDivisionError\u001b[0m\u001b[0;34m(\u001b[0m\u001b[0;34m\"Sıfır ile özel işlem hatası\"\u001b[0m\u001b[0;34m)\u001b[0m\u001b[0;34m\u001b[0m\u001b[0;34m\u001b[0m\u001b[0m\n\u001b[0m\u001b[1;32m     17\u001b[0m     \u001b[0;32melse\u001b[0m\u001b[0;34m:\u001b[0m\u001b[0;34m\u001b[0m\u001b[0;34m\u001b[0m\u001b[0m\n\u001b[1;32m     18\u001b[0m         \u001b[0;31m# Diğer sayılar için\u001b[0m\u001b[0;34m\u001b[0m\u001b[0;34m\u001b[0m\u001b[0m\n",
            "\u001b[0;31mZeroDivisionError\u001b[0m: Sıfır ile özel işlem hatası"
          ]
        }
      ],
      "source": [
        "from contextlib import suppress\n",
        "\n",
        "def islem_yap(item):\n",
        "    \"\"\"Öğe üzerinde işlem yapar, bazen hata fırlatır.\"\"\"\n",
        "    print(f\"  İşlenen öğe: {item!r}\", end=\" \")\n",
        "    if isinstance(item, str):\n",
        "        # String ise int'e çevirmeyi dene (ValueError verebilir)\n",
        "        result = int(item) * 2\n",
        "        print(f\"-> Sonuç (str->int*2): {result}\")\n",
        "        return result\n",
        "    elif isinstance(item, list):\n",
        "        # Liste ise TypeError ver\n",
        "        raise TypeError(\"Listeler işlenemez\")\n",
        "    elif item == 0:\n",
        "         # Sıfır ise ZeroDivisionError ver (bu yoksayılmayacak)\n",
        "         raise ZeroDivisionError(\"Sıfır ile özel işlem hatası\")\n",
        "    else:\n",
        "        # Diğer sayılar için\n",
        "        result = 100 / item\n",
        "        print(f\"-> Sonuç (100/item): {result}\")\n",
        "        return result\n",
        "\n",
        "veri_listesi = [10, \"5\", \"abc\", [1, 2], 2, 0, -4]\n",
        "basarili_sonuclar = []\n",
        "\n",
        "print(\"Liste işleniyor (ValueError ve TypeError yoksayılacak):\")\n",
        "for oge in veri_listesi:\n",
        "    # suppress context manager'ı içine alınan blokta belirtilen hatalar olursa\n",
        "    # bu hatalar sessizce yutulur ve program devam eder.\n",
        "    with suppress(ValueError, TypeError):\n",
        "        sonuc = islem_yap(oge)\n",
        "        # Eğer hata yoksayılmazsa (yani işlem başarılıysa) veya\n",
        "        # suppress kapsamı dışındaki bir hata oluşursa (burada oluşmaz\n",
        "        # çünkü islem_yap içinde raise oluyor), bu kısma gelinir.\n",
        "        # Ancak islem_yap başarılı olursa sonuc None olmaz.\n",
        "        if sonuc is not None: # Başarılı işlemleri yakalamak için (opsiyonel)\n",
        "             basarili_sonuclar.append(sonuc)\n",
        "\n",
        "    # Önemli Not: suppress bloğu sadece belirtilen hataları yutar.\n",
        "    # Eğer islem_yap içinde ZeroDivisionError gibi başka bir hata oluşursa,\n",
        "    # bu hata suppress tarafından YUTULMAZ ve dışarı fırlatılır.\n",
        "    # Bu yüzden genellikle suppress'i de bir try/except içine almak gerekebilir.\n",
        "\n",
        "# Yukarıdaki döngü ZeroDivisionError'da duracağı için,\n",
        "# tüm listeyi işlemek istiyorsak dış try/except gerekir:\n",
        "print(\"\\nListe tekrar işleniyor (Dış try/except ile):\")\n",
        "basarili_sonuclar_2 = []\n",
        "for oge in veri_listesi:\n",
        "    try:\n",
        "        with suppress(ValueError, TypeError):\n",
        "            sonuc = islem_yap(oge)\n",
        "            if sonuc is not None:\n",
        "                basarili_sonuclar_2.append(sonuc)\n",
        "    except ZeroDivisionError as zde:\n",
        "        print(f\"-> ❌ Dışarıda yakalanan hata: {type(zde).__name__} ({oge} için)\")\n",
        "    except Exception as e_genel:\n",
        "         print(f\"-> ❌ Dışarıda yakalanan beklenmedik hata: {type(e_genel).__name__} ({oge} için)\")\n",
        "\n",
        "print(f\"\\nİlk denemedeki başarılı sonuçlar: {basarili_sonuclar}\")\n",
        "print(f\"İkinci denemedeki başarılı sonuçlar: {basarili_sonuclar_2}\")"
      ]
    },
    {
      "cell_type": "markdown",
      "metadata": {
        "id": "1TmPsRxBfW2v"
      },
      "source": [
        "**Açıklama:**\n",
        "*   `islem_yap(oge)` çağrısı `with suppress(ValueError, TypeError):` bloğu içine alındı.\n",
        "*   Eğer `islem_yap` içinde `ValueError` (örn: `int(\"abc\")`) veya `TypeError` (örn: listeye işlem yapma) oluşursa, bu hatalar `suppress` tarafından yakalanır ve yoksayılır, döngü bir sonraki elemanla devam eder.\n",
        "*   Eğer `islem_yap` içinde `ZeroDivisionError` gibi `suppress` listesinde olmayan bir hata oluşursa, bu hata normal şekilde fırlatılır ve `suppress` bloğunun dışına çıkar. Bu nedenle, tüm listeyi işleyebilmek için genellikle `suppress` bloğunu da kapsayan bir dış `try/except` yapısı gerekir."
      ]
    },
    {
      "cell_type": "markdown",
      "metadata": {
        "id": "3aQwZTL_fW2v"
      },
      "source": [
        "### 49. Soru: `concurrent.futures` ile Görev Hatalarını Toplama\n",
        "Bir listedeki sayılar için ayrı iş parçacıklarında (threads) `10 / sayi` işlemini hesaplayan bir kod yazın (`concurrent.futures.ThreadPoolExecutor` kullanarak). Görevlerden biri `ZeroDivisionError` fırlatacak. Tüm görevler tamamlandıktan sonra, hangi görevlerin başarıyla sonuçlandığını (sonuçlarıyla birlikte) ve hangilerinin hangi hatayla başarısız olduğunu ayrı ayrı raporlayan bir çıktı oluşturun."
      ]
    },
    {
      "cell_type": "markdown",
      "metadata": {
        "id": "Y9Y5unfzfW2v"
      },
      "source": [
        "#### Çözüm:"
      ]
    },
    {
      "cell_type": "code",
      "execution_count": null,
      "metadata": {
        "id": "H8udYiQ0fW2v"
      },
      "outputs": [],
      "source": [
        "from concurrent.futures import ThreadPoolExecutor, as_completed\n",
        "import time\n",
        "\n",
        "def bolme_gorevi(sayi):\n",
        "    \"\"\"Verilen sayıyı 10'a böler, 0 ise hata verir.\"\"\"\n",
        "    print(f\"  -> Görev({sayi}) başlıyor...\")\n",
        "    time.sleep(0.1) # Küçük bir gecikme simülasyonu\n",
        "    if sayi == 0:\n",
        "        raise ZeroDivisionError(\"Sıfıra bölme denendi\")\n",
        "    result = 10 / sayi\n",
        "    print(f\"  -> Görev({sayi}) bitti. Sonuç: {result}\")\n",
        "    return result\n",
        "\n",
        "sayilar = [5, 2, 0, 4, -1]\n",
        "basarili_gorevler = {}\n",
        "hatali_gorevler = {}\n",
        "\n",
        "print(f\"{len(sayilar)} adet bölme görevi başlatılıyor...\")\n",
        "with ThreadPoolExecutor(max_workers=3) as executor:\n",
        "    # Görevleri gönder ve Future nesnelerini girdi sayısıyla eşleştir\n",
        "    future_to_sayi = {executor.submit(bolme_gorevi, s): s for s in sayilar}\n",
        "\n",
        "    # Görevler tamamlandıkça işle (sırasız tamamlanabilirler)\n",
        "    for future in as_completed(future_to_sayi):\n",
        "        orijinal_sayi = future_to_sayi[future]\n",
        "        try:\n",
        "            # future.result() hatasızsa sonucu verir,\n",
        "            # hata varsa o hatayı fırlatır.\n",
        "            sonuc = future.result()\n",
        "            print(f\"✅ Görev({orijinal_sayi}) başarıyla tamamlandı.\")\n",
        "            basarili_gorevler[orijinal_sayi] = sonuc\n",
        "        except Exception as exc:\n",
        "            # future.result() tarafından fırlatılan hatayı yakala\n",
        "            print(f\"❌ Görev({orijinal_sayi}) hata ile sonuçlandı: {type(exc).__name__}\")\n",
        "            hatali_gorevler[orijinal_sayi] = exc # Hata nesnesini sakla\n",
        "\n",
        "print(\"\\n--- Görev Tamamlama Raporu ---\")\n",
        "print(\"Başarılı Görevler:\")\n",
        "if basarili_gorevler:\n",
        "    for sayi, sonuc in basarili_gorevler.items():\n",
        "        print(f\"  Sayı: {sayi}, Sonuç: {sonuc}\")\n",
        "else:\n",
        "    print(\"  Başarılı görev yok.\")\n",
        "\n",
        "print(\"\\nHatalı Görevler:\")\n",
        "if hatali_gorevler:\n",
        "    for sayi, hata in hatali_gorevler.items():\n",
        "        print(f\"  Sayı: {sayi}, Hata: {type(hata).__name__} - {hata}\")\n",
        "else:\n",
        "    print(\"  Hatalı görev yok.\")"
      ]
    },
    {
      "cell_type": "markdown",
      "metadata": {
        "id": "PoISh9OefW2v"
      },
      "source": [
        "**Açıklama:**\n",
        "*   `ThreadPoolExecutor` ile görevler iş parçacıklarına gönderilir.\n",
        "*   `executor.submit()` çağrısı bir `Future` nesnesi döndürür. Bu nesne, görevin durumunu ve sonucunu temsil eder.\n",
        "*   `as_completed(futures)` iterator'ü, görevler tamamlandıkça ilgili `Future` nesnelerini verir.\n",
        "*   Her `future` için `future.result()` çağrılır. Bu çağrı:\n",
        "    *   Görev henüz bitmediyse, bitene kadar bekler.\n",
        "    *   Görev başarıyla bittiyse, görevin dönüş değerini verir.\n",
        "    *   Görev çalışırken bir istisna oluştuysa, `result()` çağrısı **o istisnayı tekrar fırlatır**.\n",
        "*   Bu nedenle, `future.result()` çağrısı bir `try/except` bloğu içine alınarak görevlerde oluşan hatalar yakalanır ve ayrı listelerde/sözlüklerde toplanır."
      ]
    },
    {
      "cell_type": "markdown",
      "metadata": {
        "id": "NYwQPXXdfW2w"
      },
      "source": [
        "### 50. Soru: Modüldeki Tüm Fonksiyonları Hata Loglama Dekoratörü ile Sarmalama\n",
        "Bir modül (`my_module` adında hayali bir modül düşünün) içindeki **tüm çağrılabilir nesneleri (fonksiyonları)** otomatik olarak Soru 46'da yazdığınız `log_ve_firlat` dekoratörü ile saracak bir yardımcı fonksiyon (`wrap_module_functions`) yazın. Bu fonksiyon, modül adını string olarak almalı, modülü içe aktarmalı (veya zaten aktarılmışsa bulmalı) ve içindeki fonksiyonları dekore edilmiş halleriyle değiştirmelidir."
      ]
    },
    {
      "cell_type": "markdown",
      "metadata": {
        "id": "IRUyiCS2fW2w"
      },
      "source": [
        "#### Çözüm:"
      ]
    },
    {
      "cell_type": "code",
      "execution_count": null,
      "metadata": {
        "id": "rsoZcGXcfW2w"
      },
      "outputs": [],
      "source": [
        "import logging\n",
        "import functools\n",
        "import sys\n",
        "import importlib # Modülleri dinamik olarak içe aktarmak için\n",
        "import inspect # Nesnelerin türünü kontrol etmek için (fonksiyon mu vb.)\n",
        "\n",
        "# --- Önce loglama ve dekoratörü tekrar tanımlayalım ---\n",
        "logging.basicConfig(level=logging.ERROR,\n",
        "                    format='MOD_WRAP: %(asctime)s|%(levelname)s|%(name)s:%(lineno)d| %(message)s',\n",
        "                    stream=sys.stderr)\n",
        "logger = logging.getLogger(__name__)\n",
        "\n",
        "def log_ve_firlat(func):\n",
        "    @functools.wraps(func)\n",
        "    def wrapper(*args, **kwargs):\n",
        "        try:\n",
        "            return func(*args, **kwargs)\n",
        "        except Exception as e:\n",
        "            logger.error(f\"{func.__name__} fonksiyonunda hata!\", exc_info=True)\n",
        "            raise\n",
        "    return wrapper\n",
        "\n",
        "# --- Şimdi modül sarma fonksiyonunu yazalım ---\n",
        "def wrap_module_functions(module_name: str, decorator):\n",
        "    \"\"\"Verilen isimdeki modülün tüm fonksiyonlarını belirtilen dekoratör ile sarar.\"\"\"\n",
        "    try:\n",
        "        # Modül zaten yüklenmiş mi diye bak, değilse yükle\n",
        "        if module_name in sys.modules:\n",
        "            module = sys.modules[module_name]\n",
        "        else:\n",
        "            module = importlib.import_module(module_name)\n",
        "\n",
        "        print(f\"'{module_name}' modülündeki fonksiyonlar sarılıyor...\")\n",
        "\n",
        "        # Modülün içindeki tüm nitelikleri dolaş\n",
        "        for attr_name in dir(module):\n",
        "            # Nitelik '_' ile başlıyorsa (genellikle özel) atla\n",
        "            if attr_name.startswith('_'):\n",
        "                continue\n",
        "\n",
        "            try:\n",
        "                 # Nitelik değerini al\n",
        "                 original_obj = getattr(module, attr_name)\n",
        "\n",
        "                 # Eğer bu nitelik çağrılabilir bir nesneyse (fonksiyon, metot vb.)\n",
        "                 # ve bu modülde tanımlanmışsa (başka modülden import edilmemişse)\n",
        "                 if callable(original_obj) and inspect.getmodule(original_obj) == module:\n",
        "                    # Dekoratörü uygula\n",
        "                    wrapped_obj = decorator(original_obj)\n",
        "                    # Modüldeki orijinal nesneyi dekore edilmiş haliyle değiştir\n",
        "                    setattr(module, attr_name, wrapped_obj)\n",
        "                    print(f\"  -> '{attr_name}' fonksiyonu sarıldı.\")\n",
        "\n",
        "            except Exception as e_inner:\n",
        "                 # getattr veya inspect sırasında hata olursa (nadiren)\n",
        "                 print(f\"  -> Uyarı: '{attr_name}' işlenirken hata: {e_inner}\")\n",
        "\n",
        "        print(f\"'{module_name}' modül sarmalama tamamlandı.\")\n",
        "        return True # Başarılı\n",
        "\n",
        "    except ModuleNotFoundError:\n",
        "        print(f\"❌ Hata: '{module_name}' modülü bulunamadı.\")\n",
        "        return False # Başarısız\n",
        "    except Exception as e_outer:\n",
        "        print(f\"❌ Modül sarma sırasında beklenmedik hata: {e_outer}\")\n",
        "        return False # Başarısız\n",
        "\n",
        "# --- Test için Hayali Bir Modül Oluşturalım (my_test_module.py dosyası gibi) ---\n",
        "# Normalde bu ayrı bir .py dosyasında olurdu.\n",
        "module_code = \"\"\"\n",
        "print('my_test_module içe aktarılıyor...')\n",
        "import math\n",
        "\n",
        "CONSTANT_VAL = 100\n",
        "\n",
        "def basarili_fonk(x):\n",
        "    print(f'  >> basarili_fonk({x}) çağrıldı')\n",
        "    return x * 2\n",
        "\n",
        "def hatali_fonk(y):\n",
        "    print(f'  >> hatali_fonk({y}) çağrıldı')\n",
        "    return 10 / y # ZeroDivisionError verebilir\n",
        "\n",
        "def _ozel_fonk(): # _ ile başladığı için sarılmamalı\n",
        "    print('  >> _ozel_fonk çağrıldı')\n",
        "    return -1\n",
        "\n",
        "# Başka modülden import edilen fonksiyon (sarılmamalı, isteğe bağlı kontrol)\n",
        "sqrt = math.sqrt\n",
        "\"\"\"\n",
        "\n",
        "# Hayali modül kodunu bir dosyaya yazalım\n",
        "with open(\"my_test_module.py\", \"w\") as f:\n",
        "    f.write(module_code)\n",
        "\n",
        "# --- Şimdi Test Edelim ---\n",
        "print(\"--- Modül Sarma Denemesi ---\")\n",
        "# Önce modülü normal şekilde içe aktaralım (isteğe bağlı, wrap_module.. kendi de yapar)\n",
        "# import my_test_module\n",
        "\n",
        "# Modül fonksiyonlarını saralım\n",
        "wrap_module_functions(\"my_test_module\", log_ve_firlat)\n",
        "\n",
        "# Sarmadan sonra modülü tekrar alalım (veya zaten import edilmişse kullanalım)\n",
        "if \"my_test_module\" in sys.modules:\n",
        "    import my_test_module\n",
        "\n",
        "    print(\"\\n--- Sarılmış Fonksiyonları Test Etme ---\")\n",
        "    print(\"Başarılı fonksiyonu çağırma:\")\n",
        "    try:\n",
        "        result1 = my_test_module.basarili_fonk(5)\n",
        "        print(f\"Sonuç 1: {result1}\")\n",
        "    except Exception as e1:\n",
        "        print(f\"Beklenmedik Hata 1: {e1}\")\n",
        "\n",
        "    print(\"\\nHatalı fonksiyonu çağırma (hata bekleniyor):\")\n",
        "    try:\n",
        "        result2 = my_test_module.hatali_fonk(0) # Hata loglanacak ve fırlatılacak\n",
        "        print(f\"Sonuç 2: {result2}\")\n",
        "    except ZeroDivisionError as e2:\n",
        "        print(f\"Beklenen hata yakalandı: {type(e2).__name__}: {e2}\")\n",
        "    except Exception as e2_other:\n",
        "         print(f\"Beklenmedik Hata 2: {e2_other}\")\n",
        "\n",
        "    print(\"\\nÖzel fonksiyonu çağırma (sarılmamış olmalı):\")\n",
        "    try:\n",
        "         # Doğrudan erişim normalde önerilmez ama test için\n",
        "         result3 = my_test_module._ozel_fonk()\n",
        "         print(f\"Sonuç 3: {result3}\")\n",
        "    except Exception as e3:\n",
        "        print(f\"Hata 3: {e3}\")\n",
        "\n",
        "    print(\"\\nImport edilmiş fonksiyonu çağırma (sarılmamış olmalı):\")\n",
        "    try:\n",
        "         result4 = my_test_module.sqrt(16)\n",
        "         print(f\"Sonuç 4: {result4}\")\n",
        "    except Exception as e4:\n",
        "        print(f\"Hata 4: {e4}\")\n",
        "else:\n",
        "    print(\"\\nTest modülü yüklenemediği için fonksiyonlar test edilemedi.\")\n",
        "\n",
        "# Test sonrası temizlik\n",
        "if os.path.exists(\"my_test_module.py\"): os.remove(\"my_test_module.py\")\n",
        "if \"my_test_module\" in sys.modules: del sys.modules[\"my_test_module\"]"
      ]
    },
    {
      "cell_type": "markdown",
      "metadata": {
        "id": "8GHyCc3HfW2w"
      },
      "source": [
        "**Açıklama:**\n",
        "*   `wrap_module_functions` fonksiyonu, verilen modül adını kullanarak modülü bulur veya içe aktarır (`importlib`).\n",
        "*   `dir(module)` ile modülün tüm niteliklerini (fonksiyonlar, sınıflar, sabitler vb.) listeler.\n",
        "*   Her nitelik için `getattr` ile nesnenin kendisini alır.\n",
        "*   `callable()` ile nesnenin fonksiyon gibi çağrılabilir olup olmadığını kontrol eder.\n",
        "*   `inspect.getmodule(obj) == module` kontrolü, fonksiyonun *gerçekten bu modülde tanımlandığından* emin olmak içindir (başka bir modülden `import` edilenleri sarmamak için).\n",
        "*   Koşullar sağlanıyorsa, fonksiyon belirtilen `decorator` ile sarılır.\n",
        "*   `setattr(module, attr_name, wrapped_obj)` ile modüldeki orijinal fonksiyon referansı, dekore edilmiş fonksiyon referansıyla **değiştirilir**.\n",
        "*   Bu işlemden sonra, modül tekrar `import` edildiğinde veya mevcut referanslar kullanıldığında, çağrılan fonksiyonlar dekore edilmiş halleri olur."
      ]
    }
  ],
  "metadata": {
    "kernelspec": {
      "display_name": "Python 3 (ipykernel)",
      "language": "python",
      "name": "python3"
    },
    "language_info": {
      "codemirror_mode": {
        "name": "ipython",
        "version": 3
      },
      "file_extension": ".py",
      "mimetype": "text/x-python",
      "name": "python",
      "nbconvert_exporter": "python",
      "pygments_lexer": "ipython3",
      "version": "3.9.7"
    },
    "colab": {
      "provenance": [],
      "include_colab_link": true
    }
  },
  "nbformat": 4,
  "nbformat_minor": 0
}