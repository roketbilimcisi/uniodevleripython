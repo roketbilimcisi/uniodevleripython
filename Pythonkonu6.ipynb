{
  "nbformat": 4,
  "nbformat_minor": 0,
  "metadata": {
    "colab": {
      "provenance": [],
      "authorship_tag": "ABX9TyOtin8ab3Qio6MnBnt8LJuG"
    },
    "kernelspec": {
      "name": "python3",
      "display_name": "Python 3"
    },
    "language_info": {
      "name": "python"
    }
  },
  "cells": [
    {
      "cell_type": "markdown",
      "source": [
        "**While Döngüsü**"
      ],
      "metadata": {
        "id": "KiQS4CINZgdL"
      }
    },
    {
      "cell_type": "markdown",
      "source": [
        "Tanım: **while** döngüsü, bir koşul doğru olduğu sürece işlemleri tekrar eder. Koşul yanlış olduğunda döngü sona erer. Sonsuz döngüler, koşulun hiçbir zaman yanlış olmadığı durumlarda oluşur."
      ],
      "metadata": {
        "id": "7PJ2Zb4JZhRM"
      }
    },
    {
      "cell_type": "markdown",
      "source": [
        "Kullanım Alanları\n",
        "* Kullanıcıdan doğru girdi almak.\n",
        "* Belirli bir işlemi, belirli bir koşul sağlanana kadar tekrarlamak.\n",
        "* Algoritmik problemleri çözmek (örneğin, faktöriyel veya Fibonacci dizisi).\n"
      ],
      "metadata": {
        "id": "b7OJiSYxZitr"
      }
    },
    {
      "cell_type": "markdown",
      "source": [
        "**Kolay Örnekler**"
      ],
      "metadata": {
        "id": "ZZH_WK99aCdm"
      }
    },
    {
      "cell_type": "markdown",
      "source": [
        "Örnek 1: 1'den 10'a kadar sayıları yazdırma\n"
      ],
      "metadata": {
        "id": "4ZH2LgDMaFAW"
      }
    },
    {
      "cell_type": "code",
      "source": [
        "sayi = 1\n",
        "while sayi <= 10:\n",
        "    print(sayi)\n",
        "    sayi += 1"
      ],
      "metadata": {
        "id": "5-dTCFkvaMzX"
      },
      "execution_count": null,
      "outputs": []
    },
    {
      "cell_type": "markdown",
      "source": [
        "Örnek 2: Kullanıcı \"exit\" yazana kadar girdi al\n"
      ],
      "metadata": {
        "id": "9cLnPJsuaOZw"
      }
    },
    {
      "cell_type": "code",
      "source": [
        "girdi = \"\"\n",
        "while girdi != \"exit\":\n",
        "    girdi = input(\"Bir şey yazın (çıkmak için 'exit' yazın): \")\n",
        "    print(f\"Girdiğiniz: {girdi}\")"
      ],
      "metadata": {
        "id": "irkY5L1xaQ66"
      },
      "execution_count": null,
      "outputs": []
    },
    {
      "cell_type": "markdown",
      "source": [
        "Örnek 3: Çift sayıları yazdırma\n"
      ],
      "metadata": {
        "id": "haHAakJhaShG"
      }
    },
    {
      "cell_type": "code",
      "source": [
        "sayi = 0\n",
        "while sayi <= 10:\n",
        "    if sayi % 2 == 0:\n",
        "        print(sayi)\n",
        "    sayi += 1"
      ],
      "metadata": {
        "id": "sxGzYFf3aVCO"
      },
      "execution_count": null,
      "outputs": []
    },
    {
      "cell_type": "markdown",
      "source": [
        "**Orta Zorlukta Örnekler**"
      ],
      "metadata": {
        "id": "-mv9dVf7aYHk"
      }
    },
    {
      "cell_type": "markdown",
      "source": [
        "Örnek 4: Faktöriyel Hesaplama Kullanıcıdan bir sayı alın ve faktöriyelini hesaplayın."
      ],
      "metadata": {
        "id": "DrNtVXngaaPC"
      }
    },
    {
      "cell_type": "code",
      "source": [
        "sayi = int(input(\"Bir sayı girin: \"))\n",
        "sonuc = 1\n",
        "while sayi > 0:\n",
        "    sonuc *= sayi\n",
        "    sayi -= 1\n",
        "print(f\"Faktöriyel: {sonuc}\")"
      ],
      "metadata": {
        "id": "YWDGVXVUacK6"
      },
      "execution_count": null,
      "outputs": []
    },
    {
      "cell_type": "markdown",
      "source": [
        "Örnek 5: Fibonacci Dizisi Hesaplama İlk n Fibonacci sayısını yazdırın."
      ],
      "metadata": {
        "id": "4ukNtGvgaeeO"
      }
    },
    {
      "cell_type": "code",
      "source": [
        "n = int(input(\"Kaç Fibonacci sayısı yazdırılsın: \"))\n",
        "a, b = 0, 1\n",
        "sayac = 0\n",
        "while sayac < n:\n",
        "    print(a)\n",
        "    a, b = b, a + b\n",
        "    sayac += 1"
      ],
      "metadata": {
        "id": "B3p2RjMoag7G"
      },
      "execution_count": null,
      "outputs": []
    },
    {
      "cell_type": "markdown",
      "source": [
        "**Zor Örnekler**"
      ],
      "metadata": {
        "id": "0bqSKdxoaiP9"
      }
    },
    {
      "cell_type": "markdown",
      "source": [
        "Örnek 6: Sayıyı Ters Çevirme Bir sayının basamaklarını ters çeviren program.\n"
      ],
      "metadata": {
        "id": "mwMPbov8akJQ"
      }
    },
    {
      "cell_type": "code",
      "source": [
        "sayi = int(input(\"Bir sayı girin: \"))\n",
        "ters = 0\n",
        "while sayi > 0:\n",
        "    ters = ters * 10 + sayi % 10\n",
        "    sayi //= 10\n",
        "print(f\"Ters çevrilmiş hali: {ters}\")"
      ],
      "metadata": {
        "id": "mW7vyVegal5C"
      },
      "execution_count": null,
      "outputs": []
    },
    {
      "cell_type": "markdown",
      "source": [
        "Örnek 7: Asal Sayı Kontrolü Kullanıcıdan bir sayı alın ve asal olup olmadığını kontrol edin.\n"
      ],
      "metadata": {
        "id": "QCTSUmjNam3n"
      }
    },
    {
      "cell_type": "code",
      "source": [
        "sayi = int(input(\"Bir sayı girin: \"))\n",
        "bolen = 2\n",
        "asal = True\n",
        "while bolen < sayi:\n",
        "    if sayi % bolen == 0:\n",
        "        asal = False\n",
        "        break\n",
        "    bolen += 1\n",
        "if asal and sayi > 1:\n",
        "    print(\"Asal bir sayıdır.\")\n",
        "else:\n",
        "    print(\"Asal bir sayı değildir.\")"
      ],
      "metadata": {
        "id": "A3YOpV3Kao-C"
      },
      "execution_count": null,
      "outputs": []
    },
    {
      "cell_type": "markdown",
      "source": [
        "Örnek 8: Mükemmel Sayı Bulma Bir sayının çarpanlarının toplamı kendisine eşitse, bu bir mükemmel sayıdır."
      ],
      "metadata": {
        "id": "oXyllpe0aqbU"
      }
    },
    {
      "cell_type": "code",
      "source": [
        "sayi = int(input(\"Bir sayı girin: \"))\n",
        "toplam = 0\n",
        "bolen = 1\n",
        "while bolen < sayi:\n",
        "    if sayi % bolen == 0:\n",
        "        toplam += bolen\n",
        "    bolen += 1\n",
        "if toplam == sayi:\n",
        "    print(f\"{sayi} mükemmel bir sayıdır.\")\n",
        "else:\n",
        "    print(f\"{sayi} mükemmel bir sayı değildir.\")"
      ],
      "metadata": {
        "id": "BXXsRVKrasbM"
      },
      "execution_count": null,
      "outputs": []
    },
    {
      "cell_type": "markdown",
      "source": [
        "**Sonsuz Döngüler (while True) ve break**"
      ],
      "metadata": {
        "id": "4ee4TE59a1ct"
      }
    },
    {
      "cell_type": "markdown",
      "source": [
        "Tanım:\n",
        "while True, koşulu her zaman doğru olan bir döngüdür. Döngüyü sonlandırmak için genellikle break ifadesi kullanılır.\n",
        "\n"
      ],
      "metadata": {
        "id": "qttmD4sza3Zg"
      }
    },
    {
      "cell_type": "markdown",
      "source": [
        "**Kolay Örnekler**"
      ],
      "metadata": {
        "id": "58Rdi7XIa6mO"
      }
    },
    {
      "cell_type": "markdown",
      "source": [
        "Örnek 9: Basit Şifre Kontrolü\n",
        "Kullanıcı doğru şifreyi girene kadar döngü devam eder.\n"
      ],
      "metadata": {
        "id": "t2ca8XXobBDU"
      }
    },
    {
      "cell_type": "code",
      "source": [
        "while True:\n",
        "    sifre = input(\"Şifreyi girin: \")\n",
        "    if sifre == \"12345\":\n",
        "        print(\"Giriş başarılı.\")\n",
        "        break\n",
        "    else:\n",
        "        print(\"Yanlış şifre.\")"
      ],
      "metadata": {
        "id": "hKOON-rfbDPk"
      },
      "execution_count": null,
      "outputs": []
    },
    {
      "cell_type": "markdown",
      "source": [
        "Örnek 10: Kullanıcıdan Pozitif Sayılar Toplama\n",
        "Kullanıcı negatif bir sayı girdiğinde döngü sona erer."
      ],
      "metadata": {
        "id": "IbUvFhSxbHVf"
      }
    },
    {
      "cell_type": "code",
      "source": [
        "toplam = 0\n",
        "while True:\n",
        "    sayi = int(input(\"Bir sayı girin (negatif girince bitirir): \"))\n",
        "    if sayi < 0:\n",
        "        break\n",
        "    toplam += sayi\n",
        "print(f\"Girilen sayıların toplamı: {toplam}\")"
      ],
      "metadata": {
        "id": "jQGplWTwbIdO"
      },
      "execution_count": null,
      "outputs": []
    },
    {
      "cell_type": "markdown",
      "source": [
        "**While Döngüsü Soruları**"
      ],
      "metadata": {
        "id": "DL9P8VTrbKB4"
      }
    },
    {
      "cell_type": "markdown",
      "source": [
        "**Kolay Sorular**"
      ],
      "metadata": {
        "id": "iUOTbpbPbRC9"
      }
    },
    {
      "cell_type": "markdown",
      "source": [
        "1. 1'den 10'a kadar olan sayıları yazdırın."
      ],
      "metadata": {
        "id": "K87VEbM9bTn1"
      }
    },
    {
      "cell_type": "code",
      "source": [
        "sayi = 1\n",
        "while sayi <= 10:\n",
        "    print(sayi)\n",
        "    sayi += 1"
      ],
      "metadata": {
        "id": "fGXRokhMbXwT"
      },
      "execution_count": null,
      "outputs": []
    },
    {
      "cell_type": "markdown",
      "source": [
        "2. Kullanıcı \"tamam\" yazana kadar girdi alıp yazdırın."
      ],
      "metadata": {
        "id": "aPDA4Qu5bZEH"
      }
    },
    {
      "cell_type": "code",
      "source": [
        "girdi = \"\"\n",
        "while girdi != \"tamam\":\n",
        "    girdi = input(\"Bir şey yazın (tamam yazınca durur): \")\n",
        "    print(f\"Girdiğiniz: {girdi}\")"
      ],
      "metadata": {
        "colab": {
          "base_uri": "https://localhost:8080/"
        },
        "id": "gyDRvMC8bawq",
        "outputId": "ae676807-2576-4c79-ce34-2e4705f48b83"
      },
      "execution_count": 1,
      "outputs": [
        {
          "output_type": "stream",
          "name": "stdout",
          "text": [
            "Bir şey yazın (tamam yazınca durur): tamam\n",
            "Girdiğiniz: tamam\n"
          ]
        }
      ]
    },
    {
      "cell_type": "markdown",
      "source": [
        "3. 10'a kadar çift sayıları yazdırın.\n"
      ],
      "metadata": {
        "id": "0Xt_rRXebcbK"
      }
    },
    {
      "cell_type": "code",
      "source": [
        "sayi = 0\n",
        "while sayi <= 10:\n",
        "    if sayi % 2 == 0:\n",
        "        print(sayi)\n",
        "    sayi += 1"
      ],
      "metadata": {
        "id": "Tlss7OtwbfLL"
      },
      "execution_count": null,
      "outputs": []
    },
    {
      "cell_type": "markdown",
      "source": [
        "4. 1'den 20'ye kadar sayıların toplamını bulun.\n"
      ],
      "metadata": {
        "id": "-yuAYiS-bh_K"
      }
    },
    {
      "cell_type": "code",
      "source": [
        "sayi = 1\n",
        "toplam = 0\n",
        "while sayi <= 20:\n",
        "    toplam += sayi\n",
        "    sayi += 1\n",
        "print(f\"Toplam: {toplam}\")"
      ],
      "metadata": {
        "id": "ca40N5Z4blVC"
      },
      "execution_count": null,
      "outputs": []
    },
    {
      "cell_type": "markdown",
      "source": [
        "5. Kullanıcıdan pozitif sayılar alıp toplamını hesaplayın. Negatif bir sayı girince durun.\n"
      ],
      "metadata": {
        "id": "MlICyczXbo1d"
      }
    },
    {
      "cell_type": "code",
      "source": [
        "toplam = 0\n",
        "while True:\n",
        "    sayi = int(input(\"Pozitif bir sayı girin (negatif girince durur): \"))\n",
        "    if sayi < 0:\n",
        "        break\n",
        "    toplam += sayi\n",
        "print(f\"Toplam: {toplam}\")"
      ],
      "metadata": {
        "id": "WQ3ObsMsbrSP"
      },
      "execution_count": null,
      "outputs": []
    },
    {
      "cell_type": "markdown",
      "source": [
        "**Zor Sorular**"
      ],
      "metadata": {
        "id": "NBZ7GXLLcA-v"
      }
    },
    {
      "cell_type": "markdown",
      "source": [
        "6. Bir sayıyı basamaklarına ayırıp her basamağı ayrı satırda yazdırın."
      ],
      "metadata": {
        "id": "Z7_c6kojcDnO"
      }
    },
    {
      "cell_type": "code",
      "source": [
        "sayi = int(input(\"Bir sayı girin: \"))\n",
        "while sayi > 0:\n",
        "    print(sayi % 10)\n",
        "    sayi //= 10"
      ],
      "metadata": {
        "id": "VMaDdQg-cGjq"
      },
      "execution_count": null,
      "outputs": []
    },
    {
      "cell_type": "markdown",
      "source": [
        "7. Asal sayıların toplamını 100'e kadar bulun."
      ],
      "metadata": {
        "id": "SAuYHOWFcTg2"
      }
    },
    {
      "cell_type": "code",
      "source": [
        "sayi = 2\n",
        "toplam = 0\n",
        "while sayi <= 100:\n",
        "    bolen = 2\n",
        "    asal = True\n",
        "    while bolen < sayi:\n",
        "        if sayi % bolen == 0:\n",
        "            asal = False\n",
        "            break\n",
        "        bolen += 1\n",
        "    if asal:\n",
        "        toplam += sayi\n",
        "    sayi += 1\n",
        "print(f\"Asal sayıların toplamı: {toplam}\")"
      ],
      "metadata": {
        "id": "G0t9OW4QcWKr"
      },
      "execution_count": null,
      "outputs": []
    },
    {
      "cell_type": "markdown",
      "source": [
        "8. Mükemmel sayıları 100'e kadar yazdırın. Bir sayı, çarpanlarının toplamı kendisine eşitse mükemmel sayıdır."
      ],
      "metadata": {
        "id": "nE8GdJRacXWg"
      }
    },
    {
      "cell_type": "code",
      "source": [
        "sayi = 1\n",
        "while sayi <= 100:\n",
        "    toplam = 0\n",
        "    bolen = 1\n",
        "    while bolen < sayi:\n",
        "        if sayi % bolen == 0:\n",
        "            toplam += bolen\n",
        "        bolen += 1\n",
        "    if toplam == sayi:\n",
        "        print(sayi)\n",
        "    sayi += 1"
      ],
      "metadata": {
        "id": "-4yGzrqycbMQ"
      },
      "execution_count": null,
      "outputs": []
    },
    {
      "cell_type": "markdown",
      "source": [
        "9. Kullanıcıdan alınan sayılarla bir liste oluşturun. Kullanıcı \"bitir\" yazarsa durun."
      ],
      "metadata": {
        "id": "_281f7esccfl"
      }
    },
    {
      "cell_type": "code",
      "source": [
        "liste = []\n",
        "while True:\n",
        "    girdi = input(\"Bir sayı girin (bitir yazınca durur): \")\n",
        "    if girdi == \"bitir\":\n",
        "        break\n",
        "    liste.append(int(girdi))\n",
        "print(f\"Girilen sayılar: {liste}\")"
      ],
      "metadata": {
        "id": "yfiKdXNbcfRP"
      },
      "execution_count": null,
      "outputs": []
    },
    {
      "cell_type": "markdown",
      "source": [
        "10. Bir sayının palindrom olup olmadığını kontrol edin."
      ],
      "metadata": {
        "id": "sk4IWoupcgnQ"
      }
    },
    {
      "cell_type": "code",
      "source": [
        "sayi = int(input(\"Bir sayı girin: \"))\n",
        "orijinal = sayi\n",
        "ters = 0\n",
        "while sayi > 0:\n",
        "    ters = ters * 10 + sayi % 10\n",
        "    sayi //= 10\n",
        "if orijinal == ters:\n",
        "    print(f\"{orijinal} bir palindrom sayıdır.\")\n",
        "else:\n",
        "    print(f\"{orijinal} bir palindrom sayı değildir.\")"
      ],
      "metadata": {
        "id": "15ffcHf1cj_W"
      },
      "execution_count": null,
      "outputs": []
    },
    {
      "cell_type": "markdown",
      "source": [
        "**For Döngüsü**\n"
      ],
      "metadata": {
        "id": "7bMqWoxwcrH0"
      }
    },
    {
      "cell_type": "markdown",
      "source": [
        "Tanım:\n",
        "for döngüsü, Python'da bir veri kümesindeki her eleman üzerinde işlem yapmak için kullanılır. Bu veri kümesi bir liste, dizi (string), range() fonksiyonu veya başka bir iterable olabilir.\n"
      ],
      "metadata": {
        "id": "uCcj5cZZc6FP"
      }
    },
    {
      "cell_type": "markdown",
      "source": [
        "**Kullanım Alanları**\n",
        "* Listeler ve karakter dizileri üzerinde işlem yapmak.\n",
        "* Sayısal aralıklar üzerinde döngü kurmak.\n",
        "* Dosya işlemleri sırasında satırları okumak.\n",
        "* Matematiksel ve algoritmik hesaplamalar yapmak.\n"
      ],
      "metadata": {
        "id": "7sztP6dLc9y_"
      }
    },
    {
      "cell_type": "markdown",
      "source": [
        "Genel Yapısı"
      ],
      "metadata": {
        "id": "VzzYwPrSdJgL"
      }
    },
    {
      "cell_type": "code",
      "source": [
        "# for eleman in iterable:\n",
        "    # işlemler"
      ],
      "metadata": {
        "id": "WBjvpQvWdLxB"
      },
      "execution_count": null,
      "outputs": []
    },
    {
      "cell_type": "markdown",
      "source": [
        "* eleman: Döngü her çalıştığında, sıradaki elemanı temsil eder.\n",
        "* iterable: Döngünün üzerinde işlem yapacağı veri kümesi.\n"
      ],
      "metadata": {
        "id": "uiPABqzvdQyf"
      }
    },
    {
      "cell_type": "code",
      "source": [
        "# Örnek:\n",
        "\n",
        "for i in [1, 2, 3]:\n",
        "    print(i)"
      ],
      "metadata": {
        "id": "JH2cBCApdUNH"
      },
      "execution_count": null,
      "outputs": []
    },
    {
      "cell_type": "markdown",
      "source": [
        "**Kolay Örnekler**"
      ],
      "metadata": {
        "id": "Vooxa3iXdaP3"
      }
    },
    {
      "cell_type": "markdown",
      "source": [
        "Örnek 1: Bir listenin elemanlarını yazdırma"
      ],
      "metadata": {
        "id": "R2cOlAueddqU"
      }
    },
    {
      "cell_type": "code",
      "source": [
        "renkler = [\"kırmızı\", \"mavi\", \"yeşil\"]\n",
        "for renk in renkler:\n",
        "    print(renk)"
      ],
      "metadata": {
        "id": "DU-XIHA2dhEC"
      },
      "execution_count": null,
      "outputs": []
    },
    {
      "cell_type": "markdown",
      "source": [
        "Örnek 2: Bir stringin karakterlerini yazdırma"
      ],
      "metadata": {
        "id": "pSziP48YdiND"
      }
    },
    {
      "cell_type": "code",
      "source": [
        "kelime = \"Furkan\"\n",
        "for harf in kelime:\n",
        "    print(harf)"
      ],
      "metadata": {
        "colab": {
          "base_uri": "https://localhost:8080/"
        },
        "id": "2pr1UbxEdj8f",
        "outputId": "9f243ea9-8fd8-49b0-8ce6-51560695bb29"
      },
      "execution_count": 2,
      "outputs": [
        {
          "output_type": "stream",
          "name": "stdout",
          "text": [
            "F\n",
            "u\n",
            "r\n",
            "k\n",
            "a\n",
            "n\n"
          ]
        }
      ]
    },
    {
      "cell_type": "markdown",
      "source": [
        "Örnek 3: 1'den 5'e kadar sayıları yazdırma (range ile)\n",
        "range(start, stop, step) bir sayı aralığı oluşturur.\n"
      ],
      "metadata": {
        "id": "tp0zCUZjdnsl"
      }
    },
    {
      "cell_type": "code",
      "source": [
        "for i in range(1, 6):\n",
        "    print(i)"
      ],
      "metadata": {
        "id": "uo1G8zI6dqSN"
      },
      "execution_count": null,
      "outputs": []
    },
    {
      "cell_type": "markdown",
      "source": [
        "Örnek 4: Bir liste elemanlarının karesini alma\n"
      ],
      "metadata": {
        "id": "1QALBe3SdtMx"
      }
    },
    {
      "cell_type": "code",
      "source": [
        "sayilar = [1, 2, 3, 4]\n",
        "for sayi in sayilar:\n",
        "    print(sayi ** 2)"
      ],
      "metadata": {
        "id": "9QSIImdyduXq"
      },
      "execution_count": null,
      "outputs": []
    },
    {
      "cell_type": "markdown",
      "source": [
        "Örnek 5: Listeye çift sayıları ekleme\n"
      ],
      "metadata": {
        "id": "pgQ_oy2sdvZZ"
      }
    },
    {
      "cell_type": "code",
      "source": [
        "cift_sayilar = []\n",
        "for i in range(1, 11):\n",
        "    if i % 2 == 0:\n",
        "        cift_sayilar.append(i)\n",
        "print(cift_sayilar)"
      ],
      "metadata": {
        "id": "HmUeD2GQdw4y"
      },
      "execution_count": null,
      "outputs": []
    },
    {
      "cell_type": "markdown",
      "source": [
        "**Orta Zorlukta Örnekler**"
      ],
      "metadata": {
        "id": "gQVtgURzdx8h"
      }
    },
    {
      "cell_type": "markdown",
      "source": [
        "Örnek 6: Her kelimenin ilk harfini büyük yazdırma"
      ],
      "metadata": {
        "id": "Sla_XR7fdz3V"
      }
    },
    {
      "cell_type": "code",
      "source": [
        "kelimeler = [\"Bilgisayar\", \"Furkan\", \"Sönmez\"]\n",
        "for kelime in kelimeler:\n",
        "    print(kelime.capitalize())"
      ],
      "metadata": {
        "id": "0q5gWV6ld3Hd"
      },
      "execution_count": null,
      "outputs": []
    },
    {
      "cell_type": "markdown",
      "source": [
        "Örnek 7: Fibonacci dizisi hesaplama"
      ],
      "metadata": {
        "id": "6ohM1iskd7Q4"
      }
    },
    {
      "cell_type": "code",
      "source": [
        "n = int(input(\"Kaç Fibonacci sayısı yazdırılsın: \"))\n",
        "a, b = 0, 1\n",
        "for _ in range(n):\n",
        "    print(a)\n",
        "    a, b = b, a + b"
      ],
      "metadata": {
        "id": "gCmhTMVTd88Q"
      },
      "execution_count": null,
      "outputs": []
    },
    {
      "cell_type": "markdown",
      "source": [
        "Örnek 8: Bir string içinde kaç tane sesli harf olduğunu bulma"
      ],
      "metadata": {
        "id": "Hmxp51Vld-U0"
      }
    },
    {
      "cell_type": "code",
      "source": [
        "kelime = \"programlama\"\n",
        "sesli_harfler = \"aeıioöuü\"\n",
        "sayac = 0\n",
        "\n",
        "for harf in kelime:\n",
        "    if harf in sesli_harfler:\n",
        "        sayac += 1\n",
        "print(f\"Sesli harf sayısı: {sayac}\")"
      ],
      "metadata": {
        "id": "FhewGoHLeBFM"
      },
      "execution_count": null,
      "outputs": []
    },
    {
      "cell_type": "markdown",
      "source": [
        "Örnek 9: Çarpım Tablosu\n"
      ],
      "metadata": {
        "id": "Kynq2fUXeCFx"
      }
    },
    {
      "cell_type": "code",
      "source": [
        "for i in range(1, 6):\n",
        "    for j in range(1, 6):\n",
        "        print(f\"{i} x {j} = {i * j}\")"
      ],
      "metadata": {
        "id": "D3jGqqkpeDl3"
      },
      "execution_count": null,
      "outputs": []
    },
    {
      "cell_type": "markdown",
      "source": [
        "Örnek 10: Asal Sayıları Bulma\n"
      ],
      "metadata": {
        "id": "EbJmSVEmeEqg"
      }
    },
    {
      "cell_type": "code",
      "source": [
        "for sayi in range(2, 20):\n",
        "    asal = True\n",
        "    for bolen in range(2, sayi):\n",
        "        if sayi % bolen == 0:\n",
        "            asal = False\n",
        "            break\n",
        "    if asal:\n",
        "        print(sayi)"
      ],
      "metadata": {
        "id": "SK41ARv9eGUH"
      },
      "execution_count": null,
      "outputs": []
    },
    {
      "cell_type": "markdown",
      "source": [
        "**Zor Örnekler**"
      ],
      "metadata": {
        "id": "El-iQvx4eHQW"
      }
    },
    {
      "cell_type": "markdown",
      "source": [
        "Örnek 11: Bir sayıyı ters çevirme"
      ],
      "metadata": {
        "id": "uSe9FsjoeI5z"
      }
    },
    {
      "cell_type": "code",
      "source": [
        "sayi = int(input(\"Bir sayı girin: \"))\n",
        "ters = \"\"\n",
        "for rakam in str(sayi):\n",
        "    ters = rakam + ters\n",
        "print(f\"Ters çevrilmiş sayı: {ters}\")"
      ],
      "metadata": {
        "id": "3D9HRvVaeKIU"
      },
      "execution_count": null,
      "outputs": []
    },
    {
      "cell_type": "markdown",
      "source": [
        "Örnek 12: Bir cümledeki kelime uzunluklarını hesaplama\n"
      ],
      "metadata": {
        "id": "6PuGtWV_eLJg"
      }
    },
    {
      "cell_type": "code",
      "source": [
        "cumle = \"Python programlama öğreniyorum\"\n",
        "kelimeler = cumle.split()\n",
        "for kelime in kelimeler:\n",
        "    print(f\"{kelime}: {len(kelime)} karakter\")"
      ],
      "metadata": {
        "id": "sRMX_jqXeNO-"
      },
      "execution_count": null,
      "outputs": []
    },
    {
      "cell_type": "markdown",
      "source": [
        "Örnek 13: Bir dizideki en büyük ve en küçük elemanları bulma\n"
      ],
      "metadata": {
        "id": "8EElA3_beN-j"
      }
    },
    {
      "cell_type": "code",
      "source": [
        "sayilar = [10, 23, 5, 76, 12]\n",
        "en_kucuk = en_buyuk = sayilar[0]\n",
        "\n",
        "for sayi in sayilar:\n",
        "    if sayi < en_kucuk:\n",
        "        en_kucuk = sayi\n",
        "    if sayi > en_buyuk:\n",
        "        en_buyuk = sayi\n",
        "\n",
        "print(f\"En küçük: {en_kucuk}, En büyük: {en_buyuk}\")"
      ],
      "metadata": {
        "id": "HBhM2IBVePm1"
      },
      "execution_count": null,
      "outputs": []
    },
    {
      "cell_type": "markdown",
      "source": [
        "Örnek 14: Liste Elemanlarını Gruplama"
      ],
      "metadata": {
        "id": "y2JDtvJseVwI"
      }
    },
    {
      "cell_type": "code",
      "source": [
        "sayilar = [1, 2, 3, 4, 5, 6, 7, 8, 9]\n",
        "tekler = []\n",
        "ciftler = []\n",
        "\n",
        "for sayi in sayilar:\n",
        "    if sayi % 2 == 0:\n",
        "        ciftler.append(sayi)\n",
        "    else:\n",
        "        tekler.append(sayi)\n",
        "\n",
        "print(f\"Çiftler: {ciftler}\")\n",
        "print(f\"Tekler: {tekler}\")"
      ],
      "metadata": {
        "id": "oIX_mU4_eXMP"
      },
      "execution_count": null,
      "outputs": []
    },
    {
      "cell_type": "markdown",
      "source": [
        "**range() Fonksiyonu**"
      ],
      "metadata": {
        "id": "25QU79uceY0L"
      }
    },
    {
      "cell_type": "markdown",
      "source": [
        "Tanım:\n",
        "**range()** fonksiyonu, bir sayı dizisi oluşturur ve genellikle for döngüsü ile kullanılır. Döngü sırasında bu sayı dizisinin her bir elemanı üzerinde işlem yapılır."
      ],
      "metadata": {
        "id": "-EGXYoPqeeTK"
      }
    },
    {
      "cell_type": "markdown",
      "source": [
        "**range() Fonksiyonunun Temel Kullanımı**"
      ],
      "metadata": {
        "id": "jo_alPapekpV"
      }
    },
    {
      "cell_type": "markdown",
      "source": [
        "**range()** üç farklı şekilde kullanılabilir:\n",
        "\n"
      ],
      "metadata": {
        "id": "7AeT1R7demKW"
      }
    },
    {
      "cell_type": "markdown",
      "source": [
        "1. range(stop):\n",
        "0'dan başlayarak belirtilen stop değerine kadar (dahil değil) bir sayı dizisi oluşturur.\n"
      ],
      "metadata": {
        "id": "oIJG2IzGepMD"
      }
    },
    {
      "cell_type": "code",
      "source": [
        "# Örnek range(stop):\n",
        "for i in range(5):\n",
        "    print(i)"
      ],
      "metadata": {
        "id": "zxQWn1Cresjc"
      },
      "execution_count": null,
      "outputs": []
    },
    {
      "cell_type": "markdown",
      "source": [
        "2. range(start, stop):\n",
        "start değerinden başlayarak stop değerine kadar (dahil değil) bir sayı dizisi oluşturur."
      ],
      "metadata": {
        "id": "UNWIdSsoeySo"
      }
    },
    {
      "cell_type": "code",
      "source": [
        "# Örnek range(start,stop):\n",
        "for i in range(2, 7):\n",
        "    print(i)"
      ],
      "metadata": {
        "id": "re7-mA2ye4V1"
      },
      "execution_count": null,
      "outputs": []
    },
    {
      "cell_type": "markdown",
      "source": [
        "3. range(start, stop, step):\n",
        "starttan başlayıp, step adımlarıyla stop değerine kadar bir sayı dizisi oluşturur."
      ],
      "metadata": {
        "id": "4r0AIUcoe9We"
      }
    },
    {
      "cell_type": "code",
      "source": [
        "# Örnek range(start,stop,step):\n",
        "for i in range(1, 10, 2):\n",
        "    print(i)"
      ],
      "metadata": {
        "id": "ODD2EAI1fAuS"
      },
      "execution_count": null,
      "outputs": []
    },
    {
      "cell_type": "markdown",
      "source": [
        "**Kolay Örnekler**"
      ],
      "metadata": {
        "id": "NdjJrLIdfK-y"
      }
    },
    {
      "cell_type": "markdown",
      "source": [
        "Örnek 1: 0'dan 9'a kadar olan sayıları yazdırma"
      ],
      "metadata": {
        "id": "rLFrZeFsfMC3"
      }
    },
    {
      "cell_type": "code",
      "source": [
        "for i in range(10):\n",
        "    print(i)"
      ],
      "metadata": {
        "id": "8Fbkzv62gHH-"
      },
      "execution_count": null,
      "outputs": []
    },
    {
      "cell_type": "markdown",
      "source": [
        "Örnek 2: 1 ile 5 arasındaki sayıları yazdırma\n"
      ],
      "metadata": {
        "id": "-juAmjCYgJHX"
      }
    },
    {
      "cell_type": "code",
      "source": [
        "for i in range(1, 6):\n",
        "    print(i)"
      ],
      "metadata": {
        "id": "TxOBZtFygKLp"
      },
      "execution_count": null,
      "outputs": []
    },
    {
      "cell_type": "markdown",
      "source": [
        "Örnek 3: 0'dan 20'ye kadar çift sayıları yazdırma"
      ],
      "metadata": {
        "id": "efy3UNybgMap"
      }
    },
    {
      "cell_type": "code",
      "source": [
        "for i in range(0, 21, 2):\n",
        "    print(i)"
      ],
      "metadata": {
        "id": "mUgFX7E8gOBi"
      },
      "execution_count": null,
      "outputs": []
    },
    {
      "cell_type": "markdown",
      "source": [
        "Örnek 4: 10'dan 1'e geriye doğru sayma\n"
      ],
      "metadata": {
        "id": "Cq58w1JtgPFH"
      }
    },
    {
      "cell_type": "code",
      "source": [
        "for i in range(10, 0, -1):\n",
        "    print(i)"
      ],
      "metadata": {
        "id": "5yPZUGnqgRKY"
      },
      "execution_count": null,
      "outputs": []
    },
    {
      "cell_type": "markdown",
      "source": [
        "Örnek 5: Bir dizideki elemanları **range()** ile yazdırma"
      ],
      "metadata": {
        "id": "jZ37PSgegTLR"
      }
    },
    {
      "cell_type": "code",
      "source": [
        "meyveler = [\"elma\", \"armut\", \"çilek\"]\n",
        "for i in range(len(meyveler)):\n",
        "    print(meyveler[i])"
      ],
      "metadata": {
        "id": "39vhZrKCgV-P"
      },
      "execution_count": null,
      "outputs": []
    },
    {
      "cell_type": "markdown",
      "source": [
        "**Orta Zorlukta Örnekler**"
      ],
      "metadata": {
        "id": "oXTMRsYhgY-Z"
      }
    },
    {
      "cell_type": "markdown",
      "source": [
        "Örnek 6: Bir sayının çarpım tablosunu yazdırma\n"
      ],
      "metadata": {
        "id": "5Jjmw7rcgahG"
      }
    },
    {
      "cell_type": "code",
      "source": [
        "sayi = int(input(\"Çarpım tablosu için bir sayı girin: \"))\n",
        "for i in range(1, 11):\n",
        "    print(f\"{sayi} x {i} = {sayi * i}\")"
      ],
      "metadata": {
        "id": "pt5Yzvthgcnn"
      },
      "execution_count": null,
      "outputs": []
    },
    {
      "cell_type": "markdown",
      "source": [
        "Örnek 7: 1'den 100'e kadar olan sayıların toplamını bulma\n"
      ],
      "metadata": {
        "id": "UDDuL83Qgdeq"
      }
    },
    {
      "cell_type": "code",
      "source": [
        "toplam = 0\n",
        "for i in range(1, 101):\n",
        "    toplam += i\n",
        "print(f\"Toplam: {toplam}\")"
      ],
      "metadata": {
        "id": "ZVqwYlLqgfEh"
      },
      "execution_count": null,
      "outputs": []
    },
    {
      "cell_type": "markdown",
      "source": [
        "Örnek 8: Ters bir üçgen yazdırma\n"
      ],
      "metadata": {
        "id": "0FKjZ3TZgf_Y"
      }
    },
    {
      "cell_type": "code",
      "source": [
        "for i in range(5, 0, -1):\n",
        "    print(\"*\" * i)"
      ],
      "metadata": {
        "id": "2URf5fcrghft"
      },
      "execution_count": null,
      "outputs": []
    },
    {
      "cell_type": "markdown",
      "source": [
        "Örnek 9: Asal sayıları bulma"
      ],
      "metadata": {
        "id": "T4L69eJJgimI"
      }
    },
    {
      "cell_type": "code",
      "source": [
        "for sayi in range(2, 50):\n",
        "    asal = True\n",
        "    for bolen in range(2, sayi):\n",
        "        if sayi % bolen == 0:\n",
        "            asal = False\n",
        "            break\n",
        "    if asal:\n",
        "        print(sayi)"
      ],
      "metadata": {
        "id": "aUfFlSQQgj6w"
      },
      "execution_count": null,
      "outputs": []
    },
    {
      "cell_type": "markdown",
      "source": [
        "Örnek 10: Bir sayıyı basamaklarına ayırma"
      ],
      "metadata": {
        "id": "XAbWZDKTglVc"
      }
    },
    {
      "cell_type": "code",
      "source": [
        "sayi = int(input(\"Bir sayı girin: \"))\n",
        "for rakam in str(sayi):\n",
        "    print(rakam)"
      ],
      "metadata": {
        "id": "FAMXlT8AgnZn"
      },
      "execution_count": null,
      "outputs": []
    },
    {
      "cell_type": "markdown",
      "source": [
        "**Zor Örnekler**\n"
      ],
      "metadata": {
        "id": "2Sn1WJzNgqAs"
      }
    },
    {
      "cell_type": "markdown",
      "source": [
        "Örnek 11: Çift ve tek sayıların ayrı ayrı toplamını bulma\n"
      ],
      "metadata": {
        "id": "62ayVl7Rgql5"
      }
    },
    {
      "cell_type": "code",
      "source": [
        "tek_toplam = 0\n",
        "cift_toplam = 0\n",
        "for i in range(1, 101):\n",
        "    if i % 2 == 0:\n",
        "        cift_toplam += i\n",
        "    else:\n",
        "        tek_toplam += i\n",
        "print(f\"Tek sayıların toplamı: {tek_toplam}\")\n",
        "print(f\"Çift sayıların toplamı: {cift_toplam}\")"
      ],
      "metadata": {
        "id": "WtRzLLpzgtO_"
      },
      "execution_count": null,
      "outputs": []
    },
    {
      "cell_type": "markdown",
      "source": [
        "Örnek 12: Yıldızlardan bir piramit oluşturma\n",
        "\n"
      ],
      "metadata": {
        "id": "QEQFN53agt_n"
      }
    },
    {
      "cell_type": "code",
      "source": [
        "for i in range(1, 6):\n",
        "    print(\" \" * (5 - i) + \"*\" * (2 * i - 1))"
      ],
      "metadata": {
        "id": "4CKs3-mogv_I"
      },
      "execution_count": null,
      "outputs": []
    },
    {
      "cell_type": "markdown",
      "source": [
        "Örnek 13: Ters bir piramit oluşturma\n"
      ],
      "metadata": {
        "id": "TCo2vbdQgw_e"
      }
    },
    {
      "cell_type": "code",
      "source": [
        "for i in range(5, 0, -1):\n",
        "    print(\" \" * (5 - i) + \"*\" * (2 * i - 1))\n"
      ],
      "metadata": {
        "id": "yKtlgnLsgypw"
      },
      "execution_count": null,
      "outputs": []
    },
    {
      "cell_type": "markdown",
      "source": [
        "Örnek 14: Adımlarla liste oluşturma"
      ],
      "metadata": {
        "id": "EfmPZBEMg1Fu"
      }
    },
    {
      "cell_type": "code",
      "source": [
        "liste = []\n",
        "for i in range(5, 51, 5):\n",
        "    liste.append(i)\n",
        "print(liste)"
      ],
      "metadata": {
        "id": "3ZTSYFGeg2kc"
      },
      "execution_count": null,
      "outputs": []
    },
    {
      "cell_type": "markdown",
      "source": [
        "Örnek 15: Çift indeksleri ve tek indeksleri ayırma\n"
      ],
      "metadata": {
        "id": "3Y_-76Xig3wX"
      }
    },
    {
      "cell_type": "code",
      "source": [
        "liste = [10, 20, 30, 40, 50, 60]\n",
        "cift_indeksler = []\n",
        "tek_indeksler = []\n",
        "\n",
        "for i in range(len(liste)):\n",
        "    if i % 2 == 0:\n",
        "        cift_indeksler.append(liste[i])\n",
        "    else:\n",
        "        tek_indeksler.append(liste[i])\n",
        "\n",
        "print(f\"Çift indeksler: {cift_indeksler}\")\n",
        "print(f\"Tek indeksler: {tek_indeksler}\")"
      ],
      "metadata": {
        "id": "pwtSfzQrg6AP"
      },
      "execution_count": null,
      "outputs": []
    }
  ]
}