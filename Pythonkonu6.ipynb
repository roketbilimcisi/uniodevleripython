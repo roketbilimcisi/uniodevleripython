{
  "nbformat": 4,
  "nbformat_minor": 0,
  "metadata": {
    "colab": {
      "provenance": [],
      "authorship_tag": "ABX9TyO/VE+AV4ACOADRPnpcHMkV",
      "include_colab_link": true
    },
    "kernelspec": {
      "name": "python3",
      "display_name": "Python 3"
    },
    "language_info": {
      "name": "python"
    }
  },
  "cells": [
    {
      "cell_type": "markdown",
      "metadata": {
        "id": "view-in-github",
        "colab_type": "text"
      },
      "source": [
        "<a href=\"https://colab.research.google.com/github/roketbilimcisi/uniodevleripython/blob/main/Pythonkonu6.ipynb\" target=\"_parent\"><img src=\"https://colab.research.google.com/assets/colab-badge.svg\" alt=\"Open In Colab\"/></a>"
      ]
    },
    {
      "cell_type": "markdown",
      "source": [
        "**While Döngüsü**"
      ],
      "metadata": {
        "id": "KiQS4CINZgdL"
      }
    },
    {
      "cell_type": "markdown",
      "source": [
        "Tanım: **while** döngüsü, bir koşul doğru olduğu sürece işlemleri tekrar eder. Koşul yanlış olduğunda döngü sona erer. Sonsuz döngüler, koşulun hiçbir zaman yanlış olmadığı durumlarda oluşur."
      ],
      "metadata": {
        "id": "7PJ2Zb4JZhRM"
      }
    },
    {
      "cell_type": "markdown",
      "source": [
        "Kullanım Alanları\n",
        "* Kullanıcıdan doğru girdi almak.\n",
        "* Belirli bir işlemi, belirli bir koşul sağlanana kadar tekrarlamak.\n",
        "* Algoritmik problemleri çözmek (örneğin, faktöriyel veya Fibonacci dizisi).\n"
      ],
      "metadata": {
        "id": "b7OJiSYxZitr"
      }
    },
    {
      "cell_type": "markdown",
      "source": [
        "**Kolay Örnekler**"
      ],
      "metadata": {
        "id": "ZZH_WK99aCdm"
      }
    },
    {
      "cell_type": "markdown",
      "source": [
        "Örnek 1: 1'den 10'a kadar sayıları yazdırma\n"
      ],
      "metadata": {
        "id": "4ZH2LgDMaFAW"
      }
    },
    {
      "cell_type": "code",
      "source": [
        "sayi = 1\n",
        "while sayi <= 10:\n",
        "    print(sayi)\n",
        "    sayi += 1"
      ],
      "metadata": {
        "id": "5-dTCFkvaMzX"
      },
      "execution_count": null,
      "outputs": []
    },
    {
      "cell_type": "markdown",
      "source": [
        "Örnek 2: Kullanıcı \"exit\" yazana kadar girdi al\n"
      ],
      "metadata": {
        "id": "9cLnPJsuaOZw"
      }
    },
    {
      "cell_type": "code",
      "source": [
        "girdi = \"\"\n",
        "while girdi != \"exit\":\n",
        "    girdi = input(\"Bir şey yazın (çıkmak için 'exit' yazın): \")\n",
        "    print(f\"Girdiğiniz: {girdi}\")"
      ],
      "metadata": {
        "id": "irkY5L1xaQ66"
      },
      "execution_count": null,
      "outputs": []
    },
    {
      "cell_type": "markdown",
      "source": [
        "Örnek 3: Çift sayıları yazdırma\n"
      ],
      "metadata": {
        "id": "haHAakJhaShG"
      }
    },
    {
      "cell_type": "code",
      "source": [
        "sayi = 0\n",
        "while sayi <= 10:\n",
        "    if sayi % 2 == 0:\n",
        "        print(sayi)\n",
        "    sayi += 1"
      ],
      "metadata": {
        "id": "sxGzYFf3aVCO"
      },
      "execution_count": null,
      "outputs": []
    },
    {
      "cell_type": "markdown",
      "source": [
        "**Orta Zorlukta Örnekler**"
      ],
      "metadata": {
        "id": "-mv9dVf7aYHk"
      }
    },
    {
      "cell_type": "markdown",
      "source": [
        "Örnek 4: Faktöriyel Hesaplama Kullanıcıdan bir sayı alın ve faktöriyelini hesaplayın."
      ],
      "metadata": {
        "id": "DrNtVXngaaPC"
      }
    },
    {
      "cell_type": "code",
      "source": [
        "sayi = int(input(\"Bir sayı girin: \"))\n",
        "sonuc = 1\n",
        "while sayi > 0:\n",
        "    sonuc *= sayi\n",
        "    sayi -= 1\n",
        "print(f\"Faktöriyel: {sonuc}\")"
      ],
      "metadata": {
        "id": "YWDGVXVUacK6"
      },
      "execution_count": null,
      "outputs": []
    },
    {
      "cell_type": "markdown",
      "source": [
        "Örnek 5: Fibonacci Dizisi Hesaplama İlk n Fibonacci sayısını yazdırın."
      ],
      "metadata": {
        "id": "4ukNtGvgaeeO"
      }
    },
    {
      "cell_type": "code",
      "source": [
        "n = int(input(\"Kaç Fibonacci sayısı yazdırılsın: \"))\n",
        "a, b = 0, 1\n",
        "sayac = 0\n",
        "while sayac < n:\n",
        "    print(a)\n",
        "    a, b = b, a + b\n",
        "    sayac += 1"
      ],
      "metadata": {
        "id": "B3p2RjMoag7G"
      },
      "execution_count": null,
      "outputs": []
    },
    {
      "cell_type": "markdown",
      "source": [
        "**Zor Örnekler**"
      ],
      "metadata": {
        "id": "0bqSKdxoaiP9"
      }
    },
    {
      "cell_type": "markdown",
      "source": [
        "Örnek 6: Sayıyı Ters Çevirme Bir sayının basamaklarını ters çeviren program.\n"
      ],
      "metadata": {
        "id": "mwMPbov8akJQ"
      }
    },
    {
      "cell_type": "code",
      "source": [
        "sayi = int(input(\"Bir sayı girin: \"))\n",
        "ters = 0\n",
        "while sayi > 0:\n",
        "    ters = ters * 10 + sayi % 10\n",
        "    sayi //= 10\n",
        "print(f\"Ters çevrilmiş hali: {ters}\")"
      ],
      "metadata": {
        "id": "mW7vyVegal5C"
      },
      "execution_count": null,
      "outputs": []
    },
    {
      "cell_type": "markdown",
      "source": [
        "Örnek 7: Asal Sayı Kontrolü Kullanıcıdan bir sayı alın ve asal olup olmadığını kontrol edin.\n"
      ],
      "metadata": {
        "id": "QCTSUmjNam3n"
      }
    },
    {
      "cell_type": "code",
      "source": [
        "sayi = int(input(\"Bir sayı girin: \"))\n",
        "bolen = 2\n",
        "asal = True\n",
        "while bolen < sayi:\n",
        "    if sayi % bolen == 0:\n",
        "        asal = False\n",
        "        break\n",
        "    bolen += 1\n",
        "if asal and sayi > 1:\n",
        "    print(\"Asal bir sayıdır.\")\n",
        "else:\n",
        "    print(\"Asal bir sayı değildir.\")"
      ],
      "metadata": {
        "id": "A3YOpV3Kao-C"
      },
      "execution_count": null,
      "outputs": []
    },
    {
      "cell_type": "markdown",
      "source": [
        "Örnek 8: Mükemmel Sayı Bulma Bir sayının çarpanlarının toplamı kendisine eşitse, bu bir mükemmel sayıdır."
      ],
      "metadata": {
        "id": "oXyllpe0aqbU"
      }
    },
    {
      "cell_type": "code",
      "source": [
        "sayi = int(input(\"Bir sayı girin: \"))\n",
        "toplam = 0\n",
        "bolen = 1\n",
        "while bolen < sayi:\n",
        "    if sayi % bolen == 0:\n",
        "        toplam += bolen\n",
        "    bolen += 1\n",
        "if toplam == sayi:\n",
        "    print(f\"{sayi} mükemmel bir sayıdır.\")\n",
        "else:\n",
        "    print(f\"{sayi} mükemmel bir sayı değildir.\")"
      ],
      "metadata": {
        "id": "BXXsRVKrasbM"
      },
      "execution_count": null,
      "outputs": []
    },
    {
      "cell_type": "markdown",
      "source": [
        "**Sonsuz Döngüler (while True) ve break**"
      ],
      "metadata": {
        "id": "4ee4TE59a1ct"
      }
    },
    {
      "cell_type": "markdown",
      "source": [
        "Tanım:\n",
        "while True, koşulu her zaman doğru olan bir döngüdür. Döngüyü sonlandırmak için genellikle break ifadesi kullanılır.\n",
        "\n"
      ],
      "metadata": {
        "id": "qttmD4sza3Zg"
      }
    },
    {
      "cell_type": "markdown",
      "source": [
        "**Kolay Örnekler**"
      ],
      "metadata": {
        "id": "58Rdi7XIa6mO"
      }
    },
    {
      "cell_type": "markdown",
      "source": [
        "Örnek 9: Basit Şifre Kontrolü\n",
        "Kullanıcı doğru şifreyi girene kadar döngü devam eder.\n"
      ],
      "metadata": {
        "id": "t2ca8XXobBDU"
      }
    },
    {
      "cell_type": "code",
      "source": [
        "while True:\n",
        "    sifre = input(\"Şifreyi girin: \")\n",
        "    if sifre == \"12345\":\n",
        "        print(\"Giriş başarılı.\")\n",
        "        break\n",
        "    else:\n",
        "        print(\"Yanlış şifre.\")"
      ],
      "metadata": {
        "id": "hKOON-rfbDPk"
      },
      "execution_count": null,
      "outputs": []
    },
    {
      "cell_type": "markdown",
      "source": [
        "Örnek 10: Kullanıcıdan Pozitif Sayılar Toplama\n",
        "Kullanıcı negatif bir sayı girdiğinde döngü sona erer."
      ],
      "metadata": {
        "id": "IbUvFhSxbHVf"
      }
    },
    {
      "cell_type": "code",
      "source": [
        "toplam = 0\n",
        "while True:\n",
        "    sayi = int(input(\"Bir sayı girin (negatif girince bitirir): \"))\n",
        "    if sayi < 0:\n",
        "        break\n",
        "    toplam += sayi\n",
        "print(f\"Girilen sayıların toplamı: {toplam}\")"
      ],
      "metadata": {
        "id": "jQGplWTwbIdO"
      },
      "execution_count": null,
      "outputs": []
    },
    {
      "cell_type": "markdown",
      "source": [
        "**While Döngüsü Soruları**"
      ],
      "metadata": {
        "id": "DL9P8VTrbKB4"
      }
    },
    {
      "cell_type": "markdown",
      "source": [
        "**Kolay Sorular**"
      ],
      "metadata": {
        "id": "iUOTbpbPbRC9"
      }
    },
    {
      "cell_type": "markdown",
      "source": [
        "1. 1'den 10'a kadar olan sayıları yazdırın."
      ],
      "metadata": {
        "id": "K87VEbM9bTn1"
      }
    },
    {
      "cell_type": "code",
      "source": [
        "sayi = 1\n",
        "while sayi <= 10:\n",
        "    print(sayi)\n",
        "    sayi += 1"
      ],
      "metadata": {
        "id": "fGXRokhMbXwT"
      },
      "execution_count": null,
      "outputs": []
    },
    {
      "cell_type": "markdown",
      "source": [
        "2. Kullanıcı \"tamam\" yazana kadar girdi alıp yazdırın."
      ],
      "metadata": {
        "id": "aPDA4Qu5bZEH"
      }
    },
    {
      "cell_type": "code",
      "source": [
        "girdi = \"\"\n",
        "while girdi != \"tamam\":\n",
        "    girdi = input(\"Bir şey yazın (tamam yazınca durur): \")\n",
        "    print(f\"Girdiğiniz: {girdi}\")"
      ],
      "metadata": {
        "colab": {
          "base_uri": "https://localhost:8080/"
        },
        "id": "gyDRvMC8bawq",
        "outputId": "ae676807-2576-4c79-ce34-2e4705f48b83"
      },
      "execution_count": null,
      "outputs": [
        {
          "output_type": "stream",
          "name": "stdout",
          "text": [
            "Bir şey yazın (tamam yazınca durur): tamam\n",
            "Girdiğiniz: tamam\n"
          ]
        }
      ]
    },
    {
      "cell_type": "markdown",
      "source": [
        "3. 10'a kadar çift sayıları yazdırın.\n"
      ],
      "metadata": {
        "id": "0Xt_rRXebcbK"
      }
    },
    {
      "cell_type": "code",
      "source": [
        "sayi = 0\n",
        "while sayi <= 10:\n",
        "    if sayi % 2 == 0:\n",
        "        print(sayi)\n",
        "    sayi += 1"
      ],
      "metadata": {
        "id": "Tlss7OtwbfLL"
      },
      "execution_count": null,
      "outputs": []
    },
    {
      "cell_type": "markdown",
      "source": [
        "4. 1'den 20'ye kadar sayıların toplamını bulun.\n"
      ],
      "metadata": {
        "id": "-yuAYiS-bh_K"
      }
    },
    {
      "cell_type": "code",
      "source": [
        "sayi = 1\n",
        "toplam = 0\n",
        "while sayi <= 20:\n",
        "    toplam += sayi\n",
        "    sayi += 1\n",
        "print(f\"Toplam: {toplam}\")"
      ],
      "metadata": {
        "id": "ca40N5Z4blVC"
      },
      "execution_count": null,
      "outputs": []
    },
    {
      "cell_type": "markdown",
      "source": [
        "5. Kullanıcıdan pozitif sayılar alıp toplamını hesaplayın. Negatif bir sayı girince durun.\n"
      ],
      "metadata": {
        "id": "MlICyczXbo1d"
      }
    },
    {
      "cell_type": "code",
      "source": [
        "toplam = 0\n",
        "while True:\n",
        "    sayi = int(input(\"Pozitif bir sayı girin (negatif girince durur): \"))\n",
        "    if sayi < 0:\n",
        "        break\n",
        "    toplam += sayi\n",
        "print(f\"Toplam: {toplam}\")"
      ],
      "metadata": {
        "id": "WQ3ObsMsbrSP"
      },
      "execution_count": null,
      "outputs": []
    },
    {
      "cell_type": "markdown",
      "source": [
        "**Zor Sorular**"
      ],
      "metadata": {
        "id": "NBZ7GXLLcA-v"
      }
    },
    {
      "cell_type": "markdown",
      "source": [
        "6. Bir sayıyı basamaklarına ayırıp her basamağı ayrı satırda yazdırın."
      ],
      "metadata": {
        "id": "Z7_c6kojcDnO"
      }
    },
    {
      "cell_type": "code",
      "source": [
        "sayi = int(input(\"Bir sayı girin: \"))\n",
        "while sayi > 0:\n",
        "    print(sayi % 10)\n",
        "    sayi //= 10"
      ],
      "metadata": {
        "id": "VMaDdQg-cGjq"
      },
      "execution_count": null,
      "outputs": []
    },
    {
      "cell_type": "markdown",
      "source": [
        "7. Asal sayıların toplamını 100'e kadar bulun."
      ],
      "metadata": {
        "id": "SAuYHOWFcTg2"
      }
    },
    {
      "cell_type": "code",
      "source": [
        "sayi = 2\n",
        "toplam = 0\n",
        "while sayi <= 100:\n",
        "    bolen = 2\n",
        "    asal = True\n",
        "    while bolen < sayi:\n",
        "        if sayi % bolen == 0:\n",
        "            asal = False\n",
        "            break\n",
        "        bolen += 1\n",
        "    if asal:\n",
        "        toplam += sayi\n",
        "    sayi += 1\n",
        "print(f\"Asal sayıların toplamı: {toplam}\")"
      ],
      "metadata": {
        "id": "G0t9OW4QcWKr"
      },
      "execution_count": null,
      "outputs": []
    },
    {
      "cell_type": "markdown",
      "source": [
        "8. Mükemmel sayıları 100'e kadar yazdırın. Bir sayı, çarpanlarının toplamı kendisine eşitse mükemmel sayıdır."
      ],
      "metadata": {
        "id": "nE8GdJRacXWg"
      }
    },
    {
      "cell_type": "code",
      "source": [
        "sayi = 1\n",
        "while sayi <= 100:\n",
        "    toplam = 0\n",
        "    bolen = 1\n",
        "    while bolen < sayi:\n",
        "        if sayi % bolen == 0:\n",
        "            toplam += bolen\n",
        "        bolen += 1\n",
        "    if toplam == sayi:\n",
        "        print(sayi)\n",
        "    sayi += 1"
      ],
      "metadata": {
        "id": "-4yGzrqycbMQ"
      },
      "execution_count": null,
      "outputs": []
    },
    {
      "cell_type": "markdown",
      "source": [
        "9. Kullanıcıdan alınan sayılarla bir liste oluşturun. Kullanıcı \"bitir\" yazarsa durun."
      ],
      "metadata": {
        "id": "_281f7esccfl"
      }
    },
    {
      "cell_type": "code",
      "source": [
        "liste = []\n",
        "while True:\n",
        "    girdi = input(\"Bir sayı girin (bitir yazınca durur): \")\n",
        "    if girdi == \"bitir\":\n",
        "        break\n",
        "    liste.append(int(girdi))\n",
        "print(f\"Girilen sayılar: {liste}\")"
      ],
      "metadata": {
        "id": "yfiKdXNbcfRP"
      },
      "execution_count": null,
      "outputs": []
    },
    {
      "cell_type": "markdown",
      "source": [
        "10. Bir sayının palindrom olup olmadığını kontrol edin."
      ],
      "metadata": {
        "id": "sk4IWoupcgnQ"
      }
    },
    {
      "cell_type": "code",
      "source": [
        "sayi = int(input(\"Bir sayı girin: \"))\n",
        "orijinal = sayi\n",
        "ters = 0\n",
        "while sayi > 0:\n",
        "    ters = ters * 10 + sayi % 10\n",
        "    sayi //= 10\n",
        "if orijinal == ters:\n",
        "    print(f\"{orijinal} bir palindrom sayıdır.\")\n",
        "else:\n",
        "    print(f\"{orijinal} bir palindrom sayı değildir.\")"
      ],
      "metadata": {
        "id": "15ffcHf1cj_W"
      },
      "execution_count": null,
      "outputs": []
    },
    {
      "cell_type": "markdown",
      "source": [
        "**For Döngüsü**\n"
      ],
      "metadata": {
        "id": "7bMqWoxwcrH0"
      }
    },
    {
      "cell_type": "markdown",
      "source": [
        "Tanım:\n",
        "for döngüsü, Python'da bir veri kümesindeki her eleman üzerinde işlem yapmak için kullanılır. Bu veri kümesi bir liste, dizi (string), range() fonksiyonu veya başka bir iterable olabilir.\n"
      ],
      "metadata": {
        "id": "uCcj5cZZc6FP"
      }
    },
    {
      "cell_type": "markdown",
      "source": [
        "**Kullanım Alanları**\n",
        "* Listeler ve karakter dizileri üzerinde işlem yapmak.\n",
        "* Sayısal aralıklar üzerinde döngü kurmak.\n",
        "* Dosya işlemleri sırasında satırları okumak.\n",
        "* Matematiksel ve algoritmik hesaplamalar yapmak.\n"
      ],
      "metadata": {
        "id": "7sztP6dLc9y_"
      }
    },
    {
      "cell_type": "markdown",
      "source": [
        "Genel Yapısı"
      ],
      "metadata": {
        "id": "VzzYwPrSdJgL"
      }
    },
    {
      "cell_type": "code",
      "source": [
        "# for eleman in iterable:\n",
        "    # işlemler"
      ],
      "metadata": {
        "id": "WBjvpQvWdLxB"
      },
      "execution_count": null,
      "outputs": []
    },
    {
      "cell_type": "markdown",
      "source": [
        "* eleman: Döngü her çalıştığında, sıradaki elemanı temsil eder.\n",
        "* iterable: Döngünün üzerinde işlem yapacağı veri kümesi.\n"
      ],
      "metadata": {
        "id": "uiPABqzvdQyf"
      }
    },
    {
      "cell_type": "code",
      "source": [
        "# Örnek:\n",
        "\n",
        "for i in [1, 2, 3]:\n",
        "    print(i)"
      ],
      "metadata": {
        "id": "JH2cBCApdUNH"
      },
      "execution_count": null,
      "outputs": []
    },
    {
      "cell_type": "markdown",
      "source": [
        "**Kolay Örnekler**"
      ],
      "metadata": {
        "id": "Vooxa3iXdaP3"
      }
    },
    {
      "cell_type": "markdown",
      "source": [
        "Örnek 1: Bir listenin elemanlarını yazdırma"
      ],
      "metadata": {
        "id": "R2cOlAueddqU"
      }
    },
    {
      "cell_type": "code",
      "source": [
        "renkler = [\"kırmızı\", \"mavi\", \"yeşil\"]\n",
        "for renk in renkler:\n",
        "    print(renk)"
      ],
      "metadata": {
        "id": "DU-XIHA2dhEC"
      },
      "execution_count": null,
      "outputs": []
    },
    {
      "cell_type": "markdown",
      "source": [
        "Örnek 2: Bir stringin karakterlerini yazdırma"
      ],
      "metadata": {
        "id": "pSziP48YdiND"
      }
    },
    {
      "cell_type": "code",
      "source": [
        "kelime = \"Furkan\"\n",
        "for harf in kelime:\n",
        "    print(harf)"
      ],
      "metadata": {
        "colab": {
          "base_uri": "https://localhost:8080/"
        },
        "id": "2pr1UbxEdj8f",
        "outputId": "9f243ea9-8fd8-49b0-8ce6-51560695bb29"
      },
      "execution_count": null,
      "outputs": [
        {
          "output_type": "stream",
          "name": "stdout",
          "text": [
            "F\n",
            "u\n",
            "r\n",
            "k\n",
            "a\n",
            "n\n"
          ]
        }
      ]
    },
    {
      "cell_type": "markdown",
      "source": [
        "Örnek 3: 1'den 5'e kadar sayıları yazdırma (range ile)\n",
        "range(start, stop, step) bir sayı aralığı oluşturur.\n"
      ],
      "metadata": {
        "id": "tp0zCUZjdnsl"
      }
    },
    {
      "cell_type": "code",
      "source": [
        "for i in range(1, 6):\n",
        "    print(i)"
      ],
      "metadata": {
        "id": "uo1G8zI6dqSN"
      },
      "execution_count": null,
      "outputs": []
    },
    {
      "cell_type": "markdown",
      "source": [
        "Örnek 4: Bir liste elemanlarının karesini alma\n"
      ],
      "metadata": {
        "id": "1QALBe3SdtMx"
      }
    },
    {
      "cell_type": "code",
      "source": [
        "sayilar = [1, 2, 3, 4]\n",
        "for sayi in sayilar:\n",
        "    print(sayi ** 2)"
      ],
      "metadata": {
        "id": "9QSIImdyduXq"
      },
      "execution_count": null,
      "outputs": []
    },
    {
      "cell_type": "markdown",
      "source": [
        "Örnek 5: Listeye çift sayıları ekleme\n"
      ],
      "metadata": {
        "id": "pgQ_oy2sdvZZ"
      }
    },
    {
      "cell_type": "code",
      "source": [
        "cift_sayilar = []\n",
        "for i in range(1, 11):\n",
        "    if i % 2 == 0:\n",
        "        cift_sayilar.append(i)\n",
        "print(cift_sayilar)"
      ],
      "metadata": {
        "id": "HmUeD2GQdw4y"
      },
      "execution_count": null,
      "outputs": []
    },
    {
      "cell_type": "markdown",
      "source": [
        "**Orta Zorlukta Örnekler**"
      ],
      "metadata": {
        "id": "gQVtgURzdx8h"
      }
    },
    {
      "cell_type": "markdown",
      "source": [
        "Örnek 6: Her kelimenin ilk harfini büyük yazdırma"
      ],
      "metadata": {
        "id": "Sla_XR7fdz3V"
      }
    },
    {
      "cell_type": "code",
      "source": [
        "kelimeler = [\"Bilgisayar\", \"Furkan\", \"Sönmez\"]\n",
        "for kelime in kelimeler:\n",
        "    print(kelime.capitalize())"
      ],
      "metadata": {
        "id": "0q5gWV6ld3Hd"
      },
      "execution_count": null,
      "outputs": []
    },
    {
      "cell_type": "markdown",
      "source": [
        "Örnek 7: Fibonacci dizisi hesaplama"
      ],
      "metadata": {
        "id": "6ohM1iskd7Q4"
      }
    },
    {
      "cell_type": "code",
      "source": [
        "n = int(input(\"Kaç Fibonacci sayısı yazdırılsın: \"))\n",
        "a, b = 0, 1\n",
        "for _ in range(n):\n",
        "    print(a)\n",
        "    a, b = b, a + b"
      ],
      "metadata": {
        "id": "gCmhTMVTd88Q"
      },
      "execution_count": null,
      "outputs": []
    },
    {
      "cell_type": "markdown",
      "source": [
        "Örnek 8: Bir string içinde kaç tane sesli harf olduğunu bulma"
      ],
      "metadata": {
        "id": "Hmxp51Vld-U0"
      }
    },
    {
      "cell_type": "code",
      "source": [
        "kelime = \"programlama\"\n",
        "sesli_harfler = \"aeıioöuü\"\n",
        "sayac = 0\n",
        "\n",
        "for harf in kelime:\n",
        "    if harf in sesli_harfler:\n",
        "        sayac += 1\n",
        "print(f\"Sesli harf sayısı: {sayac}\")"
      ],
      "metadata": {
        "id": "FhewGoHLeBFM"
      },
      "execution_count": null,
      "outputs": []
    },
    {
      "cell_type": "markdown",
      "source": [
        "Örnek 9: Çarpım Tablosu\n"
      ],
      "metadata": {
        "id": "Kynq2fUXeCFx"
      }
    },
    {
      "cell_type": "code",
      "source": [
        "for i in range(1, 6):\n",
        "    for j in range(1, 6):\n",
        "        print(f\"{i} x {j} = {i * j}\")"
      ],
      "metadata": {
        "id": "D3jGqqkpeDl3"
      },
      "execution_count": null,
      "outputs": []
    },
    {
      "cell_type": "markdown",
      "source": [
        "Örnek 10: Asal Sayıları Bulma\n"
      ],
      "metadata": {
        "id": "EbJmSVEmeEqg"
      }
    },
    {
      "cell_type": "code",
      "source": [
        "for sayi in range(2, 20):\n",
        "    asal = True\n",
        "    for bolen in range(2, sayi):\n",
        "        if sayi % bolen == 0:\n",
        "            asal = False\n",
        "            break\n",
        "    if asal:\n",
        "        print(sayi)"
      ],
      "metadata": {
        "id": "SK41ARv9eGUH"
      },
      "execution_count": null,
      "outputs": []
    },
    {
      "cell_type": "markdown",
      "source": [
        "**Zor Örnekler**"
      ],
      "metadata": {
        "id": "El-iQvx4eHQW"
      }
    },
    {
      "cell_type": "markdown",
      "source": [
        "Örnek 11: Bir sayıyı ters çevirme"
      ],
      "metadata": {
        "id": "uSe9FsjoeI5z"
      }
    },
    {
      "cell_type": "code",
      "source": [
        "sayi = int(input(\"Bir sayı girin: \"))\n",
        "ters = \"\"\n",
        "for rakam in str(sayi):\n",
        "    ters = rakam + ters\n",
        "print(f\"Ters çevrilmiş sayı: {ters}\")"
      ],
      "metadata": {
        "id": "3D9HRvVaeKIU"
      },
      "execution_count": null,
      "outputs": []
    },
    {
      "cell_type": "markdown",
      "source": [
        "Örnek 12: Bir cümledeki kelime uzunluklarını hesaplama\n"
      ],
      "metadata": {
        "id": "6PuGtWV_eLJg"
      }
    },
    {
      "cell_type": "code",
      "source": [
        "cumle = \"Python programlama öğreniyorum\"\n",
        "kelimeler = cumle.split()\n",
        "for kelime in kelimeler:\n",
        "    print(f\"{kelime}: {len(kelime)} karakter\")"
      ],
      "metadata": {
        "id": "sRMX_jqXeNO-"
      },
      "execution_count": null,
      "outputs": []
    },
    {
      "cell_type": "markdown",
      "source": [
        "Örnek 13: Bir dizideki en büyük ve en küçük elemanları bulma\n"
      ],
      "metadata": {
        "id": "8EElA3_beN-j"
      }
    },
    {
      "cell_type": "code",
      "source": [
        "sayilar = [10, 23, 5, 76, 12]\n",
        "en_kucuk = en_buyuk = sayilar[0]\n",
        "\n",
        "for sayi in sayilar:\n",
        "    if sayi < en_kucuk:\n",
        "        en_kucuk = sayi\n",
        "    if sayi > en_buyuk:\n",
        "        en_buyuk = sayi\n",
        "\n",
        "print(f\"En küçük: {en_kucuk}, En büyük: {en_buyuk}\")"
      ],
      "metadata": {
        "id": "HBhM2IBVePm1"
      },
      "execution_count": null,
      "outputs": []
    },
    {
      "cell_type": "markdown",
      "source": [
        "Örnek 14: Liste Elemanlarını Gruplama"
      ],
      "metadata": {
        "id": "y2JDtvJseVwI"
      }
    },
    {
      "cell_type": "code",
      "source": [
        "sayilar = [1, 2, 3, 4, 5, 6, 7, 8, 9]\n",
        "tekler = []\n",
        "ciftler = []\n",
        "\n",
        "for sayi in sayilar:\n",
        "    if sayi % 2 == 0:\n",
        "        ciftler.append(sayi)\n",
        "    else:\n",
        "        tekler.append(sayi)\n",
        "\n",
        "print(f\"Çiftler: {ciftler}\")\n",
        "print(f\"Tekler: {tekler}\")"
      ],
      "metadata": {
        "id": "oIX_mU4_eXMP"
      },
      "execution_count": null,
      "outputs": []
    },
    {
      "cell_type": "markdown",
      "source": [
        "**range() Fonksiyonu**"
      ],
      "metadata": {
        "id": "25QU79uceY0L"
      }
    },
    {
      "cell_type": "markdown",
      "source": [
        "Tanım:\n",
        "**range()** fonksiyonu, bir sayı dizisi oluşturur ve genellikle for döngüsü ile kullanılır. Döngü sırasında bu sayı dizisinin her bir elemanı üzerinde işlem yapılır."
      ],
      "metadata": {
        "id": "-EGXYoPqeeTK"
      }
    },
    {
      "cell_type": "markdown",
      "source": [
        "**range() Fonksiyonunun Temel Kullanımı**"
      ],
      "metadata": {
        "id": "jo_alPapekpV"
      }
    },
    {
      "cell_type": "markdown",
      "source": [
        "**range()** üç farklı şekilde kullanılabilir:\n",
        "\n"
      ],
      "metadata": {
        "id": "7AeT1R7demKW"
      }
    },
    {
      "cell_type": "markdown",
      "source": [
        "1. range(stop):\n",
        "0'dan başlayarak belirtilen stop değerine kadar (dahil değil) bir sayı dizisi oluşturur.\n"
      ],
      "metadata": {
        "id": "oIJG2IzGepMD"
      }
    },
    {
      "cell_type": "code",
      "source": [
        "# Örnek range(stop):\n",
        "for i in range(5):\n",
        "    print(i)"
      ],
      "metadata": {
        "id": "zxQWn1Cresjc"
      },
      "execution_count": null,
      "outputs": []
    },
    {
      "cell_type": "markdown",
      "source": [
        "2. range(start, stop):\n",
        "start değerinden başlayarak stop değerine kadar (dahil değil) bir sayı dizisi oluşturur."
      ],
      "metadata": {
        "id": "UNWIdSsoeySo"
      }
    },
    {
      "cell_type": "code",
      "source": [
        "# Örnek range(start,stop):\n",
        "for i in range(2, 7):\n",
        "    print(i)"
      ],
      "metadata": {
        "id": "re7-mA2ye4V1"
      },
      "execution_count": null,
      "outputs": []
    },
    {
      "cell_type": "markdown",
      "source": [
        "3. range(start, stop, step):\n",
        "starttan başlayıp, step adımlarıyla stop değerine kadar bir sayı dizisi oluşturur."
      ],
      "metadata": {
        "id": "4r0AIUcoe9We"
      }
    },
    {
      "cell_type": "code",
      "source": [
        "# Örnek range(start,stop,step):\n",
        "for i in range(1, 10, 2):\n",
        "    print(i)"
      ],
      "metadata": {
        "id": "ODD2EAI1fAuS"
      },
      "execution_count": null,
      "outputs": []
    },
    {
      "cell_type": "markdown",
      "source": [
        "**Kolay Örnekler**"
      ],
      "metadata": {
        "id": "NdjJrLIdfK-y"
      }
    },
    {
      "cell_type": "markdown",
      "source": [
        "Örnek 1: 0'dan 9'a kadar olan sayıları yazdırma"
      ],
      "metadata": {
        "id": "rLFrZeFsfMC3"
      }
    },
    {
      "cell_type": "code",
      "source": [
        "for i in range(10):\n",
        "    print(i)"
      ],
      "metadata": {
        "id": "8Fbkzv62gHH-"
      },
      "execution_count": null,
      "outputs": []
    },
    {
      "cell_type": "markdown",
      "source": [
        "Örnek 2: 1 ile 5 arasındaki sayıları yazdırma\n"
      ],
      "metadata": {
        "id": "-juAmjCYgJHX"
      }
    },
    {
      "cell_type": "code",
      "source": [
        "for i in range(1, 6):\n",
        "    print(i)"
      ],
      "metadata": {
        "id": "TxOBZtFygKLp"
      },
      "execution_count": null,
      "outputs": []
    },
    {
      "cell_type": "markdown",
      "source": [
        "Örnek 3: 0'dan 20'ye kadar çift sayıları yazdırma"
      ],
      "metadata": {
        "id": "efy3UNybgMap"
      }
    },
    {
      "cell_type": "code",
      "source": [
        "for i in range(0, 21, 2):\n",
        "    print(i)"
      ],
      "metadata": {
        "id": "mUgFX7E8gOBi"
      },
      "execution_count": null,
      "outputs": []
    },
    {
      "cell_type": "markdown",
      "source": [
        "Örnek 4: 10'dan 1'e geriye doğru sayma\n"
      ],
      "metadata": {
        "id": "Cq58w1JtgPFH"
      }
    },
    {
      "cell_type": "code",
      "source": [
        "for i in range(10, 0, -1):\n",
        "    print(i)"
      ],
      "metadata": {
        "id": "5yPZUGnqgRKY"
      },
      "execution_count": null,
      "outputs": []
    },
    {
      "cell_type": "markdown",
      "source": [
        "Örnek 5: Bir dizideki elemanları **range()** ile yazdırma"
      ],
      "metadata": {
        "id": "jZ37PSgegTLR"
      }
    },
    {
      "cell_type": "code",
      "source": [
        "meyveler = [\"elma\", \"armut\", \"çilek\"]\n",
        "for i in range(len(meyveler)):\n",
        "    print(meyveler[i])"
      ],
      "metadata": {
        "id": "39vhZrKCgV-P"
      },
      "execution_count": null,
      "outputs": []
    },
    {
      "cell_type": "markdown",
      "source": [
        "**Orta Zorlukta Örnekler**"
      ],
      "metadata": {
        "id": "oXTMRsYhgY-Z"
      }
    },
    {
      "cell_type": "markdown",
      "source": [
        "Örnek 6: Bir sayının çarpım tablosunu yazdırma\n"
      ],
      "metadata": {
        "id": "5Jjmw7rcgahG"
      }
    },
    {
      "cell_type": "code",
      "source": [
        "sayi = int(input(\"Çarpım tablosu için bir sayı girin: \"))\n",
        "for i in range(1, 11):\n",
        "    print(f\"{sayi} x {i} = {sayi * i}\")"
      ],
      "metadata": {
        "id": "pt5Yzvthgcnn"
      },
      "execution_count": null,
      "outputs": []
    },
    {
      "cell_type": "markdown",
      "source": [
        "Örnek 7: 1'den 100'e kadar olan sayıların toplamını bulma\n"
      ],
      "metadata": {
        "id": "UDDuL83Qgdeq"
      }
    },
    {
      "cell_type": "code",
      "source": [
        "toplam = 0\n",
        "for i in range(1, 101):\n",
        "    toplam += i\n",
        "print(f\"Toplam: {toplam}\")"
      ],
      "metadata": {
        "id": "ZVqwYlLqgfEh"
      },
      "execution_count": null,
      "outputs": []
    },
    {
      "cell_type": "markdown",
      "source": [
        "Örnek 8: Ters bir üçgen yazdırma\n"
      ],
      "metadata": {
        "id": "0FKjZ3TZgf_Y"
      }
    },
    {
      "cell_type": "code",
      "source": [
        "for i in range(5, 0, -1):\n",
        "    print(\"*\" * i)"
      ],
      "metadata": {
        "id": "2URf5fcrghft"
      },
      "execution_count": null,
      "outputs": []
    },
    {
      "cell_type": "markdown",
      "source": [
        "Örnek 9: Asal sayıları bulma"
      ],
      "metadata": {
        "id": "T4L69eJJgimI"
      }
    },
    {
      "cell_type": "code",
      "source": [
        "for sayi in range(2, 50):\n",
        "    asal = True\n",
        "    for bolen in range(2, sayi):\n",
        "        if sayi % bolen == 0:\n",
        "            asal = False\n",
        "            break\n",
        "    if asal:\n",
        "        print(sayi)"
      ],
      "metadata": {
        "id": "aUfFlSQQgj6w"
      },
      "execution_count": null,
      "outputs": []
    },
    {
      "cell_type": "markdown",
      "source": [
        "Örnek 10: Bir sayıyı basamaklarına ayırma"
      ],
      "metadata": {
        "id": "XAbWZDKTglVc"
      }
    },
    {
      "cell_type": "code",
      "source": [
        "sayi = int(input(\"Bir sayı girin: \"))\n",
        "for rakam in str(sayi):\n",
        "    print(rakam)"
      ],
      "metadata": {
        "id": "FAMXlT8AgnZn"
      },
      "execution_count": null,
      "outputs": []
    },
    {
      "cell_type": "markdown",
      "source": [
        "**Zor Örnekler**\n"
      ],
      "metadata": {
        "id": "2Sn1WJzNgqAs"
      }
    },
    {
      "cell_type": "markdown",
      "source": [
        "Örnek 11: Çift ve tek sayıların ayrı ayrı toplamını bulma\n"
      ],
      "metadata": {
        "id": "62ayVl7Rgql5"
      }
    },
    {
      "cell_type": "code",
      "source": [
        "tek_toplam = 0\n",
        "cift_toplam = 0\n",
        "for i in range(1, 101):\n",
        "    if i % 2 == 0:\n",
        "        cift_toplam += i\n",
        "    else:\n",
        "        tek_toplam += i\n",
        "print(f\"Tek sayıların toplamı: {tek_toplam}\")\n",
        "print(f\"Çift sayıların toplamı: {cift_toplam}\")"
      ],
      "metadata": {
        "id": "WtRzLLpzgtO_"
      },
      "execution_count": null,
      "outputs": []
    },
    {
      "cell_type": "markdown",
      "source": [
        "Örnek 12: Yıldızlardan bir piramit oluşturma\n",
        "\n"
      ],
      "metadata": {
        "id": "QEQFN53agt_n"
      }
    },
    {
      "cell_type": "code",
      "source": [
        "for i in range(1, 6):\n",
        "    print(\" \" * (5 - i) + \"*\" * (2 * i - 1))"
      ],
      "metadata": {
        "id": "4CKs3-mogv_I"
      },
      "execution_count": null,
      "outputs": []
    },
    {
      "cell_type": "markdown",
      "source": [
        "Örnek 13: Ters bir piramit oluşturma\n"
      ],
      "metadata": {
        "id": "TCo2vbdQgw_e"
      }
    },
    {
      "cell_type": "code",
      "source": [
        "for i in range(5, 0, -1):\n",
        "    print(\" \" * (5 - i) + \"*\" * (2 * i - 1))\n"
      ],
      "metadata": {
        "id": "yKtlgnLsgypw"
      },
      "execution_count": null,
      "outputs": []
    },
    {
      "cell_type": "markdown",
      "source": [
        "Örnek 14: Adımlarla liste oluşturma"
      ],
      "metadata": {
        "id": "EfmPZBEMg1Fu"
      }
    },
    {
      "cell_type": "code",
      "source": [
        "liste = []\n",
        "for i in range(5, 51, 5):\n",
        "    liste.append(i)\n",
        "print(liste)"
      ],
      "metadata": {
        "id": "3ZTSYFGeg2kc"
      },
      "execution_count": null,
      "outputs": []
    },
    {
      "cell_type": "markdown",
      "source": [
        "Örnek 15: Çift indeksleri ve tek indeksleri ayırma"
      ],
      "metadata": {
        "id": "3Y_-76Xig3wX"
      }
    },
    {
      "cell_type": "code",
      "source": [
        "liste = [10, 20, 30, 40, 50, 60]\n",
        "cift_indeksler = []\n",
        "tek_indeksler = []\n",
        "\n",
        "for i in range(len(liste)):\n",
        "    if i % 2 == 0:\n",
        "        cift_indeksler.append(liste[i])\n",
        "    else:\n",
        "        tek_indeksler.append(liste[i])\n",
        "\n",
        "print(f\"Çift indeksler: {cift_indeksler}\")\n",
        "print(f\"Tek indeksler: {tek_indeksler}\")"
      ],
      "metadata": {
        "id": "pwtSfzQrg6AP"
      },
      "execution_count": null,
      "outputs": []
    },
    {
      "cell_type": "markdown",
      "source": [
        "**continue ifadesi**"
      ],
      "metadata": {
        "id": "Y-O4VdoGoXEl"
      }
    },
    {
      "cell_type": "markdown",
      "source": [
        "continue ifadesi, bir döngü içinde kullanıldığında, döngünün o anki iterasyonunu atlar ve\n",
        "bir sonraki iterasyona geçer. Döngü tamamen sonlanmaz; yalnızca o iterasyonun\n",
        "işlemleri gerçekleştirilmez"
      ],
      "metadata": {
        "id": "yg04mGi5oq8-"
      }
    },
    {
      "cell_type": "markdown",
      "source": [
        "**1. continue İfadesinin Genel Kullanımı**"
      ],
      "metadata": {
        "id": "-UCrJ_pton7k"
      }
    },
    {
      "cell_type": "code",
      "source": [
        "'''\n",
        "for eleman in iterable:\n",
        "    if koşul:\n",
        "        continue\n",
        "    işlemler\n",
        "'''"
      ],
      "metadata": {
        "colab": {
          "base_uri": "https://localhost:8080/",
          "height": 36
        },
        "id": "tOEiYqZyowxE",
        "outputId": "ab692e51-8b71-464e-fe23-fc39c581da95"
      },
      "execution_count": null,
      "outputs": [
        {
          "output_type": "execute_result",
          "data": {
            "text/plain": [
              "'\\nfor eleman in iterable:\\n    if koşul:\\n        continue\\n    işlemler\\n'"
            ],
            "application/vnd.google.colaboratory.intrinsic+json": {
              "type": "string"
            }
          },
          "metadata": {},
          "execution_count": 6
        }
      ]
    },
    {
      "cell_type": "markdown",
      "source": [
        "**2. Kolay Örnekler**"
      ],
      "metadata": {
        "id": "ofJmvOUGpOno"
      }
    },
    {
      "cell_type": "markdown",
      "source": [
        "Örnek 1: Çift Sayıları Atlayarak Yazdırma\n"
      ],
      "metadata": {
        "id": "1DRV6ZozpYm9"
      }
    },
    {
      "cell_type": "code",
      "source": [
        "for i in range(10):\n",
        "    if i % 2 == 0:\n",
        "        continue\n",
        "    print(i)"
      ],
      "metadata": {
        "id": "d09Rdn26paOM"
      },
      "execution_count": null,
      "outputs": []
    },
    {
      "cell_type": "markdown",
      "source": [
        "Örnek 2: Kullanıcıdan Girilen Sayıları Toplarken Negatif Sayıları Atla\n"
      ],
      "metadata": {
        "id": "MNSu-TBDpbhh"
      }
    },
    {
      "cell_type": "code",
      "source": [
        "toplam = 0\n",
        "\n",
        "for _ in range(5):\n",
        "    sayi = int(input(\"Bir sayı girin: \"))\n",
        "    if sayi < 0:\n",
        "        continue\n",
        "    toplam += sayi\n",
        "\n",
        "print(f\"Pozitif sayıların toplamı: {toplam}\")"
      ],
      "metadata": {
        "id": "mqFkAFv8pdlB"
      },
      "execution_count": null,
      "outputs": []
    },
    {
      "cell_type": "markdown",
      "source": [
        "Örnek 3: Belirli Bir Harfi Atlayarak Bir Kelimenin Harflerini Yazdırma\n"
      ],
      "metadata": {
        "id": "WIVdZOvRpfTE"
      }
    },
    {
      "cell_type": "code",
      "source": [
        "kelime = \"programlama\"\n",
        "\n",
        "for harf in kelime:\n",
        "    if harf == \"a\":\n",
        "        continue\n",
        "    print(harf, end=\"\")"
      ],
      "metadata": {
        "id": "-1nokrU5phfz"
      },
      "execution_count": null,
      "outputs": []
    },
    {
      "cell_type": "markdown",
      "source": [
        "**3. Orta Zorlukta Örnekler**"
      ],
      "metadata": {
        "id": "zDzAwoml5hMn"
      }
    },
    {
      "cell_type": "markdown",
      "source": [
        "Örnek 4: 1'den 20'ye kadar sayıları yazdırırken 5 ve 15'i atla"
      ],
      "metadata": {
        "id": "V64JJcTT5pcG"
      }
    },
    {
      "cell_type": "code",
      "source": [
        "for i in range(1, 21):\n",
        "    if i == 5 or i == 15:\n",
        "        continue\n",
        "    print(i, end=\" \")"
      ],
      "metadata": {
        "id": "JlgJ_3am5rO8"
      },
      "execution_count": null,
      "outputs": []
    },
    {
      "cell_type": "markdown",
      "source": [
        "Örnek 5: Bir liste elemanlarını yazdırırken belirli bir değeri atla"
      ],
      "metadata": {
        "id": "bKuhGxjd5vJB"
      }
    },
    {
      "cell_type": "code",
      "source": [
        "renkler = [\"kırmızı\", \"mavi\", \"yeşil\", \"sarı\", \"mor\"]\n",
        "for renk in renkler:\n",
        "    if renk == \"yeşil\":\n",
        "        continue\n",
        "    print(renk)"
      ],
      "metadata": {
        "id": "A5D3qowL5xj0"
      },
      "execution_count": null,
      "outputs": []
    },
    {
      "cell_type": "markdown",
      "source": [
        "Örnek 6: Çarpım tablosunda çarpımı 12 olan durumları atla"
      ],
      "metadata": {
        "id": "2xGOSYIo5z3N"
      }
    },
    {
      "cell_type": "code",
      "source": [
        "for i in range(1, 6):\n",
        "    for j in range(1, 6):\n",
        "        if i * j == 12:\n",
        "            continue\n",
        "        print(f\"{i} x {j} = {i * j}\")"
      ],
      "metadata": {
        "id": "waixFu0X53jf"
      },
      "execution_count": null,
      "outputs": []
    },
    {
      "cell_type": "markdown",
      "source": [
        "Örnek 7: Bir dizide sadece tek sayıları yazdırma"
      ],
      "metadata": {
        "id": "DUK0BE8R6J_V"
      }
    },
    {
      "cell_type": "code",
      "source": [
        "sayilar = [10, 15, 20, 25, 30, 35]\n",
        "for sayi in sayilar:\n",
        "  if sayi % 2 == 0:\n",
        "    continue\n",
        "  print(sayi)"
      ],
      "metadata": {
        "colab": {
          "base_uri": "https://localhost:8080/"
        },
        "id": "aCjadRhd6LSw",
        "outputId": "69cca9fc-c634-432a-a974-c2aca543adbe"
      },
      "execution_count": 1,
      "outputs": [
        {
          "output_type": "stream",
          "name": "stdout",
          "text": [
            "15\n",
            "25\n",
            "35\n"
          ]
        }
      ]
    },
    {
      "cell_type": "markdown",
      "source": [
        "**4. Zor Örnekler**"
      ],
      "metadata": {
        "id": "vwOAF5WK57j3"
      }
    },
    {
      "cell_type": "markdown",
      "source": [
        "Örnek 8: Bir cümlede belirli harfleri atlayarak yeni bir cümle oluşturma"
      ],
      "metadata": {
        "id": "ZTjMS-UX6axm"
      }
    },
    {
      "cell_type": "code",
      "source": [
        "cumle = \"Python programlama çok eğlenceli!\"\n",
        "yasak_harfler = \"aeiou\"\n",
        "yeni_cumle = \"\"\n",
        "\n",
        "for harf in cumle:\n",
        "    if harf.lower() in yasak_harfler:\n",
        "        continue\n",
        "    yeni_cumle += harf\n",
        "\n",
        "print(yeni_cumle)"
      ],
      "metadata": {
        "id": "UxU4eLAb6lp9"
      },
      "execution_count": null,
      "outputs": []
    },
    {
      "cell_type": "markdown",
      "source": [
        "Örnek 9: Bir dizi içinde negatif sayıları atlayarak sadece pozitif sayıların\n",
        "ortalamasını hesaplama"
      ],
      "metadata": {
        "id": "9Rw_aoho6oa-"
      }
    },
    {
      "cell_type": "code",
      "source": [
        "sayilar = [10, -20, 15, -5, 30, -10]\n",
        "toplam = 0\n",
        "pozitif_sayilar = 0\n",
        "\n",
        "for sayi in sayilar:\n",
        "    if sayi < 0:\n",
        "        continue\n",
        "    toplam += sayi\n",
        "    pozitif_sayilar += 1\n",
        "\n",
        "if pozitif_sayilar > 0:\n",
        "    print(f\"Pozitif sayıların ortalaması: {toplam / pozitif_sayilar}\")\n",
        "else:\n",
        "    print(\"Pozitif sayı yok.\")"
      ],
      "metadata": {
        "colab": {
          "base_uri": "https://localhost:8080/"
        },
        "id": "GV120e0i6tV4",
        "outputId": "f6e0c0a4-2d82-4527-e14a-66de33087cd4"
      },
      "execution_count": 2,
      "outputs": [
        {
          "output_type": "stream",
          "name": "stdout",
          "text": [
            "Pozitif sayıların ortalaması: 18.333333333333332\n"
          ]
        }
      ]
    },
    {
      "cell_type": "markdown",
      "source": [
        "Örnek 10: 1 ile 100 arasındaki asal sayılardan 50'den küçük olanları yazdırma"
      ],
      "metadata": {
        "id": "yyGf3ifG6vGS"
      }
    },
    {
      "cell_type": "code",
      "source": [
        "for sayi in range(2, 101):\n",
        "    asal = True\n",
        "    for bolen in range(2, sayi):\n",
        "        if sayi % bolen == 0:\n",
        "            asal = False\n",
        "            break\n",
        "    if not asal or sayi >= 50:\n",
        "        continue\n",
        "    print(sayi)"
      ],
      "metadata": {
        "id": "Ccp3u7xk6zfG"
      },
      "execution_count": null,
      "outputs": []
    },
    {
      "cell_type": "markdown",
      "source": [
        "Örnek 11: Yıldızlı bir piramit oluştururken her 3. satırı atla"
      ],
      "metadata": {
        "id": "NsRret5f61BZ"
      }
    },
    {
      "cell_type": "code",
      "source": [
        "for i in range(1, 10):\n",
        "    if i % 3 == 0:\n",
        "        continue\n",
        "    print(\"*\" * i)"
      ],
      "metadata": {
        "id": "M0iK38It62yI"
      },
      "execution_count": null,
      "outputs": []
    },
    {
      "cell_type": "markdown",
      "source": [
        "**İç İçe Döngüler**"
      ],
      "metadata": {
        "id": "9hbMf3Oj64cp"
      }
    },
    {
      "cell_type": "markdown",
      "source": [
        "İç içe döngüler, bir döngünün içinde başka bir döngünün bulunmasıdır. Bu yapı genellikle\n",
        "çok boyutlu işlemler, tablolar veya matrisler üzerinde işlem yapmak için kullanılır."
      ],
      "metadata": {
        "id": "n1HTc9-J67y3"
      }
    },
    {
      "cell_type": "markdown",
      "source": [
        "**1. İç İçe Döngülerin Genel Yapısı**"
      ],
      "metadata": {
        "id": "Wm32DtQ17Bol"
      }
    },
    {
      "cell_type": "markdown",
      "source": [
        "Bir döngü içinde bir başka döngü tanımlayarak işlemler yapılır. İçteki döngü, her dış\n",
        "döngü iterasyonunda baştan sona kadar çalışır."
      ],
      "metadata": {
        "id": "wabcXvl27G1v"
      }
    },
    {
      "cell_type": "code",
      "source": [
        "\"\"\"\n",
        "for i in iterable1:\n",
        " for j in iterable2:\n",
        " işlemler\n",
        "\"\"\""
      ],
      "metadata": {
        "id": "mME8YkNL7Hzf"
      },
      "execution_count": null,
      "outputs": []
    },
    {
      "cell_type": "markdown",
      "source": [
        "**2. Kolay Örnekler**"
      ],
      "metadata": {
        "id": "7MKbHpB77VW9"
      }
    },
    {
      "cell_type": "markdown",
      "source": [
        "Örnek 1: Basit Çarpım Tablosu"
      ],
      "metadata": {
        "id": "hkAhGGio7Y96"
      }
    },
    {
      "cell_type": "code",
      "source": [
        "for i in range(1, 6):\n",
        "    for j in range(1, 6):\n",
        "        print(f\"{i} x {j} = {i * j}\")"
      ],
      "metadata": {
        "id": "KA7lc91U7cJ8"
      },
      "execution_count": null,
      "outputs": []
    },
    {
      "cell_type": "markdown",
      "source": [
        "Örnek 2: 3x3 Kare Matris Yazdırma"
      ],
      "metadata": {
        "id": "Fx3vnWhh7dFW"
      }
    },
    {
      "cell_type": "code",
      "source": [
        "for i in range(3):\n",
        "    for j in range(3):\n",
        "        print(f\"({i}, {j})\", end=\" \")\n",
        "    print()"
      ],
      "metadata": {
        "id": "g64uUClw7gBE"
      },
      "execution_count": null,
      "outputs": []
    },
    {
      "cell_type": "markdown",
      "source": [
        "Örnek 3: Yıldızlarla Dik Üçgen Oluşturma"
      ],
      "metadata": {
        "id": "2DZg8Vpn7hFA"
      }
    },
    {
      "cell_type": "code",
      "source": [
        "for i in range(1, 6):\n",
        "    for j in range(i):\n",
        "        print(\"*\", end=\"\")\n",
        "    print()"
      ],
      "metadata": {
        "id": "708cg9AP7i0R"
      },
      "execution_count": null,
      "outputs": []
    },
    {
      "cell_type": "markdown",
      "source": [
        "**3. Orta Zorlukta Örnekler**"
      ],
      "metadata": {
        "id": "1NYeCDCy7kvh"
      }
    },
    {
      "cell_type": "markdown",
      "source": [
        "Örnek 4: İç İçe Döngü ile Çift Sayılar Tablosu"
      ],
      "metadata": {
        "id": "8GhJUiQs7sEo"
      }
    },
    {
      "cell_type": "code",
      "source": [
        "for i in range(1, 4):\n",
        "    for j in range(1, 6):\n",
        "        print(f\"{i} x {j * 2} = {i * j * 2}\")"
      ],
      "metadata": {
        "id": "j0IumrQB7s3a"
      },
      "execution_count": null,
      "outputs": []
    },
    {
      "cell_type": "markdown",
      "source": [
        "Örnek 5: Bir Matrisi Yazdırma"
      ],
      "metadata": {
        "id": "rGRsl4MI7vFT"
      }
    },
    {
      "cell_type": "code",
      "source": [
        "matris = [\n",
        "    [1, 2, 3],\n",
        "    [4, 5, 6],\n",
        "    [7, 8, 9]\n",
        "]\n",
        "\n",
        "for satir in matris:\n",
        "    for eleman in satir:\n",
        "        print(eleman, end=\" \")\n",
        "    print()"
      ],
      "metadata": {
        "id": "XeBW7Q5M7xLm"
      },
      "execution_count": null,
      "outputs": []
    },
    {
      "cell_type": "markdown",
      "source": [
        "Örnek 6: Piramit Şekli Yazdırma"
      ],
      "metadata": {
        "id": "obOx_Dq07z3E"
      }
    },
    {
      "cell_type": "code",
      "source": [
        "for i in range(1, 6):\n",
        "    print(\" \" * (5 - i), end=\"\")\n",
        "    for j in range(2 * i - 1):\n",
        "        print(\"*\", end=\"\")\n",
        "    print()"
      ],
      "metadata": {
        "id": "2sa6eb6Y71mv"
      },
      "execution_count": null,
      "outputs": []
    },
    {
      "cell_type": "markdown",
      "source": [
        "Örnek 7: Liste Çarpımı"
      ],
      "metadata": {
        "id": "o5V9JU7-73h6"
      }
    },
    {
      "cell_type": "code",
      "source": [
        "list1 = [1, 2, 3]\n",
        "list2 = [4, 5, 6]\n",
        "\n",
        "for i in list1:\n",
        "    for j in list2:\n",
        "        print(f\"{i} x {j} = {i * j}\")"
      ],
      "metadata": {
        "id": "EQLZtlFT75Wg"
      },
      "execution_count": null,
      "outputs": []
    },
    {
      "cell_type": "markdown",
      "source": [
        "**4. Zor Örnekler**"
      ],
      "metadata": {
        "id": "-BQKfP6Y76zq"
      }
    },
    {
      "cell_type": "markdown",
      "source": [
        "Örnek 8: Çarpım Tablosunu Matris Olarak Yazdırma"
      ],
      "metadata": {
        "id": "D3aPuJBt7-sd"
      }
    },
    {
      "cell_type": "code",
      "source": [
        "for i in range(1, 6):\n",
        "    for j in range(1, 6):\n",
        "        print(f\"{i * j:2}\", end=\" \")\n",
        "    print()"
      ],
      "metadata": {
        "id": "WZM4yGMM7_VO"
      },
      "execution_count": null,
      "outputs": []
    },
    {
      "cell_type": "markdown",
      "source": [
        "Örnek 9: İç İçe Döngü ile 3D Koordinatlar Yazdırma"
      ],
      "metadata": {
        "id": "KZo8mhwJ8AvA"
      }
    },
    {
      "cell_type": "code",
      "source": [
        "for x in range(3):\n",
        "    for y in range(3):\n",
        "        for z in range(3):\n",
        "            print(f\"({x}, {y}, {z})\")"
      ],
      "metadata": {
        "id": "oUlJe2-28DX2"
      },
      "execution_count": null,
      "outputs": []
    },
    {
      "cell_type": "markdown",
      "source": [
        "Örnek 10: Asal Sayılar Matrisini Yazdırma"
      ],
      "metadata": {
        "id": "bKqLFoYF8Era"
      }
    },
    {
      "cell_type": "code",
      "source": [
        "for i in range(1, 10):\n",
        "    for j in range(1, 10):\n",
        "        if i == 1 or j == 1:\n",
        "            print(\"-\", end=\" \")\n",
        "            continue\n",
        "        asal = True\n",
        "        for k in range(2, min(i, j) + 1):\n",
        "            if i % k == 0 and j % k == 0:\n",
        "                asal = False\n",
        "                break\n",
        "        print(\"A\" if asal else \"-\", end=\" \")\n",
        "    print()"
      ],
      "metadata": {
        "id": "6yNWFMrS8Hhw"
      },
      "execution_count": null,
      "outputs": []
    },
    {
      "cell_type": "markdown",
      "source": [
        "Örnek 11: Bir Matriste En Büyük Değeri Bulma"
      ],
      "metadata": {
        "id": "1EonbP6-8I34"
      }
    },
    {
      "cell_type": "code",
      "source": [
        "matris = [\n",
        "    [3, 5, 7],\n",
        "    [2, 8, 6],\n",
        "    [1, 4, 9]\n",
        "]\n",
        "\n",
        "en_buyuk = matris[0][0]\n",
        "for satir in matris:\n",
        "    for eleman in satir:\n",
        "        if eleman > en_buyuk:\n",
        "            en_buyuk = eleman\n",
        "\n",
        "print(f\"En büyük eleman: {en_buyuk}\")"
      ],
      "metadata": {
        "id": "DEQ7dEwW8Kmy"
      },
      "execution_count": null,
      "outputs": []
    },
    {
      "cell_type": "markdown",
      "source": [
        "**Karakter Dizileri (Stringler) Üzerinde İterasyon**"
      ],
      "metadata": {
        "id": "ulyKoNFP8MLb"
      }
    },
    {
      "cell_type": "markdown",
      "source": [
        "Python'da bir string, **iterable** (üzerinde dolaşılabilir) bir veri türüdür. Bu sayede her bir\n",
        "karakter üzerinde döngülerle işlem yapabiliriz."
      ],
      "metadata": {
        "id": "fIIQvf_T8SH8"
      }
    },
    {
      "cell_type": "markdown",
      "source": [
        "**1. String Üzerinde for Döngüsü**"
      ],
      "metadata": {
        "id": "o9KShrs68U0p"
      }
    },
    {
      "cell_type": "markdown",
      "source": [
        "Bir string üzerindeki her bir karakteri işlemek için for döngüsü kullanılabilir:"
      ],
      "metadata": {
        "id": "jQIl_9Bp8Y32"
      }
    },
    {
      "cell_type": "code",
      "source": [
        "#Genel Yapı:\n",
        "\"\"\"\n",
        "for karakter in string:\n",
        " işlemler\n",
        "\"\"\""
      ],
      "metadata": {
        "id": "aWralyeN8eB3"
      },
      "execution_count": null,
      "outputs": []
    },
    {
      "cell_type": "markdown",
      "source": [
        "**2. Kolay Örnekler**"
      ],
      "metadata": {
        "id": "6rOSOVNO8mMo"
      }
    },
    {
      "cell_type": "markdown",
      "source": [
        "Örnek 1: Bir Stringin Karakterlerini Alt Alta Yazdırma"
      ],
      "metadata": {
        "id": "w0NaeCzF8oF6"
      }
    },
    {
      "cell_type": "code",
      "source": [
        "kelime = \"Python\"\n",
        "for harf in kelime:\n",
        "    print(harf)"
      ],
      "metadata": {
        "id": "dIBZD6w_8qC4"
      },
      "execution_count": null,
      "outputs": []
    },
    {
      "cell_type": "markdown",
      "source": [
        "Örnek 2: Bir Stringdeki Sesli Harfleri Yazdırma"
      ],
      "metadata": {
        "id": "xLHEwHQ_8uDC"
      }
    },
    {
      "cell_type": "code",
      "source": [
        "kelime = \"programlama\"\n",
        "sesli_harfler = \"aeıioöuü\"\n",
        "\n",
        "for harf in kelime:\n",
        "    if harf in sesli_harfler:\n",
        "        print(harf)"
      ],
      "metadata": {
        "id": "tJ6HDY0t8wIE"
      },
      "execution_count": null,
      "outputs": []
    },
    {
      "cell_type": "markdown",
      "source": [
        "Örnek 3: String Uzunluğunu Bulma"
      ],
      "metadata": {
        "id": "Et3J-Rz_8xX9"
      }
    },
    {
      "cell_type": "code",
      "source": [
        "kelime = \"merhaba\"\n",
        "sayac = 0\n",
        "\n",
        "for harf in kelime:\n",
        "    sayac += 1\n",
        "\n",
        "print(f\"Kelimenin uzunluğu: {sayac}\")"
      ],
      "metadata": {
        "id": "COYux-WV8zbp"
      },
      "execution_count": null,
      "outputs": []
    },
    {
      "cell_type": "markdown",
      "source": [
        "Örnek 4: Bir Stringi Tersten Yazdırma"
      ],
      "metadata": {
        "id": "01v2jQ-D83n9"
      }
    },
    {
      "cell_type": "code",
      "source": [
        "kelime = \"Python\"\n",
        "ters = \"\"\n",
        "\n",
        "for harf in kelime:\n",
        "    ters = harf + ters\n",
        "\n",
        "print(f\"Ters: {ters}\")"
      ],
      "metadata": {
        "id": "BGB_pb4S86KU"
      },
      "execution_count": null,
      "outputs": []
    },
    {
      "cell_type": "markdown",
      "source": [
        "Örnek 5: Belirli Bir Harfi Sayma"
      ],
      "metadata": {
        "id": "TBSMrnD1876S"
      }
    },
    {
      "cell_type": "code",
      "source": [
        "kelime = \"programlama\"\n",
        "aranan_harf = \"a\"\n",
        "sayac = 0\n",
        "\n",
        "for harf in kelime:\n",
        "    if harf == aranan_harf:\n",
        "        sayac += 1\n",
        "\n",
        "print(f\"'{aranan_harf}' harfi {sayac} kez geçiyor.\")"
      ],
      "metadata": {
        "id": "EbldemPe89pe"
      },
      "execution_count": null,
      "outputs": []
    },
    {
      "cell_type": "markdown",
      "source": [
        "**3. Orta Zorlukta Örnekler**"
      ],
      "metadata": {
        "id": "M96Iau218-5S"
      }
    },
    {
      "cell_type": "markdown",
      "source": [
        "Örnek 6: Her Harfi Büyük Harfe Çevirme"
      ],
      "metadata": {
        "id": "egUM0OYf9BEn"
      }
    },
    {
      "cell_type": "code",
      "source": [
        "kelime = \"python programlama\"\n",
        "for harf in kelime:\n",
        "    print(harf.upper(), end=\"\")"
      ],
      "metadata": {
        "id": "NALd3Q4X9C38"
      },
      "execution_count": null,
      "outputs": []
    },
    {
      "cell_type": "markdown",
      "source": [
        "Örnek 7: Büyük ve Küçük Harf Sayısını Bulma"
      ],
      "metadata": {
        "id": "wAOsArBY9EFg"
      }
    },
    {
      "cell_type": "code",
      "source": [
        "kelime = \"Python Programlama\"\n",
        "buyuk_harf = 0\n",
        "kucuk_harf = 0\n",
        "\n",
        "for harf in kelime:\n",
        "    if harf.isupper():\n",
        "        buyuk_harf += 1\n",
        "    elif harf.islower():\n",
        "        kucuk_harf += 1\n",
        "\n",
        "print(f\"Büyük harf sayısı: {buyuk_harf}\")\n",
        "print(f\"Küçük harf sayısı: {kucuk_harf}\")"
      ],
      "metadata": {
        "id": "FOFEcBVj9FPI"
      },
      "execution_count": null,
      "outputs": []
    },
    {
      "cell_type": "markdown",
      "source": [
        "Örnek 8: Stringde Sadece Rakamları Bulma"
      ],
      "metadata": {
        "id": "ujtu2M_X9GdR"
      }
    },
    {
      "cell_type": "code",
      "source": [
        "kelime = \"Python3.10 sürümü\"\n",
        "for harf in kelime:\n",
        "    if harf.isdigit():\n",
        "        print(harf, end=\"\")"
      ],
      "metadata": {
        "id": "qn8A7PIY9Htd"
      },
      "execution_count": null,
      "outputs": []
    },
    {
      "cell_type": "markdown",
      "source": [
        "Örnek 9: Bir Stringdeki Kelimeleri Sayma\n"
      ],
      "metadata": {
        "id": "FsLDFMt19Np8"
      }
    },
    {
      "cell_type": "code",
      "source": [
        "cumle = \"Python programlama dili çok güçlüdür.\"\n",
        "kelimeler = cumle.split()\n",
        "print(f\"Kelime sayısı: {len(kelimeler)}\")"
      ],
      "metadata": {
        "id": "auf4c8ZF9OHg"
      },
      "execution_count": null,
      "outputs": []
    },
    {
      "cell_type": "markdown",
      "source": [
        "Örnek 10: Stringdeki Kelimelerin İlk Harflerini Yazdırma\n"
      ],
      "metadata": {
        "id": "6rDedQzN9QVK"
      }
    },
    {
      "cell_type": "code",
      "source": [
        "cumle = \"Python programlama dili çok güçlüdür.\"\n",
        "kelimeler = cumle.split()\n",
        "\n",
        "for kelime in kelimeler:\n",
        "    print(kelime[0], end=\"\")"
      ],
      "metadata": {
        "id": "TQnIvsED9SF6"
      },
      "execution_count": null,
      "outputs": []
    },
    {
      "cell_type": "markdown",
      "source": [
        "**4. Zor Örnekler**"
      ],
      "metadata": {
        "id": "CMrV5AkQ9S4w"
      }
    },
    {
      "cell_type": "markdown",
      "source": [
        "Örnek 11: Palindrom kontrolü"
      ],
      "metadata": {
        "id": "xxSHwhpg9Vk-"
      }
    },
    {
      "cell_type": "code",
      "source": [
        "kelime = input(\"Bir kelime girin: \")\n",
        "ters_kelime = \"\"\n",
        "\n",
        "for harf in kelime:\n",
        "    ters_kelime = harf + ters_kelime\n",
        "\n",
        "if kelime == ters_kelime:\n",
        "    print(\"Bu bir palindromdur.\")\n",
        "else:\n",
        "    print(\"Bu bir palindrom değildir.\")"
      ],
      "metadata": {
        "id": "4m24ce4r9Xh8"
      },
      "execution_count": null,
      "outputs": []
    },
    {
      "cell_type": "markdown",
      "source": [
        "Örnek 12: Stringdeki Kelimeleri Tersten Yazdırma"
      ],
      "metadata": {
        "id": "3JFRvYa89ZJq"
      }
    },
    {
      "cell_type": "code",
      "source": [
        "cumle = \"Python programlama çok eğlenceli\"\n",
        "kelimeler = cumle.split()\n",
        "\n",
        "for kelime in kelimeler:\n",
        "    print(kelime[::-1], end=\" \")"
      ],
      "metadata": {
        "id": "RA2OvKYE9aiH"
      },
      "execution_count": null,
      "outputs": []
    },
    {
      "cell_type": "markdown",
      "source": [
        "Örnek 13: Büyük Harflerle Başlayan Kelimeleri Bulma"
      ],
      "metadata": {
        "id": "L2s1AJmw9cFm"
      }
    },
    {
      "cell_type": "code",
      "source": [
        "cumle = \"Python Programlama Dili Çok Güçlüdür\"\n",
        "kelimeler = cumle.split()\n",
        "\n",
        "for kelime in kelimeler:\n",
        "    if kelime[0].isupper():\n",
        "        print(kelime)"
      ],
      "metadata": {
        "id": "OYFMNTBu9fEu"
      },
      "execution_count": null,
      "outputs": []
    },
    {
      "cell_type": "markdown",
      "source": [
        "Örnek 14: Sesli ve Sessiz Harfleri Ayırma"
      ],
      "metadata": {
        "id": "3LkZLR-g9gcu"
      }
    },
    {
      "cell_type": "code",
      "source": [
        "kelime = \"programlama\"\n",
        "sesli_harfler = \"aeıioöuü\"\n",
        "sessiz_harfler = \"\"\n",
        "\n",
        "for harf in kelime:\n",
        "    if harf in sesli_harfler:\n",
        "        print(f\"Sesli harf: {harf}\")\n",
        "    else:\n",
        "        sessiz_harfler += harf\n",
        "\n",
        "print(f\"Sessiz harfler: {sessiz_harfler}\")"
      ],
      "metadata": {
        "id": "dKArveD69hn_"
      },
      "execution_count": null,
      "outputs": []
    },
    {
      "cell_type": "markdown",
      "source": [
        "Örnek 15: Bir Cümledeki Her Kelimenin Uzunluğunu Yazdırma"
      ],
      "metadata": {
        "id": "PCGRLf0K9kSg"
      }
    },
    {
      "cell_type": "code",
      "source": [
        "cumle = \"Python programlama dili çok eğlenceli\"\n",
        "kelimeler = cumle.split()\n",
        "\n",
        "for kelime in kelimeler:\n",
        "    print(f\"{kelime}: {len(kelime)} karakter\")"
      ],
      "metadata": {
        "id": "3-KhgDNh9lt7"
      },
      "execution_count": null,
      "outputs": []
    },
    {
      "cell_type": "markdown",
      "source": [
        "**Listeler Üzerinde İterasyon**"
      ],
      "metadata": {
        "id": "1malx9PV9mYs"
      }
    },
    {
      "cell_type": "markdown",
      "source": [
        "Python'da **listeler** üzerinde döngüler kullanarak işlem yapabilirsiniz. Her bir liste\n",
        "elemanını tek tek işlemek için genellikle for döngüsü tercih edilir."
      ],
      "metadata": {
        "id": "-qu5NTrY9pNZ"
      }
    },
    {
      "cell_type": "markdown",
      "source": [
        "**1. Liste İterasyonu ile for Döngüsü**"
      ],
      "metadata": {
        "id": "GnjPJRWM9uDI"
      }
    },
    {
      "cell_type": "code",
      "source": [
        "# Bir liste üzerindeki elemanları döngüyle işlemek için:\n",
        "\"\"\"\n",
        "for eleman in liste:\n",
        " işlemler\n",
        "\"\"\"\n",
        "# Örnek:\n",
        "renkler = [\"kırmızı\", \"mavi\", \"yeşil\"]\n",
        "for renk in renkler:\n",
        " print(renk)"
      ],
      "metadata": {
        "colab": {
          "base_uri": "https://localhost:8080/"
        },
        "id": "KZ6tpy8w9120",
        "outputId": "0dd74802-cc5c-438f-95f5-20ff9fdb3212"
      },
      "execution_count": 5,
      "outputs": [
        {
          "output_type": "stream",
          "name": "stdout",
          "text": [
            "kırmızı\n",
            "mavi\n",
            "yeşil\n"
          ]
        }
      ]
    },
    {
      "cell_type": "markdown",
      "source": [
        "**2. Kolay Örnekler**"
      ],
      "metadata": {
        "id": "OhGc3YLD-EYU"
      }
    },
    {
      "cell_type": "markdown",
      "source": [
        "Örnek 1: Listenin Elemanlarını Yazdırma"
      ],
      "metadata": {
        "id": "qsF8SwNH-Hx2"
      }
    },
    {
      "cell_type": "code",
      "source": [
        "sayilar = [1, 2, 3, 4, 5]\n",
        "for sayi in sayilar:\n",
        "    print(sayi)"
      ],
      "metadata": {
        "id": "QacOFuD6-JOS"
      },
      "execution_count": null,
      "outputs": []
    },
    {
      "cell_type": "markdown",
      "source": [
        "Örnek 2: Liste Elemanlarını Toplama"
      ],
      "metadata": {
        "id": "KYn7HQTq-Kjx"
      }
    },
    {
      "cell_type": "code",
      "source": [
        "sayilar = [10, 20, 30, 40]\n",
        "toplam = 0\n",
        "\n",
        "for sayi in sayilar:\n",
        "    toplam += sayi\n",
        "\n",
        "print(f\"Toplam: {toplam}\")"
      ],
      "metadata": {
        "id": "Nx1JjRV5-Mum"
      },
      "execution_count": null,
      "outputs": []
    },
    {
      "cell_type": "markdown",
      "source": [
        "Örnek 3: Çift sayıları yazdırma"
      ],
      "metadata": {
        "id": "29tj2CEK-RWK"
      }
    },
    {
      "cell_type": "code",
      "source": [
        "sayilar = [1, 2, 3, 4, 5, 6]\n",
        "for sayi in sayilar:\n",
        "    if sayi % 2 == 0:\n",
        "        print(sayi)"
      ],
      "metadata": {
        "id": "5PcYSEGK-S4d"
      },
      "execution_count": null,
      "outputs": []
    },
    {
      "cell_type": "markdown",
      "source": [
        "Örnek 4: Elemanları Sıralı Olarak Numaralandırma"
      ],
      "metadata": {
        "id": "HTx5kc4u-Tfs"
      }
    },
    {
      "cell_type": "code",
      "source": [
        "isimler = [\"Furkan\", \"Sönmez\", \"Okul\"]\n",
        "for i, isim in enumerate(isimler, 1):\n",
        "    print(f\"{i}. {isim}\")"
      ],
      "metadata": {
        "id": "wIaEuX3N-Vpk"
      },
      "execution_count": null,
      "outputs": []
    },
    {
      "cell_type": "markdown",
      "source": [
        "Örnek 5: Elemanları Bir Başka Listeye Aktarma"
      ],
      "metadata": {
        "id": "ubG3qlvG-aCV"
      }
    },
    {
      "cell_type": "code",
      "source": [
        "eski_liste = [1, 2, 3]\n",
        "yeni_liste = []\n",
        "\n",
        "for eleman in eski_liste:\n",
        "    yeni_liste.append(eleman)\n",
        "\n",
        "print(yeni_liste)"
      ],
      "metadata": {
        "id": "4OQPnS2m-bw9"
      },
      "execution_count": null,
      "outputs": []
    },
    {
      "cell_type": "markdown",
      "source": [
        "**3. Orta Zorlukta Örnekler**"
      ],
      "metadata": {
        "id": "56aW7Aks-dYv"
      }
    },
    {
      "cell_type": "markdown",
      "source": [
        "Örnek 6: Her elemanın karesini hesaplama"
      ],
      "metadata": {
        "id": "v5PhA8RA-gAB"
      }
    },
    {
      "cell_type": "code",
      "source": [
        "sayilar = [1, 2, 3, 4]\n",
        "for sayi in sayilar:\n",
        "    print(f\"{sayi}^2 = {sayi ** 2}\")"
      ],
      "metadata": {
        "id": "CGJwFrsV-hm6"
      },
      "execution_count": null,
      "outputs": []
    },
    {
      "cell_type": "markdown",
      "source": [
        "Örnek 7: Belirli Bir Harfle Başlayan Elemanları Seçme"
      ],
      "metadata": {
        "id": "c4onxLvg-itN"
      }
    },
    {
      "cell_type": "code",
      "source": [
        "isimler = [\"Ahmet\", \"Ayşe\", \"Fatma\", \"Ali\"]\n",
        "for isim in isimler:\n",
        "    if isim.startswith(\"A\"):\n",
        "        print(isim)"
      ],
      "metadata": {
        "id": "dCqAUCBf-kW4"
      },
      "execution_count": null,
      "outputs": []
    },
    {
      "cell_type": "markdown",
      "source": [
        "Örnek 8: En Büyük ve En Küçük Elemanı Bulma"
      ],
      "metadata": {
        "id": "6sLyq5-O-lcj"
      }
    },
    {
      "cell_type": "code",
      "source": [
        "sayilar = [10, 5, 20, 15]\n",
        "en_kucuk = min(sayilar)\n",
        "en_buyuk = max(sayilar)\n",
        "\n",
        "print(f\"En küçük: {en_kucuk}\")\n",
        "print(f\"En büyük: {en_buyuk}\")"
      ],
      "metadata": {
        "id": "9cuSM2KA-mtA"
      },
      "execution_count": null,
      "outputs": []
    },
    {
      "cell_type": "markdown",
      "source": [
        "Örnek 9: Negatif ve Pozitif Sayıları Ayırma\n"
      ],
      "metadata": {
        "id": "UeY5816r-nxf"
      }
    },
    {
      "cell_type": "code",
      "source": [
        "sayilar = [-3, 5, -1, 10, -8, 4]\n",
        "pozitifler = []\n",
        "negatifler = []\n",
        "\n",
        "for sayi in sayilar:\n",
        "    if sayi >= 0:\n",
        "        pozitifler.append(sayi)\n",
        "    else:\n",
        "        negatifler.append(sayi)\n",
        "\n",
        "print(f\"Pozitifler: {pozitifler}\")\n",
        "print(f\"Negatifler: {negatifler}\")"
      ],
      "metadata": {
        "id": "huOUXsjy-pVM"
      },
      "execution_count": null,
      "outputs": []
    },
    {
      "cell_type": "markdown",
      "source": [
        "Örnek 10: Tekrarlı elemanları kaldırma"
      ],
      "metadata": {
        "id": "bYT6nOog-qoh"
      }
    },
    {
      "cell_type": "code",
      "source": [
        "sayilar = [1, 2, 2, 3, 3, 3, 4, 5, 5]\n",
        "benzersiz = []\n",
        "\n",
        "for sayi in sayilar:\n",
        "    if sayi not in benzersiz:\n",
        "        benzersiz.append(sayi)\n",
        "\n",
        "print(benzersiz)\n"
      ],
      "metadata": {
        "id": "uR1sQrMh-wOz"
      },
      "execution_count": null,
      "outputs": []
    },
    {
      "cell_type": "markdown",
      "source": [
        "**4. Zor Örnekler**"
      ],
      "metadata": {
        "id": "76xM14rs-xzD"
      }
    },
    {
      "cell_type": "markdown",
      "source": [
        "Örnek 11: Liste Elemanlarını Tersten Yazdırma"
      ],
      "metadata": {
        "id": "xyBBOuy8-1l6"
      }
    },
    {
      "cell_type": "code",
      "source": [
        "sayilar = [1, 2, 3, 4, 5]\n",
        "for sayi in reversed(sayilar):\n",
        "    print(sayi)"
      ],
      "metadata": {
        "id": "7_EL1v1O-4Y8"
      },
      "execution_count": null,
      "outputs": []
    },
    {
      "cell_type": "markdown",
      "source": [
        "Örnek 12: Her Elemanın Basamaklarının Toplamını Bulma"
      ],
      "metadata": {
        "id": "PjA5mGmt-6Ay"
      }
    },
    {
      "cell_type": "code",
      "source": [
        "sayilar = [12, 45, 67, 89]\n",
        "for sayi in sayilar:\n",
        "    toplam = sum(int(rakam) for rakam in str(sayi))\n",
        "    print(f\"{sayi} -> Basamakların toplamı: {toplam}\")\n"
      ],
      "metadata": {
        "id": "2irzSTYn-7de"
      },
      "execution_count": null,
      "outputs": []
    },
    {
      "cell_type": "markdown",
      "source": [
        "Örnek 13: Çift indekslerdeki elemanları yazdırma\n"
      ],
      "metadata": {
        "id": "6gjFDfNt-9s8"
      }
    },
    {
      "cell_type": "code",
      "source": [
        "sayilar = [10, 20, 30, 40, 50, 60]\n",
        "for i in range(0, len(sayilar), 2):\n",
        "    print(sayilar[i])"
      ],
      "metadata": {
        "id": "hPjucEUY--JA"
      },
      "execution_count": null,
      "outputs": []
    },
    {
      "cell_type": "markdown",
      "source": [
        "Örnek 14: Çift ve tek indeksleri ayırma"
      ],
      "metadata": {
        "id": "XxTjLCh0-_ZU"
      }
    },
    {
      "cell_type": "code",
      "source": [
        "sayilar = [1, 2, 3, 4, 5, 6]\n",
        "cift_indeks = []\n",
        "tek_indeks = []\n",
        "\n",
        "for i in range(len(sayilar)):\n",
        "    if i % 2 == 0:\n",
        "        cift_indeks.append(sayilar[i])\n",
        "    else:\n",
        "        tek_indeks.append(sayilar[i])\n",
        "\n",
        "print(f\"Çift indeks elemanları: {cift_indeks}\")\n",
        "print(f\"Tek indeks elemanları: {tek_indeks}\")"
      ],
      "metadata": {
        "id": "QotCYnEs_Avn"
      },
      "execution_count": null,
      "outputs": []
    },
    {
      "cell_type": "markdown",
      "source": [
        "Örnek 15: İç İçe Liste Elemanlarını Yazdırma\n"
      ],
      "metadata": {
        "id": "uUl6EygX_CKY"
      }
    },
    {
      "cell_type": "code",
      "source": [
        "matris = [[1, 2, 3], [4, 5, 6], [7, 8, 9]]\n",
        "\n",
        "for satir in matris:\n",
        "    for eleman in satir:\n",
        "        print(eleman, end=\" \")\n",
        "    print()"
      ],
      "metadata": {
        "id": "-0zC3MFx_D1l"
      },
      "execution_count": null,
      "outputs": []
    },
    {
      "cell_type": "markdown",
      "source": [
        "**range() Fonksiyonu**"
      ],
      "metadata": {
        "id": "AmyQKXgo_4N6"
      }
    },
    {
      "cell_type": "markdown",
      "source": [
        "Tanım:\n",
        "Python'da **range()** fonksiyonu, belirli bir sayı aralığını döngü için oluşturmak amacıyla\n",
        "kullanılır. Bu fonksiyon, özellikle for döngüleriyle çok yaygın bir şekilde kullanılır.\n"
      ],
      "metadata": {
        "id": "JFFHA06f_4N7"
      }
    },
    {
      "cell_type": "markdown",
      "source": [
        "**1. range() Fonksiyonunun Yapısı**"
      ],
      "metadata": {
        "id": "InpVtbAC_4N7"
      }
    },
    {
      "cell_type": "markdown",
      "source": [
        "**range()** üç farklı şekilde kullanılabilir:\n",
        "\n"
      ],
      "metadata": {
        "id": "THuyhG6i_4N7"
      }
    },
    {
      "cell_type": "markdown",
      "source": [
        "1. range(stop):\n",
        "0'dan başlayarak belirtilen stop değerine kadar (dahil değil) bir sayı dizisi oluşturur.\n"
      ],
      "metadata": {
        "id": "6Yacvi1u_4N7"
      }
    },
    {
      "cell_type": "code",
      "source": [
        "# Örnek range(stop):\n",
        "for i in range(5):\n",
        "    print(i)"
      ],
      "metadata": {
        "id": "6AykecIO_4N7"
      },
      "execution_count": null,
      "outputs": []
    },
    {
      "cell_type": "markdown",
      "source": [
        "2. range(start, stop):\n",
        "start değerinden başlayarak stop değerine kadar (dahil değil) bir sayı dizisi oluşturur."
      ],
      "metadata": {
        "id": "nOdgyr4s_4N8"
      }
    },
    {
      "cell_type": "code",
      "source": [
        "# Örnek range(start,stop):\n",
        "for i in range(2, 7):\n",
        "    print(i)"
      ],
      "metadata": {
        "id": "6rRJtLcm_4N8"
      },
      "execution_count": null,
      "outputs": []
    },
    {
      "cell_type": "markdown",
      "source": [
        "3. range(start, stop, step):\n",
        "starttan başlayıp, step adımlarıyla stop değerine kadar bir sayı dizisi oluşturur."
      ],
      "metadata": {
        "id": "B90na7oC_4N8"
      }
    },
    {
      "cell_type": "code",
      "source": [
        "# Örnek range(start,stop,step):\n",
        "for i in range(1, 10, 2):\n",
        "    print(i)"
      ],
      "metadata": {
        "id": "AvVV4An9_4N8"
      },
      "execution_count": null,
      "outputs": []
    },
    {
      "cell_type": "markdown",
      "source": [
        "**2. Kolay Örnekler**\n"
      ],
      "metadata": {
        "id": "c4WaQrjU_4N8"
      }
    },
    {
      "cell_type": "markdown",
      "source": [
        "Örnek 1: 0'dan 9'a kadar olan sayıları yazdırma"
      ],
      "metadata": {
        "id": "tsvbKqlY_4N8"
      }
    },
    {
      "cell_type": "code",
      "source": [
        "for i in range(10):\n",
        "    print(i)"
      ],
      "metadata": {
        "id": "KboKVD11_4N8"
      },
      "execution_count": null,
      "outputs": []
    },
    {
      "cell_type": "markdown",
      "source": [
        "Örnek 2: 5 ile 15 Arasındaki Sayıları Yazdırma"
      ],
      "metadata": {
        "id": "gp3Vg504_4N8"
      }
    },
    {
      "cell_type": "code",
      "source": [
        "for i in range(5, 16):\n",
        "    print(i)"
      ],
      "metadata": {
        "id": "1ypxSSVx_4N8"
      },
      "execution_count": null,
      "outputs": []
    },
    {
      "cell_type": "markdown",
      "source": [
        "Örnek 3: 1'den 20'ye Kadar Çift Sayıları Yazdırma"
      ],
      "metadata": {
        "id": "yyZwg5hA_4N8"
      }
    },
    {
      "cell_type": "code",
      "source": [
        "for i in range(2, 21, 2):\n",
        "    print(i)"
      ],
      "metadata": {
        "id": "khkPyDPh_4N8"
      },
      "execution_count": null,
      "outputs": []
    },
    {
      "cell_type": "markdown",
      "source": [
        "Örnek 4: 10'dan 1'e Geri Sayım"
      ],
      "metadata": {
        "id": "VAtCkcNmAake"
      }
    },
    {
      "cell_type": "code",
      "source": [
        "for i in range(10, 0, -1):\n",
        "    print(i)"
      ],
      "metadata": {
        "id": "QXJLZPdqAbtG"
      },
      "execution_count": null,
      "outputs": []
    },
    {
      "cell_type": "markdown",
      "source": [
        "Örnek 5: Bir Stringin Karakterlerini İndeksle Yazdırma"
      ],
      "metadata": {
        "id": "nLk7GPh0Acn1"
      }
    },
    {
      "cell_type": "code",
      "source": [
        "kelime = \"Python\"\n",
        "for i in range(len(kelime)):\n",
        "    print(f\"{i}. harf: {kelime[i]}\")"
      ],
      "metadata": {
        "id": "iCNKNGBnAd1Q"
      },
      "execution_count": null,
      "outputs": []
    },
    {
      "cell_type": "markdown",
      "source": [
        "**3. Orta Zorlukta Örnekler**"
      ],
      "metadata": {
        "id": "B1uIXJVlAhW8"
      }
    },
    {
      "cell_type": "markdown",
      "source": [
        "Örnek 6: Bir sayının çarpım tablosunu oluşturma"
      ],
      "metadata": {
        "id": "rzxxOqi8AilY"
      }
    },
    {
      "cell_type": "code",
      "source": [
        "sayi = int(input(\"Çarpım tablosu için bir sayı girin: \"))\n",
        "for i in range(1, 11):\n",
        "    print(f\"{sayi} x {i} = {sayi * i}\")"
      ],
      "metadata": {
        "id": "qGrrjJA4AlY1"
      },
      "execution_count": null,
      "outputs": []
    },
    {
      "cell_type": "markdown",
      "source": [
        "Örnek 7: 1 ile 100 arasındaki sayıların toplamını hesaplama"
      ],
      "metadata": {
        "id": "j-cIvQR_AmD7"
      }
    },
    {
      "cell_type": "code",
      "source": [
        "toplam = 0\n",
        "for i in range(1, 101):\n",
        "    toplam += i\n",
        "\n",
        "print(f\"Toplam: {toplam}\")"
      ],
      "metadata": {
        "id": "6bM4nXQLAnT2"
      },
      "execution_count": null,
      "outputs": []
    },
    {
      "cell_type": "markdown",
      "source": [
        "Örnek 8: Ters üçgen yazdırma"
      ],
      "metadata": {
        "id": "K5hir8dAAo70"
      }
    },
    {
      "cell_type": "code",
      "source": [
        "for i in range(5, 0, -1):\n",
        "    print(\"*\" * i)"
      ],
      "metadata": {
        "id": "WOL4dILOAtET"
      },
      "execution_count": null,
      "outputs": []
    },
    {
      "cell_type": "markdown",
      "source": [
        "Örnek 9: Liste Elemanlarını **range()** ile İndeks Kullanarak Yazdırma"
      ],
      "metadata": {
        "id": "CpG-vxocAtqB"
      }
    },
    {
      "cell_type": "code",
      "source": [
        "renkler = [\"kırmızı\", \"mavi\", \"yeşil\"]\n",
        "for i in range(len(renkler)):\n",
        "    print(f\"{i}. renk: {renkler[i]}\")"
      ],
      "metadata": {
        "id": "XOFbb1e5Aw2N"
      },
      "execution_count": null,
      "outputs": []
    },
    {
      "cell_type": "markdown",
      "source": [
        "Örnek 10: Asal Sayıları Bulma"
      ],
      "metadata": {
        "id": "o_wjls_3AynD"
      }
    },
    {
      "cell_type": "code",
      "source": [
        "for sayi in range(2, 20):\n",
        "    asal = True\n",
        "    for bolen in range(2, sayi):\n",
        "        if sayi % bolen == 0:\n",
        "            asal = False\n",
        "            break\n",
        "    if asal:\n",
        "        print(sayi)"
      ],
      "metadata": {
        "id": "2PCBSEjVA0FS"
      },
      "execution_count": null,
      "outputs": []
    },
    {
      "cell_type": "markdown",
      "source": [
        "**4. Zor Örnekler**"
      ],
      "metadata": {
        "id": "S2fFfRkSA5Ng"
      }
    },
    {
      "cell_type": "markdown",
      "source": [
        "Örnek 11: Çift ve Tek Sayıların Toplamını Ayrı Ayrı Hesaplama"
      ],
      "metadata": {
        "id": "GqYlrfOMA1QP"
      }
    },
    {
      "cell_type": "code",
      "source": [
        "cift_toplam = 0\n",
        "tek_toplam = 0\n",
        "\n",
        "for i in range(1, 101):\n",
        "    if i % 2 == 0:\n",
        "        cift_toplam += i\n",
        "    else:\n",
        "        tek_toplam += i\n",
        "\n",
        "print(f\"Çift toplam: {cift_toplam}\")\n",
        "print(f\"Tek toplam: {tek_toplam}\")"
      ],
      "metadata": {
        "id": "xnWoFGGLA2o7"
      },
      "execution_count": null,
      "outputs": []
    },
    {
      "cell_type": "markdown",
      "source": [
        "Örnek 12: Piramit deseni oluşturma"
      ],
      "metadata": {
        "id": "-wl9yOHFA7zx"
      }
    },
    {
      "cell_type": "code",
      "source": [
        "for i in range(1, 6):\n",
        "    print(\" \" * (5 - i) + \"*\" * (2 * i - 1))"
      ],
      "metadata": {
        "id": "-jdUooPJA9gR"
      },
      "execution_count": null,
      "outputs": []
    },
    {
      "cell_type": "markdown",
      "source": [
        "Örnek 13: Ters piramit oluşturma"
      ],
      "metadata": {
        "id": "NpmA2BAnA-vP"
      }
    },
    {
      "cell_type": "code",
      "source": [
        "for i in range(5, 0, -1):\n",
        "    print(\" \" * (5 - i) + \"*\" * (2 * i - 1))"
      ],
      "metadata": {
        "id": "Cxtr6TM_BAL3"
      },
      "execution_count": null,
      "outputs": []
    },
    {
      "cell_type": "markdown",
      "source": [
        "Örnek 14: Farklı Adımlarla **range()** Kullanarak Liste Oluşturma"
      ],
      "metadata": {
        "id": "FnmrlZryBBk5"
      }
    },
    {
      "cell_type": "code",
      "source": [
        "liste = []\n",
        "for i in range(5, 51, 5):\n",
        "    liste.append(i)\n",
        "\n",
        "print(liste)"
      ],
      "metadata": {
        "id": "RLbzujDUBDyP"
      },
      "execution_count": null,
      "outputs": []
    },
    {
      "cell_type": "markdown",
      "source": [
        "Örnek 15: Çift İndeksleri ve Tek İndeksleri Ayırma"
      ],
      "metadata": {
        "id": "j2m5eRc3BE-n"
      }
    },
    {
      "cell_type": "code",
      "source": [
        "liste = [10, 20, 30, 40, 50, 60]\n",
        "cift_indeksler = []\n",
        "tek_indeksler = []\n",
        "\n",
        "for i in range(len(liste)):\n",
        "    if i % 2 == 0:\n",
        "        cift_indeksler.append(liste[i])\n",
        "    else:\n",
        "        tek_indeksler.append(liste[i])\n",
        "\n",
        "print(f\"Çift indeksler: {cift_indeksler}\")\n",
        "print(f\"Tek indeksler: {tek_indeksler}\")"
      ],
      "metadata": {
        "id": "0hNoaTDHBGR0"
      },
      "execution_count": null,
      "outputs": []
    }
  ]
}