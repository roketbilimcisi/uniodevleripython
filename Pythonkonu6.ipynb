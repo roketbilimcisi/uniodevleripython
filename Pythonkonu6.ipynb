{
  "nbformat": 4,
  "nbformat_minor": 0,
  "metadata": {
    "colab": {
      "provenance": [],
      "authorship_tag": "ABX9TyO/VE+AV4ACOADRPnpcHMkV",
      "include_colab_link": true
    },
    "kernelspec": {
      "name": "python3",
      "display_name": "Python 3"
    },
    "language_info": {
      "name": "python"
    }
  },
  "cells": [
    {
      "cell_type": "markdown",
      "metadata": {
        "id": "view-in-github",
        "colab_type": "text"
      },
      "source": [
        "<a href=\"https://colab.research.google.com/github/roketbilimcisi/uniodevleripython/blob/main/Pythonkonu6.ipynb\" target=\"_parent\"><img src=\"https://colab.research.google.com/assets/colab-badge.svg\" alt=\"Open In Colab\"/></a>"
      ]
    },
    {
      "cell_type": "markdown",
      "source": [
        "**While Döngüsü**"
      ],
      "metadata": {
        "id": "KiQS4CINZgdL"
      }
    },
    {
      "cell_type": "markdown",
      "source": [
        "Tanım: **while** döngüsü, bir koşul doğru olduğu sürece işlemleri tekrar eder. Koşul yanlış olduğunda döngü sona erer. Sonsuz döngüler, koşulun hiçbir zaman yanlış olmadığı durumlarda oluşur."
      ],
      "metadata": {
        "id": "7PJ2Zb4JZhRM"
      }
    },
    {
      "cell_type": "markdown",
      "source": [
        "Kullanım Alanları\n",
        "* Kullanıcıdan doğru girdi almak.\n",
        "* Belirli bir işlemi, belirli bir koşul sağlanana kadar tekrarlamak.\n",
        "* Algoritmik problemleri çözmek (örneğin, faktöriyel veya Fibonacci dizisi).\n"
      ],
      "metadata": {
        "id": "b7OJiSYxZitr"
      }
    },
    {
      "cell_type": "markdown",
      "source": [
        "**Kolay Örnekler**"
      ],
      "metadata": {
        "id": "ZZH_WK99aCdm"
      }
    },
    {
      "cell_type": "markdown",
      "source": [
        "Örnek 1: 1'den 10'a kadar sayıları yazdırma\n"
      ],
      "metadata": {
        "id": "4ZH2LgDMaFAW"
      }
    },
    {
      "cell_type": "code",
      "source": [
        "sayi = 1\n",
        "while sayi <= 10:\n",
        "    print(sayi)\n",
        "    sayi += 1"
      ],
      "metadata": {
        "id": "5-dTCFkvaMzX",
        "colab": {
          "base_uri": "https://localhost:8080/"
        },
        "outputId": "004b6d7f-0389-495f-f308-0359e9b4414d"
      },
      "execution_count": 31,
      "outputs": [
        {
          "output_type": "stream",
          "name": "stdout",
          "text": [
            "1\n",
            "2\n",
            "3\n",
            "4\n",
            "5\n",
            "6\n",
            "7\n",
            "8\n",
            "9\n",
            "10\n"
          ]
        }
      ]
    },
    {
      "cell_type": "markdown",
      "source": [
        "Örnek 2: Kullanıcı \"exit\" yazana kadar girdi al\n"
      ],
      "metadata": {
        "id": "9cLnPJsuaOZw"
      }
    },
    {
      "cell_type": "code",
      "source": [
        "girdi = \"\"\n",
        "while girdi != \"exit\":\n",
        "    girdi = input(\"Bir şey yazın (çıkmak için 'exit' yazın): \")\n",
        "    print(f\"Girdiğiniz: {girdi}\")"
      ],
      "metadata": {
        "id": "irkY5L1xaQ66",
        "colab": {
          "base_uri": "https://localhost:8080/"
        },
        "outputId": "3aafbeda-f1eb-4396-cb95-024c2c27c901"
      },
      "execution_count": 32,
      "outputs": [
        {
          "output_type": "stream",
          "name": "stdout",
          "text": [
            "Bir şey yazın (çıkmak için 'exit' yazın): furkan\n",
            "Girdiğiniz: furkan\n",
            "Bir şey yazın (çıkmak için 'exit' yazın): sönmez\n",
            "Girdiğiniz: sönmez\n",
            "Bir şey yazın (çıkmak için 'exit' yazın): exit\n",
            "Girdiğiniz: exit\n"
          ]
        }
      ]
    },
    {
      "cell_type": "markdown",
      "source": [
        "Örnek 3: Çift sayıları yazdırma\n"
      ],
      "metadata": {
        "id": "haHAakJhaShG"
      }
    },
    {
      "cell_type": "code",
      "source": [
        "sayi = 0\n",
        "while sayi <= 10:\n",
        "    if sayi % 2 == 0:\n",
        "        print(sayi)\n",
        "    sayi += 1"
      ],
      "metadata": {
        "id": "sxGzYFf3aVCO",
        "colab": {
          "base_uri": "https://localhost:8080/"
        },
        "outputId": "973d09ea-d617-4de0-d419-f6ba8db466e2"
      },
      "execution_count": 33,
      "outputs": [
        {
          "output_type": "stream",
          "name": "stdout",
          "text": [
            "0\n",
            "2\n",
            "4\n",
            "6\n",
            "8\n",
            "10\n"
          ]
        }
      ]
    },
    {
      "cell_type": "markdown",
      "source": [
        "**Orta Zorlukta Örnekler**"
      ],
      "metadata": {
        "id": "-mv9dVf7aYHk"
      }
    },
    {
      "cell_type": "markdown",
      "source": [
        "Örnek 4: Faktöriyel Hesaplama Kullanıcıdan bir sayı alın ve faktöriyelini hesaplayın."
      ],
      "metadata": {
        "id": "DrNtVXngaaPC"
      }
    },
    {
      "cell_type": "code",
      "source": [
        "sayi = int(input(\"Bir sayı girin: \"))\n",
        "sonuc = 1\n",
        "while sayi > 0:\n",
        "    sonuc *= sayi\n",
        "    sayi -= 1\n",
        "print(f\"Faktöriyel: {sonuc}\")"
      ],
      "metadata": {
        "id": "YWDGVXVUacK6",
        "colab": {
          "base_uri": "https://localhost:8080/"
        },
        "outputId": "aef0c30a-6c63-406a-d177-3a225835a99b"
      },
      "execution_count": 34,
      "outputs": [
        {
          "output_type": "stream",
          "name": "stdout",
          "text": [
            "Bir sayı girin: 48\n",
            "Faktöriyel: 12413915592536072670862289047373375038521486354677760000000000\n"
          ]
        }
      ]
    },
    {
      "cell_type": "markdown",
      "source": [
        "Örnek 5: Fibonacci Dizisi Hesaplama İlk n Fibonacci sayısını yazdırın."
      ],
      "metadata": {
        "id": "4ukNtGvgaeeO"
      }
    },
    {
      "cell_type": "code",
      "source": [
        "n = int(input(\"Kaç Fibonacci sayısı yazdırılsın: \"))\n",
        "a, b = 0, 1\n",
        "sayac = 0\n",
        "while sayac < n:\n",
        "    print(a)\n",
        "    a, b = b, a + b\n",
        "    sayac += 1"
      ],
      "metadata": {
        "id": "B3p2RjMoag7G",
        "colab": {
          "base_uri": "https://localhost:8080/"
        },
        "outputId": "aa55d4c7-d1d4-422e-e10c-d5965aeb62c0"
      },
      "execution_count": 35,
      "outputs": [
        {
          "output_type": "stream",
          "name": "stdout",
          "text": [
            "Kaç Fibonacci sayısı yazdırılsın: 48\n",
            "0\n",
            "1\n",
            "1\n",
            "2\n",
            "3\n",
            "5\n",
            "8\n",
            "13\n",
            "21\n",
            "34\n",
            "55\n",
            "89\n",
            "144\n",
            "233\n",
            "377\n",
            "610\n",
            "987\n",
            "1597\n",
            "2584\n",
            "4181\n",
            "6765\n",
            "10946\n",
            "17711\n",
            "28657\n",
            "46368\n",
            "75025\n",
            "121393\n",
            "196418\n",
            "317811\n",
            "514229\n",
            "832040\n",
            "1346269\n",
            "2178309\n",
            "3524578\n",
            "5702887\n",
            "9227465\n",
            "14930352\n",
            "24157817\n",
            "39088169\n",
            "63245986\n",
            "102334155\n",
            "165580141\n",
            "267914296\n",
            "433494437\n",
            "701408733\n",
            "1134903170\n",
            "1836311903\n",
            "2971215073\n"
          ]
        }
      ]
    },
    {
      "cell_type": "markdown",
      "source": [
        "**Zor Örnekler**"
      ],
      "metadata": {
        "id": "0bqSKdxoaiP9"
      }
    },
    {
      "cell_type": "markdown",
      "source": [
        "Örnek 6: Sayıyı Ters Çevirme Bir sayının basamaklarını ters çeviren program.\n"
      ],
      "metadata": {
        "id": "mwMPbov8akJQ"
      }
    },
    {
      "cell_type": "code",
      "source": [
        "sayi = int(input(\"Bir sayı girin: \"))\n",
        "ters = 0\n",
        "while sayi > 0:\n",
        "    ters = ters * 10 + sayi % 10\n",
        "    sayi //= 10\n",
        "print(f\"Ters çevrilmiş hali: {ters}\")"
      ],
      "metadata": {
        "id": "mW7vyVegal5C",
        "colab": {
          "base_uri": "https://localhost:8080/"
        },
        "outputId": "2608f628-0cae-495e-9c00-e99b2f1894dd"
      },
      "execution_count": 36,
      "outputs": [
        {
          "output_type": "stream",
          "name": "stdout",
          "text": [
            "Bir sayı girin: 14\n",
            "Ters çevrilmiş hali: 41\n"
          ]
        }
      ]
    },
    {
      "cell_type": "markdown",
      "source": [
        "Örnek 7: Asal Sayı Kontrolü Kullanıcıdan bir sayı alın ve asal olup olmadığını kontrol edin.\n"
      ],
      "metadata": {
        "id": "QCTSUmjNam3n"
      }
    },
    {
      "cell_type": "code",
      "source": [
        "sayi = int(input(\"Bir sayı girin: \"))\n",
        "bolen = 2\n",
        "asal = True\n",
        "while bolen < sayi:\n",
        "    if sayi % bolen == 0:\n",
        "        asal = False\n",
        "        break\n",
        "    bolen += 1\n",
        "if asal and sayi > 1:\n",
        "    print(\"Asal bir sayıdır.\")\n",
        "else:\n",
        "    print(\"Asal bir sayı değildir.\")"
      ],
      "metadata": {
        "id": "A3YOpV3Kao-C",
        "colab": {
          "base_uri": "https://localhost:8080/"
        },
        "outputId": "19ea8f3a-ba56-4b0d-be22-c2cf45e7ab95"
      },
      "execution_count": 37,
      "outputs": [
        {
          "output_type": "stream",
          "name": "stdout",
          "text": [
            "Bir sayı girin: 48\n",
            "Asal bir sayı değildir.\n"
          ]
        }
      ]
    },
    {
      "cell_type": "markdown",
      "source": [
        "Örnek 8: Mükemmel Sayı Bulma Bir sayının çarpanlarının toplamı kendisine eşitse, bu bir mükemmel sayıdır."
      ],
      "metadata": {
        "id": "oXyllpe0aqbU"
      }
    },
    {
      "cell_type": "code",
      "source": [
        "sayi = int(input(\"Bir sayı girin: \"))\n",
        "toplam = 0\n",
        "bolen = 1\n",
        "while bolen < sayi:\n",
        "    if sayi % bolen == 0:\n",
        "        toplam += bolen\n",
        "    bolen += 1\n",
        "if toplam == sayi:\n",
        "    print(f\"{sayi} mükemmel bir sayıdır.\")\n",
        "else:\n",
        "    print(f\"{sayi} mükemmel bir sayı değildir.\")"
      ],
      "metadata": {
        "id": "BXXsRVKrasbM",
        "colab": {
          "base_uri": "https://localhost:8080/"
        },
        "outputId": "1ed55dc3-a42f-455a-f024-5268749bd808"
      },
      "execution_count": 38,
      "outputs": [
        {
          "output_type": "stream",
          "name": "stdout",
          "text": [
            "Bir sayı girin: 12\n",
            "12 mükemmel bir sayı değildir.\n"
          ]
        }
      ]
    },
    {
      "cell_type": "markdown",
      "source": [
        "**Sonsuz Döngüler (while True) ve break**"
      ],
      "metadata": {
        "id": "4ee4TE59a1ct"
      }
    },
    {
      "cell_type": "markdown",
      "source": [
        "Tanım:\n",
        "while True, koşulu her zaman doğru olan bir döngüdür. Döngüyü sonlandırmak için genellikle break ifadesi kullanılır.\n",
        "\n"
      ],
      "metadata": {
        "id": "qttmD4sza3Zg"
      }
    },
    {
      "cell_type": "markdown",
      "source": [
        "**Kolay Örnekler**"
      ],
      "metadata": {
        "id": "58Rdi7XIa6mO"
      }
    },
    {
      "cell_type": "markdown",
      "source": [
        "Örnek 9: Basit Şifre Kontrolü\n",
        "Kullanıcı doğru şifreyi girene kadar döngü devam eder.\n"
      ],
      "metadata": {
        "id": "t2ca8XXobBDU"
      }
    },
    {
      "cell_type": "code",
      "source": [
        "while True:\n",
        "    sifre = input(\"Şifreyi girin: \")\n",
        "    if sifre == \"12345\":\n",
        "        print(\"Giriş başarılı.\")\n",
        "        break\n",
        "    else:\n",
        "        print(\"Yanlış şifre.\")"
      ],
      "metadata": {
        "id": "hKOON-rfbDPk",
        "colab": {
          "base_uri": "https://localhost:8080/"
        },
        "outputId": "8b00ab15-32b9-4c70-971a-2f9d83fd91ad"
      },
      "execution_count": 39,
      "outputs": [
        {
          "output_type": "stream",
          "name": "stdout",
          "text": [
            "Şifreyi girin: 12345\n",
            "Giriş başarılı.\n"
          ]
        }
      ]
    },
    {
      "cell_type": "markdown",
      "source": [
        "Örnek 10: Kullanıcıdan Pozitif Sayılar Toplama\n",
        "Kullanıcı negatif bir sayı girdiğinde döngü sona erer."
      ],
      "metadata": {
        "id": "IbUvFhSxbHVf"
      }
    },
    {
      "cell_type": "code",
      "source": [
        "toplam = 0\n",
        "while True:\n",
        "    sayi = int(input(\"Bir sayı girin (negatif girince bitirir): \"))\n",
        "    if sayi < 0:\n",
        "        break\n",
        "    toplam += sayi\n",
        "print(f\"Girilen sayıların toplamı: {toplam}\")"
      ],
      "metadata": {
        "id": "jQGplWTwbIdO",
        "colab": {
          "base_uri": "https://localhost:8080/"
        },
        "outputId": "84cc59de-34f2-4c7c-d327-9fcb2860fef0"
      },
      "execution_count": 40,
      "outputs": [
        {
          "output_type": "stream",
          "name": "stdout",
          "text": [
            "Bir sayı girin (negatif girince bitirir): 85\n",
            "Bir sayı girin (negatif girince bitirir): 54\n",
            "Bir sayı girin (negatif girince bitirir): -1\n",
            "Girilen sayıların toplamı: 139\n"
          ]
        }
      ]
    },
    {
      "cell_type": "markdown",
      "source": [
        "**While Döngüsü Soruları**"
      ],
      "metadata": {
        "id": "DL9P8VTrbKB4"
      }
    },
    {
      "cell_type": "markdown",
      "source": [
        "**Kolay Sorular**"
      ],
      "metadata": {
        "id": "iUOTbpbPbRC9"
      }
    },
    {
      "cell_type": "markdown",
      "source": [
        "1. 1'den 10'a kadar olan sayıları yazdırın."
      ],
      "metadata": {
        "id": "K87VEbM9bTn1"
      }
    },
    {
      "cell_type": "code",
      "source": [
        "sayi = 1\n",
        "while sayi <= 10:\n",
        "    print(sayi)\n",
        "    sayi += 1"
      ],
      "metadata": {
        "id": "fGXRokhMbXwT",
        "colab": {
          "base_uri": "https://localhost:8080/"
        },
        "outputId": "ca3e21eb-f859-4b2a-b595-bebbfc304791"
      },
      "execution_count": 41,
      "outputs": [
        {
          "output_type": "stream",
          "name": "stdout",
          "text": [
            "1\n",
            "2\n",
            "3\n",
            "4\n",
            "5\n",
            "6\n",
            "7\n",
            "8\n",
            "9\n",
            "10\n"
          ]
        }
      ]
    },
    {
      "cell_type": "markdown",
      "source": [
        "2. Kullanıcı \"tamam\" yazana kadar girdi alıp yazdırın."
      ],
      "metadata": {
        "id": "aPDA4Qu5bZEH"
      }
    },
    {
      "cell_type": "code",
      "source": [
        "girdi = \"\"\n",
        "while girdi != \"tamam\":\n",
        "    girdi = input(\"Bir şey yazın (tamam yazınca durur): \")\n",
        "    print(f\"Girdiğiniz: {girdi}\")"
      ],
      "metadata": {
        "colab": {
          "base_uri": "https://localhost:8080/"
        },
        "id": "gyDRvMC8bawq",
        "outputId": "5b73ea9e-bf54-4d2e-d90b-a01e5fce9ebf"
      },
      "execution_count": 42,
      "outputs": [
        {
          "output_type": "stream",
          "name": "stdout",
          "text": [
            "Bir şey yazın (tamam yazınca durur): furkan\n",
            "Girdiğiniz: furkan\n",
            "Bir şey yazın (tamam yazınca durur): sönmez\n",
            "Girdiğiniz: sönmez\n",
            "Bir şey yazın (tamam yazınca durur): tamam\n",
            "Girdiğiniz: tamam\n"
          ]
        }
      ]
    },
    {
      "cell_type": "markdown",
      "source": [
        "3. 10'a kadar çift sayıları yazdırın.\n"
      ],
      "metadata": {
        "id": "0Xt_rRXebcbK"
      }
    },
    {
      "cell_type": "code",
      "source": [
        "sayi = 0\n",
        "while sayi <= 10:\n",
        "    if sayi % 2 == 0:\n",
        "        print(sayi)\n",
        "    sayi += 1"
      ],
      "metadata": {
        "id": "Tlss7OtwbfLL",
        "colab": {
          "base_uri": "https://localhost:8080/"
        },
        "outputId": "ec7183cd-9865-4de9-f10a-e45ab6f94520"
      },
      "execution_count": 43,
      "outputs": [
        {
          "output_type": "stream",
          "name": "stdout",
          "text": [
            "0\n",
            "2\n",
            "4\n",
            "6\n",
            "8\n",
            "10\n"
          ]
        }
      ]
    },
    {
      "cell_type": "markdown",
      "source": [
        "4. 1'den 20'ye kadar sayıların toplamını bulun.\n"
      ],
      "metadata": {
        "id": "-yuAYiS-bh_K"
      }
    },
    {
      "cell_type": "code",
      "source": [
        "sayi = 1\n",
        "toplam = 0\n",
        "while sayi <= 20:\n",
        "    toplam += sayi\n",
        "    sayi += 1\n",
        "print(f\"Toplam: {toplam}\")"
      ],
      "metadata": {
        "id": "ca40N5Z4blVC",
        "colab": {
          "base_uri": "https://localhost:8080/"
        },
        "outputId": "76346199-1ee1-469d-a805-f963abf6b7cf"
      },
      "execution_count": 44,
      "outputs": [
        {
          "output_type": "stream",
          "name": "stdout",
          "text": [
            "Toplam: 210\n"
          ]
        }
      ]
    },
    {
      "cell_type": "markdown",
      "source": [
        "5. Kullanıcıdan pozitif sayılar alıp toplamını hesaplayın. Negatif bir sayı girince durun.\n"
      ],
      "metadata": {
        "id": "MlICyczXbo1d"
      }
    },
    {
      "cell_type": "code",
      "source": [
        "toplam = 0\n",
        "while True:\n",
        "    sayi = int(input(\"Pozitif bir sayı girin (negatif girince durur): \"))\n",
        "    if sayi < 0:\n",
        "        break\n",
        "    toplam += sayi\n",
        "print(f\"Toplam: {toplam}\")"
      ],
      "metadata": {
        "id": "WQ3ObsMsbrSP",
        "colab": {
          "base_uri": "https://localhost:8080/"
        },
        "outputId": "d96d84da-7928-483f-ad5a-db6fe9b3c172"
      },
      "execution_count": 45,
      "outputs": [
        {
          "output_type": "stream",
          "name": "stdout",
          "text": [
            "Pozitif bir sayı girin (negatif girince durur): 45\n",
            "Pozitif bir sayı girin (negatif girince durur): 76\n",
            "Pozitif bir sayı girin (negatif girince durur): -1\n",
            "Toplam: 121\n"
          ]
        }
      ]
    },
    {
      "cell_type": "markdown",
      "source": [
        "**Zor Sorular**"
      ],
      "metadata": {
        "id": "NBZ7GXLLcA-v"
      }
    },
    {
      "cell_type": "markdown",
      "source": [
        "6. Bir sayıyı basamaklarına ayırıp her basamağı ayrı satırda yazdırın."
      ],
      "metadata": {
        "id": "Z7_c6kojcDnO"
      }
    },
    {
      "cell_type": "code",
      "source": [
        "sayi = int(input(\"Bir sayı girin: \"))\n",
        "while sayi > 0:\n",
        "    print(sayi % 10)\n",
        "    sayi //= 10"
      ],
      "metadata": {
        "id": "VMaDdQg-cGjq",
        "colab": {
          "base_uri": "https://localhost:8080/"
        },
        "outputId": "c5e96d99-9a5c-4216-de4f-336fa73ca7ab"
      },
      "execution_count": 46,
      "outputs": [
        {
          "output_type": "stream",
          "name": "stdout",
          "text": [
            "Bir sayı girin: 10\n",
            "0\n",
            "1\n"
          ]
        }
      ]
    },
    {
      "cell_type": "markdown",
      "source": [
        "7. Asal sayıların toplamını 100'e kadar bulun."
      ],
      "metadata": {
        "id": "SAuYHOWFcTg2"
      }
    },
    {
      "cell_type": "code",
      "source": [
        "sayi = 2\n",
        "toplam = 0\n",
        "while sayi <= 100:\n",
        "    bolen = 2\n",
        "    asal = True\n",
        "    while bolen < sayi:\n",
        "        if sayi % bolen == 0:\n",
        "            asal = False\n",
        "            break\n",
        "        bolen += 1\n",
        "    if asal:\n",
        "        toplam += sayi\n",
        "    sayi += 1\n",
        "print(f\"Asal sayıların toplamı: {toplam}\")"
      ],
      "metadata": {
        "id": "G0t9OW4QcWKr",
        "colab": {
          "base_uri": "https://localhost:8080/"
        },
        "outputId": "65f93a2d-6ff0-4f1c-bf8b-31607517e02c"
      },
      "execution_count": 47,
      "outputs": [
        {
          "output_type": "stream",
          "name": "stdout",
          "text": [
            "Asal sayıların toplamı: 1060\n"
          ]
        }
      ]
    },
    {
      "cell_type": "markdown",
      "source": [
        "8. Mükemmel sayıları 100'e kadar yazdırın. Bir sayı, çarpanlarının toplamı kendisine eşitse mükemmel sayıdır."
      ],
      "metadata": {
        "id": "nE8GdJRacXWg"
      }
    },
    {
      "cell_type": "code",
      "source": [
        "sayi = 1\n",
        "while sayi <= 100:\n",
        "    toplam = 0\n",
        "    bolen = 1\n",
        "    while bolen < sayi:\n",
        "        if sayi % bolen == 0:\n",
        "            toplam += bolen\n",
        "        bolen += 1\n",
        "    if toplam == sayi:\n",
        "        print(sayi)\n",
        "    sayi += 1"
      ],
      "metadata": {
        "id": "-4yGzrqycbMQ",
        "colab": {
          "base_uri": "https://localhost:8080/"
        },
        "outputId": "b6fa9c82-3236-4771-889c-ef53cabf147c"
      },
      "execution_count": 48,
      "outputs": [
        {
          "output_type": "stream",
          "name": "stdout",
          "text": [
            "6\n",
            "28\n"
          ]
        }
      ]
    },
    {
      "cell_type": "markdown",
      "source": [
        "9. Kullanıcıdan alınan sayılarla bir liste oluşturun. Kullanıcı \"bitir\" yazarsa durun."
      ],
      "metadata": {
        "id": "_281f7esccfl"
      }
    },
    {
      "cell_type": "code",
      "source": [
        "liste = []\n",
        "while True:\n",
        "    girdi = input(\"Bir sayı girin (bitir yazınca durur): \")\n",
        "    if girdi == \"bitir\":\n",
        "        break\n",
        "    liste.append(int(girdi))\n",
        "print(f\"Girilen sayılar: {liste}\")"
      ],
      "metadata": {
        "id": "yfiKdXNbcfRP",
        "colab": {
          "base_uri": "https://localhost:8080/"
        },
        "outputId": "3de23722-6357-4a2e-f18e-2736f1e640a6"
      },
      "execution_count": 49,
      "outputs": [
        {
          "output_type": "stream",
          "name": "stdout",
          "text": [
            "Bir sayı girin (bitir yazınca durur): 10\n",
            "Bir sayı girin (bitir yazınca durur): 76\n",
            "Bir sayı girin (bitir yazınca durur): bitir\n",
            "Girilen sayılar: [10, 76]\n"
          ]
        }
      ]
    },
    {
      "cell_type": "markdown",
      "source": [
        "10. Bir sayının palindrom olup olmadığını kontrol edin."
      ],
      "metadata": {
        "id": "sk4IWoupcgnQ"
      }
    },
    {
      "cell_type": "code",
      "source": [
        "sayi = int(input(\"Bir sayı girin: \"))\n",
        "orijinal = sayi\n",
        "ters = 0\n",
        "while sayi > 0:\n",
        "    ters = ters * 10 + sayi % 10\n",
        "    sayi //= 10\n",
        "if orijinal == ters:\n",
        "    print(f\"{orijinal} bir palindrom sayıdır.\")\n",
        "else:\n",
        "    print(f\"{orijinal} bir palindrom sayı değildir.\")"
      ],
      "metadata": {
        "id": "15ffcHf1cj_W",
        "colab": {
          "base_uri": "https://localhost:8080/"
        },
        "outputId": "c3e2cac0-a33d-47dd-d54b-d76b77198ce6"
      },
      "execution_count": 50,
      "outputs": [
        {
          "output_type": "stream",
          "name": "stdout",
          "text": [
            "Bir sayı girin: 15\n",
            "15 bir palindrom sayı değildir.\n"
          ]
        }
      ]
    },
    {
      "cell_type": "markdown",
      "source": [
        "**For Döngüsü**\n"
      ],
      "metadata": {
        "id": "7bMqWoxwcrH0"
      }
    },
    {
      "cell_type": "markdown",
      "source": [
        "Tanım:\n",
        "for döngüsü, Python'da bir veri kümesindeki her eleman üzerinde işlem yapmak için kullanılır. Bu veri kümesi bir liste, dizi (string), range() fonksiyonu veya başka bir iterable olabilir.\n"
      ],
      "metadata": {
        "id": "uCcj5cZZc6FP"
      }
    },
    {
      "cell_type": "markdown",
      "source": [
        "**Kullanım Alanları**\n",
        "* Listeler ve karakter dizileri üzerinde işlem yapmak.\n",
        "* Sayısal aralıklar üzerinde döngü kurmak.\n",
        "* Dosya işlemleri sırasında satırları okumak.\n",
        "* Matematiksel ve algoritmik hesaplamalar yapmak.\n"
      ],
      "metadata": {
        "id": "7sztP6dLc9y_"
      }
    },
    {
      "cell_type": "markdown",
      "source": [
        "Genel Yapısı"
      ],
      "metadata": {
        "id": "VzzYwPrSdJgL"
      }
    },
    {
      "cell_type": "code",
      "source": [
        "# for eleman in iterable:\n",
        "    # işlemler"
      ],
      "metadata": {
        "id": "WBjvpQvWdLxB"
      },
      "execution_count": 51,
      "outputs": []
    },
    {
      "cell_type": "markdown",
      "source": [
        "* eleman: Döngü her çalıştığında, sıradaki elemanı temsil eder.\n",
        "* iterable: Döngünün üzerinde işlem yapacağı veri kümesi.\n"
      ],
      "metadata": {
        "id": "uiPABqzvdQyf"
      }
    },
    {
      "cell_type": "code",
      "source": [
        "# Örnek:\n",
        "\n",
        "for i in [1, 2, 3]:\n",
        "    print(i)"
      ],
      "metadata": {
        "id": "JH2cBCApdUNH",
        "colab": {
          "base_uri": "https://localhost:8080/"
        },
        "outputId": "22f366ad-16a4-472e-c3b0-9decbb3eb9e2"
      },
      "execution_count": 52,
      "outputs": [
        {
          "output_type": "stream",
          "name": "stdout",
          "text": [
            "1\n",
            "2\n",
            "3\n"
          ]
        }
      ]
    },
    {
      "cell_type": "markdown",
      "source": [
        "**Kolay Örnekler**"
      ],
      "metadata": {
        "id": "Vooxa3iXdaP3"
      }
    },
    {
      "cell_type": "markdown",
      "source": [
        "Örnek 1: Bir listenin elemanlarını yazdırma"
      ],
      "metadata": {
        "id": "R2cOlAueddqU"
      }
    },
    {
      "cell_type": "code",
      "source": [
        "renkler = [\"kırmızı\", \"mavi\", \"yeşil\"]\n",
        "for renk in renkler:\n",
        "    print(renk)"
      ],
      "metadata": {
        "id": "DU-XIHA2dhEC",
        "colab": {
          "base_uri": "https://localhost:8080/"
        },
        "outputId": "97d07f6e-975c-4bcd-a7e8-be380722b5b2"
      },
      "execution_count": 53,
      "outputs": [
        {
          "output_type": "stream",
          "name": "stdout",
          "text": [
            "kırmızı\n",
            "mavi\n",
            "yeşil\n"
          ]
        }
      ]
    },
    {
      "cell_type": "markdown",
      "source": [
        "Örnek 2: Bir stringin karakterlerini yazdırma"
      ],
      "metadata": {
        "id": "pSziP48YdiND"
      }
    },
    {
      "cell_type": "code",
      "source": [
        "kelime = \"Furkan\"\n",
        "for harf in kelime:\n",
        "    print(harf)"
      ],
      "metadata": {
        "colab": {
          "base_uri": "https://localhost:8080/"
        },
        "id": "2pr1UbxEdj8f",
        "outputId": "b9a10ebe-8137-4f41-82de-8e896ae661a6"
      },
      "execution_count": 54,
      "outputs": [
        {
          "output_type": "stream",
          "name": "stdout",
          "text": [
            "F\n",
            "u\n",
            "r\n",
            "k\n",
            "a\n",
            "n\n"
          ]
        }
      ]
    },
    {
      "cell_type": "markdown",
      "source": [
        "Örnek 3: 1'den 5'e kadar sayıları yazdırma (range ile)\n",
        "range(start, stop, step) bir sayı aralığı oluşturur.\n"
      ],
      "metadata": {
        "id": "tp0zCUZjdnsl"
      }
    },
    {
      "cell_type": "code",
      "source": [
        "for i in range(1, 6):\n",
        "    print(i)"
      ],
      "metadata": {
        "id": "uo1G8zI6dqSN",
        "colab": {
          "base_uri": "https://localhost:8080/"
        },
        "outputId": "a73fa7cf-79fa-4938-a0fc-6ddcdddd7e03"
      },
      "execution_count": 55,
      "outputs": [
        {
          "output_type": "stream",
          "name": "stdout",
          "text": [
            "1\n",
            "2\n",
            "3\n",
            "4\n",
            "5\n"
          ]
        }
      ]
    },
    {
      "cell_type": "markdown",
      "source": [
        "Örnek 4: Bir liste elemanlarının karesini alma\n"
      ],
      "metadata": {
        "id": "1QALBe3SdtMx"
      }
    },
    {
      "cell_type": "code",
      "source": [
        "sayilar = [1, 2, 3, 4]\n",
        "for sayi in sayilar:\n",
        "    print(sayi ** 2)"
      ],
      "metadata": {
        "id": "9QSIImdyduXq",
        "colab": {
          "base_uri": "https://localhost:8080/"
        },
        "outputId": "84c8c533-d3f4-42ae-b94d-e81c19763394"
      },
      "execution_count": 56,
      "outputs": [
        {
          "output_type": "stream",
          "name": "stdout",
          "text": [
            "1\n",
            "4\n",
            "9\n",
            "16\n"
          ]
        }
      ]
    },
    {
      "cell_type": "markdown",
      "source": [
        "Örnek 5: Listeye çift sayıları ekleme\n"
      ],
      "metadata": {
        "id": "pgQ_oy2sdvZZ"
      }
    },
    {
      "cell_type": "code",
      "source": [
        "cift_sayilar = []\n",
        "for i in range(1, 11):\n",
        "    if i % 2 == 0:\n",
        "        cift_sayilar.append(i)\n",
        "print(cift_sayilar)"
      ],
      "metadata": {
        "id": "HmUeD2GQdw4y",
        "colab": {
          "base_uri": "https://localhost:8080/"
        },
        "outputId": "78964b0a-0e44-4d28-d22f-6e42a255783e"
      },
      "execution_count": 57,
      "outputs": [
        {
          "output_type": "stream",
          "name": "stdout",
          "text": [
            "[2, 4, 6, 8, 10]\n"
          ]
        }
      ]
    },
    {
      "cell_type": "markdown",
      "source": [
        "**Orta Zorlukta Örnekler**"
      ],
      "metadata": {
        "id": "gQVtgURzdx8h"
      }
    },
    {
      "cell_type": "markdown",
      "source": [
        "Örnek 6: Her kelimenin ilk harfini büyük yazdırma"
      ],
      "metadata": {
        "id": "Sla_XR7fdz3V"
      }
    },
    {
      "cell_type": "code",
      "source": [
        "kelimeler = [\"Bilgisayar\", \"Furkan\", \"Sönmez\"]\n",
        "for kelime in kelimeler:\n",
        "    print(kelime.capitalize())"
      ],
      "metadata": {
        "id": "0q5gWV6ld3Hd",
        "colab": {
          "base_uri": "https://localhost:8080/"
        },
        "outputId": "bf99f8d3-7570-4d4e-a3c9-12ad5390a96b"
      },
      "execution_count": 58,
      "outputs": [
        {
          "output_type": "stream",
          "name": "stdout",
          "text": [
            "Bilgisayar\n",
            "Furkan\n",
            "Sönmez\n"
          ]
        }
      ]
    },
    {
      "cell_type": "markdown",
      "source": [
        "Örnek 7: Fibonacci dizisi hesaplama"
      ],
      "metadata": {
        "id": "6ohM1iskd7Q4"
      }
    },
    {
      "cell_type": "code",
      "source": [
        "n = int(input(\"Kaç Fibonacci sayısı yazdırılsın: \"))\n",
        "a, b = 0, 1\n",
        "for _ in range(n):\n",
        "    print(a)\n",
        "    a, b = b, a + b"
      ],
      "metadata": {
        "id": "gCmhTMVTd88Q",
        "colab": {
          "base_uri": "https://localhost:8080/"
        },
        "outputId": "d74719d4-3f23-41a7-b938-13cb3fb630c0"
      },
      "execution_count": 59,
      "outputs": [
        {
          "output_type": "stream",
          "name": "stdout",
          "text": [
            "Kaç Fibonacci sayısı yazdırılsın: 10\n",
            "0\n",
            "1\n",
            "1\n",
            "2\n",
            "3\n",
            "5\n",
            "8\n",
            "13\n",
            "21\n",
            "34\n"
          ]
        }
      ]
    },
    {
      "cell_type": "markdown",
      "source": [
        "Örnek 8: Bir string içinde kaç tane sesli harf olduğunu bulma"
      ],
      "metadata": {
        "id": "Hmxp51Vld-U0"
      }
    },
    {
      "cell_type": "code",
      "source": [
        "kelime = \"programlama\"\n",
        "sesli_harfler = \"aeıioöuü\"\n",
        "sayac = 0\n",
        "\n",
        "for harf in kelime:\n",
        "    if harf in sesli_harfler:\n",
        "        sayac += 1\n",
        "print(f\"Sesli harf sayısı: {sayac}\")"
      ],
      "metadata": {
        "id": "FhewGoHLeBFM",
        "colab": {
          "base_uri": "https://localhost:8080/"
        },
        "outputId": "b754642b-ad8d-42bd-d607-24f87843905b"
      },
      "execution_count": 60,
      "outputs": [
        {
          "output_type": "stream",
          "name": "stdout",
          "text": [
            "Sesli harf sayısı: 4\n"
          ]
        }
      ]
    },
    {
      "cell_type": "markdown",
      "source": [
        "Örnek 9: Çarpım Tablosu\n"
      ],
      "metadata": {
        "id": "Kynq2fUXeCFx"
      }
    },
    {
      "cell_type": "code",
      "source": [
        "for i in range(1, 6):\n",
        "    for j in range(1, 6):\n",
        "        print(f\"{i} x {j} = {i * j}\")"
      ],
      "metadata": {
        "id": "D3jGqqkpeDl3",
        "colab": {
          "base_uri": "https://localhost:8080/"
        },
        "outputId": "cd42f554-a2be-4a34-e6c0-958600283f61"
      },
      "execution_count": 61,
      "outputs": [
        {
          "output_type": "stream",
          "name": "stdout",
          "text": [
            "1 x 1 = 1\n",
            "1 x 2 = 2\n",
            "1 x 3 = 3\n",
            "1 x 4 = 4\n",
            "1 x 5 = 5\n",
            "2 x 1 = 2\n",
            "2 x 2 = 4\n",
            "2 x 3 = 6\n",
            "2 x 4 = 8\n",
            "2 x 5 = 10\n",
            "3 x 1 = 3\n",
            "3 x 2 = 6\n",
            "3 x 3 = 9\n",
            "3 x 4 = 12\n",
            "3 x 5 = 15\n",
            "4 x 1 = 4\n",
            "4 x 2 = 8\n",
            "4 x 3 = 12\n",
            "4 x 4 = 16\n",
            "4 x 5 = 20\n",
            "5 x 1 = 5\n",
            "5 x 2 = 10\n",
            "5 x 3 = 15\n",
            "5 x 4 = 20\n",
            "5 x 5 = 25\n"
          ]
        }
      ]
    },
    {
      "cell_type": "markdown",
      "source": [
        "Örnek 10: Asal Sayıları Bulma\n"
      ],
      "metadata": {
        "id": "EbJmSVEmeEqg"
      }
    },
    {
      "cell_type": "code",
      "source": [
        "for sayi in range(2, 20):\n",
        "    asal = True\n",
        "    for bolen in range(2, sayi):\n",
        "        if sayi % bolen == 0:\n",
        "            asal = False\n",
        "            break\n",
        "    if asal:\n",
        "        print(sayi)"
      ],
      "metadata": {
        "id": "SK41ARv9eGUH",
        "colab": {
          "base_uri": "https://localhost:8080/"
        },
        "outputId": "f9ed72b2-af72-4fd6-ba4c-3cf6ad416f1c"
      },
      "execution_count": 62,
      "outputs": [
        {
          "output_type": "stream",
          "name": "stdout",
          "text": [
            "2\n",
            "3\n",
            "5\n",
            "7\n",
            "11\n",
            "13\n",
            "17\n",
            "19\n"
          ]
        }
      ]
    },
    {
      "cell_type": "markdown",
      "source": [
        "**Zor Örnekler**"
      ],
      "metadata": {
        "id": "El-iQvx4eHQW"
      }
    },
    {
      "cell_type": "markdown",
      "source": [
        "Örnek 11: Bir sayıyı ters çevirme"
      ],
      "metadata": {
        "id": "uSe9FsjoeI5z"
      }
    },
    {
      "cell_type": "code",
      "source": [
        "sayi = int(input(\"Bir sayı girin: \"))\n",
        "ters = \"\"\n",
        "for rakam in str(sayi):\n",
        "    ters = rakam + ters\n",
        "print(f\"Ters çevrilmiş sayı: {ters}\")"
      ],
      "metadata": {
        "id": "3D9HRvVaeKIU",
        "colab": {
          "base_uri": "https://localhost:8080/"
        },
        "outputId": "a7626d77-b567-4611-91b9-98c61214ed1f"
      },
      "execution_count": 63,
      "outputs": [
        {
          "output_type": "stream",
          "name": "stdout",
          "text": [
            "Bir sayı girin: 89\n",
            "Ters çevrilmiş sayı: 98\n"
          ]
        }
      ]
    },
    {
      "cell_type": "markdown",
      "source": [
        "Örnek 12: Bir cümledeki kelime uzunluklarını hesaplama\n"
      ],
      "metadata": {
        "id": "6PuGtWV_eLJg"
      }
    },
    {
      "cell_type": "code",
      "source": [
        "cumle = \"Python programlama öğreniyorum\"\n",
        "kelimeler = cumle.split()\n",
        "for kelime in kelimeler:\n",
        "    print(f\"{kelime}: {len(kelime)} karakter\")"
      ],
      "metadata": {
        "id": "sRMX_jqXeNO-",
        "colab": {
          "base_uri": "https://localhost:8080/"
        },
        "outputId": "f8b3e57a-7638-4f14-8574-3804a45cff83"
      },
      "execution_count": 64,
      "outputs": [
        {
          "output_type": "stream",
          "name": "stdout",
          "text": [
            "Python: 6 karakter\n",
            "programlama: 11 karakter\n",
            "öğreniyorum: 11 karakter\n"
          ]
        }
      ]
    },
    {
      "cell_type": "markdown",
      "source": [
        "Örnek 13: Bir dizideki en büyük ve en küçük elemanları bulma\n"
      ],
      "metadata": {
        "id": "8EElA3_beN-j"
      }
    },
    {
      "cell_type": "code",
      "source": [
        "sayilar = [10, 23, 5, 76, 12]\n",
        "en_kucuk = en_buyuk = sayilar[0]\n",
        "\n",
        "for sayi in sayilar:\n",
        "    if sayi < en_kucuk:\n",
        "        en_kucuk = sayi\n",
        "    if sayi > en_buyuk:\n",
        "        en_buyuk = sayi\n",
        "\n",
        "print(f\"En küçük: {en_kucuk}, En büyük: {en_buyuk}\")"
      ],
      "metadata": {
        "id": "HBhM2IBVePm1",
        "colab": {
          "base_uri": "https://localhost:8080/"
        },
        "outputId": "a4872c2a-a850-40da-8370-f00aa15f3c0e"
      },
      "execution_count": 65,
      "outputs": [
        {
          "output_type": "stream",
          "name": "stdout",
          "text": [
            "En küçük: 5, En büyük: 76\n"
          ]
        }
      ]
    },
    {
      "cell_type": "markdown",
      "source": [
        "Örnek 14: Liste Elemanlarını Gruplama"
      ],
      "metadata": {
        "id": "y2JDtvJseVwI"
      }
    },
    {
      "cell_type": "code",
      "source": [
        "sayilar = [1, 2, 3, 4, 5, 6, 7, 8, 9]\n",
        "tekler = []\n",
        "ciftler = []\n",
        "\n",
        "for sayi in sayilar:\n",
        "    if sayi % 2 == 0:\n",
        "        ciftler.append(sayi)\n",
        "    else:\n",
        "        tekler.append(sayi)\n",
        "\n",
        "print(f\"Çiftler: {ciftler}\")\n",
        "print(f\"Tekler: {tekler}\")"
      ],
      "metadata": {
        "id": "oIX_mU4_eXMP",
        "colab": {
          "base_uri": "https://localhost:8080/"
        },
        "outputId": "e1851c68-4aa0-41ff-ab83-7c46cf254ca7"
      },
      "execution_count": 66,
      "outputs": [
        {
          "output_type": "stream",
          "name": "stdout",
          "text": [
            "Çiftler: [2, 4, 6, 8]\n",
            "Tekler: [1, 3, 5, 7, 9]\n"
          ]
        }
      ]
    },
    {
      "cell_type": "markdown",
      "source": [
        "**range() Fonksiyonu**"
      ],
      "metadata": {
        "id": "25QU79uceY0L"
      }
    },
    {
      "cell_type": "markdown",
      "source": [
        "Tanım:\n",
        "**range()** fonksiyonu, bir sayı dizisi oluşturur ve genellikle for döngüsü ile kullanılır. Döngü sırasında bu sayı dizisinin her bir elemanı üzerinde işlem yapılır."
      ],
      "metadata": {
        "id": "-EGXYoPqeeTK"
      }
    },
    {
      "cell_type": "markdown",
      "source": [
        "**range() Fonksiyonunun Temel Kullanımı**"
      ],
      "metadata": {
        "id": "jo_alPapekpV"
      }
    },
    {
      "cell_type": "markdown",
      "source": [
        "**range()** üç farklı şekilde kullanılabilir:\n",
        "\n"
      ],
      "metadata": {
        "id": "7AeT1R7demKW"
      }
    },
    {
      "cell_type": "markdown",
      "source": [
        "1. range(stop):\n",
        "0'dan başlayarak belirtilen stop değerine kadar (dahil değil) bir sayı dizisi oluşturur.\n"
      ],
      "metadata": {
        "id": "oIJG2IzGepMD"
      }
    },
    {
      "cell_type": "code",
      "source": [
        "# Örnek range(stop):\n",
        "for i in range(5):\n",
        "    print(i)"
      ],
      "metadata": {
        "id": "zxQWn1Cresjc",
        "colab": {
          "base_uri": "https://localhost:8080/"
        },
        "outputId": "1f25af09-d1b6-44db-cf43-67a0e4d1075e"
      },
      "execution_count": 67,
      "outputs": [
        {
          "output_type": "stream",
          "name": "stdout",
          "text": [
            "0\n",
            "1\n",
            "2\n",
            "3\n",
            "4\n"
          ]
        }
      ]
    },
    {
      "cell_type": "markdown",
      "source": [
        "2. range(start, stop):\n",
        "start değerinden başlayarak stop değerine kadar (dahil değil) bir sayı dizisi oluşturur."
      ],
      "metadata": {
        "id": "UNWIdSsoeySo"
      }
    },
    {
      "cell_type": "code",
      "source": [
        "# Örnek range(start,stop):\n",
        "for i in range(2, 7):\n",
        "    print(i)"
      ],
      "metadata": {
        "id": "re7-mA2ye4V1",
        "colab": {
          "base_uri": "https://localhost:8080/"
        },
        "outputId": "67603acb-2559-4961-95f7-0ff3b890836b"
      },
      "execution_count": 68,
      "outputs": [
        {
          "output_type": "stream",
          "name": "stdout",
          "text": [
            "2\n",
            "3\n",
            "4\n",
            "5\n",
            "6\n"
          ]
        }
      ]
    },
    {
      "cell_type": "markdown",
      "source": [
        "3. range(start, stop, step):\n",
        "starttan başlayıp, step adımlarıyla stop değerine kadar bir sayı dizisi oluşturur."
      ],
      "metadata": {
        "id": "4r0AIUcoe9We"
      }
    },
    {
      "cell_type": "code",
      "source": [
        "# Örnek range(start,stop,step):\n",
        "for i in range(1, 10, 2):\n",
        "    print(i)"
      ],
      "metadata": {
        "id": "ODD2EAI1fAuS",
        "colab": {
          "base_uri": "https://localhost:8080/"
        },
        "outputId": "7adb1979-0193-4c32-9071-bfd2bf5175f4"
      },
      "execution_count": 69,
      "outputs": [
        {
          "output_type": "stream",
          "name": "stdout",
          "text": [
            "1\n",
            "3\n",
            "5\n",
            "7\n",
            "9\n"
          ]
        }
      ]
    },
    {
      "cell_type": "markdown",
      "source": [
        "**Kolay Örnekler**"
      ],
      "metadata": {
        "id": "NdjJrLIdfK-y"
      }
    },
    {
      "cell_type": "markdown",
      "source": [
        "Örnek 1: 0'dan 9'a kadar olan sayıları yazdırma"
      ],
      "metadata": {
        "id": "rLFrZeFsfMC3"
      }
    },
    {
      "cell_type": "code",
      "source": [
        "for i in range(10):\n",
        "    print(i)"
      ],
      "metadata": {
        "id": "8Fbkzv62gHH-",
        "colab": {
          "base_uri": "https://localhost:8080/"
        },
        "outputId": "ca2e97be-c2da-4fa9-e739-c595d5ac3967"
      },
      "execution_count": 70,
      "outputs": [
        {
          "output_type": "stream",
          "name": "stdout",
          "text": [
            "0\n",
            "1\n",
            "2\n",
            "3\n",
            "4\n",
            "5\n",
            "6\n",
            "7\n",
            "8\n",
            "9\n"
          ]
        }
      ]
    },
    {
      "cell_type": "markdown",
      "source": [
        "Örnek 2: 1 ile 5 arasındaki sayıları yazdırma\n"
      ],
      "metadata": {
        "id": "-juAmjCYgJHX"
      }
    },
    {
      "cell_type": "code",
      "source": [
        "for i in range(1, 6):\n",
        "    print(i)"
      ],
      "metadata": {
        "id": "TxOBZtFygKLp",
        "colab": {
          "base_uri": "https://localhost:8080/"
        },
        "outputId": "40a566a3-f50f-47a4-cafc-1baa38704563"
      },
      "execution_count": 71,
      "outputs": [
        {
          "output_type": "stream",
          "name": "stdout",
          "text": [
            "1\n",
            "2\n",
            "3\n",
            "4\n",
            "5\n"
          ]
        }
      ]
    },
    {
      "cell_type": "markdown",
      "source": [
        "Örnek 3: 0'dan 20'ye kadar çift sayıları yazdırma"
      ],
      "metadata": {
        "id": "efy3UNybgMap"
      }
    },
    {
      "cell_type": "code",
      "source": [
        "for i in range(0, 21, 2):\n",
        "    print(i)"
      ],
      "metadata": {
        "id": "mUgFX7E8gOBi",
        "colab": {
          "base_uri": "https://localhost:8080/"
        },
        "outputId": "6a43b1fd-44f9-48c9-c0ff-b7fd08ef424c"
      },
      "execution_count": 72,
      "outputs": [
        {
          "output_type": "stream",
          "name": "stdout",
          "text": [
            "0\n",
            "2\n",
            "4\n",
            "6\n",
            "8\n",
            "10\n",
            "12\n",
            "14\n",
            "16\n",
            "18\n",
            "20\n"
          ]
        }
      ]
    },
    {
      "cell_type": "markdown",
      "source": [
        "Örnek 4: 10'dan 1'e geriye doğru sayma\n"
      ],
      "metadata": {
        "id": "Cq58w1JtgPFH"
      }
    },
    {
      "cell_type": "code",
      "source": [
        "for i in range(10, 0, -1):\n",
        "    print(i)"
      ],
      "metadata": {
        "id": "5yPZUGnqgRKY",
        "colab": {
          "base_uri": "https://localhost:8080/"
        },
        "outputId": "2c9defe4-44ac-4959-ddf4-ac7ea1261859"
      },
      "execution_count": 73,
      "outputs": [
        {
          "output_type": "stream",
          "name": "stdout",
          "text": [
            "10\n",
            "9\n",
            "8\n",
            "7\n",
            "6\n",
            "5\n",
            "4\n",
            "3\n",
            "2\n",
            "1\n"
          ]
        }
      ]
    },
    {
      "cell_type": "markdown",
      "source": [
        "Örnek 5: Bir dizideki elemanları **range()** ile yazdırma"
      ],
      "metadata": {
        "id": "jZ37PSgegTLR"
      }
    },
    {
      "cell_type": "code",
      "source": [
        "meyveler = [\"elma\", \"armut\", \"çilek\"]\n",
        "for i in range(len(meyveler)):\n",
        "    print(meyveler[i])"
      ],
      "metadata": {
        "id": "39vhZrKCgV-P",
        "colab": {
          "base_uri": "https://localhost:8080/"
        },
        "outputId": "f7aaa965-8a27-4658-a0bb-15b6dbfd23c5"
      },
      "execution_count": 74,
      "outputs": [
        {
          "output_type": "stream",
          "name": "stdout",
          "text": [
            "elma\n",
            "armut\n",
            "çilek\n"
          ]
        }
      ]
    },
    {
      "cell_type": "markdown",
      "source": [
        "**Orta Zorlukta Örnekler**"
      ],
      "metadata": {
        "id": "oXTMRsYhgY-Z"
      }
    },
    {
      "cell_type": "markdown",
      "source": [
        "Örnek 6: Bir sayının çarpım tablosunu yazdırma\n"
      ],
      "metadata": {
        "id": "5Jjmw7rcgahG"
      }
    },
    {
      "cell_type": "code",
      "source": [
        "sayi = int(input(\"Çarpım tablosu için bir sayı girin: \"))\n",
        "for i in range(1, 11):\n",
        "    print(f\"{sayi} x {i} = {sayi * i}\")"
      ],
      "metadata": {
        "id": "pt5Yzvthgcnn",
        "colab": {
          "base_uri": "https://localhost:8080/"
        },
        "outputId": "577cd123-a4be-4484-f5e1-ce3953f6d84d"
      },
      "execution_count": 75,
      "outputs": [
        {
          "output_type": "stream",
          "name": "stdout",
          "text": [
            "Çarpım tablosu için bir sayı girin: 5\n",
            "5 x 1 = 5\n",
            "5 x 2 = 10\n",
            "5 x 3 = 15\n",
            "5 x 4 = 20\n",
            "5 x 5 = 25\n",
            "5 x 6 = 30\n",
            "5 x 7 = 35\n",
            "5 x 8 = 40\n",
            "5 x 9 = 45\n",
            "5 x 10 = 50\n"
          ]
        }
      ]
    },
    {
      "cell_type": "markdown",
      "source": [
        "Örnek 7: 1'den 100'e kadar olan sayıların toplamını bulma\n"
      ],
      "metadata": {
        "id": "UDDuL83Qgdeq"
      }
    },
    {
      "cell_type": "code",
      "source": [
        "toplam = 0\n",
        "for i in range(1, 101):\n",
        "    toplam += i\n",
        "print(f\"Toplam: {toplam}\")"
      ],
      "metadata": {
        "id": "ZVqwYlLqgfEh",
        "colab": {
          "base_uri": "https://localhost:8080/"
        },
        "outputId": "ee21619e-f231-4071-e92c-17a7590662a6"
      },
      "execution_count": 76,
      "outputs": [
        {
          "output_type": "stream",
          "name": "stdout",
          "text": [
            "Toplam: 5050\n"
          ]
        }
      ]
    },
    {
      "cell_type": "markdown",
      "source": [
        "Örnek 8: Ters bir üçgen yazdırma\n"
      ],
      "metadata": {
        "id": "0FKjZ3TZgf_Y"
      }
    },
    {
      "cell_type": "code",
      "source": [
        "for i in range(5, 0, -1):\n",
        "    print(\"*\" * i)"
      ],
      "metadata": {
        "id": "2URf5fcrghft",
        "colab": {
          "base_uri": "https://localhost:8080/"
        },
        "outputId": "1a48487f-b02e-4ea9-f3bd-757db5d9ba19"
      },
      "execution_count": 77,
      "outputs": [
        {
          "output_type": "stream",
          "name": "stdout",
          "text": [
            "*****\n",
            "****\n",
            "***\n",
            "**\n",
            "*\n"
          ]
        }
      ]
    },
    {
      "cell_type": "markdown",
      "source": [
        "Örnek 9: Asal sayıları bulma"
      ],
      "metadata": {
        "id": "T4L69eJJgimI"
      }
    },
    {
      "cell_type": "code",
      "source": [
        "for sayi in range(2, 50):\n",
        "    asal = True\n",
        "    for bolen in range(2, sayi):\n",
        "        if sayi % bolen == 0:\n",
        "            asal = False\n",
        "            break\n",
        "    if asal:\n",
        "        print(sayi)"
      ],
      "metadata": {
        "id": "aUfFlSQQgj6w",
        "colab": {
          "base_uri": "https://localhost:8080/"
        },
        "outputId": "0e328c13-86c0-4ae8-c983-76b9dcc13329"
      },
      "execution_count": 78,
      "outputs": [
        {
          "output_type": "stream",
          "name": "stdout",
          "text": [
            "2\n",
            "3\n",
            "5\n",
            "7\n",
            "11\n",
            "13\n",
            "17\n",
            "19\n",
            "23\n",
            "29\n",
            "31\n",
            "37\n",
            "41\n",
            "43\n",
            "47\n"
          ]
        }
      ]
    },
    {
      "cell_type": "markdown",
      "source": [
        "Örnek 10: Bir sayıyı basamaklarına ayırma"
      ],
      "metadata": {
        "id": "XAbWZDKTglVc"
      }
    },
    {
      "cell_type": "code",
      "source": [
        "sayi = int(input(\"Bir sayı girin: \"))\n",
        "for rakam in str(sayi):\n",
        "    print(rakam)"
      ],
      "metadata": {
        "id": "FAMXlT8AgnZn",
        "colab": {
          "base_uri": "https://localhost:8080/"
        },
        "outputId": "746c04d3-5364-4ee8-cd4b-4aa3fe588b45"
      },
      "execution_count": 79,
      "outputs": [
        {
          "output_type": "stream",
          "name": "stdout",
          "text": [
            "Bir sayı girin: 45\n",
            "4\n",
            "5\n"
          ]
        }
      ]
    },
    {
      "cell_type": "markdown",
      "source": [
        "**Zor Örnekler**\n"
      ],
      "metadata": {
        "id": "2Sn1WJzNgqAs"
      }
    },
    {
      "cell_type": "markdown",
      "source": [
        "Örnek 11: Çift ve tek sayıların ayrı ayrı toplamını bulma\n"
      ],
      "metadata": {
        "id": "62ayVl7Rgql5"
      }
    },
    {
      "cell_type": "code",
      "source": [
        "tek_toplam = 0\n",
        "cift_toplam = 0\n",
        "for i in range(1, 101):\n",
        "    if i % 2 == 0:\n",
        "        cift_toplam += i\n",
        "    else:\n",
        "        tek_toplam += i\n",
        "print(f\"Tek sayıların toplamı: {tek_toplam}\")\n",
        "print(f\"Çift sayıların toplamı: {cift_toplam}\")"
      ],
      "metadata": {
        "id": "WtRzLLpzgtO_",
        "colab": {
          "base_uri": "https://localhost:8080/"
        },
        "outputId": "9b210934-fb07-47ed-ef2a-0bdd12e47eac"
      },
      "execution_count": 80,
      "outputs": [
        {
          "output_type": "stream",
          "name": "stdout",
          "text": [
            "Tek sayıların toplamı: 2500\n",
            "Çift sayıların toplamı: 2550\n"
          ]
        }
      ]
    },
    {
      "cell_type": "markdown",
      "source": [
        "Örnek 12: Yıldızlardan bir piramit oluşturma\n",
        "\n"
      ],
      "metadata": {
        "id": "QEQFN53agt_n"
      }
    },
    {
      "cell_type": "code",
      "source": [
        "for i in range(1, 6):\n",
        "    print(\" \" * (5 - i) + \"*\" * (2 * i - 1))"
      ],
      "metadata": {
        "id": "4CKs3-mogv_I",
        "colab": {
          "base_uri": "https://localhost:8080/"
        },
        "outputId": "c03457b0-1da1-4565-fcf6-fd210c3df434"
      },
      "execution_count": 81,
      "outputs": [
        {
          "output_type": "stream",
          "name": "stdout",
          "text": [
            "    *\n",
            "   ***\n",
            "  *****\n",
            " *******\n",
            "*********\n"
          ]
        }
      ]
    },
    {
      "cell_type": "markdown",
      "source": [
        "Örnek 13: Ters bir piramit oluşturma\n"
      ],
      "metadata": {
        "id": "TCo2vbdQgw_e"
      }
    },
    {
      "cell_type": "code",
      "source": [
        "for i in range(5, 0, -1):\n",
        "    print(\" \" * (5 - i) + \"*\" * (2 * i - 1))\n"
      ],
      "metadata": {
        "id": "yKtlgnLsgypw",
        "colab": {
          "base_uri": "https://localhost:8080/"
        },
        "outputId": "ad2fb210-9a3f-4975-cb19-b8a1f6d9b3da"
      },
      "execution_count": 82,
      "outputs": [
        {
          "output_type": "stream",
          "name": "stdout",
          "text": [
            "*********\n",
            " *******\n",
            "  *****\n",
            "   ***\n",
            "    *\n"
          ]
        }
      ]
    },
    {
      "cell_type": "markdown",
      "source": [
        "Örnek 14: Adımlarla liste oluşturma"
      ],
      "metadata": {
        "id": "EfmPZBEMg1Fu"
      }
    },
    {
      "cell_type": "code",
      "source": [
        "liste = []\n",
        "for i in range(5, 51, 5):\n",
        "    liste.append(i)\n",
        "print(liste)"
      ],
      "metadata": {
        "id": "3ZTSYFGeg2kc",
        "colab": {
          "base_uri": "https://localhost:8080/"
        },
        "outputId": "fb4660e8-f6ac-4325-d260-b9ae72c2f5bf"
      },
      "execution_count": 83,
      "outputs": [
        {
          "output_type": "stream",
          "name": "stdout",
          "text": [
            "[5, 10, 15, 20, 25, 30, 35, 40, 45, 50]\n"
          ]
        }
      ]
    },
    {
      "cell_type": "markdown",
      "source": [
        "Örnek 15: Çift indeksleri ve tek indeksleri ayırma"
      ],
      "metadata": {
        "id": "3Y_-76Xig3wX"
      }
    },
    {
      "cell_type": "code",
      "source": [
        "liste = [10, 20, 30, 40, 50, 60]\n",
        "cift_indeksler = []\n",
        "tek_indeksler = []\n",
        "\n",
        "for i in range(len(liste)):\n",
        "    if i % 2 == 0:\n",
        "        cift_indeksler.append(liste[i])\n",
        "    else:\n",
        "        tek_indeksler.append(liste[i])\n",
        "\n",
        "print(f\"Çift indeksler: {cift_indeksler}\")\n",
        "print(f\"Tek indeksler: {tek_indeksler}\")"
      ],
      "metadata": {
        "id": "pwtSfzQrg6AP",
        "colab": {
          "base_uri": "https://localhost:8080/"
        },
        "outputId": "fc0c3ae2-56f5-447b-adf9-47142ec59108"
      },
      "execution_count": 84,
      "outputs": [
        {
          "output_type": "stream",
          "name": "stdout",
          "text": [
            "Çift indeksler: [10, 30, 50]\n",
            "Tek indeksler: [20, 40, 60]\n"
          ]
        }
      ]
    },
    {
      "cell_type": "markdown",
      "source": [
        "**continue ifadesi**"
      ],
      "metadata": {
        "id": "Y-O4VdoGoXEl"
      }
    },
    {
      "cell_type": "markdown",
      "source": [
        "continue ifadesi, bir döngü içinde kullanıldığında, döngünün o anki iterasyonunu atlar ve\n",
        "bir sonraki iterasyona geçer. Döngü tamamen sonlanmaz; yalnızca o iterasyonun\n",
        "işlemleri gerçekleştirilmez"
      ],
      "metadata": {
        "id": "yg04mGi5oq8-"
      }
    },
    {
      "cell_type": "markdown",
      "source": [
        "**1. continue İfadesinin Genel Kullanımı**"
      ],
      "metadata": {
        "id": "-UCrJ_pton7k"
      }
    },
    {
      "cell_type": "code",
      "source": [
        "'''\n",
        "for eleman in iterable:\n",
        "    if koşul:\n",
        "        continue\n",
        "    işlemler\n",
        "'''"
      ],
      "metadata": {
        "colab": {
          "base_uri": "https://localhost:8080/",
          "height": 36
        },
        "id": "tOEiYqZyowxE",
        "outputId": "1b773c04-b500-462d-f79d-005b8be0c569"
      },
      "execution_count": 85,
      "outputs": [
        {
          "output_type": "execute_result",
          "data": {
            "text/plain": [
              "'\\nfor eleman in iterable:\\n    if koşul:\\n        continue\\n    işlemler\\n'"
            ],
            "application/vnd.google.colaboratory.intrinsic+json": {
              "type": "string"
            }
          },
          "metadata": {},
          "execution_count": 85
        }
      ]
    },
    {
      "cell_type": "markdown",
      "source": [
        "**2. Kolay Örnekler**"
      ],
      "metadata": {
        "id": "ofJmvOUGpOno"
      }
    },
    {
      "cell_type": "markdown",
      "source": [
        "Örnek 1: Çift Sayıları Atlayarak Yazdırma\n"
      ],
      "metadata": {
        "id": "1DRV6ZozpYm9"
      }
    },
    {
      "cell_type": "code",
      "source": [
        "for i in range(10):\n",
        "    if i % 2 == 0:\n",
        "        continue\n",
        "    print(i)"
      ],
      "metadata": {
        "id": "d09Rdn26paOM",
        "colab": {
          "base_uri": "https://localhost:8080/"
        },
        "outputId": "630a06e0-4b33-460a-d586-726b563754d8"
      },
      "execution_count": 86,
      "outputs": [
        {
          "output_type": "stream",
          "name": "stdout",
          "text": [
            "1\n",
            "3\n",
            "5\n",
            "7\n",
            "9\n"
          ]
        }
      ]
    },
    {
      "cell_type": "markdown",
      "source": [
        "Örnek 2: Kullanıcıdan Girilen Sayıları Toplarken Negatif Sayıları Atla\n"
      ],
      "metadata": {
        "id": "MNSu-TBDpbhh"
      }
    },
    {
      "cell_type": "code",
      "source": [
        "toplam = 0\n",
        "\n",
        "for _ in range(5):\n",
        "    sayi = int(input(\"Bir sayı girin: \"))\n",
        "    if sayi < 0:\n",
        "        continue\n",
        "    toplam += sayi\n",
        "\n",
        "print(f\"Pozitif sayıların toplamı: {toplam}\")"
      ],
      "metadata": {
        "id": "mqFkAFv8pdlB",
        "colab": {
          "base_uri": "https://localhost:8080/"
        },
        "outputId": "3435d90e-b659-4e7a-8e67-4ae58a3e6255"
      },
      "execution_count": 87,
      "outputs": [
        {
          "output_type": "stream",
          "name": "stdout",
          "text": [
            "Bir sayı girin: 18\n",
            "Bir sayı girin: 12\n",
            "Bir sayı girin: 56\n",
            "Bir sayı girin: -45\n",
            "Bir sayı girin: 14\n",
            "Pozitif sayıların toplamı: 100\n"
          ]
        }
      ]
    },
    {
      "cell_type": "markdown",
      "source": [
        "Örnek 3: Belirli Bir Harfi Atlayarak Bir Kelimenin Harflerini Yazdırma\n"
      ],
      "metadata": {
        "id": "WIVdZOvRpfTE"
      }
    },
    {
      "cell_type": "code",
      "source": [
        "kelime = \"programlama\"\n",
        "\n",
        "for harf in kelime:\n",
        "    if harf == \"a\":\n",
        "        continue\n",
        "    print(harf, end=\"\")"
      ],
      "metadata": {
        "id": "-1nokrU5phfz",
        "colab": {
          "base_uri": "https://localhost:8080/"
        },
        "outputId": "26828a4d-e1fc-4803-ea3f-29af48bad25e"
      },
      "execution_count": 88,
      "outputs": [
        {
          "output_type": "stream",
          "name": "stdout",
          "text": [
            "progrmlm"
          ]
        }
      ]
    },
    {
      "cell_type": "markdown",
      "source": [
        "**3. Orta Zorlukta Örnekler**"
      ],
      "metadata": {
        "id": "zDzAwoml5hMn"
      }
    },
    {
      "cell_type": "markdown",
      "source": [
        "Örnek 4: 1'den 20'ye kadar sayıları yazdırırken 5 ve 15'i atla"
      ],
      "metadata": {
        "id": "V64JJcTT5pcG"
      }
    },
    {
      "cell_type": "code",
      "source": [
        "for i in range(1, 21):\n",
        "    if i == 5 or i == 15:\n",
        "        continue\n",
        "    print(i, end=\" \")"
      ],
      "metadata": {
        "colab": {
          "base_uri": "https://localhost:8080/"
        },
        "id": "JlgJ_3am5rO8",
        "outputId": "9c8b020e-20cb-4faa-fd3f-80c6baba403c"
      },
      "execution_count": 89,
      "outputs": [
        {
          "output_type": "stream",
          "name": "stdout",
          "text": [
            "1 2 3 4 6 7 8 9 10 11 12 13 14 16 17 18 19 20 "
          ]
        }
      ]
    },
    {
      "cell_type": "markdown",
      "source": [
        "Örnek 5: Bir liste elemanlarını yazdırırken belirli bir değeri atla"
      ],
      "metadata": {
        "id": "bKuhGxjd5vJB"
      }
    },
    {
      "cell_type": "code",
      "source": [
        "renkler = [\"kırmızı\", \"mavi\", \"yeşil\", \"sarı\", \"mor\"]\n",
        "for renk in renkler:\n",
        "    if renk == \"yeşil\":\n",
        "        continue\n",
        "    print(renk)"
      ],
      "metadata": {
        "colab": {
          "base_uri": "https://localhost:8080/"
        },
        "id": "A5D3qowL5xj0",
        "outputId": "14995e7f-3c7a-4086-b5b9-f88cabcba962"
      },
      "execution_count": 90,
      "outputs": [
        {
          "output_type": "stream",
          "name": "stdout",
          "text": [
            "kırmızı\n",
            "mavi\n",
            "sarı\n",
            "mor\n"
          ]
        }
      ]
    },
    {
      "cell_type": "markdown",
      "source": [
        "Örnek 6: Çarpım tablosunda çarpımı 12 olan durumları atla"
      ],
      "metadata": {
        "id": "2xGOSYIo5z3N"
      }
    },
    {
      "cell_type": "code",
      "source": [
        "for i in range(1, 6):\n",
        "    for j in range(1, 6):\n",
        "        if i * j == 12:\n",
        "            continue\n",
        "        print(f\"{i} x {j} = {i * j}\")"
      ],
      "metadata": {
        "colab": {
          "base_uri": "https://localhost:8080/"
        },
        "id": "waixFu0X53jf",
        "outputId": "66f51834-4707-420e-900b-e557afaf4e75"
      },
      "execution_count": 91,
      "outputs": [
        {
          "output_type": "stream",
          "name": "stdout",
          "text": [
            "1 x 1 = 1\n",
            "1 x 2 = 2\n",
            "1 x 3 = 3\n",
            "1 x 4 = 4\n",
            "1 x 5 = 5\n",
            "2 x 1 = 2\n",
            "2 x 2 = 4\n",
            "2 x 3 = 6\n",
            "2 x 4 = 8\n",
            "2 x 5 = 10\n",
            "3 x 1 = 3\n",
            "3 x 2 = 6\n",
            "3 x 3 = 9\n",
            "3 x 5 = 15\n",
            "4 x 1 = 4\n",
            "4 x 2 = 8\n",
            "4 x 4 = 16\n",
            "4 x 5 = 20\n",
            "5 x 1 = 5\n",
            "5 x 2 = 10\n",
            "5 x 3 = 15\n",
            "5 x 4 = 20\n",
            "5 x 5 = 25\n"
          ]
        }
      ]
    },
    {
      "cell_type": "markdown",
      "source": [
        "Örnek 7: Bir dizide sadece tek sayıları yazdırma"
      ],
      "metadata": {
        "id": "DUK0BE8R6J_V"
      }
    },
    {
      "cell_type": "code",
      "source": [
        "sayilar = [10, 15, 20, 25, 30, 35]\n",
        "for sayi in sayilar:\n",
        "  if sayi % 2 == 0:\n",
        "    continue\n",
        "  print(sayi)"
      ],
      "metadata": {
        "colab": {
          "base_uri": "https://localhost:8080/"
        },
        "id": "aCjadRhd6LSw",
        "outputId": "65b6ab1e-0cb1-473b-959d-a2c4eaf70457"
      },
      "execution_count": 92,
      "outputs": [
        {
          "output_type": "stream",
          "name": "stdout",
          "text": [
            "15\n",
            "25\n",
            "35\n"
          ]
        }
      ]
    },
    {
      "cell_type": "markdown",
      "source": [
        "**4. Zor Örnekler**"
      ],
      "metadata": {
        "id": "vwOAF5WK57j3"
      }
    },
    {
      "cell_type": "markdown",
      "source": [
        "Örnek 8: Bir cümlede belirli harfleri atlayarak yeni bir cümle oluşturma"
      ],
      "metadata": {
        "id": "ZTjMS-UX6axm"
      }
    },
    {
      "cell_type": "code",
      "source": [
        "cumle = \"Python programlama çok eğlenceli!\"\n",
        "yasak_harfler = \"aeiou\"\n",
        "yeni_cumle = \"\"\n",
        "\n",
        "for harf in cumle:\n",
        "    if harf.lower() in yasak_harfler:\n",
        "        continue\n",
        "    yeni_cumle += harf\n",
        "\n",
        "print(yeni_cumle)"
      ],
      "metadata": {
        "colab": {
          "base_uri": "https://localhost:8080/"
        },
        "id": "UxU4eLAb6lp9",
        "outputId": "12d03993-6a87-46f0-84de-f85e55bd0202"
      },
      "execution_count": 93,
      "outputs": [
        {
          "output_type": "stream",
          "name": "stdout",
          "text": [
            "Pythn prgrmlm çk ğlncl!\n"
          ]
        }
      ]
    },
    {
      "cell_type": "markdown",
      "source": [
        "Örnek 9: Bir dizi içinde negatif sayıları atlayarak sadece pozitif sayıların\n",
        "ortalamasını hesaplama"
      ],
      "metadata": {
        "id": "9Rw_aoho6oa-"
      }
    },
    {
      "cell_type": "code",
      "source": [
        "sayilar = [10, -20, 15, -5, 30, -10]\n",
        "toplam = 0\n",
        "pozitif_sayilar = 0\n",
        "\n",
        "for sayi in sayilar:\n",
        "    if sayi < 0:\n",
        "        continue\n",
        "    toplam += sayi\n",
        "    pozitif_sayilar += 1\n",
        "\n",
        "if pozitif_sayilar > 0:\n",
        "    print(f\"Pozitif sayıların ortalaması: {toplam / pozitif_sayilar}\")\n",
        "else:\n",
        "    print(\"Pozitif sayı yok.\")"
      ],
      "metadata": {
        "colab": {
          "base_uri": "https://localhost:8080/"
        },
        "id": "GV120e0i6tV4",
        "outputId": "37b1f124-7972-4ec1-f73a-f4da86524a65"
      },
      "execution_count": 94,
      "outputs": [
        {
          "output_type": "stream",
          "name": "stdout",
          "text": [
            "Pozitif sayıların ortalaması: 18.333333333333332\n"
          ]
        }
      ]
    },
    {
      "cell_type": "markdown",
      "source": [
        "Örnek 10: 1 ile 100 arasındaki asal sayılardan 50'den küçük olanları yazdırma"
      ],
      "metadata": {
        "id": "yyGf3ifG6vGS"
      }
    },
    {
      "cell_type": "code",
      "source": [
        "for sayi in range(2, 101):\n",
        "    asal = True\n",
        "    for bolen in range(2, sayi):\n",
        "        if sayi % bolen == 0:\n",
        "            asal = False\n",
        "            break\n",
        "    if not asal or sayi >= 50:\n",
        "        continue\n",
        "    print(sayi)"
      ],
      "metadata": {
        "colab": {
          "base_uri": "https://localhost:8080/"
        },
        "id": "Ccp3u7xk6zfG",
        "outputId": "f794f7e8-c90d-459e-a762-60944b23fc68"
      },
      "execution_count": 95,
      "outputs": [
        {
          "output_type": "stream",
          "name": "stdout",
          "text": [
            "2\n",
            "3\n",
            "5\n",
            "7\n",
            "11\n",
            "13\n",
            "17\n",
            "19\n",
            "23\n",
            "29\n",
            "31\n",
            "37\n",
            "41\n",
            "43\n",
            "47\n"
          ]
        }
      ]
    },
    {
      "cell_type": "markdown",
      "source": [
        "Örnek 11: Yıldızlı bir piramit oluştururken her 3. satırı atla"
      ],
      "metadata": {
        "id": "NsRret5f61BZ"
      }
    },
    {
      "cell_type": "code",
      "source": [
        "for i in range(1, 10):\n",
        "    if i % 3 == 0:\n",
        "        continue\n",
        "    print(\"*\" * i)"
      ],
      "metadata": {
        "colab": {
          "base_uri": "https://localhost:8080/"
        },
        "id": "M0iK38It62yI",
        "outputId": "009894a3-7054-4352-866e-49c803359800"
      },
      "execution_count": 96,
      "outputs": [
        {
          "output_type": "stream",
          "name": "stdout",
          "text": [
            "*\n",
            "**\n",
            "****\n",
            "*****\n",
            "*******\n",
            "********\n"
          ]
        }
      ]
    },
    {
      "cell_type": "markdown",
      "source": [
        "**İç İçe Döngüler**"
      ],
      "metadata": {
        "id": "9hbMf3Oj64cp"
      }
    },
    {
      "cell_type": "markdown",
      "source": [
        "İç içe döngüler, bir döngünün içinde başka bir döngünün bulunmasıdır. Bu yapı genellikle\n",
        "çok boyutlu işlemler, tablolar veya matrisler üzerinde işlem yapmak için kullanılır."
      ],
      "metadata": {
        "id": "n1HTc9-J67y3"
      }
    },
    {
      "cell_type": "markdown",
      "source": [
        "**1. İç İçe Döngülerin Genel Yapısı**"
      ],
      "metadata": {
        "id": "Wm32DtQ17Bol"
      }
    },
    {
      "cell_type": "markdown",
      "source": [
        "Bir döngü içinde bir başka döngü tanımlayarak işlemler yapılır. İçteki döngü, her dış\n",
        "döngü iterasyonunda baştan sona kadar çalışır."
      ],
      "metadata": {
        "id": "wabcXvl27G1v"
      }
    },
    {
      "cell_type": "code",
      "source": [
        "\"\"\"\n",
        "for i in iterable1:\n",
        " for j in iterable2:\n",
        " işlemler\n",
        "\"\"\""
      ],
      "metadata": {
        "colab": {
          "base_uri": "https://localhost:8080/",
          "height": 36
        },
        "id": "mME8YkNL7Hzf",
        "outputId": "644a960f-0f59-47e2-cb53-1b753d3c20d2"
      },
      "execution_count": 97,
      "outputs": [
        {
          "output_type": "execute_result",
          "data": {
            "text/plain": [
              "'\\nfor i in iterable1:\\n for j in iterable2:\\n işlemler\\n'"
            ],
            "application/vnd.google.colaboratory.intrinsic+json": {
              "type": "string"
            }
          },
          "metadata": {},
          "execution_count": 97
        }
      ]
    },
    {
      "cell_type": "markdown",
      "source": [
        "**2. Kolay Örnekler**"
      ],
      "metadata": {
        "id": "7MKbHpB77VW9"
      }
    },
    {
      "cell_type": "markdown",
      "source": [
        "Örnek 1: Basit Çarpım Tablosu"
      ],
      "metadata": {
        "id": "hkAhGGio7Y96"
      }
    },
    {
      "cell_type": "code",
      "source": [
        "for i in range(1, 6):\n",
        "    for j in range(1, 6):\n",
        "        print(f\"{i} x {j} = {i * j}\")"
      ],
      "metadata": {
        "colab": {
          "base_uri": "https://localhost:8080/"
        },
        "id": "KA7lc91U7cJ8",
        "outputId": "564cac26-5ff3-4495-f7d2-2e563e0b040c"
      },
      "execution_count": 98,
      "outputs": [
        {
          "output_type": "stream",
          "name": "stdout",
          "text": [
            "1 x 1 = 1\n",
            "1 x 2 = 2\n",
            "1 x 3 = 3\n",
            "1 x 4 = 4\n",
            "1 x 5 = 5\n",
            "2 x 1 = 2\n",
            "2 x 2 = 4\n",
            "2 x 3 = 6\n",
            "2 x 4 = 8\n",
            "2 x 5 = 10\n",
            "3 x 1 = 3\n",
            "3 x 2 = 6\n",
            "3 x 3 = 9\n",
            "3 x 4 = 12\n",
            "3 x 5 = 15\n",
            "4 x 1 = 4\n",
            "4 x 2 = 8\n",
            "4 x 3 = 12\n",
            "4 x 4 = 16\n",
            "4 x 5 = 20\n",
            "5 x 1 = 5\n",
            "5 x 2 = 10\n",
            "5 x 3 = 15\n",
            "5 x 4 = 20\n",
            "5 x 5 = 25\n"
          ]
        }
      ]
    },
    {
      "cell_type": "markdown",
      "source": [
        "Örnek 2: 3x3 Kare Matris Yazdırma"
      ],
      "metadata": {
        "id": "Fx3vnWhh7dFW"
      }
    },
    {
      "cell_type": "code",
      "source": [
        "for i in range(3):\n",
        "    for j in range(3):\n",
        "        print(f\"({i}, {j})\", end=\" \")\n",
        "    print()"
      ],
      "metadata": {
        "colab": {
          "base_uri": "https://localhost:8080/"
        },
        "id": "g64uUClw7gBE",
        "outputId": "b7fb6337-16f1-413b-abeb-84ca05fae087"
      },
      "execution_count": 99,
      "outputs": [
        {
          "output_type": "stream",
          "name": "stdout",
          "text": [
            "(0, 0) (0, 1) (0, 2) \n",
            "(1, 0) (1, 1) (1, 2) \n",
            "(2, 0) (2, 1) (2, 2) \n"
          ]
        }
      ]
    },
    {
      "cell_type": "markdown",
      "source": [
        "Örnek 3: Yıldızlarla Dik Üçgen Oluşturma"
      ],
      "metadata": {
        "id": "2DZg8Vpn7hFA"
      }
    },
    {
      "cell_type": "code",
      "source": [
        "for i in range(1, 6):\n",
        "    for j in range(i):\n",
        "        print(\"*\", end=\"\")\n",
        "    print()"
      ],
      "metadata": {
        "colab": {
          "base_uri": "https://localhost:8080/"
        },
        "id": "708cg9AP7i0R",
        "outputId": "80cda7d1-0386-461f-b14b-b683af9dc2ed"
      },
      "execution_count": 100,
      "outputs": [
        {
          "output_type": "stream",
          "name": "stdout",
          "text": [
            "*\n",
            "**\n",
            "***\n",
            "****\n",
            "*****\n"
          ]
        }
      ]
    },
    {
      "cell_type": "markdown",
      "source": [
        "**3. Orta Zorlukta Örnekler**"
      ],
      "metadata": {
        "id": "1NYeCDCy7kvh"
      }
    },
    {
      "cell_type": "markdown",
      "source": [
        "Örnek 4: İç İçe Döngü ile Çift Sayılar Tablosu"
      ],
      "metadata": {
        "id": "8GhJUiQs7sEo"
      }
    },
    {
      "cell_type": "code",
      "source": [
        "for i in range(1, 4):\n",
        "    for j in range(1, 6):\n",
        "        print(f\"{i} x {j * 2} = {i * j * 2}\")"
      ],
      "metadata": {
        "colab": {
          "base_uri": "https://localhost:8080/"
        },
        "id": "j0IumrQB7s3a",
        "outputId": "9950a314-114a-42be-fd28-74b7560dab40"
      },
      "execution_count": 101,
      "outputs": [
        {
          "output_type": "stream",
          "name": "stdout",
          "text": [
            "1 x 2 = 2\n",
            "1 x 4 = 4\n",
            "1 x 6 = 6\n",
            "1 x 8 = 8\n",
            "1 x 10 = 10\n",
            "2 x 2 = 4\n",
            "2 x 4 = 8\n",
            "2 x 6 = 12\n",
            "2 x 8 = 16\n",
            "2 x 10 = 20\n",
            "3 x 2 = 6\n",
            "3 x 4 = 12\n",
            "3 x 6 = 18\n",
            "3 x 8 = 24\n",
            "3 x 10 = 30\n"
          ]
        }
      ]
    },
    {
      "cell_type": "markdown",
      "source": [
        "Örnek 5: Bir Matrisi Yazdırma"
      ],
      "metadata": {
        "id": "rGRsl4MI7vFT"
      }
    },
    {
      "cell_type": "code",
      "source": [
        "matris = [\n",
        "    [1, 2, 3],\n",
        "    [4, 5, 6],\n",
        "    [7, 8, 9]\n",
        "]\n",
        "\n",
        "for satir in matris:\n",
        "    for eleman in satir:\n",
        "        print(eleman, end=\" \")\n",
        "    print()"
      ],
      "metadata": {
        "colab": {
          "base_uri": "https://localhost:8080/"
        },
        "id": "XeBW7Q5M7xLm",
        "outputId": "a34947ff-0d4b-4952-d998-774c5fd3c094"
      },
      "execution_count": 102,
      "outputs": [
        {
          "output_type": "stream",
          "name": "stdout",
          "text": [
            "1 2 3 \n",
            "4 5 6 \n",
            "7 8 9 \n"
          ]
        }
      ]
    },
    {
      "cell_type": "markdown",
      "source": [
        "Örnek 6: Piramit Şekli Yazdırma"
      ],
      "metadata": {
        "id": "obOx_Dq07z3E"
      }
    },
    {
      "cell_type": "code",
      "source": [
        "for i in range(1, 6):\n",
        "    print(\" \" * (5 - i), end=\"\")\n",
        "    for j in range(2 * i - 1):\n",
        "        print(\"*\", end=\"\")\n",
        "    print()"
      ],
      "metadata": {
        "colab": {
          "base_uri": "https://localhost:8080/"
        },
        "id": "2sa6eb6Y71mv",
        "outputId": "ba226fa5-7e6f-4d2f-b43d-67eabdaf6481"
      },
      "execution_count": 103,
      "outputs": [
        {
          "output_type": "stream",
          "name": "stdout",
          "text": [
            "    *\n",
            "   ***\n",
            "  *****\n",
            " *******\n",
            "*********\n"
          ]
        }
      ]
    },
    {
      "cell_type": "markdown",
      "source": [
        "Örnek 7: Liste Çarpımı"
      ],
      "metadata": {
        "id": "o5V9JU7-73h6"
      }
    },
    {
      "cell_type": "code",
      "source": [
        "list1 = [1, 2, 3]\n",
        "list2 = [4, 5, 6]\n",
        "\n",
        "for i in list1:\n",
        "    for j in list2:\n",
        "        print(f\"{i} x {j} = {i * j}\")"
      ],
      "metadata": {
        "colab": {
          "base_uri": "https://localhost:8080/"
        },
        "id": "EQLZtlFT75Wg",
        "outputId": "e7ffdb75-ad86-4000-ac11-67cd90b43fff"
      },
      "execution_count": 104,
      "outputs": [
        {
          "output_type": "stream",
          "name": "stdout",
          "text": [
            "1 x 4 = 4\n",
            "1 x 5 = 5\n",
            "1 x 6 = 6\n",
            "2 x 4 = 8\n",
            "2 x 5 = 10\n",
            "2 x 6 = 12\n",
            "3 x 4 = 12\n",
            "3 x 5 = 15\n",
            "3 x 6 = 18\n"
          ]
        }
      ]
    },
    {
      "cell_type": "markdown",
      "source": [
        "**4. Zor Örnekler**"
      ],
      "metadata": {
        "id": "-BQKfP6Y76zq"
      }
    },
    {
      "cell_type": "markdown",
      "source": [
        "Örnek 8: Çarpım Tablosunu Matris Olarak Yazdırma"
      ],
      "metadata": {
        "id": "D3aPuJBt7-sd"
      }
    },
    {
      "cell_type": "code",
      "source": [
        "for i in range(1, 6):\n",
        "    for j in range(1, 6):\n",
        "        print(f\"{i * j:2}\", end=\" \")\n",
        "    print()"
      ],
      "metadata": {
        "colab": {
          "base_uri": "https://localhost:8080/"
        },
        "id": "WZM4yGMM7_VO",
        "outputId": "e494637b-7c78-43d5-9a3d-cb99f6ec9471"
      },
      "execution_count": 105,
      "outputs": [
        {
          "output_type": "stream",
          "name": "stdout",
          "text": [
            " 1  2  3  4  5 \n",
            " 2  4  6  8 10 \n",
            " 3  6  9 12 15 \n",
            " 4  8 12 16 20 \n",
            " 5 10 15 20 25 \n"
          ]
        }
      ]
    },
    {
      "cell_type": "markdown",
      "source": [
        "Örnek 9: İç İçe Döngü ile 3D Koordinatlar Yazdırma"
      ],
      "metadata": {
        "id": "KZo8mhwJ8AvA"
      }
    },
    {
      "cell_type": "code",
      "source": [
        "for x in range(3):\n",
        "    for y in range(3):\n",
        "        for z in range(3):\n",
        "            print(f\"({x}, {y}, {z})\")"
      ],
      "metadata": {
        "colab": {
          "base_uri": "https://localhost:8080/"
        },
        "id": "oUlJe2-28DX2",
        "outputId": "83b7ca93-d051-4ade-bde2-5b9d1269989a"
      },
      "execution_count": 106,
      "outputs": [
        {
          "output_type": "stream",
          "name": "stdout",
          "text": [
            "(0, 0, 0)\n",
            "(0, 0, 1)\n",
            "(0, 0, 2)\n",
            "(0, 1, 0)\n",
            "(0, 1, 1)\n",
            "(0, 1, 2)\n",
            "(0, 2, 0)\n",
            "(0, 2, 1)\n",
            "(0, 2, 2)\n",
            "(1, 0, 0)\n",
            "(1, 0, 1)\n",
            "(1, 0, 2)\n",
            "(1, 1, 0)\n",
            "(1, 1, 1)\n",
            "(1, 1, 2)\n",
            "(1, 2, 0)\n",
            "(1, 2, 1)\n",
            "(1, 2, 2)\n",
            "(2, 0, 0)\n",
            "(2, 0, 1)\n",
            "(2, 0, 2)\n",
            "(2, 1, 0)\n",
            "(2, 1, 1)\n",
            "(2, 1, 2)\n",
            "(2, 2, 0)\n",
            "(2, 2, 1)\n",
            "(2, 2, 2)\n"
          ]
        }
      ]
    },
    {
      "cell_type": "markdown",
      "source": [
        "Örnek 10: Asal Sayılar Matrisini Yazdırma"
      ],
      "metadata": {
        "id": "bKqLFoYF8Era"
      }
    },
    {
      "cell_type": "code",
      "source": [
        "for i in range(1, 10):\n",
        "    for j in range(1, 10):\n",
        "        if i == 1 or j == 1:\n",
        "            print(\"-\", end=\" \")\n",
        "            continue\n",
        "        asal = True\n",
        "        for k in range(2, min(i, j) + 1):\n",
        "            if i % k == 0 and j % k == 0:\n",
        "                asal = False\n",
        "                break\n",
        "        print(\"A\" if asal else \"-\", end=\" \")\n",
        "    print()"
      ],
      "metadata": {
        "colab": {
          "base_uri": "https://localhost:8080/"
        },
        "id": "6yNWFMrS8Hhw",
        "outputId": "29115356-9a25-48e4-a349-50d32bf1a9d9"
      },
      "execution_count": 107,
      "outputs": [
        {
          "output_type": "stream",
          "name": "stdout",
          "text": [
            "- - - - - - - - - \n",
            "- - A - A - A - A \n",
            "- A - A A - A A - \n",
            "- - A - A - A - A \n",
            "- A A A - A A A A \n",
            "- - - - A - A - - \n",
            "- A A A A A - A A \n",
            "- - A - A - A - A \n",
            "- A - A A - A A - \n"
          ]
        }
      ]
    },
    {
      "cell_type": "markdown",
      "source": [
        "Örnek 11: Bir Matriste En Büyük Değeri Bulma"
      ],
      "metadata": {
        "id": "1EonbP6-8I34"
      }
    },
    {
      "cell_type": "code",
      "source": [
        "matris = [\n",
        "    [3, 5, 7],\n",
        "    [2, 8, 6],\n",
        "    [1, 4, 9]\n",
        "]\n",
        "\n",
        "en_buyuk = matris[0][0]\n",
        "for satir in matris:\n",
        "    for eleman in satir:\n",
        "        if eleman > en_buyuk:\n",
        "            en_buyuk = eleman\n",
        "\n",
        "print(f\"En büyük eleman: {en_buyuk}\")"
      ],
      "metadata": {
        "colab": {
          "base_uri": "https://localhost:8080/"
        },
        "id": "DEQ7dEwW8Kmy",
        "outputId": "b81d9dcc-bd63-4f9d-84df-7c7ebcd8ef07"
      },
      "execution_count": 108,
      "outputs": [
        {
          "output_type": "stream",
          "name": "stdout",
          "text": [
            "En büyük eleman: 9\n"
          ]
        }
      ]
    },
    {
      "cell_type": "markdown",
      "source": [
        "**Karakter Dizileri (Stringler) Üzerinde İterasyon**"
      ],
      "metadata": {
        "id": "ulyKoNFP8MLb"
      }
    },
    {
      "cell_type": "markdown",
      "source": [
        "Python'da bir string, **iterable** (üzerinde dolaşılabilir) bir veri türüdür. Bu sayede her bir\n",
        "karakter üzerinde döngülerle işlem yapabiliriz."
      ],
      "metadata": {
        "id": "fIIQvf_T8SH8"
      }
    },
    {
      "cell_type": "markdown",
      "source": [
        "**1. String Üzerinde for Döngüsü**"
      ],
      "metadata": {
        "id": "o9KShrs68U0p"
      }
    },
    {
      "cell_type": "markdown",
      "source": [
        "Bir string üzerindeki her bir karakteri işlemek için for döngüsü kullanılabilir:"
      ],
      "metadata": {
        "id": "jQIl_9Bp8Y32"
      }
    },
    {
      "cell_type": "code",
      "source": [
        "#Genel Yapı:\n",
        "\"\"\"\n",
        "for karakter in string:\n",
        " işlemler\n",
        "\"\"\""
      ],
      "metadata": {
        "colab": {
          "base_uri": "https://localhost:8080/",
          "height": 36
        },
        "id": "aWralyeN8eB3",
        "outputId": "be7bdb67-2c1c-497d-c844-e68127818c00"
      },
      "execution_count": 109,
      "outputs": [
        {
          "output_type": "execute_result",
          "data": {
            "text/plain": [
              "'\\nfor karakter in string:\\n işlemler\\n'"
            ],
            "application/vnd.google.colaboratory.intrinsic+json": {
              "type": "string"
            }
          },
          "metadata": {},
          "execution_count": 109
        }
      ]
    },
    {
      "cell_type": "markdown",
      "source": [
        "**2. Kolay Örnekler**"
      ],
      "metadata": {
        "id": "6rOSOVNO8mMo"
      }
    },
    {
      "cell_type": "markdown",
      "source": [
        "Örnek 1: Bir Stringin Karakterlerini Alt Alta Yazdırma"
      ],
      "metadata": {
        "id": "w0NaeCzF8oF6"
      }
    },
    {
      "cell_type": "code",
      "source": [
        "kelime = \"Python\"\n",
        "for harf in kelime:\n",
        "    print(harf)"
      ],
      "metadata": {
        "colab": {
          "base_uri": "https://localhost:8080/"
        },
        "id": "dIBZD6w_8qC4",
        "outputId": "58aa38a3-588f-441c-e816-8730fa941b62"
      },
      "execution_count": 110,
      "outputs": [
        {
          "output_type": "stream",
          "name": "stdout",
          "text": [
            "P\n",
            "y\n",
            "t\n",
            "h\n",
            "o\n",
            "n\n"
          ]
        }
      ]
    },
    {
      "cell_type": "markdown",
      "source": [
        "Örnek 2: Bir Stringdeki Sesli Harfleri Yazdırma"
      ],
      "metadata": {
        "id": "xLHEwHQ_8uDC"
      }
    },
    {
      "cell_type": "code",
      "source": [
        "kelime = \"programlama\"\n",
        "sesli_harfler = \"aeıioöuü\"\n",
        "\n",
        "for harf in kelime:\n",
        "    if harf in sesli_harfler:\n",
        "        print(harf)"
      ],
      "metadata": {
        "colab": {
          "base_uri": "https://localhost:8080/"
        },
        "id": "tJ6HDY0t8wIE",
        "outputId": "7b4309cb-b754-4bd4-af06-112126e3e722"
      },
      "execution_count": 111,
      "outputs": [
        {
          "output_type": "stream",
          "name": "stdout",
          "text": [
            "o\n",
            "a\n",
            "a\n",
            "a\n"
          ]
        }
      ]
    },
    {
      "cell_type": "markdown",
      "source": [
        "Örnek 3: String Uzunluğunu Bulma"
      ],
      "metadata": {
        "id": "Et3J-Rz_8xX9"
      }
    },
    {
      "cell_type": "code",
      "source": [
        "kelime = \"merhaba\"\n",
        "sayac = 0\n",
        "\n",
        "for harf in kelime:\n",
        "    sayac += 1\n",
        "\n",
        "print(f\"Kelimenin uzunluğu: {sayac}\")"
      ],
      "metadata": {
        "colab": {
          "base_uri": "https://localhost:8080/"
        },
        "id": "COYux-WV8zbp",
        "outputId": "be650e08-fffc-41e1-e73d-276ae91ceece"
      },
      "execution_count": 112,
      "outputs": [
        {
          "output_type": "stream",
          "name": "stdout",
          "text": [
            "Kelimenin uzunluğu: 7\n"
          ]
        }
      ]
    },
    {
      "cell_type": "markdown",
      "source": [
        "Örnek 4: Bir Stringi Tersten Yazdırma"
      ],
      "metadata": {
        "id": "01v2jQ-D83n9"
      }
    },
    {
      "cell_type": "code",
      "source": [
        "kelime = \"Python\"\n",
        "ters = \"\"\n",
        "\n",
        "for harf in kelime:\n",
        "    ters = harf + ters\n",
        "\n",
        "print(f\"Ters: {ters}\")"
      ],
      "metadata": {
        "colab": {
          "base_uri": "https://localhost:8080/"
        },
        "id": "BGB_pb4S86KU",
        "outputId": "234715d5-7b8d-46d7-8f9d-b585a069834e"
      },
      "execution_count": 113,
      "outputs": [
        {
          "output_type": "stream",
          "name": "stdout",
          "text": [
            "Ters: nohtyP\n"
          ]
        }
      ]
    },
    {
      "cell_type": "markdown",
      "source": [
        "Örnek 5: Belirli Bir Harfi Sayma"
      ],
      "metadata": {
        "id": "TBSMrnD1876S"
      }
    },
    {
      "cell_type": "code",
      "source": [
        "kelime = \"programlama\"\n",
        "aranan_harf = \"a\"\n",
        "sayac = 0\n",
        "\n",
        "for harf in kelime:\n",
        "    if harf == aranan_harf:\n",
        "        sayac += 1\n",
        "\n",
        "print(f\"'{aranan_harf}' harfi {sayac} kez geçiyor.\")"
      ],
      "metadata": {
        "colab": {
          "base_uri": "https://localhost:8080/"
        },
        "id": "EbldemPe89pe",
        "outputId": "11bcf449-373f-4485-a6cd-b1269a838ccc"
      },
      "execution_count": 114,
      "outputs": [
        {
          "output_type": "stream",
          "name": "stdout",
          "text": [
            "'a' harfi 3 kez geçiyor.\n"
          ]
        }
      ]
    },
    {
      "cell_type": "markdown",
      "source": [
        "**3. Orta Zorlukta Örnekler**"
      ],
      "metadata": {
        "id": "M96Iau218-5S"
      }
    },
    {
      "cell_type": "markdown",
      "source": [
        "Örnek 6: Her Harfi Büyük Harfe Çevirme"
      ],
      "metadata": {
        "id": "egUM0OYf9BEn"
      }
    },
    {
      "cell_type": "code",
      "source": [
        "kelime = \"python programlama\"\n",
        "for harf in kelime:\n",
        "    print(harf.upper(), end=\"\")"
      ],
      "metadata": {
        "colab": {
          "base_uri": "https://localhost:8080/"
        },
        "id": "NALd3Q4X9C38",
        "outputId": "03b2bf94-98ed-4085-c9f9-f55f93842f6b"
      },
      "execution_count": 115,
      "outputs": [
        {
          "output_type": "stream",
          "name": "stdout",
          "text": [
            "PYTHON PROGRAMLAMA"
          ]
        }
      ]
    },
    {
      "cell_type": "markdown",
      "source": [
        "Örnek 7: Büyük ve Küçük Harf Sayısını Bulma"
      ],
      "metadata": {
        "id": "wAOsArBY9EFg"
      }
    },
    {
      "cell_type": "code",
      "source": [
        "kelime = \"Python Programlama\"\n",
        "buyuk_harf = 0\n",
        "kucuk_harf = 0\n",
        "\n",
        "for harf in kelime:\n",
        "    if harf.isupper():\n",
        "        buyuk_harf += 1\n",
        "    elif harf.islower():\n",
        "        kucuk_harf += 1\n",
        "\n",
        "print(f\"Büyük harf sayısı: {buyuk_harf}\")\n",
        "print(f\"Küçük harf sayısı: {kucuk_harf}\")"
      ],
      "metadata": {
        "colab": {
          "base_uri": "https://localhost:8080/"
        },
        "id": "FOFEcBVj9FPI",
        "outputId": "4e36ee19-bb9e-4b73-8d05-92a62e5a4dfa"
      },
      "execution_count": 116,
      "outputs": [
        {
          "output_type": "stream",
          "name": "stdout",
          "text": [
            "Büyük harf sayısı: 2\n",
            "Küçük harf sayısı: 15\n"
          ]
        }
      ]
    },
    {
      "cell_type": "markdown",
      "source": [
        "Örnek 8: Stringde Sadece Rakamları Bulma"
      ],
      "metadata": {
        "id": "ujtu2M_X9GdR"
      }
    },
    {
      "cell_type": "code",
      "source": [
        "kelime = \"Python3.10 sürümü\"\n",
        "for harf in kelime:\n",
        "    if harf.isdigit():\n",
        "        print(harf, end=\"\")"
      ],
      "metadata": {
        "colab": {
          "base_uri": "https://localhost:8080/"
        },
        "id": "qn8A7PIY9Htd",
        "outputId": "5290df70-2895-4965-d2a6-5f22bb2d14e9"
      },
      "execution_count": 117,
      "outputs": [
        {
          "output_type": "stream",
          "name": "stdout",
          "text": [
            "310"
          ]
        }
      ]
    },
    {
      "cell_type": "markdown",
      "source": [
        "Örnek 9: Bir Stringdeki Kelimeleri Sayma\n"
      ],
      "metadata": {
        "id": "FsLDFMt19Np8"
      }
    },
    {
      "cell_type": "code",
      "source": [
        "cumle = \"Python programlama dili çok güçlüdür.\"\n",
        "kelimeler = cumle.split()\n",
        "print(f\"Kelime sayısı: {len(kelimeler)}\")"
      ],
      "metadata": {
        "colab": {
          "base_uri": "https://localhost:8080/"
        },
        "id": "auf4c8ZF9OHg",
        "outputId": "0bad57d7-5893-46cf-d87f-911f99f059f5"
      },
      "execution_count": 118,
      "outputs": [
        {
          "output_type": "stream",
          "name": "stdout",
          "text": [
            "Kelime sayısı: 5\n"
          ]
        }
      ]
    },
    {
      "cell_type": "markdown",
      "source": [
        "Örnek 10: Stringdeki Kelimelerin İlk Harflerini Yazdırma\n"
      ],
      "metadata": {
        "id": "6rDedQzN9QVK"
      }
    },
    {
      "cell_type": "code",
      "source": [
        "cumle = \"Python programlama dili çok güçlüdür.\"\n",
        "kelimeler = cumle.split()\n",
        "\n",
        "for kelime in kelimeler:\n",
        "    print(kelime[0], end=\"\")"
      ],
      "metadata": {
        "colab": {
          "base_uri": "https://localhost:8080/"
        },
        "id": "TQnIvsED9SF6",
        "outputId": "bae9e341-61d0-4c75-fd24-febcc442873d"
      },
      "execution_count": 119,
      "outputs": [
        {
          "output_type": "stream",
          "name": "stdout",
          "text": [
            "Ppdçg"
          ]
        }
      ]
    },
    {
      "cell_type": "markdown",
      "source": [
        "**4. Zor Örnekler**"
      ],
      "metadata": {
        "id": "CMrV5AkQ9S4w"
      }
    },
    {
      "cell_type": "markdown",
      "source": [
        "Örnek 11: Palindrom kontrolü"
      ],
      "metadata": {
        "id": "xxSHwhpg9Vk-"
      }
    },
    {
      "cell_type": "code",
      "source": [
        "kelime = input(\"Bir kelime girin: \")\n",
        "ters_kelime = \"\"\n",
        "\n",
        "for harf in kelime:\n",
        "    ters_kelime = harf + ters_kelime\n",
        "\n",
        "if kelime == ters_kelime:\n",
        "    print(\"Bu bir palindromdur.\")\n",
        "else:\n",
        "    print(\"Bu bir palindrom değildir.\")"
      ],
      "metadata": {
        "colab": {
          "base_uri": "https://localhost:8080/"
        },
        "id": "4m24ce4r9Xh8",
        "outputId": "8816bfd9-581e-41b0-e3b3-ea2ead20de0e"
      },
      "execution_count": 120,
      "outputs": [
        {
          "output_type": "stream",
          "name": "stdout",
          "text": [
            "Bir kelime girin: 12\n",
            "Bu bir palindrom değildir.\n"
          ]
        }
      ]
    },
    {
      "cell_type": "markdown",
      "source": [
        "Örnek 12: Stringdeki Kelimeleri Tersten Yazdırma"
      ],
      "metadata": {
        "id": "3JFRvYa89ZJq"
      }
    },
    {
      "cell_type": "code",
      "source": [
        "cumle = \"Python programlama çok eğlenceli\"\n",
        "kelimeler = cumle.split()\n",
        "\n",
        "for kelime in kelimeler:\n",
        "    print(kelime[::-1], end=\" \")"
      ],
      "metadata": {
        "colab": {
          "base_uri": "https://localhost:8080/"
        },
        "id": "RA2OvKYE9aiH",
        "outputId": "a9a2f9ae-ad35-4230-b9b9-2cf4b2d6dfc2"
      },
      "execution_count": 121,
      "outputs": [
        {
          "output_type": "stream",
          "name": "stdout",
          "text": [
            "nohtyP amalmargorp koç ilecnelğe "
          ]
        }
      ]
    },
    {
      "cell_type": "markdown",
      "source": [
        "Örnek 13: Büyük Harflerle Başlayan Kelimeleri Bulma"
      ],
      "metadata": {
        "id": "L2s1AJmw9cFm"
      }
    },
    {
      "cell_type": "code",
      "source": [
        "cumle = \"Python Programlama Dili Çok Güçlüdür\"\n",
        "kelimeler = cumle.split()\n",
        "\n",
        "for kelime in kelimeler:\n",
        "    if kelime[0].isupper():\n",
        "        print(kelime)"
      ],
      "metadata": {
        "colab": {
          "base_uri": "https://localhost:8080/"
        },
        "id": "OYFMNTBu9fEu",
        "outputId": "eb8ea21d-7c9f-4a86-e630-671b69d7520b"
      },
      "execution_count": 122,
      "outputs": [
        {
          "output_type": "stream",
          "name": "stdout",
          "text": [
            "Python\n",
            "Programlama\n",
            "Dili\n",
            "Çok\n",
            "Güçlüdür\n"
          ]
        }
      ]
    },
    {
      "cell_type": "markdown",
      "source": [
        "Örnek 14: Sesli ve Sessiz Harfleri Ayırma"
      ],
      "metadata": {
        "id": "3LkZLR-g9gcu"
      }
    },
    {
      "cell_type": "code",
      "source": [
        "kelime = \"programlama\"\n",
        "sesli_harfler = \"aeıioöuü\"\n",
        "sessiz_harfler = \"\"\n",
        "\n",
        "for harf in kelime:\n",
        "    if harf in sesli_harfler:\n",
        "        print(f\"Sesli harf: {harf}\")\n",
        "    else:\n",
        "        sessiz_harfler += harf\n",
        "\n",
        "print(f\"Sessiz harfler: {sessiz_harfler}\")"
      ],
      "metadata": {
        "colab": {
          "base_uri": "https://localhost:8080/"
        },
        "id": "dKArveD69hn_",
        "outputId": "9b5a526c-d652-4fe7-ca1f-d5f03b8b6c6f"
      },
      "execution_count": 123,
      "outputs": [
        {
          "output_type": "stream",
          "name": "stdout",
          "text": [
            "Sesli harf: o\n",
            "Sesli harf: a\n",
            "Sesli harf: a\n",
            "Sesli harf: a\n",
            "Sessiz harfler: prgrmlm\n"
          ]
        }
      ]
    },
    {
      "cell_type": "markdown",
      "source": [
        "Örnek 15: Bir Cümledeki Her Kelimenin Uzunluğunu Yazdırma"
      ],
      "metadata": {
        "id": "PCGRLf0K9kSg"
      }
    },
    {
      "cell_type": "code",
      "source": [
        "cumle = \"Python programlama dili çok eğlenceli\"\n",
        "kelimeler = cumle.split()\n",
        "\n",
        "for kelime in kelimeler:\n",
        "    print(f\"{kelime}: {len(kelime)} karakter\")"
      ],
      "metadata": {
        "colab": {
          "base_uri": "https://localhost:8080/"
        },
        "id": "3-KhgDNh9lt7",
        "outputId": "90b07eb6-17a1-4e07-e213-e46e2108abeb"
      },
      "execution_count": 124,
      "outputs": [
        {
          "output_type": "stream",
          "name": "stdout",
          "text": [
            "Python: 6 karakter\n",
            "programlama: 11 karakter\n",
            "dili: 4 karakter\n",
            "çok: 3 karakter\n",
            "eğlenceli: 9 karakter\n"
          ]
        }
      ]
    },
    {
      "cell_type": "markdown",
      "source": [
        "**Listeler Üzerinde İterasyon**"
      ],
      "metadata": {
        "id": "1malx9PV9mYs"
      }
    },
    {
      "cell_type": "markdown",
      "source": [
        "Python'da **listeler** üzerinde döngüler kullanarak işlem yapabilirsiniz. Her bir liste\n",
        "elemanını tek tek işlemek için genellikle for döngüsü tercih edilir."
      ],
      "metadata": {
        "id": "-qu5NTrY9pNZ"
      }
    },
    {
      "cell_type": "markdown",
      "source": [
        "**1. Liste İterasyonu ile for Döngüsü**"
      ],
      "metadata": {
        "id": "GnjPJRWM9uDI"
      }
    },
    {
      "cell_type": "code",
      "source": [
        "# Bir liste üzerindeki elemanları döngüyle işlemek için:\n",
        "\"\"\"\n",
        "for eleman in liste:\n",
        " işlemler\n",
        "\"\"\"\n",
        "# Örnek:\n",
        "renkler = [\"kırmızı\", \"mavi\", \"yeşil\"]\n",
        "for renk in renkler:\n",
        " print(renk)"
      ],
      "metadata": {
        "colab": {
          "base_uri": "https://localhost:8080/"
        },
        "id": "KZ6tpy8w9120",
        "outputId": "95bf3e77-66b0-445a-d7d8-f3d0f72bffa0"
      },
      "execution_count": 125,
      "outputs": [
        {
          "output_type": "stream",
          "name": "stdout",
          "text": [
            "kırmızı\n",
            "mavi\n",
            "yeşil\n"
          ]
        }
      ]
    },
    {
      "cell_type": "markdown",
      "source": [
        "**2. Kolay Örnekler**"
      ],
      "metadata": {
        "id": "OhGc3YLD-EYU"
      }
    },
    {
      "cell_type": "markdown",
      "source": [
        "Örnek 1: Listenin Elemanlarını Yazdırma"
      ],
      "metadata": {
        "id": "qsF8SwNH-Hx2"
      }
    },
    {
      "cell_type": "code",
      "source": [
        "sayilar = [1, 2, 3, 4, 5]\n",
        "for sayi in sayilar:\n",
        "    print(sayi)"
      ],
      "metadata": {
        "colab": {
          "base_uri": "https://localhost:8080/"
        },
        "id": "QacOFuD6-JOS",
        "outputId": "97df56c4-942e-46a3-c6c8-c4882925cd42"
      },
      "execution_count": 126,
      "outputs": [
        {
          "output_type": "stream",
          "name": "stdout",
          "text": [
            "1\n",
            "2\n",
            "3\n",
            "4\n",
            "5\n"
          ]
        }
      ]
    },
    {
      "cell_type": "markdown",
      "source": [
        "Örnek 2: Liste Elemanlarını Toplama"
      ],
      "metadata": {
        "id": "KYn7HQTq-Kjx"
      }
    },
    {
      "cell_type": "code",
      "source": [
        "sayilar = [10, 20, 30, 40]\n",
        "toplam = 0\n",
        "\n",
        "for sayi in sayilar:\n",
        "    toplam += sayi\n",
        "\n",
        "print(f\"Toplam: {toplam}\")"
      ],
      "metadata": {
        "colab": {
          "base_uri": "https://localhost:8080/"
        },
        "id": "Nx1JjRV5-Mum",
        "outputId": "ca2b9c03-a9dc-435e-e4cc-3ef6e1875c76"
      },
      "execution_count": 127,
      "outputs": [
        {
          "output_type": "stream",
          "name": "stdout",
          "text": [
            "Toplam: 100\n"
          ]
        }
      ]
    },
    {
      "cell_type": "markdown",
      "source": [
        "Örnek 3: Çift sayıları yazdırma"
      ],
      "metadata": {
        "id": "29tj2CEK-RWK"
      }
    },
    {
      "cell_type": "code",
      "source": [
        "sayilar = [1, 2, 3, 4, 5, 6]\n",
        "for sayi in sayilar:\n",
        "    if sayi % 2 == 0:\n",
        "        print(sayi)"
      ],
      "metadata": {
        "colab": {
          "base_uri": "https://localhost:8080/"
        },
        "id": "5PcYSEGK-S4d",
        "outputId": "a209b75a-dc24-46c7-9029-cfc91ed27817"
      },
      "execution_count": 128,
      "outputs": [
        {
          "output_type": "stream",
          "name": "stdout",
          "text": [
            "2\n",
            "4\n",
            "6\n"
          ]
        }
      ]
    },
    {
      "cell_type": "markdown",
      "source": [
        "Örnek 4: Elemanları Sıralı Olarak Numaralandırma"
      ],
      "metadata": {
        "id": "HTx5kc4u-Tfs"
      }
    },
    {
      "cell_type": "code",
      "source": [
        "isimler = [\"Furkan\", \"Sönmez\", \"Okul\"]\n",
        "for i, isim in enumerate(isimler, 1):\n",
        "    print(f\"{i}. {isim}\")"
      ],
      "metadata": {
        "colab": {
          "base_uri": "https://localhost:8080/"
        },
        "id": "wIaEuX3N-Vpk",
        "outputId": "0b8ca76f-f3db-4249-8010-b28c88c2d3b8"
      },
      "execution_count": 129,
      "outputs": [
        {
          "output_type": "stream",
          "name": "stdout",
          "text": [
            "1. Furkan\n",
            "2. Sönmez\n",
            "3. Okul\n"
          ]
        }
      ]
    },
    {
      "cell_type": "markdown",
      "source": [
        "Örnek 5: Elemanları Bir Başka Listeye Aktarma"
      ],
      "metadata": {
        "id": "ubG3qlvG-aCV"
      }
    },
    {
      "cell_type": "code",
      "source": [
        "eski_liste = [1, 2, 3]\n",
        "yeni_liste = []\n",
        "\n",
        "for eleman in eski_liste:\n",
        "    yeni_liste.append(eleman)\n",
        "\n",
        "print(yeni_liste)"
      ],
      "metadata": {
        "colab": {
          "base_uri": "https://localhost:8080/"
        },
        "id": "4OQPnS2m-bw9",
        "outputId": "1776bc26-a6c4-481b-baee-d063bef501d1"
      },
      "execution_count": 130,
      "outputs": [
        {
          "output_type": "stream",
          "name": "stdout",
          "text": [
            "[1, 2, 3]\n"
          ]
        }
      ]
    },
    {
      "cell_type": "markdown",
      "source": [
        "**3. Orta Zorlukta Örnekler**"
      ],
      "metadata": {
        "id": "56aW7Aks-dYv"
      }
    },
    {
      "cell_type": "markdown",
      "source": [
        "Örnek 6: Her elemanın karesini hesaplama"
      ],
      "metadata": {
        "id": "v5PhA8RA-gAB"
      }
    },
    {
      "cell_type": "code",
      "source": [
        "sayilar = [1, 2, 3, 4]\n",
        "for sayi in sayilar:\n",
        "    print(f\"{sayi}^2 = {sayi ** 2}\")"
      ],
      "metadata": {
        "colab": {
          "base_uri": "https://localhost:8080/"
        },
        "id": "CGJwFrsV-hm6",
        "outputId": "58e70226-6ec3-457e-b39c-386e1f36217e"
      },
      "execution_count": 131,
      "outputs": [
        {
          "output_type": "stream",
          "name": "stdout",
          "text": [
            "1^2 = 1\n",
            "2^2 = 4\n",
            "3^2 = 9\n",
            "4^2 = 16\n"
          ]
        }
      ]
    },
    {
      "cell_type": "markdown",
      "source": [
        "Örnek 7: Belirli Bir Harfle Başlayan Elemanları Seçme"
      ],
      "metadata": {
        "id": "c4onxLvg-itN"
      }
    },
    {
      "cell_type": "code",
      "source": [
        "isimler = [\"Ahmet\", \"Ayşe\", \"Fatma\", \"Ali\"]\n",
        "for isim in isimler:\n",
        "    if isim.startswith(\"A\"):\n",
        "        print(isim)"
      ],
      "metadata": {
        "colab": {
          "base_uri": "https://localhost:8080/"
        },
        "id": "dCqAUCBf-kW4",
        "outputId": "80e66f93-c954-400e-bfb6-5e190c1e1f66"
      },
      "execution_count": 132,
      "outputs": [
        {
          "output_type": "stream",
          "name": "stdout",
          "text": [
            "Ahmet\n",
            "Ayşe\n",
            "Ali\n"
          ]
        }
      ]
    },
    {
      "cell_type": "markdown",
      "source": [
        "Örnek 8: En Büyük ve En Küçük Elemanı Bulma"
      ],
      "metadata": {
        "id": "6sLyq5-O-lcj"
      }
    },
    {
      "cell_type": "code",
      "source": [
        "sayilar = [10, 5, 20, 15]\n",
        "en_kucuk = min(sayilar)\n",
        "en_buyuk = max(sayilar)\n",
        "\n",
        "print(f\"En küçük: {en_kucuk}\")\n",
        "print(f\"En büyük: {en_buyuk}\")"
      ],
      "metadata": {
        "colab": {
          "base_uri": "https://localhost:8080/"
        },
        "id": "9cuSM2KA-mtA",
        "outputId": "d968b760-ab53-4ca9-f900-0c94bdf804ee"
      },
      "execution_count": 133,
      "outputs": [
        {
          "output_type": "stream",
          "name": "stdout",
          "text": [
            "En küçük: 5\n",
            "En büyük: 20\n"
          ]
        }
      ]
    },
    {
      "cell_type": "markdown",
      "source": [
        "Örnek 9: Negatif ve Pozitif Sayıları Ayırma\n"
      ],
      "metadata": {
        "id": "UeY5816r-nxf"
      }
    },
    {
      "cell_type": "code",
      "source": [
        "sayilar = [-3, 5, -1, 10, -8, 4]\n",
        "pozitifler = []\n",
        "negatifler = []\n",
        "\n",
        "for sayi in sayilar:\n",
        "    if sayi >= 0:\n",
        "        pozitifler.append(sayi)\n",
        "    else:\n",
        "        negatifler.append(sayi)\n",
        "\n",
        "print(f\"Pozitifler: {pozitifler}\")\n",
        "print(f\"Negatifler: {negatifler}\")"
      ],
      "metadata": {
        "colab": {
          "base_uri": "https://localhost:8080/"
        },
        "id": "huOUXsjy-pVM",
        "outputId": "70c3fc0a-125f-48e5-8a8f-a56597c92eed"
      },
      "execution_count": 134,
      "outputs": [
        {
          "output_type": "stream",
          "name": "stdout",
          "text": [
            "Pozitifler: [5, 10, 4]\n",
            "Negatifler: [-3, -1, -8]\n"
          ]
        }
      ]
    },
    {
      "cell_type": "markdown",
      "source": [
        "Örnek 10: Tekrarlı elemanları kaldırma"
      ],
      "metadata": {
        "id": "bYT6nOog-qoh"
      }
    },
    {
      "cell_type": "code",
      "source": [
        "sayilar = [1, 2, 2, 3, 3, 3, 4, 5, 5]\n",
        "benzersiz = []\n",
        "\n",
        "for sayi in sayilar:\n",
        "    if sayi not in benzersiz:\n",
        "        benzersiz.append(sayi)\n",
        "\n",
        "print(benzersiz)\n"
      ],
      "metadata": {
        "colab": {
          "base_uri": "https://localhost:8080/"
        },
        "id": "uR1sQrMh-wOz",
        "outputId": "4a36d821-047e-4dbf-eb47-01bbae1b0efc"
      },
      "execution_count": 135,
      "outputs": [
        {
          "output_type": "stream",
          "name": "stdout",
          "text": [
            "[1, 2, 3, 4, 5]\n"
          ]
        }
      ]
    },
    {
      "cell_type": "markdown",
      "source": [
        "**4. Zor Örnekler**"
      ],
      "metadata": {
        "id": "76xM14rs-xzD"
      }
    },
    {
      "cell_type": "markdown",
      "source": [
        "Örnek 11: Liste Elemanlarını Tersten Yazdırma"
      ],
      "metadata": {
        "id": "xyBBOuy8-1l6"
      }
    },
    {
      "cell_type": "code",
      "source": [
        "sayilar = [1, 2, 3, 4, 5]\n",
        "for sayi in reversed(sayilar):\n",
        "    print(sayi)"
      ],
      "metadata": {
        "colab": {
          "base_uri": "https://localhost:8080/"
        },
        "id": "7_EL1v1O-4Y8",
        "outputId": "b995a495-177d-496b-e56d-f86aef5025ba"
      },
      "execution_count": 136,
      "outputs": [
        {
          "output_type": "stream",
          "name": "stdout",
          "text": [
            "5\n",
            "4\n",
            "3\n",
            "2\n",
            "1\n"
          ]
        }
      ]
    },
    {
      "cell_type": "markdown",
      "source": [
        "Örnek 12: Her Elemanın Basamaklarının Toplamını Bulma"
      ],
      "metadata": {
        "id": "PjA5mGmt-6Ay"
      }
    },
    {
      "cell_type": "code",
      "source": [
        "sayilar = [12, 45, 67, 89]\n",
        "for sayi in sayilar:\n",
        "    toplam = sum(int(rakam) for rakam in str(sayi))\n",
        "    print(f\"{sayi} -> Basamakların toplamı: {toplam}\")\n"
      ],
      "metadata": {
        "colab": {
          "base_uri": "https://localhost:8080/"
        },
        "id": "2irzSTYn-7de",
        "outputId": "4b5c3be9-6752-4365-8e29-eb41dacf0842"
      },
      "execution_count": 137,
      "outputs": [
        {
          "output_type": "stream",
          "name": "stdout",
          "text": [
            "12 -> Basamakların toplamı: 3\n",
            "45 -> Basamakların toplamı: 9\n",
            "67 -> Basamakların toplamı: 13\n",
            "89 -> Basamakların toplamı: 17\n"
          ]
        }
      ]
    },
    {
      "cell_type": "markdown",
      "source": [
        "Örnek 13: Çift indekslerdeki elemanları yazdırma\n"
      ],
      "metadata": {
        "id": "6gjFDfNt-9s8"
      }
    },
    {
      "cell_type": "code",
      "source": [
        "sayilar = [10, 20, 30, 40, 50, 60]\n",
        "for i in range(0, len(sayilar), 2):\n",
        "    print(sayilar[i])"
      ],
      "metadata": {
        "colab": {
          "base_uri": "https://localhost:8080/"
        },
        "id": "hPjucEUY--JA",
        "outputId": "63b34bb7-97a5-4089-937e-24b9d99cd27d"
      },
      "execution_count": 138,
      "outputs": [
        {
          "output_type": "stream",
          "name": "stdout",
          "text": [
            "10\n",
            "30\n",
            "50\n"
          ]
        }
      ]
    },
    {
      "cell_type": "markdown",
      "source": [
        "Örnek 14: Çift ve tek indeksleri ayırma"
      ],
      "metadata": {
        "id": "XxTjLCh0-_ZU"
      }
    },
    {
      "cell_type": "code",
      "source": [
        "sayilar = [1, 2, 3, 4, 5, 6]\n",
        "cift_indeks = []\n",
        "tek_indeks = []\n",
        "\n",
        "for i in range(len(sayilar)):\n",
        "    if i % 2 == 0:\n",
        "        cift_indeks.append(sayilar[i])\n",
        "    else:\n",
        "        tek_indeks.append(sayilar[i])\n",
        "\n",
        "print(f\"Çift indeks elemanları: {cift_indeks}\")\n",
        "print(f\"Tek indeks elemanları: {tek_indeks}\")"
      ],
      "metadata": {
        "colab": {
          "base_uri": "https://localhost:8080/"
        },
        "id": "QotCYnEs_Avn",
        "outputId": "ded7e33a-2793-4693-b454-048f0d3efc96"
      },
      "execution_count": 139,
      "outputs": [
        {
          "output_type": "stream",
          "name": "stdout",
          "text": [
            "Çift indeks elemanları: [1, 3, 5]\n",
            "Tek indeks elemanları: [2, 4, 6]\n"
          ]
        }
      ]
    },
    {
      "cell_type": "markdown",
      "source": [
        "Örnek 15: İç İçe Liste Elemanlarını Yazdırma\n"
      ],
      "metadata": {
        "id": "uUl6EygX_CKY"
      }
    },
    {
      "cell_type": "code",
      "source": [
        "matris = [[1, 2, 3], [4, 5, 6], [7, 8, 9]]\n",
        "\n",
        "for satir in matris:\n",
        "    for eleman in satir:\n",
        "        print(eleman, end=\" \")\n",
        "    print()"
      ],
      "metadata": {
        "colab": {
          "base_uri": "https://localhost:8080/"
        },
        "id": "-0zC3MFx_D1l",
        "outputId": "f15d7904-8c3f-4842-8855-287e9ff6d05e"
      },
      "execution_count": 140,
      "outputs": [
        {
          "output_type": "stream",
          "name": "stdout",
          "text": [
            "1 2 3 \n",
            "4 5 6 \n",
            "7 8 9 \n"
          ]
        }
      ]
    },
    {
      "cell_type": "markdown",
      "source": [
        "**range() Fonksiyonu**"
      ],
      "metadata": {
        "id": "AmyQKXgo_4N6"
      }
    },
    {
      "cell_type": "markdown",
      "source": [
        "Tanım:\n",
        "Python'da **range()** fonksiyonu, belirli bir sayı aralığını döngü için oluşturmak amacıyla\n",
        "kullanılır. Bu fonksiyon, özellikle for döngüleriyle çok yaygın bir şekilde kullanılır.\n"
      ],
      "metadata": {
        "id": "JFFHA06f_4N7"
      }
    },
    {
      "cell_type": "markdown",
      "source": [
        "**1. range() Fonksiyonunun Yapısı**"
      ],
      "metadata": {
        "id": "InpVtbAC_4N7"
      }
    },
    {
      "cell_type": "markdown",
      "source": [
        "**range()** üç farklı şekilde kullanılabilir:\n",
        "\n"
      ],
      "metadata": {
        "id": "THuyhG6i_4N7"
      }
    },
    {
      "cell_type": "markdown",
      "source": [
        "1. range(stop):\n",
        "0'dan başlayarak belirtilen stop değerine kadar (dahil değil) bir sayı dizisi oluşturur.\n"
      ],
      "metadata": {
        "id": "6Yacvi1u_4N7"
      }
    },
    {
      "cell_type": "code",
      "source": [
        "# Örnek range(stop):\n",
        "for i in range(5):\n",
        "    print(i)"
      ],
      "metadata": {
        "colab": {
          "base_uri": "https://localhost:8080/"
        },
        "id": "6AykecIO_4N7",
        "outputId": "2d694e0e-4092-4c5a-cd56-8ef3329a281b"
      },
      "execution_count": 141,
      "outputs": [
        {
          "output_type": "stream",
          "name": "stdout",
          "text": [
            "0\n",
            "1\n",
            "2\n",
            "3\n",
            "4\n"
          ]
        }
      ]
    },
    {
      "cell_type": "markdown",
      "source": [
        "2. range(start, stop):\n",
        "start değerinden başlayarak stop değerine kadar (dahil değil) bir sayı dizisi oluşturur."
      ],
      "metadata": {
        "id": "nOdgyr4s_4N8"
      }
    },
    {
      "cell_type": "code",
      "source": [
        "# Örnek range(start,stop):\n",
        "for i in range(2, 7):\n",
        "    print(i)"
      ],
      "metadata": {
        "colab": {
          "base_uri": "https://localhost:8080/"
        },
        "id": "6rRJtLcm_4N8",
        "outputId": "93e081da-530f-4632-f8c4-8152e5a8c6bf"
      },
      "execution_count": 142,
      "outputs": [
        {
          "output_type": "stream",
          "name": "stdout",
          "text": [
            "2\n",
            "3\n",
            "4\n",
            "5\n",
            "6\n"
          ]
        }
      ]
    },
    {
      "cell_type": "markdown",
      "source": [
        "3. range(start, stop, step):\n",
        "starttan başlayıp, step adımlarıyla stop değerine kadar bir sayı dizisi oluşturur."
      ],
      "metadata": {
        "id": "B90na7oC_4N8"
      }
    },
    {
      "cell_type": "code",
      "source": [
        "# Örnek range(start,stop,step):\n",
        "for i in range(1, 10, 2):\n",
        "    print(i)"
      ],
      "metadata": {
        "colab": {
          "base_uri": "https://localhost:8080/"
        },
        "id": "AvVV4An9_4N8",
        "outputId": "c0f8c1c4-fce5-4834-8f85-4d40ccfa5f9f"
      },
      "execution_count": 143,
      "outputs": [
        {
          "output_type": "stream",
          "name": "stdout",
          "text": [
            "1\n",
            "3\n",
            "5\n",
            "7\n",
            "9\n"
          ]
        }
      ]
    },
    {
      "cell_type": "markdown",
      "source": [
        "**2. Kolay Örnekler**\n"
      ],
      "metadata": {
        "id": "c4WaQrjU_4N8"
      }
    },
    {
      "cell_type": "markdown",
      "source": [
        "Örnek 1: 0'dan 9'a kadar olan sayıları yazdırma"
      ],
      "metadata": {
        "id": "tsvbKqlY_4N8"
      }
    },
    {
      "cell_type": "code",
      "source": [
        "for i in range(10):\n",
        "    print(i)"
      ],
      "metadata": {
        "colab": {
          "base_uri": "https://localhost:8080/"
        },
        "id": "KboKVD11_4N8",
        "outputId": "09657af9-5b47-45b3-c839-0e0eaab5c546"
      },
      "execution_count": 144,
      "outputs": [
        {
          "output_type": "stream",
          "name": "stdout",
          "text": [
            "0\n",
            "1\n",
            "2\n",
            "3\n",
            "4\n",
            "5\n",
            "6\n",
            "7\n",
            "8\n",
            "9\n"
          ]
        }
      ]
    },
    {
      "cell_type": "markdown",
      "source": [
        "Örnek 2: 5 ile 15 Arasındaki Sayıları Yazdırma"
      ],
      "metadata": {
        "id": "gp3Vg504_4N8"
      }
    },
    {
      "cell_type": "code",
      "source": [
        "for i in range(5, 16):\n",
        "    print(i)"
      ],
      "metadata": {
        "colab": {
          "base_uri": "https://localhost:8080/"
        },
        "id": "1ypxSSVx_4N8",
        "outputId": "20bb3e13-17f5-479c-a500-80cd091286ff"
      },
      "execution_count": 145,
      "outputs": [
        {
          "output_type": "stream",
          "name": "stdout",
          "text": [
            "5\n",
            "6\n",
            "7\n",
            "8\n",
            "9\n",
            "10\n",
            "11\n",
            "12\n",
            "13\n",
            "14\n",
            "15\n"
          ]
        }
      ]
    },
    {
      "cell_type": "markdown",
      "source": [
        "Örnek 3: 1'den 20'ye Kadar Çift Sayıları Yazdırma"
      ],
      "metadata": {
        "id": "yyZwg5hA_4N8"
      }
    },
    {
      "cell_type": "code",
      "source": [
        "for i in range(2, 21, 2):\n",
        "    print(i)"
      ],
      "metadata": {
        "colab": {
          "base_uri": "https://localhost:8080/"
        },
        "id": "khkPyDPh_4N8",
        "outputId": "d4cf6c63-c487-460d-a2dc-89c7e4cc19a4"
      },
      "execution_count": 146,
      "outputs": [
        {
          "output_type": "stream",
          "name": "stdout",
          "text": [
            "2\n",
            "4\n",
            "6\n",
            "8\n",
            "10\n",
            "12\n",
            "14\n",
            "16\n",
            "18\n",
            "20\n"
          ]
        }
      ]
    },
    {
      "cell_type": "markdown",
      "source": [
        "Örnek 4: 10'dan 1'e Geri Sayım"
      ],
      "metadata": {
        "id": "VAtCkcNmAake"
      }
    },
    {
      "cell_type": "code",
      "source": [
        "for i in range(10, 0, -1):\n",
        "    print(i)"
      ],
      "metadata": {
        "colab": {
          "base_uri": "https://localhost:8080/"
        },
        "id": "QXJLZPdqAbtG",
        "outputId": "068ce1d0-c9c4-4fc9-8102-9a55db2dff27"
      },
      "execution_count": 147,
      "outputs": [
        {
          "output_type": "stream",
          "name": "stdout",
          "text": [
            "10\n",
            "9\n",
            "8\n",
            "7\n",
            "6\n",
            "5\n",
            "4\n",
            "3\n",
            "2\n",
            "1\n"
          ]
        }
      ]
    },
    {
      "cell_type": "markdown",
      "source": [
        "Örnek 5: Bir Stringin Karakterlerini İndeksle Yazdırma"
      ],
      "metadata": {
        "id": "nLk7GPh0Acn1"
      }
    },
    {
      "cell_type": "code",
      "source": [
        "kelime = \"Python\"\n",
        "for i in range(len(kelime)):\n",
        "    print(f\"{i}. harf: {kelime[i]}\")"
      ],
      "metadata": {
        "colab": {
          "base_uri": "https://localhost:8080/"
        },
        "id": "iCNKNGBnAd1Q",
        "outputId": "71c76b50-296c-4446-c280-5aa993196522"
      },
      "execution_count": 148,
      "outputs": [
        {
          "output_type": "stream",
          "name": "stdout",
          "text": [
            "0. harf: P\n",
            "1. harf: y\n",
            "2. harf: t\n",
            "3. harf: h\n",
            "4. harf: o\n",
            "5. harf: n\n"
          ]
        }
      ]
    },
    {
      "cell_type": "markdown",
      "source": [
        "**3. Orta Zorlukta Örnekler**"
      ],
      "metadata": {
        "id": "B1uIXJVlAhW8"
      }
    },
    {
      "cell_type": "markdown",
      "source": [
        "Örnek 6: Bir sayının çarpım tablosunu oluşturma"
      ],
      "metadata": {
        "id": "rzxxOqi8AilY"
      }
    },
    {
      "cell_type": "code",
      "source": [
        "sayi = int(input(\"Çarpım tablosu için bir sayı girin: \"))\n",
        "for i in range(1, 11):\n",
        "    print(f\"{sayi} x {i} = {sayi * i}\")"
      ],
      "metadata": {
        "colab": {
          "base_uri": "https://localhost:8080/"
        },
        "id": "qGrrjJA4AlY1",
        "outputId": "0fc2bd86-1414-4f3e-a013-ea7b69491c20"
      },
      "execution_count": 149,
      "outputs": [
        {
          "output_type": "stream",
          "name": "stdout",
          "text": [
            "Çarpım tablosu için bir sayı girin: 12\n",
            "12 x 1 = 12\n",
            "12 x 2 = 24\n",
            "12 x 3 = 36\n",
            "12 x 4 = 48\n",
            "12 x 5 = 60\n",
            "12 x 6 = 72\n",
            "12 x 7 = 84\n",
            "12 x 8 = 96\n",
            "12 x 9 = 108\n",
            "12 x 10 = 120\n"
          ]
        }
      ]
    },
    {
      "cell_type": "markdown",
      "source": [
        "Örnek 7: 1 ile 100 arasındaki sayıların toplamını hesaplama"
      ],
      "metadata": {
        "id": "j-cIvQR_AmD7"
      }
    },
    {
      "cell_type": "code",
      "source": [
        "toplam = 0\n",
        "for i in range(1, 101):\n",
        "    toplam += i\n",
        "\n",
        "print(f\"Toplam: {toplam}\")"
      ],
      "metadata": {
        "colab": {
          "base_uri": "https://localhost:8080/"
        },
        "id": "6bM4nXQLAnT2",
        "outputId": "06696813-05c7-4f6f-d7b1-71059bdbd237"
      },
      "execution_count": 150,
      "outputs": [
        {
          "output_type": "stream",
          "name": "stdout",
          "text": [
            "Toplam: 5050\n"
          ]
        }
      ]
    },
    {
      "cell_type": "markdown",
      "source": [
        "Örnek 8: Ters üçgen yazdırma"
      ],
      "metadata": {
        "id": "K5hir8dAAo70"
      }
    },
    {
      "cell_type": "code",
      "source": [
        "for i in range(5, 0, -1):\n",
        "    print(\"*\" * i)"
      ],
      "metadata": {
        "colab": {
          "base_uri": "https://localhost:8080/"
        },
        "id": "WOL4dILOAtET",
        "outputId": "80750989-2887-4015-a5d8-89c7d9d6ff61"
      },
      "execution_count": 151,
      "outputs": [
        {
          "output_type": "stream",
          "name": "stdout",
          "text": [
            "*****\n",
            "****\n",
            "***\n",
            "**\n",
            "*\n"
          ]
        }
      ]
    },
    {
      "cell_type": "markdown",
      "source": [
        "Örnek 9: Liste Elemanlarını **range()** ile İndeks Kullanarak Yazdırma"
      ],
      "metadata": {
        "id": "CpG-vxocAtqB"
      }
    },
    {
      "cell_type": "code",
      "source": [
        "renkler = [\"kırmızı\", \"mavi\", \"yeşil\"]\n",
        "for i in range(len(renkler)):\n",
        "    print(f\"{i}. renk: {renkler[i]}\")"
      ],
      "metadata": {
        "colab": {
          "base_uri": "https://localhost:8080/"
        },
        "id": "XOFbb1e5Aw2N",
        "outputId": "10fa6f66-eb31-4b90-acf3-b3ae5d9d07d9"
      },
      "execution_count": 152,
      "outputs": [
        {
          "output_type": "stream",
          "name": "stdout",
          "text": [
            "0. renk: kırmızı\n",
            "1. renk: mavi\n",
            "2. renk: yeşil\n"
          ]
        }
      ]
    },
    {
      "cell_type": "markdown",
      "source": [
        "Örnek 10: Asal Sayıları Bulma"
      ],
      "metadata": {
        "id": "o_wjls_3AynD"
      }
    },
    {
      "cell_type": "code",
      "source": [
        "for sayi in range(2, 20):\n",
        "    asal = True\n",
        "    for bolen in range(2, sayi):\n",
        "        if sayi % bolen == 0:\n",
        "            asal = False\n",
        "            break\n",
        "    if asal:\n",
        "        print(sayi)"
      ],
      "metadata": {
        "colab": {
          "base_uri": "https://localhost:8080/"
        },
        "id": "2PCBSEjVA0FS",
        "outputId": "866e2c02-4750-45ba-ee5c-1a2d17da1722"
      },
      "execution_count": 153,
      "outputs": [
        {
          "output_type": "stream",
          "name": "stdout",
          "text": [
            "2\n",
            "3\n",
            "5\n",
            "7\n",
            "11\n",
            "13\n",
            "17\n",
            "19\n"
          ]
        }
      ]
    },
    {
      "cell_type": "markdown",
      "source": [
        "**4. Zor Örnekler**"
      ],
      "metadata": {
        "id": "S2fFfRkSA5Ng"
      }
    },
    {
      "cell_type": "markdown",
      "source": [
        "Örnek 11: Çift ve Tek Sayıların Toplamını Ayrı Ayrı Hesaplama"
      ],
      "metadata": {
        "id": "GqYlrfOMA1QP"
      }
    },
    {
      "cell_type": "code",
      "source": [
        "cift_toplam = 0\n",
        "tek_toplam = 0\n",
        "\n",
        "for i in range(1, 101):\n",
        "    if i % 2 == 0:\n",
        "        cift_toplam += i\n",
        "    else:\n",
        "        tek_toplam += i\n",
        "\n",
        "print(f\"Çift toplam: {cift_toplam}\")\n",
        "print(f\"Tek toplam: {tek_toplam}\")"
      ],
      "metadata": {
        "colab": {
          "base_uri": "https://localhost:8080/"
        },
        "id": "xnWoFGGLA2o7",
        "outputId": "11738fbe-0648-4441-9c2f-1f792a0e3efe"
      },
      "execution_count": 154,
      "outputs": [
        {
          "output_type": "stream",
          "name": "stdout",
          "text": [
            "Çift toplam: 2550\n",
            "Tek toplam: 2500\n"
          ]
        }
      ]
    },
    {
      "cell_type": "markdown",
      "source": [
        "Örnek 12: Piramit deseni oluşturma"
      ],
      "metadata": {
        "id": "-wl9yOHFA7zx"
      }
    },
    {
      "cell_type": "code",
      "source": [
        "for i in range(1, 6):\n",
        "    print(\" \" * (5 - i) + \"*\" * (2 * i - 1))"
      ],
      "metadata": {
        "colab": {
          "base_uri": "https://localhost:8080/"
        },
        "id": "-jdUooPJA9gR",
        "outputId": "7283a548-3739-49a5-ef68-fc141d79c2c7"
      },
      "execution_count": 155,
      "outputs": [
        {
          "output_type": "stream",
          "name": "stdout",
          "text": [
            "    *\n",
            "   ***\n",
            "  *****\n",
            " *******\n",
            "*********\n"
          ]
        }
      ]
    },
    {
      "cell_type": "markdown",
      "source": [
        "Örnek 13: Ters piramit oluşturma"
      ],
      "metadata": {
        "id": "NpmA2BAnA-vP"
      }
    },
    {
      "cell_type": "code",
      "source": [
        "for i in range(5, 0, -1):\n",
        "    print(\" \" * (5 - i) + \"*\" * (2 * i - 1))"
      ],
      "metadata": {
        "colab": {
          "base_uri": "https://localhost:8080/"
        },
        "id": "Cxtr6TM_BAL3",
        "outputId": "e50d9fc7-b331-464f-c6ca-df99974e635a"
      },
      "execution_count": 156,
      "outputs": [
        {
          "output_type": "stream",
          "name": "stdout",
          "text": [
            "*********\n",
            " *******\n",
            "  *****\n",
            "   ***\n",
            "    *\n"
          ]
        }
      ]
    },
    {
      "cell_type": "markdown",
      "source": [
        "Örnek 14: Farklı Adımlarla **range()** Kullanarak Liste Oluşturma"
      ],
      "metadata": {
        "id": "FnmrlZryBBk5"
      }
    },
    {
      "cell_type": "code",
      "source": [
        "liste = []\n",
        "for i in range(5, 51, 5):\n",
        "    liste.append(i)\n",
        "\n",
        "print(liste)"
      ],
      "metadata": {
        "colab": {
          "base_uri": "https://localhost:8080/"
        },
        "id": "RLbzujDUBDyP",
        "outputId": "53cb5e76-8420-423e-f20c-0f99045cf59d"
      },
      "execution_count": 157,
      "outputs": [
        {
          "output_type": "stream",
          "name": "stdout",
          "text": [
            "[5, 10, 15, 20, 25, 30, 35, 40, 45, 50]\n"
          ]
        }
      ]
    },
    {
      "cell_type": "markdown",
      "source": [
        "Örnek 15: Çift İndeksleri ve Tek İndeksleri Ayırma"
      ],
      "metadata": {
        "id": "j2m5eRc3BE-n"
      }
    },
    {
      "cell_type": "code",
      "source": [
        "liste = [10, 20, 30, 40, 50, 60]\n",
        "cift_indeksler = []\n",
        "tek_indeksler = []\n",
        "\n",
        "for i in range(len(liste)):\n",
        "    if i % 2 == 0:\n",
        "        cift_indeksler.append(liste[i])\n",
        "    else:\n",
        "        tek_indeksler.append(liste[i])\n",
        "\n",
        "print(f\"Çift indeksler: {cift_indeksler}\")\n",
        "print(f\"Tek indeksler: {tek_indeksler}\")"
      ],
      "metadata": {
        "colab": {
          "base_uri": "https://localhost:8080/"
        },
        "id": "0hNoaTDHBGR0",
        "outputId": "853c15b8-052f-4cc0-f544-8f77bfb464c9"
      },
      "execution_count": 159,
      "outputs": [
        {
          "output_type": "stream",
          "name": "stdout",
          "text": [
            "Çift indeksler: [10, 30, 50]\n",
            "Tek indeksler: [20, 40, 60]\n"
          ]
        }
      ]
    }
  ]
}