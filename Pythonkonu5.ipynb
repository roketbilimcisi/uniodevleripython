{
  "nbformat": 4,
  "nbformat_minor": 0,
  "metadata": {
    "colab": {
      "provenance": [],
      "authorship_tag": "ABX9TyPLmz+PhU06WEx4RCW+K2Zb",
      "include_colab_link": true
    },
    "kernelspec": {
      "name": "python3",
      "display_name": "Python 3"
    },
    "language_info": {
      "name": "python"
    }
  },
  "cells": [
    {
      "cell_type": "markdown",
      "metadata": {
        "id": "view-in-github",
        "colab_type": "text"
      },
      "source": [
        "<a href=\"https://colab.research.google.com/github/roketbilimcisi/uniodevleripython/blob/main/Pythonkonu5.ipynb\" target=\"_parent\"><img src=\"https://colab.research.google.com/assets/colab-badge.svg\" alt=\"Open In Colab\"/></a>"
      ]
    },
    {
      "cell_type": "markdown",
      "source": [
        "**# Anlatımıda kendime not olarak colabada yazdım yazılması zorunlu değildi**"
      ],
      "metadata": {
        "id": "vwfyxL-MzXSb"
      }
    },
    {
      "cell_type": "markdown",
      "source": [
        "**Python'da Listeler**"
      ],
      "metadata": {
        "id": "RUcIt4wrukD-"
      }
    },
    {
      "cell_type": "markdown",
      "source": [
        "Python’da listeler, birden fazla öğeyi bir arada tutmamıza olanak sağlayan veri yapılandırmalarından biridir. Bu dokümanda listelerin tüm temel ve ileri düzey özellikleri ele alınacaktır"
      ],
      "metadata": {
        "id": "Hyc4fbStu2lG"
      }
    },
    {
      "cell_type": "markdown",
      "source": [
        "**Liste Nedir ve Neden Kullanılır?**"
      ],
      "metadata": {
        "id": "z4CZ2XrbvGHL"
      }
    },
    {
      "cell_type": "markdown",
      "source": [
        "Bir liste, birden fazla değeri sıralı bir şekilde saklamak için kullanılır."
      ],
      "metadata": {
        "id": "XcD9_fzuvH-3"
      }
    },
    {
      "cell_type": "markdown",
      "source": [
        "Python’da listeler aşağıdaki özelliklere sahiptir:\n",
        "\n",
        "\n",
        "*   Sıralıdır\n",
        "*   Değiştirilebilirdir (mutable)\n",
        "*   Farklı veri türlerini bir arada tutabilir\n",
        "\n"
      ],
      "metadata": {
        "id": "9GL6OJtovP-S"
      }
    },
    {
      "cell_type": "markdown",
      "source": [
        "**Liste Tanımı**"
      ],
      "metadata": {
        "id": "jg1LChZNvcp0"
      }
    },
    {
      "cell_type": "markdown",
      "source": [
        "Bir liste köşeli parantezler **([])** kullanılarak tanımlanır, elemanlar ise virgülle **(',')** ayrılır."
      ],
      "metadata": {
        "id": "O_vtCJFZvhH-"
      }
    },
    {
      "cell_type": "code",
      "source": [
        "# Örnek olarak alttaki gibi\n",
        "meyveler = [\"elma\", \"armut\", \"çilek\"]\n",
        "print(meyveler)  # Çıktı: ['elma', 'armut', 'çilek']"
      ],
      "metadata": {
        "colab": {
          "base_uri": "https://localhost:8080/"
        },
        "id": "PO-Rm2ILvn2M",
        "outputId": "a3c00653-eb72-4551-97dc-09825cfd2e81"
      },
      "execution_count": 5,
      "outputs": [
        {
          "output_type": "stream",
          "name": "stdout",
          "text": [
            "['elma', 'armut', 'çilek']\n"
          ]
        }
      ]
    },
    {
      "cell_type": "markdown",
      "source": [
        "**Boş Liste Oluşturma**"
      ],
      "metadata": {
        "id": "KVACtobOvxgd"
      }
    },
    {
      "cell_type": "code",
      "source": [
        "bos_liste = []\n",
        "print(bos_liste)  # Çıktı: []"
      ],
      "metadata": {
        "colab": {
          "base_uri": "https://localhost:8080/"
        },
        "id": "xTQRMtpTvyjI",
        "outputId": "42c27f82-146c-46bc-b963-867a3e5fc977"
      },
      "execution_count": 6,
      "outputs": [
        {
          "output_type": "stream",
          "name": "stdout",
          "text": [
            "[]\n"
          ]
        }
      ]
    },
    {
      "cell_type": "markdown",
      "source": [
        "**Liste Elemanlarına Erişim**"
      ],
      "metadata": {
        "id": "oH_m4tHSv0XK"
      }
    },
    {
      "cell_type": "code",
      "source": [
        "sayilar = [10, 20, 30, 40, 50]\n",
        "print(sayilar[0])  # İlk eleman: 10\n",
        "print(sayilar[3])  # Dördüncü eleman: 40\n",
        "print(sayilar[-1])  # Son eleman: 50 # negatif index kullandık"
      ],
      "metadata": {
        "colab": {
          "base_uri": "https://localhost:8080/"
        },
        "id": "RShcPa_fv3oW",
        "outputId": "32f8754e-0d78-4344-a386-e67df21de26e"
      },
      "execution_count": 7,
      "outputs": [
        {
          "output_type": "stream",
          "name": "stdout",
          "text": [
            "10\n",
            "40\n",
            "50\n"
          ]
        }
      ]
    },
    {
      "cell_type": "markdown",
      "source": [
        "**İndeksleme ile Elemanları Değiştirme**"
      ],
      "metadata": {
        "id": "-7nSCp-jv-Gt"
      }
    },
    {
      "cell_type": "code",
      "source": [
        "sayilar = [10, 20, 30]\n",
        "sayilar[1] = 99  # İkinci elemanı değiştir\n",
        "print(sayilar)  # Çıktı: [10, 99, 30]"
      ],
      "metadata": {
        "colab": {
          "base_uri": "https://localhost:8080/"
        },
        "id": "TRt1TcC_v_1y",
        "outputId": "8356da1d-e181-4dc1-d967-86b172ce4bde"
      },
      "execution_count": 8,
      "outputs": [
        {
          "output_type": "stream",
          "name": "stdout",
          "text": [
            "[10, 99, 30]\n"
          ]
        }
      ]
    },
    {
      "cell_type": "markdown",
      "source": [
        "**Liste Uzunluğu: len() Fonksiyonu**"
      ],
      "metadata": {
        "id": "e3z2e6DKwBfg"
      }
    },
    {
      "cell_type": "code",
      "source": [
        "meyveler = [\"elma\", \"armut\", \"çilek\"]\n",
        "print(len(meyveler))  # Çıktı: 3"
      ],
      "metadata": {
        "colab": {
          "base_uri": "https://localhost:8080/"
        },
        "id": "CuiSIjqxwD5o",
        "outputId": "49f23521-6a6b-4d37-d1d9-369dd3c85f58"
      },
      "execution_count": 9,
      "outputs": [
        {
          "output_type": "stream",
          "name": "stdout",
          "text": [
            "3\n"
          ]
        }
      ]
    },
    {
      "cell_type": "code",
      "source": [
        "# Listenin sonuna bir eleman ekler.\n",
        "sayilar = [1, 2, 3]\n",
        "sayilar.append(4)  # Listeye 4 ekle\n",
        "print(sayilar)  # Çıktı: [1, 2, 3, 4]\n",
        "\n",
        "\n",
        "# Liste içindeki tüm elemanları siler:\n",
        "sayilar.clear()  # Tüm elemanları sil\n",
        "print(sayilar)  # Çıktı: []\n",
        "\n",
        "\n",
        "# Bir listeyi başka bir listeye kopyalar:\n",
        "orijinal = [1, 2, 3]\n",
        "kopya = orijinal.copy()  # Kopyala\n",
        "print(kopya)  # Çıktı: [1, 2, 3]\n",
        "\n",
        "\n",
        "# Bir elemanın listede kaç kez geçtiğini bulur:\n",
        "sayilar = [1, 2, 2, 3, 2]\n",
        "print(sayilar.count(2))  # Çıktı: 3\n",
        "\n",
        "\n",
        "# Bir listeye başka bir listeyi ekler:\n",
        "liste1 = [1, 2]\n",
        "liste2 = [3, 4]\n",
        "liste1.extend(liste2)\n",
        "print(liste1)  # Çıktı: [1, 2, 3, 4]\n",
        "\n",
        "\n",
        "# Bir elemanın index numarasını döndürür:\n",
        "meyveler = [\"elma\", \"armut\", \"çilek\"]\n",
        "print(meyveler.index(\"armut\"))  # Çıktı: 1\n",
        "\n",
        "\n",
        "# Belirtilen bir index yeni bir eleman ekler:\n",
        "sayilar = [1, 3, 4]\n",
        "sayilar.insert(1, 2)  # 1. indexe 2 ekle\n",
        "print(sayilar)  # Çıktı: [1, 2, 3, 4]\n",
        "\n",
        "\n",
        "# Bir elemanı siler ve silinen elemanı döndürür:\n",
        "sayilar = [1, 2, 3]\n",
        "silinen = sayilar.pop(1)  # 1. indexteki elemanı sil\n",
        "print(silinen)  # Çıktı: 2\n",
        "print(sayilar)  # Çıktı: [1, 3]\n",
        "\n",
        "\n",
        "# Belirtilen değeri listeden siler:\n",
        "sayilar = [1, 2, 3]\n",
        "sayilar.remove(2)  # 2 değerini sil\n",
        "print(sayilar)  # Çıktı: [1, 3]\n",
        "\n",
        "\n",
        "# Liste elemanlarını sıralar:\n",
        "sayilar = [3, 1, 2]\n",
        "sayilar.sort()\n",
        "print(sayilar)  # Çıktı: [1, 2, 3]\n",
        "\n",
        "\n",
        "# Liste elemanlarını tersine çevirir:\n",
        "sayilar = [1, 2, 3]\n",
        "sayilar.reverse()\n",
        "print(sayilar)  # Çıktı: [3, 2, 1]\n",
        "\n",
        "\n",
        "# Bir elemanı indeksle silmek için kullanılır:\n",
        "sayilar = [1, 2, 3]\n",
        "del sayilar[1]  # 1. indeksteki elemanı sil\n",
        "print(sayilar)  # Çıktı: [1, 3]"
      ],
      "metadata": {
        "colab": {
          "base_uri": "https://localhost:8080/"
        },
        "id": "GcWoD2OiwIic",
        "outputId": "c31ad5d7-4ff9-4a60-a0b5-1a81263de088"
      },
      "execution_count": 10,
      "outputs": [
        {
          "output_type": "stream",
          "name": "stdout",
          "text": [
            "[1, 2, 3, 4]\n",
            "[]\n",
            "[1, 2, 3]\n",
            "3\n",
            "[1, 2, 3, 4]\n",
            "1\n",
            "[1, 2, 3, 4]\n",
            "2\n",
            "[1, 3]\n",
            "[1, 3]\n",
            "[1, 2, 3]\n",
            "[3, 2, 1]\n",
            "[1, 3]\n"
          ]
        }
      ]
    },
    {
      "cell_type": "markdown",
      "source": [
        "**Liste İşlemleri ve Metotları**"
      ],
      "metadata": {
        "id": "gH0VYLhwwGsV"
      }
    },
    {
      "cell_type": "markdown",
      "source": [
        "**İç İçe Listeler**"
      ],
      "metadata": {
        "id": "swISDHdYwJpO"
      }
    },
    {
      "cell_type": "code",
      "source": [
        "icerik = [[1, 2], [3, 4], [5, 6]]\n",
        "print(icerik[0])  # Çıktı: [1, 2]\n",
        "print(icerik[0][1])  # Çıktı: 2"
      ],
      "metadata": {
        "colab": {
          "base_uri": "https://localhost:8080/"
        },
        "id": "pATLk6ARwQRl",
        "outputId": "5800c7ff-f6fd-4ba9-c840-9537aeb5f5fc"
      },
      "execution_count": 11,
      "outputs": [
        {
          "output_type": "stream",
          "name": "stdout",
          "text": [
            "[1, 2]\n",
            "2\n"
          ]
        }
      ]
    },
    {
      "cell_type": "markdown",
      "source": [
        "**Veri Tipi Dönüşümleri**"
      ],
      "metadata": {
        "id": "yz42l7QiwUuG"
      }
    },
    {
      "cell_type": "code",
      "source": [
        "string = \"Furkan\"\n",
        "liste = list(string)\n",
        "print(liste)  # Çıktı: ['P', 'y', 't', 'h', 'o', 'n']\n",
        "\n",
        "# Tuple'dan listeye\n",
        "tuple_data = (1, 2, 3)\n",
        "liste = list(tuple_data)\n",
        "print(liste)  # Çıktı: [1, 2, 3]"
      ],
      "metadata": {
        "colab": {
          "base_uri": "https://localhost:8080/"
        },
        "id": "TrqS4Wgdweh_",
        "outputId": "b475ddbb-c740-413a-8ce0-64e03bd5a51f"
      },
      "execution_count": 12,
      "outputs": [
        {
          "output_type": "stream",
          "name": "stdout",
          "text": [
            "['F', 'u', 'r', 'k', 'a', 'n']\n",
            "[1, 2, 3]\n"
          ]
        }
      ]
    },
    {
      "cell_type": "markdown",
      "source": [
        "**Asıl Ödev başlangıç yeri aşağıdaki sorulardan itibaren başlıyor**"
      ],
      "metadata": {
        "id": "BFjin584zj3L"
      }
    },
    {
      "cell_type": "markdown",
      "source": [
        "**Temel Seviye Sorular**"
      ],
      "metadata": {
        "id": "fchzShI6wgjI"
      }
    },
    {
      "cell_type": "code",
      "source": [
        "# 1. Liste Tanımlama\n",
        "meyveler = [\"elma\", \"armut\", \"çilek\"]\n",
        "print(meyveler)\n",
        "\n",
        "# 2. Liste Elemanlarına Erişim\n",
        "sayilar = [10, 20, 30, 40, 50]\n",
        "print(sayilar[0])  # İlk eleman\n",
        "print(sayilar[-1])  # Son eleman\n",
        "\n",
        "# 3. Liste Elemanını Değiştirme\n",
        "sayilar[1] = 99\n",
        "print(sayilar)\n",
        "\n",
        "# 4. Liste Uzunluğunu Bulma\n",
        "meyveler = [\"muz\", \"elma\", \"çilek\"]\n",
        "print(len(meyveler))\n",
        "\n",
        "# 5. Listeye Eleman Ekleme (append)\n",
        "sayilar = [10, 20, 30]\n",
        "sayilar.append(40)\n",
        "print(sayilar)\n",
        "\n",
        "# 6. Listeyi Temizleme (clear)\n",
        "meyveler = [\"elma\", \"armut\", \"kiraz\"]\n",
        "meyveler.clear()\n",
        "print(meyveler)\n",
        "\n",
        "# 7. Listeyi Kopyalama (copy)\n",
        "sayilar = [1, 2, 3]\n",
        "yeni_liste = sayilar.copy()\n",
        "print(yeni_liste)\n",
        "\n",
        "# 8. Belirli Bir Elemanı Çıkar (pop)\n",
        "sayilar = [10, 20, 30, 40]\n",
        "silinen = sayilar.pop(2)  # 2. indeksteki eleman çıkarılır\n",
        "print(silinen)\n",
        "print(sayilar)\n",
        "\n",
        "# 9. Belirli Bir Elemanı Sil (remove)\n",
        "sayilar = [1, 2, 3, 2]\n",
        "sayilar.remove(2)  # İlk bulduğu 2'yi siler\n",
        "print(sayilar)\n",
        "\n",
        "# 10. Listeyi Ters Çevir (reverse)\n",
        "sayilar = [10, 20, 30]\n",
        "sayilar.reverse()\n",
        "print(sayilar)\n",
        "\n",
        "# 11. Listeyi Sıralama (sort)\n",
        "sayilar = [30, 10, 20]\n",
        "sayilar.sort()\n",
        "print(sayilar)"
      ],
      "metadata": {
        "colab": {
          "base_uri": "https://localhost:8080/"
        },
        "id": "4_ZpeJEPwjc5",
        "outputId": "f44764b9-95d3-4e5f-d82a-fd9fc193357a"
      },
      "execution_count": 13,
      "outputs": [
        {
          "output_type": "stream",
          "name": "stdout",
          "text": [
            "['elma', 'armut', 'çilek']\n",
            "10\n",
            "50\n",
            "[10, 99, 30, 40, 50]\n",
            "3\n",
            "[10, 20, 30, 40]\n",
            "[]\n",
            "[1, 2, 3]\n",
            "30\n",
            "[10, 20, 40]\n",
            "[1, 3, 2]\n",
            "[30, 20, 10]\n",
            "[10, 20, 30]\n"
          ]
        }
      ]
    },
    {
      "cell_type": "markdown",
      "source": [
        "**Orta Seviye Sorular**"
      ],
      "metadata": {
        "id": "TrdxocEewl4g"
      }
    },
    {
      "cell_type": "code",
      "source": [
        "# 12. İç İçe Listelere Erişim\n",
        "nested_list = [[1, 2], [3, 4], [5, 6]]\n",
        "print(nested_list[1][0])  # Çıktı: 3\n",
        "\n",
        "# 13. Eleman Sayısını Kontrol Et (count)\n",
        "sayilar = [1, 2, 2, 3, 2]\n",
        "print(sayilar.count(2))  # Çıktı: 3\n",
        "\n",
        "# 14. Listeleri Birleştirme\n",
        "liste1 = [1, 2]\n",
        "liste2 = [3, 4]\n",
        "birlesik = liste1 + liste2\n",
        "print(birlesik)  # Çıktı: [1, 2, 3, 4]\n",
        "\n",
        "# 15. Listeye Belirli İndekse Eleman Ekleme (insert)\n",
        "sayilar = [1, 3, 4]\n",
        "sayilar.insert(1, 2)\n",
        "print(sayilar)  # Çıktı: [1, 2, 3, 4]\n",
        "\n",
        "# 16. Listeyi Dilimleme\n",
        "sayilar = [10, 20, 30, 40, 50]\n",
        "ilk_uc = sayilar[:3]\n",
        "print(ilk_uc)  # Çıktı: [10, 20, 30]"
      ],
      "metadata": {
        "colab": {
          "base_uri": "https://localhost:8080/"
        },
        "id": "0V649L3ewowZ",
        "outputId": "8dc1079f-7c31-46ed-9d08-a03352172039"
      },
      "execution_count": 14,
      "outputs": [
        {
          "output_type": "stream",
          "name": "stdout",
          "text": [
            "3\n",
            "3\n",
            "[1, 2, 3, 4]\n",
            "[1, 2, 3, 4]\n",
            "[10, 20, 30]\n"
          ]
        }
      ]
    },
    {
      "cell_type": "markdown",
      "source": [
        "**İleri Seviye Sorular**"
      ],
      "metadata": {
        "id": "HAROMkXAwrxk"
      }
    },
    {
      "cell_type": "code",
      "source": [
        "# 17. Liste Elemanlarının Toplamını Bulma\n",
        "sayilar = [10, 20, 30, 40]\n",
        "print(sum(sayilar))  # Çıktı: 100\n",
        "\n",
        "# 18. Elemanların En Büyüğünü ve En Küçüğünü Bulma\n",
        "print(min(sayilar))  # Çıktı: 10\n",
        "print(max(sayilar))  # Çıktı: 40\n",
        "\n",
        "# 19. Liste Elemanlarını Birleştirerek String Yapma\n",
        "kelimeler = [\"Python\", \"çok\", \"eğlenceli\"]\n",
        "print(\" \".join(kelimeler))  # Çıktı: \"Python çok eğlenceli\""
      ],
      "metadata": {
        "colab": {
          "base_uri": "https://localhost:8080/"
        },
        "id": "lpcvhO9Nws5P",
        "outputId": "9ad19ef1-0946-4235-84fa-8506c6f63895"
      },
      "execution_count": 15,
      "outputs": [
        {
          "output_type": "stream",
          "name": "stdout",
          "text": [
            "100\n",
            "10\n",
            "40\n",
            "Python çok eğlenceli\n"
          ]
        }
      ]
    },
    {
      "cell_type": "markdown",
      "source": [
        "**İleri Seviye Örnekler Ve Problemler**\n"
      ],
      "metadata": {
        "id": "tJGotly7wuU3"
      }
    },
    {
      "cell_type": "code",
      "source": [
        "# 20. İki Listenin Toplamını Hesaplama\n",
        "liste1 = [10, 20, 30]\n",
        "liste2 = [1, 2, 3]\n",
        "toplamlar = [liste1[i] + liste2[i] for i in range(len(liste1))]\n",
        "print(toplamlar)  # Çıktı: [11, 22, 33]\n",
        "\n",
        "# 21. Listedeki Sayıları Tek ve Çift Olarak Ayırma\n",
        "sayilar = [10, 15, 20, 25, 30]\n",
        "tekler = [sayi for sayi in sayilar if sayi % 2 != 0]\n",
        "ciftler = [sayi for sayi in sayilar if sayi % 2 == 0]\n",
        "print(\"Tekler:\", tekler)  # Çıktı: [15, 25]\n",
        "print(\"Çiftler:\", ciftler)  # Çıktı: [10, 20, 30]\n",
        "\n",
        "# 22. Listeden Benzersiz Elemanları Bulma\n",
        "sayilar = [1, 2, 2, 3, 4, 4, 5]\n",
        "benzersiz = list(set(sayilar))\n",
        "print(benzersiz)  # Çıktı: [1, 2, 3, 4, 5]\n",
        "\n",
        "# 23. Listedeki En Küçük İkinci Sayıyı Bulma\n",
        "sayilar = [5, 1, 7, 3]\n",
        "sirali = sorted(sayilar)\n",
        "print(sirali[1])  # Çıktı: 3\n",
        "\n",
        "# 24. Listeden Belirli Bir Aralıktaki Elemanları Çekme\n",
        "sayilar = [10, 25, 30, 45, 60]\n",
        "aralik = [sayi for sayi in sayilar if 20 <= sayi <= 50]\n",
        "print(aralik)  # Çıktı: [25, 30, 45]\n",
        "\n",
        "# 25. Liste Elemanlarını Ters Çevirme\n",
        "sayilar = [10, 20, 30, 40]\n",
        "ters = sayilar[::-1]\n",
        "print(ters)  # Çıktı: [40, 30, 20, 10]\n",
        "\n",
        "# 26. Listeden Belirli Elemanları Kaldırma\n",
        "sayilar = [10, 15, 20, 25, 30]\n",
        "kaldirilanlar = [15, 25]\n",
        "yeni_liste = [sayi for sayi in sayilar if sayi not in kaldirilanlar]\n",
        "print(yeni_liste)  # Çıktı: [10, 20, 30]\n",
        "\n",
        "# 27. Listeyi Birleştirerek String Haline Getirme\n",
        "kelimeler = [\"Merhaba\", \"dünya\", \"Python\", \"harika\"]\n",
        "cumle = \" \".join(kelimeler)\n",
        "print(cumle)  # Çıktı: \"Merhaba dünya Python harika\"\n",
        "\n",
        "# 28. Listedeki Sayıları Kare Alarak Yeni Liste Oluşturma\n",
        "sayilar = [1, 2, 3, 4]\n",
        "kareler = [sayi ** 2 for sayi in sayilar]\n",
        "print(kareler)  # Çıktı: [1, 4, 9, 16]\n",
        "\n",
        "# 29. Listedeki Harfleri Alfabetik Sıraya Göre Sıralama\n",
        "harfler = [\"z\", \"a\", \"k\", \"b\"]\n",
        "sirali_harfler = sorted(harfler)\n",
        "print(sirali_harfler)  # Çıktı: ['a', 'b', 'k', 'z']\n",
        "\n",
        "# 30. Listedeki Ortanca Elemanı Bulma\n",
        "sayilar = [10, 20, 30, 40, 50]\n",
        "ortanca = sayilar[len(sayilar)//2]\n",
        "print(ortanca)  # Çıktı: 30"
      ],
      "metadata": {
        "colab": {
          "base_uri": "https://localhost:8080/"
        },
        "id": "jt2200YNww2u",
        "outputId": "c40ea5a4-0f2c-44b4-ded6-dd33b85e82d5"
      },
      "execution_count": 16,
      "outputs": [
        {
          "output_type": "stream",
          "name": "stdout",
          "text": [
            "[11, 22, 33]\n",
            "Tekler: [15, 25]\n",
            "Çiftler: [10, 20, 30]\n",
            "[1, 2, 3, 4, 5]\n",
            "3\n",
            "[25, 30, 45]\n",
            "[40, 30, 20, 10]\n",
            "[10, 20, 30]\n",
            "Merhaba dünya Python harika\n",
            "[1, 4, 9, 16]\n",
            "['a', 'b', 'k', 'z']\n",
            "30\n"
          ]
        }
      ]
    },
    {
      "cell_type": "markdown",
      "source": [
        "**Çok Zor Sorular ( Döngüsüz )**"
      ],
      "metadata": {
        "id": "jn1Diqr31EzC"
      }
    },
    {
      "cell_type": "code",
      "source": [
        "# 31. İki Listeyi Alternatif Elemanlarla Birleştirme\n",
        "liste1 = [1, 3, 5]\n",
        "liste2 = [2, 4, 6]\n",
        "birlesik = [liste1[i] for i in range(len(liste1))] + [liste2[i] for i in range(len(liste2))]\n",
        "print(birlesik)  # Çıktı: [1, 2, 3, 4, 5, 6]\n",
        "\n",
        "# 32. Listeyi Çift Gruplara Ayırma\n",
        "sayilar = [1, 2, 3, 4, 5, 6]\n",
        "gruplar = [[sayilar[i], sayilar[i+1]] for i in range(0, len(sayilar), 2)]\n",
        "print(gruplar)  # Çıktı: [[1, 2], [3, 4], [5, 6]]\n",
        "\n",
        "# 33. Listedeki En Büyük ve İkinci En Büyük Elemanı Bulma\n",
        "sayilar = [10, 50, 30, 20, 40]\n",
        "en_buyuk = max(sayilar)\n",
        "sayilar.remove(en_buyuk)\n",
        "ikinci_en_buyuk = max(sayilar)\n",
        "print(en_buyuk)  # Çıktı: 50\n",
        "print(ikinci_en_buyuk)  # Çıktı: 40\n",
        "\n",
        "# 34. İki Listenin Ortak Elemanlarını Bulma\n",
        "liste1 = [1, 2, 3]\n",
        "liste2 = [2, 3, 4]\n",
        "ortak = [eleman for eleman in liste1 if eleman in liste2]\n",
        "print(ortak)  # Çıktı: [2, 3]\n",
        "\n",
        "# 35. Listedeki Elemanların Toplamını ve Ortalamasını Bulma\n",
        "sayilar = [10, 20, 30, 40, 50]\n",
        "toplam = sum(sayilar)\n",
        "ortalama = toplam / len(sayilar)\n",
        "print(toplam)  # Çıktı: 150\n",
        "print(ortalama)  # Çıktı: 30.0\n",
        "\n",
        "# 36. Listeyi İkiye Bölme\n",
        "sayilar = [1, 2, 3, 4]\n",
        "ilk_yarisi = sayilar[:len(sayilar)//2]\n",
        "ikinci_yarisi = sayilar[len(sayilar)//2:]\n",
        "print(ilk_yarisi)  # Çıktı: [1, 2]\n",
        "print(ikinci_yarisi)  # Çıktı: [3, 4]\n",
        "\n",
        "# 37. Listedeki Elemanların Faktöriyelini Bulma\n",
        "sayilar = [3, 4]\n",
        "faktoriyeller = [1]\n",
        "for sayi in sayilar:\n",
        "    fakt = 1\n",
        "    for i in range(1, sayi + 1):\n",
        "        fakt *= i\n",
        "    faktoriyeller.append(fakt)\n",
        "print(faktoriyeller)  # Çıktı: [6, 24]\n",
        "\n",
        "# 38. Listedeki Elemanları Başka Bir Listeyle Değiştirme\n",
        "sayilar = [10, 20, 30]\n",
        "degistirilecek = [100, 200]\n",
        "sayilar[:2] = degistirilecek\n",
        "print(sayilar)  # Çıktı: [100, 200, 30]\n",
        "\n",
        "# 39. Listedeki Elemanları Döngüsüz Tersine Çevirme\n",
        "sayilar = [1, 2, 3]\n",
        "ters_liste = sayilar[::-1]\n",
        "print(ters_liste)  # Çıktı: [3, 2, 1]\n",
        "\n",
        "# 40. Listedeki Pozitif ve Negatif Sayıları Ayırma\n",
        "sayilar = [10, -5, 20, -15]\n",
        "pozitifler = [sayi for sayi in sayilar if sayi > 0]\n",
        "negatifler = [sayi for sayi in sayilar if sayi < 0]\n",
        "print(\"Pozitifler:\", pozitifler)  # Çıktı: [10, 20]\n",
        "print(\"Negatifler:\", negatifler)  # Çıktı: [-5, -15]"
      ],
      "metadata": {
        "colab": {
          "base_uri": "https://localhost:8080/"
        },
        "id": "Cp7vJQOH1KVY",
        "outputId": "f0691292-661a-4fe2-b7e1-fee7d3b3240f"
      },
      "execution_count": 17,
      "outputs": [
        {
          "output_type": "stream",
          "name": "stdout",
          "text": [
            "[1, 3, 5, 2, 4, 6]\n",
            "[[1, 2], [3, 4], [5, 6]]\n",
            "50\n",
            "40\n",
            "[2, 3]\n",
            "150\n",
            "30.0\n",
            "[1, 2]\n",
            "[3, 4]\n",
            "[1, 6, 24]\n",
            "[100, 200, 30]\n",
            "[3, 2, 1]\n",
            "Pozitifler: [10, 20]\n",
            "Negatifler: [-5, -15]\n"
          ]
        }
      ]
    }
  ]
}