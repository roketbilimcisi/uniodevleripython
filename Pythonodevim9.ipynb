{
  "cells": [
    {
      "cell_type": "markdown",
      "metadata": {
        "id": "view-in-github",
        "colab_type": "text"
      },
      "source": [
        "<a href=\"https://colab.research.google.com/github/roketbilimcisi/uniodevleripython/blob/main/Pythonodevim9.ipynb\" target=\"_parent\"><img src=\"https://colab.research.google.com/assets/colab-badge.svg\" alt=\"Open In Colab\"/></a>"
      ]
    },
    {
      "cell_type": "markdown",
      "metadata": {
        "id": "iJlKBH8azq96"
      },
      "source": [
        "# SQL ve Python ile SQLite Kullanımı"
      ]
    },
    {
      "cell_type": "markdown",
      "metadata": {
        "id": "2CwtQYo4zq99"
      },
      "source": [
        "## SQL Nedir?\n",
        "\n",
        "SQL (Structured Query Language - Yapılandırılmış Sorgu Dili), ilişkisel veritabanları ile iletişim kurmak için kullanılan standart bir dildir. Veritabanı yönetim sistemlerinde (DBMS) verileri sorgulamak, değiştirmek, eklemek ve silmek için kullanılır. SQL, veritabanlarında veri yönetimini kolaylaştırır ve veritabanı üzerinde gerçekleştirilebilecek işlemleri belirler."
      ]
    },
    {
      "cell_type": "markdown",
      "metadata": {
        "id": "SkEth59Nzq9-"
      },
      "source": [
        "### SQL Temel İşlevleri\n",
        "SQL, temel olarak dört ana işlevi yerine getirir:"
      ]
    },
    {
      "cell_type": "markdown",
      "metadata": {
        "id": "hNHOgwNHzq9-"
      },
      "source": [
        "#### 1. Veri Tanımlama (Data Definition Language - DDL)\n",
        "Veritabanı yapısının tanımlanmasını sağlar. `CREATE`, `ALTER`, `DROP` komutları ile tablo ve veritabanı yapıları oluşturulur ve yönetilir.\n",
        "\n",
        "**Örnek (DDL):**\n",
        "```sql\n",
        "CREATE TABLE Kisiler (\n",
        "    id INT PRIMARY KEY,\n",
        "    isim VARCHAR(100),\n",
        "    yas INT\n",
        ");\n",
        "```\n",
        "*Bu komut, `Kisiler` adlı yeni bir tablo oluşturur. `id`, `isim` ve `yas` olmak üzere üç sütun tanımlar.*"
      ]
    },
    {
      "cell_type": "markdown",
      "metadata": {
        "id": "SjoP8_4vzq9_"
      },
      "source": [
        "#### 2. Veri Manipülasyonu (Data Manipulation Language - DML)\n",
        "Veritabanındaki verileri sorgulamak ve değiştirmek için kullanılır. `SELECT`, `INSERT`, `UPDATE`, `DELETE` komutları verileri eklemek, güncellemek, silmek ve sorgulamak için kullanılır.\n",
        "\n",
        "**Örnek (DML):**\n",
        "```sql\n",
        "SELECT * FROM Kisiler;\n",
        "```\n",
        "*Bu komut, `Kisiler` tablosundaki tüm verileri getirir.*"
      ]
    },
    {
      "cell_type": "markdown",
      "metadata": {
        "id": "5j4oo2VLzq9_"
      },
      "source": [
        "#### 3. Veri Kontrolü (Data Control Language - DCL)\n",
        "Veritabanına erişimi kontrol etmek için kullanılır. `GRANT`, `REVOKE` komutları ile kullanıcıların yetkileri belirlenir.\n",
        "\n",
        "**Örnek (DCL):**\n",
        "```sql\n",
        "GRANT SELECT ON Kisiler TO kullanici1;\n",
        "```\n",
        "*Bu komut, `kullanici1` kullanıcısına `Kisiler` tablosunda sadece okuma (`SELECT`) izni verir.*"
      ]
    },
    {
      "cell_type": "markdown",
      "metadata": {
        "id": "zBxF74GEzq9_"
      },
      "source": [
        "#### 4. Veri Sorgulama (Data Query Language - DQL)\n",
        "Veritabanından veri almak için kullanılır. `SELECT` komutu bu işlevi yerine getirir. (Genellikle DML'in bir parçası olarak kabul edilir, ancak bazen ayrı olarak da sınıflandırılır.)\n",
        "\n",
        "**Örnek (DQL):**\n",
        "```sql\n",
        "SELECT isim, yas FROM Kisiler WHERE yas > 30;\n",
        "```\n",
        "*Bu komut, yaşı 30'dan büyük olan kişilerin isimlerini ve yaşlarını getirir.*"
      ]
    },
    {
      "cell_type": "markdown",
      "metadata": {
        "id": "5j3x6Hdzzq9_"
      },
      "source": [
        "## SQLite Nedir?\n",
        "\n",
        "SQLite, sunucusuz (serverless), dosya tabanlı, ilişkisel bir veritabanı yönetim sistemidir. SQLite, veritabanı sunucu yazılımına ihtiyaç duymadan çalışır ve genellikle mobil uygulamalar, masaüstü yazılımları ve test ortamları için kullanılır. SQLite, tamamen taşınabilir bir veritabanı motorudur; çünkü tüm veriler tek bir dosyada saklanır."
      ]
    },
    {
      "cell_type": "markdown",
      "metadata": {
        "id": "TnxdMfD-zq-A"
      },
      "source": [
        "### Özellikler\n",
        "*   **Sunucusuz (Serverless):** SQLite, veritabanı sunucusuna ihtiyaç duymaz. Veritabanı yönetimi, yerel sistemdeki tek bir dosya üzerinden yapılır.\n",
        "*   **Gömülü (Embedded):** SQLite, doğrudan uygulama ile birlikte gelir ve veritabanı motoru olarak entegre edilir. Bu, uygulamanın başka bir sunucuya bağlanmasına gerek olmadan veritabanı işlemlerini yapmasını sağlar.\n",
        "*   **Hafif:** SQLite küçük bir kütüphanedir ve az kaynak kullanır. Bu nedenle düşük bellek ve işlemci gereksinimleriyle çalışabilir.\n",
        "*   **Portatif:** SQLite veritabanı tüm verileri bir dosyada sakladığı için kolayca taşınabilir."
      ]
    },
    {
      "cell_type": "markdown",
      "metadata": {
        "id": "EuRMH0Ylzq-A"
      },
      "source": [
        "### SQLite'ın Kullanım Alanları\n",
        "*   **Mobil Uygulamalar:** Android, iOS uygulamaları SQLite kullanır.\n",
        "*   **Masaüstü Uygulamaları:** Çeşitli masaüstü yazılımlarında veritabanı yönetimi için kullanılır.\n",
        "*   **Web Uygulamaları:** Küçük web projelerinde ya da test veritabanları olarak kullanılır.\n",
        "*   **Internet of Things (IoT):** Düşük güç tüketimi ve hafifliği nedeniyle IoT cihazlarında kullanılır."
      ]
    },
    {
      "cell_type": "markdown",
      "metadata": {
        "id": "Vpscd2Iuzq-B"
      },
      "source": [
        "## Python ve SQLite\n",
        "\n",
        "Python, ilişkisel veritabanı yönetim sistemi olan SQLite ile bağlantı kurmak için `sqlite3` modülünü içerir. Python'da SQLite kullanmak oldukça basittir, çünkü bu modül Python ile birlikte gelir ve ek bir kurulum gerektirmez. SQLite, veritabanı yönetimi için kullanışlı ve kolay bir yol sunar."
      ]
    },
    {
      "cell_type": "markdown",
      "metadata": {
        "id": "rGkY0Gm6zq-B"
      },
      "source": [
        "### SQLite ile Çalışmaya Başlamak (Temel Adımlar)\n",
        "\n",
        "Aşağıdaki adımlar, Python'da `sqlite3` modülü ile temel veritabanı işlemlerini göstermektedir. Bu adımlar, sonraki alıştırmalar için temel oluşturacaktır."
      ]
    },
    {
      "cell_type": "code",
      "execution_count": null,
      "metadata": {
        "colab": {
          "base_uri": "https://localhost:8080/"
        },
        "id": "h8UsZ89izq-B",
        "outputId": "96129fa1-d3c5-42b4-c77f-46f8b7685109"
      },
      "outputs": [
        {
          "output_type": "stream",
          "name": "stdout",
          "text": [
            "sqlite3 modülü başarıyla import edildi.\n"
          ]
        }
      ],
      "source": [
        "import sqlite3\n",
        "print(\"sqlite3 modülü başarıyla import edildi.\")"
      ]
    },
    {
      "cell_type": "markdown",
      "metadata": {
        "id": "pliA0qVkzq-C"
      },
      "source": [
        "#### 1. Bağlantı Kurma\n",
        "SQLite veritabanına bağlanmak için `sqlite3.connect()` fonksiyonu kullanılır. Bağlantı, belirtilen veritabanı dosyasına yapılır. Eğer dosya yoksa, SQLite otomatik olarak yeni bir dosya oluşturur."
      ]
    },
    {
      "cell_type": "code",
      "execution_count": null,
      "metadata": {
        "colab": {
          "base_uri": "https://localhost:8080/"
        },
        "id": "qLF1ELanzq-C",
        "outputId": "aff9d747-8b63-4359-b34d-eab5cc874d29"
      },
      "outputs": [
        {
          "output_type": "stream",
          "name": "stdout",
          "text": [
            "Veritabanına bağlantı kuruldu: test.db\n"
          ]
        }
      ],
      "source": [
        "# Veritabanına bağlan (eğer 'test.db' yoksa oluşturulur)\n",
        "conn = sqlite3.connect('test.db')\n",
        "print(\"Veritabanına bağlantı kuruldu: test.db\")"
      ]
    },
    {
      "cell_type": "markdown",
      "metadata": {
        "id": "jCV9Wogczq-D"
      },
      "source": [
        "#### 2. Cursor Oluşturma\n",
        "SQLite, SQL komutlarını çalıştırabilmek için bir imleç (cursor) kullanır. Bu imleç, SQL komutlarını yürütmek ve sonuçları almak için kullanılır."
      ]
    },
    {
      "cell_type": "code",
      "execution_count": null,
      "metadata": {
        "colab": {
          "base_uri": "https://localhost:8080/"
        },
        "id": "mBr2liA8zq-D",
        "outputId": "3f6a329c-1617-4756-87e8-baa89aeb4e0b"
      },
      "outputs": [
        {
          "output_type": "stream",
          "name": "stdout",
          "text": [
            "Cursor (imleç) başarıyla oluşturuldu.\n"
          ]
        }
      ],
      "source": [
        "# Bir cursor nesnesi oluştur\n",
        "cur = conn.cursor()\n",
        "print(\"Cursor (imleç) başarıyla oluşturuldu.\")"
      ]
    },
    {
      "cell_type": "markdown",
      "metadata": {
        "id": "kVjtVTGUzq-D"
      },
      "source": [
        "#### 3. Tablo Oluşturma (DDL)\n",
        "SQL komutlarını kullanarak yeni bir tablo oluşturabiliriz."
      ]
    },
    {
      "cell_type": "code",
      "execution_count": null,
      "metadata": {
        "colab": {
          "base_uri": "https://localhost:8080/"
        },
        "id": "OprhkMqozq-D",
        "outputId": "0dcd795e-d8c1-4e10-c6f0-8b47df0c4bd1"
      },
      "outputs": [
        {
          "output_type": "stream",
          "name": "stdout",
          "text": [
            "'Kisiler' tablosu oluşturuldu veya zaten mevcut.\n"
          ]
        }
      ],
      "source": [
        "# Kisiler adında bir tablo oluştur (eğer yoksa)\n",
        "cur.execute('''\n",
        "CREATE TABLE IF NOT EXISTS Kisiler (\n",
        "    id INTEGER PRIMARY KEY AUTOINCREMENT,\n",
        "    isim TEXT NOT NULL,\n",
        "    yas INTEGER\n",
        ")\n",
        "''')\n",
        "conn.commit() # Değişiklikleri kaydet\n",
        "print(\"'Kisiler' tablosu oluşturuldu veya zaten mevcut.\")"
      ]
    },
    {
      "cell_type": "markdown",
      "metadata": {
        "id": "n-in_6DAzq-E"
      },
      "source": [
        "#### 4. Veri Ekleme (INSERT - DML)\n",
        "Oluşturduğumuz tabloya veri ekleyelim."
      ]
    },
    {
      "cell_type": "code",
      "execution_count": null,
      "metadata": {
        "colab": {
          "base_uri": "https://localhost:8080/"
        },
        "id": "M44nqxDdzq-E",
        "outputId": "e0191ef3-8af6-4553-dec2-6ad1ba79f7c6"
      },
      "outputs": [
        {
          "output_type": "stream",
          "name": "stdout",
          "text": [
            "'Ayşe' ve 'Ali' kişileri tabloya eklendi.\n"
          ]
        }
      ],
      "source": [
        "# Kisiler tablosuna veri ekle\n",
        "cur.execute(\"INSERT INTO Kisiler (isim, yas) VALUES (?, ?)\", ('Ayşe', 25))\n",
        "cur.execute(\"INSERT INTO Kisiler (isim, yas) VALUES (?, ?)\", ('Ali', 30))\n",
        "conn.commit() # Değişiklikleri kaydet\n",
        "print(\"'Ayşe' ve 'Ali' kişileri tabloya eklendi.\")"
      ]
    },
    {
      "cell_type": "markdown",
      "metadata": {
        "id": "s5asbNTWzq-E"
      },
      "source": [
        "#### 5. Veri Sorgulama (SELECT - DML/DQL)\n",
        "Tablodaki verileri sorgulayalım."
      ]
    },
    {
      "cell_type": "code",
      "execution_count": null,
      "metadata": {
        "colab": {
          "base_uri": "https://localhost:8080/"
        },
        "id": "mTgFho1Mzq-E",
        "outputId": "e926e67b-9199-4f1d-9628-f40a2d3b31e1"
      },
      "outputs": [
        {
          "output_type": "stream",
          "name": "stdout",
          "text": [
            "\n",
            "Kisiler Tablosundaki Veriler:\n",
            "(1, 'Ayşe', 25)\n",
            "(2, 'Ali', 30)\n"
          ]
        }
      ],
      "source": [
        "# Kisiler tablosundaki tüm verileri seç\n",
        "cur.execute(\"SELECT * FROM Kisiler\")\n",
        "rows = cur.fetchall() # Tüm satırları al\n",
        "\n",
        "print(\"\\nKisiler Tablosundaki Veriler:\")\n",
        "for row in rows:\n",
        "    print(row) # Her bir satırı yazdır"
      ]
    },
    {
      "cell_type": "markdown",
      "metadata": {
        "id": "B807CXbVzq-E"
      },
      "source": [
        "#### 6. Veri Güncelleme (UPDATE - DML)\n",
        "Tablodaki bir veriyi güncelleyelim."
      ]
    },
    {
      "cell_type": "code",
      "execution_count": null,
      "metadata": {
        "colab": {
          "base_uri": "https://localhost:8080/"
        },
        "id": "1fasYX7Qzq-F",
        "outputId": "fd650681-06cf-4be3-cac6-0904bbe9a02f"
      },
      "outputs": [
        {
          "output_type": "stream",
          "name": "stdout",
          "text": [
            "\n",
            "'Ayşe'nin yaşı güncellendi.\n",
            "Güncellenmiş Ayşe: (1, 'Ayşe', 26)\n"
          ]
        }
      ],
      "source": [
        "# 'Ayşe' isimli kişinin yaşını güncelle\n",
        "cur.execute(\"UPDATE Kisiler SET yas = ? WHERE isim = ?\", (26, 'Ayşe'))\n",
        "conn.commit()\n",
        "print(\"\\n'Ayşe'nin yaşı güncellendi.\")\n",
        "\n",
        "# Güncellenmiş veriyi tekrar sorgula\n",
        "cur.execute(\"SELECT * FROM Kisiler WHERE isim = 'Ayşe'\")\n",
        "updated_row = cur.fetchone()\n",
        "print(f\"Güncellenmiş Ayşe: {updated_row}\")"
      ]
    },
    {
      "cell_type": "markdown",
      "metadata": {
        "id": "YFAgxskBzq-F"
      },
      "source": [
        "#### 7. Veri Silme (DELETE - DML)\n",
        "Tablodan bir veriyi silelim."
      ]
    },
    {
      "cell_type": "code",
      "execution_count": null,
      "metadata": {
        "colab": {
          "base_uri": "https://localhost:8080/"
        },
        "id": "pTkzuM_Gzq-F",
        "outputId": "2da3ee27-e9d2-4228-ab27-cdd31f2a6d5b"
      },
      "outputs": [
        {
          "output_type": "stream",
          "name": "stdout",
          "text": [
            "\n",
            "'Ali' kişisi tablodan silindi.\n",
            "\n",
            "Tabloda Kalan Veriler:\n",
            "(1, 'Ayşe', 26)\n"
          ]
        }
      ],
      "source": [
        "# 'Ali' isimli kişiyi sil\n",
        "cur.execute(\"DELETE FROM Kisiler WHERE isim = ?\", ('Ali',))\n",
        "conn.commit()\n",
        "print(\"\\n'Ali' kişisi tablodan silindi.\")\n",
        "\n",
        "# Kalan verileri sorgula\n",
        "cur.execute(\"SELECT * FROM Kisiler\")\n",
        "remaining_rows = cur.fetchall()\n",
        "print(\"\\nTabloda Kalan Veriler:\")\n",
        "for row in remaining_rows:\n",
        "    print(row)"
      ]
    },
    {
      "cell_type": "markdown",
      "metadata": {
        "id": "RQTQ1fl3zq-F"
      },
      "source": [
        "#### 8. Transaction Yönetimi\n",
        "Veritabanında yapılan değişiklikler bir transaction içinde yapılır. `BEGIN`, `COMMIT`, `ROLLBACK` komutlarıyla yönetilebilir. `sqlite3` modülü varsayılan olarak DML ifadeleri için otomatik transaction başlatır ve `conn.commit()` ile onaylanır veya `conn.rollback()` ile geri alınır. Manuel transaction için:\n"
      ]
    },
    {
      "cell_type": "code",
      "execution_count": null,
      "metadata": {
        "colab": {
          "base_uri": "https://localhost:8080/"
        },
        "id": "E9bELv6Bzq-G",
        "outputId": "702a2868-1460-4e39-e64c-9c76d72abb62"
      },
      "outputs": [
        {
          "output_type": "stream",
          "name": "stdout",
          "text": [
            "\n",
            "Transaction denemesi:\n",
            "'Mehmet' eklendi (henüz commit edilmedi)...\n",
            "'Mehmet' için yapılan değişiklikler commit edildi.\n",
            "\n",
            "Transaction sonrası Kisiler Tablosu:\n",
            "(1, 'Ayşe', 26)\n",
            "(3, 'Mehmet', 30)\n"
          ]
        }
      ],
      "source": [
        "try:\n",
        "    # Manuel transaction başlatmak için conn.execute('BEGIN') kullanılabilir\n",
        "    # veya conn.isolation_level = None ayarlanıp manuel commit/rollback yapılabilir.\n",
        "    # Ancak Python'un sqlite3 modülü genellikle implicit transaction yönetimi yapar.\n",
        "    # conn.commit() ve conn.rollback() bu yönetim için yeterlidir.\n",
        "\n",
        "    print(\"\\nTransaction denemesi:\")\n",
        "    cur.execute(\"INSERT INTO Kisiler (isim, yas) VALUES (?, ?)\", ('Mehmet', 30))\n",
        "    print(\"'Mehmet' eklendi (henüz commit edilmedi)...\")\n",
        "\n",
        "    # Eğer bir hata olursa, değişiklikler geri alınacak\n",
        "    # raise Exception(\"Bir hata oluştu, rollback testi!\") # Bunu test için açabilirsiniz\n",
        "\n",
        "    conn.commit() # Her şey yolundaysa değişiklikleri kaydet\n",
        "    print(\"'Mehmet' için yapılan değişiklikler commit edildi.\")\n",
        "\n",
        "except Exception as e:\n",
        "    print(f\"Hata oluştu: {e}\")\n",
        "    conn.rollback() # Hata olursa, yapılan değişiklikleri geri al\n",
        "    print(\"Değişiklikler geri alındı (rollback).\")\n",
        "finally:\n",
        "    cur.execute(\"SELECT * FROM Kisiler\")\n",
        "    print(\"\\nTransaction sonrası Kisiler Tablosu:\")\n",
        "    for row in cur.fetchall():\n",
        "        print(row)"
      ]
    },
    {
      "cell_type": "markdown",
      "metadata": {
        "id": "hvF-s-QYzq-G"
      },
      "source": [
        "#### 9. Tablo Silme (DROP - DDL)\n",
        "Oluşturduğumuz bir tabloyu silebiliriz."
      ]
    },
    {
      "cell_type": "code",
      "execution_count": null,
      "metadata": {
        "colab": {
          "base_uri": "https://localhost:8080/"
        },
        "id": "9ISqGxjdzq-G",
        "outputId": "b85536d7-bfd2-4336-f9b9-f74fa52fa214"
      },
      "outputs": [
        {
          "output_type": "stream",
          "name": "stdout",
          "text": [
            "\n",
            "'Kisiler' tablosu silindi.\n"
          ]
        }
      ],
      "source": [
        "# Kisiler tablosunu sil (eğer varsa)\n",
        "cur.execute(\"DROP TABLE IF EXISTS Kisiler\")\n",
        "conn.commit()\n",
        "print(\"\\n'Kisiler' tablosu silindi.\")"
      ]
    },
    {
      "cell_type": "markdown",
      "metadata": {
        "id": "k1sZV4WWzq-H"
      },
      "source": [
        "#### 10. Bağlantıyı Kapatma\n",
        "Tüm işlemler bittikten sonra veritabanı bağlantısını kapatmak iyi bir pratiktir."
      ]
    },
    {
      "cell_type": "code",
      "execution_count": null,
      "metadata": {
        "colab": {
          "base_uri": "https://localhost:8080/"
        },
        "id": "M9zsCRkTzq-H",
        "outputId": "a5e349a1-1900-45dc-91d7-b951dc27ba13"
      },
      "outputs": [
        {
          "output_type": "stream",
          "name": "stdout",
          "text": [
            "\n",
            "Veritabanı bağlantısı kapatıldı.\n"
          ]
        }
      ],
      "source": [
        "conn.close()\n",
        "print(\"\\nVeritabanı bağlantısı kapatıldı.\")"
      ]
    },
    {
      "cell_type": "markdown",
      "metadata": {
        "id": "yyPw_4Y-zq-H"
      },
      "source": [
        "## 50 Alıştırma Sorusu ve Çözümleri\n",
        "\n",
        "Aşağıda SQLite ile Python kullanarak çözebileceğiniz 50 alıştırma sorusu bulunmaktadır. Sorular kolaydan zora doğru sıralanmıştır ve her birinin kodu satır satır açıklanmıştır. Bu alıştırmalar `test.db` adlı bir veritabanı ve genellikle `Kisiler` adlı bir tablo üzerinde çalışacaktır.\n",
        "\n",
        "**Not:** Her bir alıştırma hücresini çalıştırdığınızda, veritabanı üzerinde kalıcı değişiklikler yaparsınız. Eğer alıştırmalara baştan başlamak isterseniz, yukarıdaki \"Bağlantı Kurma\" ve \"Tablo Oluşturma\" adımlarını tekrar çalıştırarak `test.db` dosyasını ve `Kisiler` tablosunu sıfırlayabilirsiniz (veya mevcut `test.db` dosyasını silip not defterini baştan çalıştırabilirsiniz).\n",
        "\n",
        "**ÖNEMLİ:** Aşağıdaki alıştırmalar için, her bir kod bloğunun başında veritabanı bağlantısı kurulacak ve sonunda kapatılacaktır. Bu, her alıştırmanın bağımsız çalışabilmesini sağlar."
      ]
    },
    {
      "cell_type": "markdown",
      "metadata": {
        "id": "iMIkp3Ikzq-H"
      },
      "source": [
        "### 11. Kisiler Tablosuna Yeni Kayıt Ekleme"
      ]
    },
    {
      "cell_type": "code",
      "execution_count": null,
      "metadata": {
        "colab": {
          "base_uri": "https://localhost:8080/"
        },
        "id": "gKtAa-B1zq-H",
        "outputId": "80f95435-a2f1-4d91-f93e-0a8429766668"
      },
      "outputs": [
        {
          "output_type": "stream",
          "name": "stdout",
          "text": [
            "Fatma, 25 yaşında eklendi.\n"
          ]
        }
      ],
      "source": [
        "import sqlite3\n",
        "\n",
        "# Veritabanına bağlan\n",
        "conn = sqlite3.connect('test.db')\n",
        "cur = conn.cursor()\n",
        "\n",
        "# Gerekirse tabloyu oluştur\n",
        "cur.execute('''\n",
        "CREATE TABLE IF NOT EXISTS Kisiler (\n",
        "    id INTEGER PRIMARY KEY AUTOINCREMENT,\n",
        "    isim TEXT NOT NULL,\n",
        "    yas INTEGER\n",
        ")\n",
        "''')\n",
        "conn.commit()\n",
        "\n",
        "# Yeni veri ekleyin (Fatma, 25 yaşında)\n",
        "cur.execute('INSERT INTO Kisiler (isim, yas) VALUES (?, ?)', ('Fatma', 25))\n",
        "conn.commit()\n",
        "\n",
        "# Ekleme işlemini yazdır\n",
        "print(\"Fatma, 25 yaşında eklendi.\")\n",
        "\n",
        "# Veritabanı bağlantısını kapat\n",
        "conn.close()"
      ]
    },
    {
      "cell_type": "markdown",
      "metadata": {
        "id": "_v7m3N1Vzq-I"
      },
      "source": [
        "**Açıklama:** Bu kod, `Fatma` ismini ve 25 yaşını `Kisiler` tablosuna ekler. Eğer tablo yoksa, önce oluşturulur."
      ]
    },
    {
      "cell_type": "markdown",
      "metadata": {
        "id": "loc-hJCPzq-I"
      },
      "source": [
        "### 12. Kisiler Tablosundaki Tüm Verileri Sorgulama"
      ]
    },
    {
      "cell_type": "code",
      "execution_count": null,
      "metadata": {
        "colab": {
          "base_uri": "https://localhost:8080/"
        },
        "id": "D_IefBnzzq-I",
        "outputId": "973aa31d-8fce-4b87-f23a-17eb58efd380"
      },
      "outputs": [
        {
          "output_type": "stream",
          "name": "stdout",
          "text": [
            "Kisiler Tablosundaki Tüm Veriler:\n",
            "(1, 'Fatma', 25)\n"
          ]
        }
      ],
      "source": [
        "import sqlite3\n",
        "\n",
        "conn = sqlite3.connect('test.db')\n",
        "cur = conn.cursor()\n",
        "\n",
        "# Gerekirse tabloyu oluştur (önceki adımdan kalmış olabilir)\n",
        "cur.execute('''CREATE TABLE IF NOT EXISTS Kisiler (id INTEGER PRIMARY KEY AUTOINCREMENT, isim TEXT NOT NULL, yas INTEGER)''')\n",
        "conn.commit()\n",
        "\n",
        "# Tüm verileri sorgula\n",
        "cur.execute('SELECT * FROM Kisiler')\n",
        "rows = cur.fetchall()\n",
        "\n",
        "print(\"Kisiler Tablosundaki Tüm Veriler:\")\n",
        "for row in rows:\n",
        "    print(row)\n",
        "\n",
        "conn.close()"
      ]
    },
    {
      "cell_type": "markdown",
      "metadata": {
        "id": "_qVPEOK3zq-P"
      },
      "source": [
        "**Açıklama:** Bu sorgu, `Kisiler` tablosundaki tüm verileri getirir ve ekrana yazdırır."
      ]
    },
    {
      "cell_type": "markdown",
      "metadata": {
        "id": "37_Ut6sAzq-P"
      },
      "source": [
        "### 13. Kisiler Tablosundaki Kayıtları Yaşa Göre Sıralama"
      ]
    },
    {
      "cell_type": "code",
      "execution_count": null,
      "metadata": {
        "colab": {
          "base_uri": "https://localhost:8080/"
        },
        "id": "_YxtNClkzq-P",
        "outputId": "28d63910-3121-43d3-a514-d51581460379"
      },
      "outputs": [
        {
          "output_type": "stream",
          "name": "stdout",
          "text": [
            "Kişiler Yaşa Göre Artan Sırada:\n",
            "(3, 'Veli', 22)\n",
            "(1, 'Fatma', 25)\n",
            "(4, 'Ayşe', 28)\n",
            "(2, 'Ali', 30)\n"
          ]
        }
      ],
      "source": [
        "import sqlite3\n",
        "\n",
        "conn = sqlite3.connect('test.db')\n",
        "cur = conn.cursor()\n",
        "\n",
        "cur.execute('''CREATE TABLE IF NOT EXISTS Kisiler (id INTEGER PRIMARY KEY AUTOINCREMENT, isim TEXT NOT NULL, yas INTEGER)''')\n",
        "# Örnek veriler ekleyelim (eğer boşsa)\n",
        "cur.execute(\"SELECT COUNT(*) FROM Kisiler\")\n",
        "if cur.fetchone()[0] < 2: # En az 2 kayıt yoksa ekle\n",
        "    sample_data = [('Ali', 30), ('Veli', 22), ('Ayşe', 28)]\n",
        "    cur.executemany(\"INSERT INTO Kisiler (isim, yas) VALUES (?,?)\", sample_data)\n",
        "    conn.commit()\n",
        "\n",
        "# Yaşa göre sıralama (artan sırada)\n",
        "cur.execute('SELECT * FROM Kisiler ORDER BY yas ASC') # ASC (artan) varsayılandır, belirtilmeyebilir\n",
        "rows = cur.fetchall()\n",
        "\n",
        "print(\"Kişiler Yaşa Göre Artan Sırada:\")\n",
        "for row in rows:\n",
        "    print(row)\n",
        "\n",
        "conn.close()"
      ]
    },
    {
      "cell_type": "markdown",
      "metadata": {
        "id": "QorzxgE3zq-P"
      },
      "source": [
        "**Açıklama:** Bu sorgu, `Kisiler` tablosundaki verileri `yas` sütununa göre artan sırada sıralar."
      ]
    },
    {
      "cell_type": "markdown",
      "metadata": {
        "id": "rcihwSayzq-Q"
      },
      "source": [
        "### 14. Kisiler Tablosunda Belirli Bir Yaşın Altındaki Kişileri Sorgulama"
      ]
    },
    {
      "cell_type": "code",
      "execution_count": null,
      "metadata": {
        "colab": {
          "base_uri": "https://localhost:8080/"
        },
        "id": "2Pw8ZLOczq-Q",
        "outputId": "50270c3b-9d1b-4628-a08a-fb80f4bf2497"
      },
      "outputs": [
        {
          "output_type": "stream",
          "name": "stdout",
          "text": [
            "Yaşı 30'dan Küçük Olan Kişiler:\n",
            "(1, 'Fatma', 25)\n",
            "(3, 'Veli', 22)\n",
            "(4, 'Ayşe', 28)\n"
          ]
        }
      ],
      "source": [
        "import sqlite3\n",
        "\n",
        "conn = sqlite3.connect('test.db')\n",
        "cur = conn.cursor()\n",
        "\n",
        "cur.execute('''CREATE TABLE IF NOT EXISTS Kisiler (id INTEGER PRIMARY KEY AUTOINCREMENT, isim TEXT NOT NULL, yas INTEGER)''')\n",
        "conn.commit()\n",
        "\n",
        "# Yaşı 30'dan küçük olanları sorgula\n",
        "cur.execute('SELECT * FROM Kisiler WHERE yas < ?', (30,))\n",
        "rows = cur.fetchall()\n",
        "\n",
        "print(\"Yaşı 30'dan Küçük Olan Kişiler:\")\n",
        "for row in rows:\n",
        "    print(row)\n",
        "\n",
        "conn.close()"
      ]
    },
    {
      "cell_type": "markdown",
      "metadata": {
        "id": "c-5Bkhobzq-Q"
      },
      "source": [
        "**Açıklama:** Bu sorgu, `yas` değeri 30'dan küçük olan kayıtları getirir."
      ]
    },
    {
      "cell_type": "markdown",
      "metadata": {
        "id": "22YaQMo6zq-Q"
      },
      "source": [
        "### 15. Kisiler Tablosuna Yeni Veri Ekleme ve Kimlik Numarasını (ID) Almak"
      ]
    },
    {
      "cell_type": "code",
      "execution_count": null,
      "metadata": {
        "colab": {
          "base_uri": "https://localhost:8080/"
        },
        "id": "X7Vwze73zq-Q",
        "outputId": "3fad4505-5ecf-41a1-992e-111560e22937"
      },
      "outputs": [
        {
          "output_type": "stream",
          "name": "stdout",
          "text": [
            "Mehmet eklendi. Son eklenen kaydın ID'si: 5\n"
          ]
        }
      ],
      "source": [
        "import sqlite3\n",
        "\n",
        "conn = sqlite3.connect('test.db')\n",
        "cur = conn.cursor()\n",
        "\n",
        "cur.execute('''CREATE TABLE IF NOT EXISTS Kisiler (id INTEGER PRIMARY KEY AUTOINCREMENT, isim TEXT NOT NULL, yas INTEGER)''')\n",
        "conn.commit()\n",
        "\n",
        "# Yeni veri ekleyin (Mehmet, 28 yaşında)\n",
        "cur.execute('INSERT INTO Kisiler (isim, yas) VALUES (?, ?)', ('Mehmet', 28))\n",
        "conn.commit()\n",
        "\n",
        "# Son eklenen kaydın id'sini al (AUTOINCREMENT için geçerli)\n",
        "last_id = cur.lastrowid\n",
        "print(f\"Mehmet eklendi. Son eklenen kaydın ID'si: {last_id}\")\n",
        "\n",
        "conn.close()"
      ]
    },
    {
      "cell_type": "markdown",
      "metadata": {
        "id": "dRGacBL0zq-R"
      },
      "source": [
        "**Açıklama:** Bu kod, yeni bir kayıt ekler ve `cur.lastrowid` özelliği ile bu kayda otomatik olarak atanan `id` değerini alır."
      ]
    },
    {
      "cell_type": "markdown",
      "metadata": {
        "id": "PdVJh3enzq-R"
      },
      "source": [
        "### 16. Kisiler Tablosunda Bir Kaydın Yaşını Güncelleme"
      ]
    },
    {
      "cell_type": "code",
      "execution_count": null,
      "metadata": {
        "colab": {
          "base_uri": "https://localhost:8080/"
        },
        "id": "n7f4o4EHzq-R",
        "outputId": "ff760b46-be0e-4995-acd7-75242341be4e"
      },
      "outputs": [
        {
          "output_type": "stream",
          "name": "stdout",
          "text": [
            "Mehmet'in yaşı 35 olarak güncellendi.\n",
            "Güncel Mehmet: (5, 'Mehmet', 35)\n"
          ]
        }
      ],
      "source": [
        "import sqlite3\n",
        "\n",
        "conn = sqlite3.connect('test.db')\n",
        "cur = conn.cursor()\n",
        "\n",
        "cur.execute('''CREATE TABLE IF NOT EXISTS Kisiler (id INTEGER PRIMARY KEY AUTOINCREMENT, isim TEXT NOT NULL, yas INTEGER)''')\n",
        "conn.commit()\n",
        "\n",
        "# 'Mehmet' ismindeki kişinin yaşını 35 yap\n",
        "cur.execute('UPDATE Kisiler SET yas = ? WHERE isim = ?', (35, 'Mehmet'))\n",
        "conn.commit()\n",
        "\n",
        "# Güncelleme işlemi yazdır\n",
        "print(\"Mehmet'in yaşı 35 olarak güncellendi.\")\n",
        "\n",
        "# Kontrol için Mehmet'in verilerini çekelim\n",
        "cur.execute(\"SELECT * FROM Kisiler WHERE isim = 'Mehmet'\")\n",
        "print(f\"Güncel Mehmet: {cur.fetchone()}\")\n",
        "\n",
        "conn.close()"
      ]
    },
    {
      "cell_type": "markdown",
      "metadata": {
        "id": "G8oFlS9Fzq-R"
      },
      "source": [
        "**Açıklama:** Bu kod, `Mehmet` ismindeki kişinin yaşını 35 olarak günceller."
      ]
    },
    {
      "cell_type": "markdown",
      "metadata": {
        "id": "MSz20q1qzq-R"
      },
      "source": [
        "### 17. Kisiler Tablosunda Yaşı 30'dan Büyük Olan Kişilerin Sayısını Almak"
      ]
    },
    {
      "cell_type": "code",
      "execution_count": null,
      "metadata": {
        "colab": {
          "base_uri": "https://localhost:8080/"
        },
        "id": "SmP2lJCCzq-R",
        "outputId": "191b2f5e-1e57-41a4-e70c-fb3d009c119a"
      },
      "outputs": [
        {
          "output_type": "stream",
          "name": "stdout",
          "text": [
            "Yaşı 30'dan büyük olan kişi sayısı: 1\n"
          ]
        }
      ],
      "source": [
        "import sqlite3\n",
        "\n",
        "conn = sqlite3.connect('test.db')\n",
        "cur = conn.cursor()\n",
        "\n",
        "cur.execute('''CREATE TABLE IF NOT EXISTS Kisiler (id INTEGER PRIMARY KEY AUTOINCREMENT, isim TEXT NOT NULL, yas INTEGER)''')\n",
        "conn.commit()\n",
        "\n",
        "# Yaşı 30'dan büyük olanların sayısını al\n",
        "cur.execute('SELECT COUNT(*) FROM Kisiler WHERE yas > ?', (30,))\n",
        "count = cur.fetchone()[0] # fetchone() bir tuple döndürür, ilk elemanı sayıdır\n",
        "\n",
        "print(f\"Yaşı 30'dan büyük olan kişi sayısı: {count}\")\n",
        "\n",
        "conn.close()"
      ]
    },
    {
      "cell_type": "markdown",
      "metadata": {
        "id": "b05PMxmpzq-S"
      },
      "source": [
        "**Açıklama:** Bu sorgu, `Kisiler` tablosunda yaşı 30'dan büyük olan kişi sayısını `COUNT(*)` fonksiyonu ile getirir."
      ]
    },
    {
      "cell_type": "markdown",
      "metadata": {
        "id": "oy8KVq3Rzq-S"
      },
      "source": [
        "### 18. Kisiler Tablosunda Bir Kayıt Silme"
      ]
    },
    {
      "cell_type": "code",
      "execution_count": null,
      "metadata": {
        "colab": {
          "base_uri": "https://localhost:8080/"
        },
        "id": "uas4r-iFzq-S",
        "outputId": "596ff6f3-117c-46f2-cfaf-4736e1c98428"
      },
      "outputs": [
        {
          "output_type": "stream",
          "name": "stdout",
          "text": [
            "Mehmet kaydı (varsa) silindi.\n"
          ]
        }
      ],
      "source": [
        "import sqlite3\n",
        "\n",
        "conn = sqlite3.connect('test.db')\n",
        "cur = conn.cursor()\n",
        "\n",
        "cur.execute('''CREATE TABLE IF NOT EXISTS Kisiler (id INTEGER PRIMARY KEY AUTOINCREMENT, isim TEXT NOT NULL, yas INTEGER)''')\n",
        "conn.commit()\n",
        "\n",
        "# 'Mehmet' ismindeki kişiyi sil (eğer varsa)\n",
        "cur.execute('DELETE FROM Kisiler WHERE isim = ?', ('Mehmet',))\n",
        "conn.commit()\n",
        "\n",
        "# Silme işlemi yazdır\n",
        "print(\"Mehmet kaydı (varsa) silindi.\")\n",
        "\n",
        "conn.close()"
      ]
    },
    {
      "cell_type": "markdown",
      "metadata": {
        "id": "4RmwMLRmzq-S"
      },
      "source": [
        "**Açıklama:** Bu kod, `Mehmet` ismindeki kişiyi (eğer tabloda varsa) `Kisiler` tablosundan siler."
      ]
    },
    {
      "cell_type": "markdown",
      "metadata": {
        "id": "lJCS5Bdtzq-S"
      },
      "source": [
        "### 19. Kisiler Tablosunda Yaşı En Büyük Kişiyi Sorgulama"
      ]
    },
    {
      "cell_type": "code",
      "execution_count": null,
      "metadata": {
        "colab": {
          "base_uri": "https://localhost:8080/"
        },
        "id": "oLidPVdxzq-S",
        "outputId": "493270a0-7a8f-4b2a-f3be-4f7f99514567"
      },
      "outputs": [
        {
          "output_type": "stream",
          "name": "stdout",
          "text": [
            "Yaşı en büyük kişi: (2, 'Ali', 30)\n"
          ]
        }
      ],
      "source": [
        "import sqlite3\n",
        "\n",
        "conn = sqlite3.connect('test.db')\n",
        "cur = conn.cursor()\n",
        "\n",
        "cur.execute('''CREATE TABLE IF NOT EXISTS Kisiler (id INTEGER PRIMARY KEY AUTOINCREMENT, isim TEXT NOT NULL, yas INTEGER)''')\n",
        "conn.commit()\n",
        "\n",
        "# En yaşlı kişiyi sorgula\n",
        "cur.execute('SELECT * FROM Kisiler ORDER BY yas DESC LIMIT 1')\n",
        "row = cur.fetchone() # Tek bir satır al\n",
        "\n",
        "if row:\n",
        "    print(f\"Yaşı en büyük kişi: {row}\")\n",
        "else:\n",
        "    print(\"Tabloda hiç kayıt yok.\")\n",
        "\n",
        "conn.close()"
      ]
    },
    {
      "cell_type": "markdown",
      "metadata": {
        "id": "fnb79lOPzq-S"
      },
      "source": [
        "**Açıklama:** Bu sorgu, kişileri yaşa göre azalan sırada (`DESC`) sıralar ve `LIMIT 1` ile sadece en üstteki (yani en yaşlı) kişiyi getirir."
      ]
    },
    {
      "cell_type": "markdown",
      "metadata": {
        "id": "_WXROBqjzq-T"
      },
      "source": [
        "### 20. Kisiler Tablosunda Tüm Kayıtları Sıralamak (Önce Yaşa Göre Azalan, Sonra İsme Göre Artan)"
      ]
    },
    {
      "cell_type": "code",
      "execution_count": null,
      "metadata": {
        "colab": {
          "base_uri": "https://localhost:8080/"
        },
        "id": "-E7Okxkmzq-T",
        "outputId": "99bc5395-6917-4b53-dc79-fc880e7420c0"
      },
      "outputs": [
        {
          "output_type": "stream",
          "name": "stdout",
          "text": [
            "Yaş (azalan) ve İsim (artan) Sırasına Göre Kişiler:\n",
            "(2, 'Ali', 30)\n",
            "(4, 'Ayşe', 28)\n",
            "(1, 'Fatma', 25)\n",
            "(3, 'Veli', 22)\n"
          ]
        }
      ],
      "source": [
        "import sqlite3\n",
        "\n",
        "conn = sqlite3.connect('test.db')\n",
        "cur = conn.cursor()\n",
        "\n",
        "cur.execute('''CREATE TABLE IF NOT EXISTS Kisiler (id INTEGER PRIMARY KEY AUTOINCREMENT, isim TEXT NOT NULL, yas INTEGER)''')\n",
        "# Örnek veri ekleyelim\n",
        "cur.execute(\"SELECT COUNT(*) FROM Kisiler\")\n",
        "if cur.fetchone()[0] < 3:\n",
        "    cur.execute(\"DELETE FROM Kisiler\") # Önce temizle\n",
        "    sample_data = [('Zeynep', 30), ('Ahmet', 22), ('Bora', 30), ('Canan', 22)]\n",
        "    cur.executemany(\"INSERT INTO Kisiler (isim, yas) VALUES (?,?)\", sample_data)\n",
        "conn.commit()\n",
        "\n",
        "# Önce yaşa göre azalan, sonra isme göre artan sırada sırala\n",
        "cur.execute('SELECT id, isim, yas FROM Kisiler ORDER BY yas DESC, isim ASC')\n",
        "rows = cur.fetchall()\n",
        "\n",
        "print(\"Yaş (azalan) ve İsim (artan) Sırasına Göre Kişiler:\")\n",
        "for row in rows:\n",
        "    print(row)\n",
        "\n",
        "conn.close()"
      ]
    },
    {
      "cell_type": "markdown",
      "metadata": {
        "id": "e8vFm2VMzq-T"
      },
      "source": [
        "**Açıklama:** Bu sorgu, kişileri önce yaşlarına göre azalan sırada sıralar. Aynı yaşta olan kişiler varsa, bu kişiler de kendi aralarında isimlerine göre artan sırada sıralanır."
      ]
    },
    {
      "cell_type": "markdown",
      "metadata": {
        "id": "OS9I-2dHzq-T"
      },
      "source": [
        "### 21. Kisiler Tablosunda Belirli Bir Kişiyle Aynı Yaşta Olan Diğer Kişileri Sorgulama"
      ]
    },
    {
      "cell_type": "code",
      "execution_count": null,
      "metadata": {
        "colab": {
          "base_uri": "https://localhost:8080/"
        },
        "id": "tVLjQZ1uzq-T",
        "outputId": "b593d070-1444-4868-b110-4b6dd186d9c9"
      },
      "outputs": [
        {
          "output_type": "stream",
          "name": "stdout",
          "text": [
            "'Bora' ile Aynı Yaşta Olan Diğer Kişiler:\n",
            "'Bora' ile aynı yaşta başka kimse bulunamadı veya 'Bora' tabloda yok.\n"
          ]
        }
      ],
      "source": [
        "import sqlite3\n",
        "\n",
        "conn = sqlite3.connect('test.db')\n",
        "cur = conn.cursor()\n",
        "\n",
        "cur.execute('''CREATE TABLE IF NOT EXISTS Kisiler (id INTEGER PRIMARY KEY AUTOINCREMENT, isim TEXT NOT NULL, yas INTEGER)''')\n",
        "conn.commit()\n",
        "\n",
        "# Örnek: 'Bora' ile aynı yaşta olan diğer kişileri sorgula (Bora'nın kendisi hariç)\n",
        "referans_isim = 'Bora'\n",
        "cur.execute('''\n",
        "    SELECT isim, yas\n",
        "    FROM Kisiler\n",
        "    WHERE yas = (SELECT yas FROM Kisiler WHERE isim = ?)\n",
        "    AND isim != ?\n",
        "''', (referans_isim, referans_isim))\n",
        "rows = cur.fetchall()\n",
        "\n",
        "print(f\"'{referans_isim}' ile Aynı Yaşta Olan Diğer Kişiler:\")\n",
        "if rows:\n",
        "    for row in rows:\n",
        "        print(row)\n",
        "else:\n",
        "    print(f\"'{referans_isim}' ile aynı yaşta başka kimse bulunamadı veya '{referans_isim}' tabloda yok.\")\n",
        "\n",
        "conn.close()"
      ]
    },
    {
      "cell_type": "markdown",
      "metadata": {
        "id": "u0VZ6NNezq-U"
      },
      "source": [
        "**Açıklama:** Bu sorgu, bir alt sorgu (`SELECT yas FROM Kisiler WHERE isim = ?`) kullanarak referans kişinin yaşını bulur. Ana sorgu, bu yaşla aynı yaşta olan ve ismi referans isminden farklı olan kişileri listeler."
      ]
    },
    {
      "cell_type": "markdown",
      "metadata": {
        "id": "8cykTJRbzq-U"
      },
      "source": [
        "### 22. Kisiler Tablosunda İsimlerinin İlk Harfi Belirli Bir Harf Olan Kişileri Sorgulama"
      ]
    },
    {
      "cell_type": "code",
      "execution_count": null,
      "metadata": {
        "colab": {
          "base_uri": "https://localhost:8080/"
        },
        "id": "I84wB_Mbzq-U",
        "outputId": "283274b0-d1e0-406e-bf0a-1983cb3d0050"
      },
      "outputs": [
        {
          "output_type": "stream",
          "name": "stdout",
          "text": [
            "İsmi 'A' ile Başlayan Kişiler:\n",
            "('Ali', 30)\n",
            "('Ayşe', 28)\n"
          ]
        }
      ],
      "source": [
        "import sqlite3\n",
        "\n",
        "conn = sqlite3.connect('test.db')\n",
        "cur = conn.cursor()\n",
        "\n",
        "cur.execute('''CREATE TABLE IF NOT EXISTS Kisiler (id INTEGER PRIMARY KEY AUTOINCREMENT, isim TEXT NOT NULL, yas INTEGER)''')\n",
        "conn.commit()\n",
        "\n",
        "# İsimlerinin ilk harfi 'A' olanları sorgula\n",
        "harf = 'A'\n",
        "cur.execute('SELECT isim, yas FROM Kisiler WHERE isim LIKE ?', (harf + '%',))\n",
        "rows = cur.fetchall()\n",
        "\n",
        "print(f\"İsmi '{harf}' ile Başlayan Kişiler:\")\n",
        "if rows:\n",
        "    for row in rows:\n",
        "        print(row)\n",
        "else:\n",
        "    print(f\"İsmi '{harf}' ile başlayan kimse bulunamadı.\")\n",
        "\n",
        "conn.close()"
      ]
    },
    {
      "cell_type": "markdown",
      "metadata": {
        "id": "Xk7P9O1Kzq-U"
      },
      "source": [
        "**Açıklama:** `LIKE` operatörü ve `%` joker karakteri kullanılır. `A%` ifadesi, 'A' harfi ile başlayan herhangi bir metni ifade eder."
      ]
    },
    {
      "cell_type": "markdown",
      "metadata": {
        "id": "x3jK7sGgzq-U"
      },
      "source": [
        "### 23. Kisiler Tablosuna Birden Fazla Kaydı Tek Seferde Ekleme"
      ]
    },
    {
      "cell_type": "code",
      "execution_count": null,
      "metadata": {
        "colab": {
          "base_uri": "https://localhost:8080/"
        },
        "id": "JfGs2EQQzq-U",
        "outputId": "97ee1a45-b47d-4250-c215-0061f3ee559f"
      },
      "outputs": [
        {
          "output_type": "stream",
          "name": "stdout",
          "text": [
            "3 adet yeni kişi başarıyla eklendi.\n",
            "Eklenen Yeni Kişiler:\n",
            "(6, 'Burak', 32)\n",
            "(7, 'Deniz', 27)\n",
            "(8, 'Elif', 35)\n"
          ]
        }
      ],
      "source": [
        "import sqlite3\n",
        "\n",
        "conn = sqlite3.connect('test.db')\n",
        "cur = conn.cursor()\n",
        "\n",
        "cur.execute('''CREATE TABLE IF NOT EXISTS Kisiler (id INTEGER PRIMARY KEY AUTOINCREMENT, isim TEXT NOT NULL, yas INTEGER)''')\n",
        "conn.commit()\n",
        "\n",
        "# Eklenecek veriler (demetlerden oluşan bir liste)\n",
        "yeni_kisiler = [\n",
        "    ('Burak', 32),\n",
        "    ('Deniz', 27),\n",
        "    ('Elif', 35)\n",
        "]\n",
        "\n",
        "cur.executemany('INSERT INTO Kisiler (isim, yas) VALUES (?, ?)', yeni_kisiler)\n",
        "conn.commit()\n",
        "\n",
        "print(f\"{len(yeni_kisiler)} adet yeni kişi başarıyla eklendi.\")\n",
        "\n",
        "# Kontrol edelim\n",
        "cur.execute(\"SELECT * FROM Kisiler WHERE isim IN ('Burak', 'Deniz', 'Elif')\")\n",
        "print(\"Eklenen Yeni Kişiler:\")\n",
        "for row in cur.fetchall():\n",
        "    print(row)\n",
        "\n",
        "conn.close()"
      ]
    },
    {
      "cell_type": "markdown",
      "metadata": {
        "id": "s4T3kGmMzq-U"
      },
      "source": [
        "**Açıklama:** `executemany()` metodu, bir SQL komutunu bir dizi parametre ile birden çok kez çalıştırmak için kullanılır. Bu, toplu ekleme işlemleri için verimlidir."
      ]
    },
    {
      "cell_type": "markdown",
      "metadata": {
        "id": "wPEizTEvzq-V"
      },
      "source": [
        "### 24. Kisiler Tablosunda Yaşı En Küçük Kişiyi Sorgulama"
      ]
    },
    {
      "cell_type": "code",
      "execution_count": null,
      "metadata": {
        "colab": {
          "base_uri": "https://localhost:8080/"
        },
        "id": "VGO84u9Gzq-V",
        "outputId": "db24e554-9a36-4dfc-80d2-e1c1cedf3bea"
      },
      "outputs": [
        {
          "output_type": "stream",
          "name": "stdout",
          "text": [
            "Yaşı en küçük kişi: (3, 'Veli', 22)\n"
          ]
        }
      ],
      "source": [
        "import sqlite3\n",
        "\n",
        "conn = sqlite3.connect('test.db')\n",
        "cur = conn.cursor()\n",
        "\n",
        "cur.execute('''CREATE TABLE IF NOT EXISTS Kisiler (id INTEGER PRIMARY KEY AUTOINCREMENT, isim TEXT NOT NULL, yas INTEGER)''')\n",
        "conn.commit()\n",
        "\n",
        "# En küçük yaşa sahip kişiyi sorgula\n",
        "cur.execute('SELECT * FROM Kisiler ORDER BY yas ASC LIMIT 1')\n",
        "row = cur.fetchone()\n",
        "\n",
        "if row:\n",
        "    print(f\"Yaşı en küçük kişi: {row}\")\n",
        "else:\n",
        "    print(\"Tabloda hiç kayıt yok.\")\n",
        "\n",
        "conn.close()"
      ]
    },
    {
      "cell_type": "markdown",
      "metadata": {
        "id": "goB2Oj56zq-V"
      },
      "source": [
        "**Açıklama:** Bu sorgu, kişileri yaşa göre artan sırada (`ASC`) sıralar ve `LIMIT 1` ile sadece en üstteki (yani en genç) kişiyi getirir."
      ]
    },
    {
      "cell_type": "markdown",
      "metadata": {
        "id": "y6Gh9upxzq-V"
      },
      "source": [
        "### 25. Kisiler Tablosunda Yaşları Belirli Bir Aralıkta Olanları Sorgulama"
      ]
    },
    {
      "cell_type": "code",
      "execution_count": null,
      "metadata": {
        "colab": {
          "base_uri": "https://localhost:8080/"
        },
        "id": "C_88bWn8zq-V",
        "outputId": "8d3d1a4a-2da9-4e12-839f-cb1905a1e0be"
      },
      "outputs": [
        {
          "output_type": "stream",
          "name": "stdout",
          "text": [
            "Yaşı 20 ile 30 Arasında Olan Kişiler:\n",
            "(1, 'Fatma', 25)\n",
            "(2, 'Ali', 30)\n",
            "(3, 'Veli', 22)\n",
            "(4, 'Ayşe', 28)\n",
            "(7, 'Deniz', 27)\n"
          ]
        }
      ],
      "source": [
        "import sqlite3\n",
        "\n",
        "conn = sqlite3.connect('test.db')\n",
        "cur = conn.cursor()\n",
        "\n",
        "cur.execute('''CREATE TABLE IF NOT EXISTS Kisiler (id INTEGER PRIMARY KEY AUTOINCREMENT, isim TEXT NOT NULL, yas INTEGER)''')\n",
        "conn.commit()\n",
        "\n",
        "# Yaşı 20 ile 30 (dahil) arasında olanları sorgula\n",
        "min_yas = 20\n",
        "max_yas = 30\n",
        "cur.execute('SELECT * FROM Kisiler WHERE yas BETWEEN ? AND ?', (min_yas, max_yas))\n",
        "rows = cur.fetchall()\n",
        "\n",
        "print(f\"Yaşı {min_yas} ile {max_yas} Arasında Olan Kişiler:\")\n",
        "if rows:\n",
        "    for row in rows:\n",
        "        print(row)\n",
        "else:\n",
        "    print(f\"Belirtilen yaş aralığında kimse bulunamadı.\")\n",
        "\n",
        "conn.close()"
      ]
    },
    {
      "cell_type": "markdown",
      "metadata": {
        "id": "VQGn17ptzq-V"
      },
      "source": [
        "**Açıklama:** `BETWEEN` operatörü, bir değerin belirli bir aralıkta (sınırlar dahil) olup olmadığını kontrol etmek için kullanılır."
      ]
    },
    {
      "cell_type": "markdown",
      "metadata": {
        "id": "dTrfMX1Czq-W"
      },
      "source": [
        "### 26. Kisiler Tablosunda Yaşların Ortalamasını Almak"
      ]
    },
    {
      "cell_type": "code",
      "execution_count": null,
      "metadata": {
        "colab": {
          "base_uri": "https://localhost:8080/"
        },
        "id": "BsTf6zPGzq-W",
        "outputId": "5e5804b2-7b0f-469a-b71c-bab2cfb6fd01"
      },
      "outputs": [
        {
          "output_type": "stream",
          "name": "stdout",
          "text": [
            "Kişilerin ortalama yaşı: 28.43\n"
          ]
        }
      ],
      "source": [
        "import sqlite3\n",
        "\n",
        "conn = sqlite3.connect('test.db')\n",
        "cur = conn.cursor()\n",
        "\n",
        "cur.execute('''CREATE TABLE IF NOT EXISTS Kisiler (id INTEGER PRIMARY KEY AUTOINCREMENT, isim TEXT NOT NULL, yas INTEGER)''')\n",
        "conn.commit()\n",
        "\n",
        "# Yaşların ortalamasını al\n",
        "cur.execute('SELECT AVG(yas) FROM Kisiler')\n",
        "average_age_tuple = cur.fetchone()\n",
        "\n",
        "if average_age_tuple and average_age_tuple[0] is not None:\n",
        "    average_age = average_age_tuple[0]\n",
        "    print(f\"Kişilerin ortalama yaşı: {average_age:.2f}\")\n",
        "else:\n",
        "    print(\"Ortalama yaş hesaplanamadı (tablo boş olabilir veya yaş bilgisi eksik).\")\n",
        "\n",
        "conn.close()"
      ]
    },
    {
      "cell_type": "markdown",
      "metadata": {
        "id": "f739mlE5zq-W"
      },
      "source": [
        "**Açıklama:** `AVG()` SQL fonksiyonu, belirtilen sütundaki değerlerin ortalamasını hesaplar."
      ]
    },
    {
      "cell_type": "markdown",
      "metadata": {
        "id": "FYdZyj4gzq-W"
      },
      "source": [
        "### 27. Kisiler Tablosunda Her Yaş İçin Kişi Sayısını Almak"
      ]
    },
    {
      "cell_type": "code",
      "execution_count": null,
      "metadata": {
        "colab": {
          "base_uri": "https://localhost:8080/"
        },
        "id": "PsYuHl20zq-W",
        "outputId": "27909a36-1fbb-41ab-bc6c-b0c2eefad069"
      },
      "outputs": [
        {
          "output_type": "stream",
          "name": "stdout",
          "text": [
            "Her Yaş İçin Kişi Sayısı:\n",
            "Yaş: 22, Kişi Sayısı: 1\n",
            "Yaş: 25, Kişi Sayısı: 1\n",
            "Yaş: 27, Kişi Sayısı: 1\n",
            "Yaş: 28, Kişi Sayısı: 1\n",
            "Yaş: 30, Kişi Sayısı: 1\n",
            "Yaş: 32, Kişi Sayısı: 1\n",
            "Yaş: 35, Kişi Sayısı: 1\n"
          ]
        }
      ],
      "source": [
        "import sqlite3\n",
        "\n",
        "conn = sqlite3.connect('test.db')\n",
        "cur = conn.cursor()\n",
        "\n",
        "cur.execute('''CREATE TABLE IF NOT EXISTS Kisiler (id INTEGER PRIMARY KEY AUTOINCREMENT, isim TEXT NOT NULL, yas INTEGER)''')\n",
        "conn.commit()\n",
        "\n",
        "# Her yaş için kişi sayısını al\n",
        "cur.execute('SELECT yas, COUNT(*) FROM Kisiler GROUP BY yas ORDER BY yas')\n",
        "rows = cur.fetchall()\n",
        "\n",
        "print(\"Her Yaş İçin Kişi Sayısı:\")\n",
        "if rows:\n",
        "    for row in rows:\n",
        "        print(f\"Yaş: {row[0]}, Kişi Sayısı: {row[1]}\")\n",
        "else:\n",
        "    print(\"Tabloda veri yok.\")\n",
        "\n",
        "conn.close()"
      ]
    },
    {
      "cell_type": "markdown",
      "metadata": {
        "id": "bWXluFbkzq-X"
      },
      "source": [
        "**Açıklama:** `GROUP BY yas` ifadesi, kayıtları yaşlarına göre gruplar. `COUNT(*)` ise her gruptaki kayıt sayısını verir."
      ]
    },
    {
      "cell_type": "markdown",
      "metadata": {
        "id": "Lt7ELs3Fzq-X"
      },
      "source": [
        "### 28. Kisiler Tablosunda En Fazla Kişiye Sahip Yaşı Sorgulama"
      ]
    },
    {
      "cell_type": "code",
      "execution_count": null,
      "metadata": {
        "colab": {
          "base_uri": "https://localhost:8080/"
        },
        "id": "quqmCIbCzq-X",
        "outputId": "7078f644-18fd-4cd2-ff6e-ab57b0de1ceb"
      },
      "outputs": [
        {
          "output_type": "stream",
          "name": "stdout",
          "text": [
            "En Fazla Kişiye Sahip Yaş Bilgisi:\n",
            "Yaş: 35, Kişi Sayısı: 1\n"
          ]
        }
      ],
      "source": [
        "import sqlite3\n",
        "\n",
        "conn = sqlite3.connect('test.db')\n",
        "cur = conn.cursor()\n",
        "\n",
        "cur.execute('''CREATE TABLE IF NOT EXISTS Kisiler (id INTEGER PRIMARY KEY AUTOINCREMENT, isim TEXT NOT NULL, yas INTEGER)''')\n",
        "conn.commit()\n",
        "\n",
        "# En fazla kişiye sahip yaşı sorgula\n",
        "cur.execute('''\n",
        "    SELECT yas, COUNT(*) as kisi_sayisi\n",
        "    FROM Kisiler\n",
        "    GROUP BY yas\n",
        "    ORDER BY kisi_sayisi DESC\n",
        "    LIMIT 1\n",
        "''')\n",
        "row = cur.fetchone()\n",
        "\n",
        "print(\"En Fazla Kişiye Sahip Yaş Bilgisi:\")\n",
        "if row:\n",
        "    print(f\"Yaş: {row[0]}, Kişi Sayısı: {row[1]}\")\n",
        "else:\n",
        "    print(\"Tabloda veri yok.\")\n",
        "\n",
        "conn.close()"
      ]
    },
    {
      "cell_type": "markdown",
      "metadata": {
        "id": "PvlVMwpEzq-X"
      },
      "source": [
        "**Açıklama:** Önce yaşa göre gruplama yapılır ve her yaşın kişi sayısı (`kisi_sayisi` olarak adlandırılır) bulunur. Sonra sonuçlar kişi sayısına göre azalan sırada sıralanır ve `LIMIT 1` ile en çok kişiye sahip yaş grubu alınır."
      ]
    },
    {
      "cell_type": "markdown",
      "metadata": {
        "id": "Xj4reHDpzq-X"
      },
      "source": [
        "### 29. Kisiler Tablosunda Farklı (Benzersiz) Yaşlar İçin Verileri Seçme"
      ]
    },
    {
      "cell_type": "code",
      "execution_count": null,
      "metadata": {
        "colab": {
          "base_uri": "https://localhost:8080/"
        },
        "id": "Czsjs-8Izq-X",
        "outputId": "07c3682f-6491-4c0f-f8ed-8f5879c09f3e"
      },
      "outputs": [
        {
          "output_type": "stream",
          "name": "stdout",
          "text": [
            "Tablodaki Farklı Yaşlar:\n",
            "22\n",
            "25\n",
            "27\n",
            "28\n",
            "30\n",
            "32\n",
            "35\n"
          ]
        }
      ],
      "source": [
        "import sqlite3\n",
        "\n",
        "conn = sqlite3.connect('test.db')\n",
        "cur = conn.cursor()\n",
        "\n",
        "cur.execute('''CREATE TABLE IF NOT EXISTS Kisiler (id INTEGER PRIMARY KEY AUTOINCREMENT, isim TEXT NOT NULL, yas INTEGER)''')\n",
        "conn.commit()\n",
        "\n",
        "# Farklı (benzersiz) yaşları seç\n",
        "cur.execute('SELECT DISTINCT yas FROM Kisiler ORDER BY yas')\n",
        "rows = cur.fetchall()\n",
        "\n",
        "print(\"Tablodaki Farklı Yaşlar:\")\n",
        "if rows:\n",
        "    for row in rows:\n",
        "        print(row[0]) # Her bir tuple'ın ilk elemanı yaş değeridir\n",
        "else:\n",
        "    print(\"Tabloda veri yok veya yaş bilgisi eksik.\")\n",
        "\n",
        "conn.close()"
      ]
    },
    {
      "cell_type": "markdown",
      "metadata": {
        "id": "6WorA1Kpzq-Y"
      },
      "source": [
        "**Açıklama:** `SELECT DISTINCT yas` ifadesi, `yas` sütunundaki tekrarlayan değerleri kaldırarak sadece benzersiz yaşları getirir."
      ]
    },
    {
      "cell_type": "markdown",
      "metadata": {
        "id": "vRtJ1Uc2zq-Y"
      },
      "source": [
        "### 30. Kisiler Tablosunda Yaşlarını Artan Sırada İsimleri Yazdırma"
      ]
    },
    {
      "cell_type": "code",
      "execution_count": null,
      "metadata": {
        "colab": {
          "base_uri": "https://localhost:8080/"
        },
        "id": "2dWT_K3jzq-Y",
        "outputId": "d2f5039b-4155-42fb-ee5d-7950223bcfd7"
      },
      "outputs": [
        {
          "output_type": "stream",
          "name": "stdout",
          "text": [
            "Yaşlarına Göre Artan Sırada İsimler (ve Yaşları):\n",
            "İsim: Veli, Yaş: 22\n",
            "İsim: Fatma, Yaş: 25\n",
            "İsim: Deniz, Yaş: 27\n",
            "İsim: Ayşe, Yaş: 28\n",
            "İsim: Ali, Yaş: 30\n",
            "İsim: Burak, Yaş: 32\n",
            "İsim: Elif, Yaş: 35\n"
          ]
        }
      ],
      "source": [
        "import sqlite3\n",
        "\n",
        "conn = sqlite3.connect('test.db')\n",
        "cur = conn.cursor()\n",
        "\n",
        "cur.execute('''CREATE TABLE IF NOT EXISTS Kisiler (id INTEGER PRIMARY KEY AUTOINCREMENT, isim TEXT NOT NULL, yas INTEGER)''')\n",
        "conn.commit()\n",
        "\n",
        "# Yaşlarına göre artan sırada isimleri yazdır\n",
        "cur.execute('SELECT isim, yas FROM Kisiler ORDER BY yas ASC')\n",
        "rows = cur.fetchall()\n",
        "\n",
        "print(\"Yaşlarına Göre Artan Sırada İsimler (ve Yaşları):\")\n",
        "if rows:\n",
        "    for row in rows:\n",
        "        print(f\"İsim: {row[0]}, Yaş: {row[1]}\")\n",
        "else:\n",
        "    print(\"Tabloda veri yok.\")\n",
        "\n",
        "conn.close()"
      ]
    },
    {
      "cell_type": "markdown",
      "metadata": {
        "id": "EXHXT5s0zq-Y"
      },
      "source": [
        "**Açıklama:** Bu sorgu, `Kisiler` tablosundaki isimleri (ve yaşlarını) kişilerin yaşlarına göre artan sırayla listeler."
      ]
    },
    {
      "cell_type": "markdown",
      "metadata": {
        "id": "K5VdIHZazq-Y"
      },
      "source": [
        "### 31. Kisiler Tablosunda İsimleri Belirli İki Harfle Başlayan Kişileri Sorgulama"
      ]
    },
    {
      "cell_type": "code",
      "execution_count": null,
      "metadata": {
        "colab": {
          "base_uri": "https://localhost:8080/"
        },
        "id": "3EEAXYNKzq-Y",
        "outputId": "5d658216-5750-4c90-e51a-c7f085d4b1c6"
      },
      "outputs": [
        {
          "output_type": "stream",
          "name": "stdout",
          "text": [
            "İsimleri 'Al' ile Başlayan Kişiler:\n",
            "(2, 'Ali', 30)\n"
          ]
        }
      ],
      "source": [
        "import sqlite3\n",
        "\n",
        "conn = sqlite3.connect('test.db')\n",
        "cur = conn.cursor()\n",
        "\n",
        "cur.execute('''CREATE TABLE IF NOT EXISTS Kisiler (id INTEGER PRIMARY KEY AUTOINCREMENT, isim TEXT NOT NULL, yas INTEGER)''')\n",
        "conn.commit()\n",
        "\n",
        "# İsimleri 'Al' harfleriyle başlayanları sorgula\n",
        "baslangic = 'Al'\n",
        "cur.execute('SELECT * FROM Kisiler WHERE isim LIKE ?', (baslangic + '%',))\n",
        "rows = cur.fetchall()\n",
        "\n",
        "print(f\"İsimleri '{baslangic}' ile Başlayan Kişiler:\")\n",
        "if rows:\n",
        "    for row in rows:\n",
        "        print(row)\n",
        "else:\n",
        "    print(f\"İsimleri '{baslangic}' ile başlayan kimse bulunamadı.\")\n",
        "\n",
        "conn.close()"
      ]
    },
    {
      "cell_type": "markdown",
      "metadata": {
        "id": "T6LI7ugfzq-Y"
      },
      "source": [
        "**Açıklama:** `LIKE 'Al%'` ifadesi, isimleri 'Al' ile başlayan tüm kişileri getirir."
      ]
    },
    {
      "cell_type": "markdown",
      "metadata": {
        "id": "DYVf0OLezq-Z"
      },
      "source": [
        "### 32. Kisiler Tablosunda İsimlerinin Sonu Belirli Bir Harfle Biten Kişileri Sorgulama"
      ]
    },
    {
      "cell_type": "code",
      "execution_count": null,
      "metadata": {
        "colab": {
          "base_uri": "https://localhost:8080/"
        },
        "id": "nvCseJ0Uzq-Z",
        "outputId": "b05e8428-c5c9-4564-8e92-bdd2590c0f48"
      },
      "outputs": [
        {
          "output_type": "stream",
          "name": "stdout",
          "text": [
            "İsimleri 'e' ile Biten Kişiler:\n",
            "(4, 'Ayşe', 28)\n"
          ]
        }
      ],
      "source": [
        "import sqlite3\n",
        "\n",
        "conn = sqlite3.connect('test.db')\n",
        "cur = conn.cursor()\n",
        "\n",
        "cur.execute('''CREATE TABLE IF NOT EXISTS Kisiler (id INTEGER PRIMARY KEY AUTOINCREMENT, isim TEXT NOT NULL, yas INTEGER)''')\n",
        "conn.commit()\n",
        "\n",
        "# İsimleri 'e' harfiyle biten kişileri sorgula\n",
        "son_harf = 'e'\n",
        "cur.execute('SELECT * FROM Kisiler WHERE isim LIKE ?', ('%' + son_harf,))\n",
        "rows = cur.fetchall()\n",
        "\n",
        "print(f\"İsimleri '{son_harf}' ile Biten Kişiler:\")\n",
        "if rows:\n",
        "    for row in rows:\n",
        "        print(row)\n",
        "else:\n",
        "    print(f\"İsimleri '{son_harf}' ile biten kimse bulunamadı.\")\n",
        "\n",
        "conn.close()"
      ]
    },
    {
      "cell_type": "markdown",
      "metadata": {
        "id": "qWoc4Zenzq-Z"
      },
      "source": [
        "**Açıklama:** `LIKE '%e'` ifadesi, isimleri 'e' harfiyle biten tüm kişileri getirir."
      ]
    },
    {
      "cell_type": "markdown",
      "metadata": {
        "id": "90rviA--zq-Z"
      },
      "source": [
        "### 33. Kisiler Tablosunda Bir Kişinin Hem İsmini Hem Yaşını Güncelleme"
      ]
    },
    {
      "cell_type": "code",
      "execution_count": null,
      "metadata": {
        "colab": {
          "base_uri": "https://localhost:8080/"
        },
        "id": "yA6j8aPvzq-Z",
        "outputId": "e545bd1f-3320-4d73-95a3-334d2e5ed85a"
      },
      "outputs": [
        {
          "output_type": "stream",
          "name": "stdout",
          "text": [
            "'Ali' adlı kişinin ismi 'Ali Veli' ve yaşı 40 olarak güncellendi.\n",
            "Güncellenmiş kayıt: (2, 'Ali Veli', 40)\n"
          ]
        }
      ],
      "source": [
        "import sqlite3\n",
        "\n",
        "conn = sqlite3.connect('test.db')\n",
        "cur = conn.cursor()\n",
        "\n",
        "cur.execute('''CREATE TABLE IF NOT EXISTS Kisiler (id INTEGER PRIMARY KEY AUTOINCREMENT, isim TEXT NOT NULL, yas INTEGER)''')\n",
        "# Örnek olarak 'Ali' kişisini ekleyelim (eğer yoksa)\n",
        "cur.execute(\"INSERT OR IGNORE INTO Kisiler (isim, yas) VALUES (?, ?)\", ('Ali', 30))\n",
        "conn.commit()\n",
        "\n",
        "# 'Ali' ismindeki kişinin ismini 'Ali Veli' ve yaşını 40 olarak güncelle\n",
        "eski_isim = 'Ali'\n",
        "yeni_isim = 'Ali Veli'\n",
        "yeni_yas = 40\n",
        "cur.execute('UPDATE Kisiler SET isim = ?, yas = ? WHERE isim = ?', (yeni_isim, yeni_yas, eski_isim))\n",
        "conn.commit()\n",
        "\n",
        "print(f\"'{eski_isim}' adlı kişinin ismi '{yeni_isim}' ve yaşı {yeni_yas} olarak güncellendi.\")\n",
        "\n",
        "# Kontrol edelim\n",
        "cur.execute(\"SELECT * FROM Kisiler WHERE isim = ?\", (yeni_isim,))\n",
        "print(f\"Güncellenmiş kayıt: {cur.fetchone()}\")\n",
        "\n",
        "conn.close()"
      ]
    },
    {
      "cell_type": "markdown",
      "metadata": {
        "id": "wZD-GkVwzq-Z"
      },
      "source": [
        "**Açıklama:** Bu sorgu, `UPDATE` komutu ile `Ali` ismindeki kişinin hem `isim` hem de `yas` sütunlarını günceller."
      ]
    },
    {
      "cell_type": "markdown",
      "metadata": {
        "id": "txYCvYNizq-a"
      },
      "source": [
        "### 34. Kisiler Tablosunda Aynı İsimli (Birden Fazla Olan) Kişilerin Sayısını Almak"
      ]
    },
    {
      "cell_type": "code",
      "execution_count": null,
      "metadata": {
        "colab": {
          "base_uri": "https://localhost:8080/"
        },
        "id": "e-caFC1yzq-a",
        "outputId": "3031da8b-3a8c-4193-8858-68f5a251d783"
      },
      "outputs": [
        {
          "output_type": "stream",
          "name": "stdout",
          "text": [
            "Aynı İsme Sahip (Birden Fazla Olan) Kişiler ve Sayıları:\n",
            "İsim: Ali Veli, Sayı: 2\n",
            "İsim: Can, Sayı: 2\n"
          ]
        }
      ],
      "source": [
        "import sqlite3\n",
        "\n",
        "conn = sqlite3.connect('test.db')\n",
        "cur = conn.cursor()\n",
        "\n",
        "cur.execute('''CREATE TABLE IF NOT EXISTS Kisiler (id INTEGER PRIMARY KEY AUTOINCREMENT, isim TEXT NOT NULL, yas INTEGER)''')\n",
        "# Örnek: Aynı isimli kişiler ekleyelim\n",
        "cur.execute(\"INSERT OR IGNORE INTO Kisiler (isim, yas) VALUES (?,?)\", ('Can', 25))\n",
        "cur.execute(\"INSERT OR IGNORE INTO Kisiler (isim, yas) VALUES (?,?)\", ('Can', 35))\n",
        "conn.commit()\n",
        "\n",
        "# Aynı isme sahip (birden fazla olan) kişileri ve sayılarını al\n",
        "cur.execute('''\n",
        "    SELECT isim, COUNT(*) as sayi\n",
        "    FROM Kisiler\n",
        "    GROUP BY isim\n",
        "    HAVING COUNT(*) > 1\n",
        "''')\n",
        "rows = cur.fetchall()\n",
        "\n",
        "print(\"Aynı İsme Sahip (Birden Fazla Olan) Kişiler ve Sayıları:\")\n",
        "if rows:\n",
        "    for row in rows:\n",
        "        print(f\"İsim: {row[0]}, Sayı: {row[1]}\")\n",
        "else:\n",
        "    print(\"Aynı isme sahip birden fazla kişi bulunamadı.\")\n",
        "\n",
        "conn.close()"
      ]
    },
    {
      "cell_type": "markdown",
      "metadata": {
        "id": "DLRZKIBkzq-a"
      },
      "source": [
        "**Açıklama:** `GROUP BY isim` ile isimlere göre gruplama yapılır. `HAVING COUNT(*) > 1` koşulu ile sadece birden fazla kez geçen isimler (yani aynı isme sahip farklı kayıtlar) ve bu isimlerin kaç kez geçtiği listelenir."
      ]
    },
    {
      "cell_type": "markdown",
      "metadata": {
        "id": "m0AX-Qo2zq-a"
      },
      "source": [
        "### 35. Kisiler Tablosunda Yaşı Belirli Bir Aralıkta Olanların Sadece İsimlerini Almak"
      ]
    },
    {
      "cell_type": "code",
      "execution_count": null,
      "metadata": {
        "colab": {
          "base_uri": "https://localhost:8080/"
        },
        "id": "V-jmrmBXzq-a",
        "outputId": "710aea3c-17eb-4c48-c654-e4a85cc50b2f"
      },
      "outputs": [
        {
          "output_type": "stream",
          "name": "stdout",
          "text": [
            "Yaşı 20 ile 30 Arasında Olan Kişilerin İsimleri:\n",
            "Ayşe\n",
            "Can\n",
            "Deniz\n",
            "Fatma\n",
            "Veli\n"
          ]
        }
      ],
      "source": [
        "import sqlite3\n",
        "\n",
        "conn = sqlite3.connect('test.db')\n",
        "cur = conn.cursor()\n",
        "\n",
        "cur.execute('''CREATE TABLE IF NOT EXISTS Kisiler (id INTEGER PRIMARY KEY AUTOINCREMENT, isim TEXT NOT NULL, yas INTEGER)''')\n",
        "conn.commit()\n",
        "\n",
        "# Yaşı 20 ile 30 arasında olanların sadece isimlerini al\n",
        "min_yas_aralik = 20\n",
        "max_yas_aralik = 30\n",
        "cur.execute('SELECT isim FROM Kisiler WHERE yas BETWEEN ? AND ? ORDER BY isim', (min_yas_aralik, max_yas_aralik))\n",
        "rows = cur.fetchall()\n",
        "\n",
        "print(f\"Yaşı {min_yas_aralik} ile {max_yas_aralik} Arasında Olan Kişilerin İsimleri:\")\n",
        "if rows:\n",
        "    for row in rows:\n",
        "        print(row[0])\n",
        "else:\n",
        "    print(\"Belirtilen yaş aralığında kimse bulunamadı.\")\n",
        "\n",
        "conn.close()"
      ]
    },
    {
      "cell_type": "markdown",
      "metadata": {
        "id": "ZQAoWqNGzq-a"
      },
      "source": [
        "**Açıklama:** Bu sorgu, yaşı 20 ile 30 (dahil) arasında olan kişilerin sadece `isim` sütununu getirir ve sonuçları isme göre sıralar."
      ]
    },
    {
      "cell_type": "markdown",
      "metadata": {
        "id": "FbnOAuSjzq-b"
      },
      "source": [
        "### 36. Kisiler Tablosunda Yaş Ortalamasının Üzerinde Yaşa Sahip Kişileri Listeleme"
      ]
    },
    {
      "cell_type": "code",
      "execution_count": null,
      "metadata": {
        "colab": {
          "base_uri": "https://localhost:8080/"
        },
        "id": "gViZbv7Kzq-b",
        "outputId": "604c0a2a-672b-4b46-90fb-42fd125651a3"
      },
      "outputs": [
        {
          "output_type": "stream",
          "name": "stdout",
          "text": [
            "Yaş Ortalamasının Üzerinde Olan Kişiler:\n",
            "(2, 'Ali Veli', 40)\n",
            "(6, 'Burak', 32)\n",
            "(8, 'Elif', 35)\n",
            "(9, 'Ali Veli', 40)\n",
            "(11, 'Can', 35)\n"
          ]
        }
      ],
      "source": [
        "import sqlite3\n",
        "\n",
        "conn = sqlite3.connect('test.db')\n",
        "cur = conn.cursor()\n",
        "\n",
        "cur.execute('''CREATE TABLE IF NOT EXISTS Kisiler (id INTEGER PRIMARY KEY AUTOINCREMENT, isim TEXT NOT NULL, yas INTEGER)''')\n",
        "conn.commit()\n",
        "\n",
        "# Yaş ortalamasının üzerinde yaşa sahip kişileri listele\n",
        "cur.execute('SELECT * FROM Kisiler WHERE yas > (SELECT AVG(yas) FROM Kisiler)')\n",
        "rows = cur.fetchall()\n",
        "\n",
        "print(\"Yaş Ortalamasının Üzerinde Olan Kişiler:\")\n",
        "if rows:\n",
        "    for row in rows:\n",
        "        print(row)\n",
        "else:\n",
        "    print(\"Yaş ortalamasının üzerinde kimse bulunamadı veya tablo boş.\")\n",
        "\n",
        "conn.close()"
      ]
    },
    {
      "cell_type": "markdown",
      "metadata": {
        "id": "FtZHWtnLzq-b"
      },
      "source": [
        "**Açıklama:** Alt sorgu `(SELECT AVG(yas) FROM Kisiler)` ile tüm kişilerin yaş ortalaması hesaplanır. Ana sorgu, yaşı bu ortalamadan büyük olan kişileri listeler."
      ]
    },
    {
      "cell_type": "markdown",
      "metadata": {
        "id": "EvgNBadMzq-b"
      },
      "source": [
        "### 37. Kisiler Tablosunda Yaşı En Yüksek Olan Kişiyi (veya Kişileri) Sorgulama"
      ]
    },
    {
      "cell_type": "code",
      "execution_count": null,
      "metadata": {
        "colab": {
          "base_uri": "https://localhost:8080/"
        },
        "id": "9IRY3IHizq-b",
        "outputId": "fe55c28a-84df-4531-b1dd-66f01d8e8623"
      },
      "outputs": [
        {
          "output_type": "stream",
          "name": "stdout",
          "text": [
            "Yaşı En Yüksek Olan Kişi(ler):\n",
            "(2, 'Ali Veli', 40)\n",
            "(9, 'Ali Veli', 40)\n"
          ]
        }
      ],
      "source": [
        "import sqlite3\n",
        "\n",
        "conn = sqlite3.connect('test.db')\n",
        "cur = conn.cursor()\n",
        "\n",
        "cur.execute('''CREATE TABLE IF NOT EXISTS Kisiler (id INTEGER PRIMARY KEY AUTOINCREMENT, isim TEXT NOT NULL, yas INTEGER)''')\n",
        "conn.commit()\n",
        "\n",
        "# Yaşı en yüksek olan kişiyi (veya kişileri, birden fazla ise) sorgula\n",
        "cur.execute('SELECT * FROM Kisiler WHERE yas = (SELECT MAX(yas) FROM Kisiler)')\n",
        "rows = cur.fetchall()\n",
        "\n",
        "print(\"Yaşı En Yüksek Olan Kişi(ler):\")\n",
        "if rows:\n",
        "    for row in rows:\n",
        "        print(row)\n",
        "else:\n",
        "    print(\"Tabloda veri yok.\")\n",
        "\n",
        "conn.close()"
      ]
    },
    {
      "cell_type": "markdown",
      "metadata": {
        "id": "tgRwOGvszq-b"
      },
      "source": [
        "**Açıklama:** Alt sorgu `(SELECT MAX(yas) FROM Kisiler)` ile tablodaki en yüksek yaş bulunur. Ana sorgu, bu en yüksek yaşa sahip olan tüm kişileri listeler (eğer birden fazla kişi aynı en yüksek yaşa sahipse hepsi gelir)."
      ]
    },
    {
      "cell_type": "markdown",
      "metadata": {
        "id": "1Vglra9Gzq-c"
      },
      "source": [
        "### 38. Kisiler Tablosunda Yaşları Belirli Bir Değerden Büyük Olanları Silmek"
      ]
    },
    {
      "cell_type": "code",
      "execution_count": null,
      "metadata": {
        "colab": {
          "base_uri": "https://localhost:8080/"
        },
        "id": "wtKfUJzyzq-c",
        "outputId": "2afb79c7-7672-4e61-deac-39b04d651226"
      },
      "outputs": [
        {
          "output_type": "stream",
          "name": "stdout",
          "text": [
            "Yaşı 40'tan büyük olan 0 kişi silindi.\n"
          ]
        }
      ],
      "source": [
        "import sqlite3\n",
        "\n",
        "conn = sqlite3.connect('test.db')\n",
        "cur = conn.cursor()\n",
        "\n",
        "cur.execute('''CREATE TABLE IF NOT EXISTS Kisiler (id INTEGER PRIMARY KEY AUTOINCREMENT, isim TEXT NOT NULL, yas INTEGER)''')\n",
        "conn.commit()\n",
        "\n",
        "# Yaşı 40'tan büyük olan kişileri sil\n",
        "yas_siniri = 40\n",
        "cur.execute('DELETE FROM Kisiler WHERE yas > ?', (yas_siniri,))\n",
        "deleted_rows = cur.rowcount # Kaç satırın etkilendiğini verir\n",
        "conn.commit()\n",
        "\n",
        "print(f\"Yaşı {yas_siniri}'tan büyük olan {deleted_rows} kişi silindi.\")\n",
        "\n",
        "conn.close()"
      ]
    },
    {
      "cell_type": "markdown",
      "metadata": {
        "id": "n5wtBH_Lzq-c"
      },
      "source": [
        "**Açıklama:** Bu sorgu, yaşı 40'tan büyük olan tüm kişileri `Kisiler` tablosundan siler. `cur.rowcount` silinen satır sayısını verir."
      ]
    },
    {
      "cell_type": "markdown",
      "metadata": {
        "id": "sIKtAbPfzq-c"
      },
      "source": [
        "### 39. Kisiler Tablosunda Sadece İsimleri Farklı (Benzersiz) Olan Kişileri Sorgulamak (ID ve Yaş Dikkate Alınmadan)"
      ]
    },
    {
      "cell_type": "code",
      "execution_count": null,
      "metadata": {
        "colab": {
          "base_uri": "https://localhost:8080/"
        },
        "id": "6jWrEvLqzq-c",
        "outputId": "365a9b6d-3960-4df8-eb0b-ede73fdac8c9"
      },
      "outputs": [
        {
          "output_type": "stream",
          "name": "stdout",
          "text": [
            "Tablodaki Farklı İsimler:\n",
            "Ali Veli\n",
            "Ayşe\n",
            "Burak\n",
            "Can\n",
            "Deniz\n",
            "Elif\n",
            "Fatma\n",
            "Veli\n"
          ]
        }
      ],
      "source": [
        "import sqlite3\n",
        "\n",
        "conn = sqlite3.connect('test.db')\n",
        "cur = conn.cursor()\n",
        "\n",
        "cur.execute('''CREATE TABLE IF NOT EXISTS Kisiler (id INTEGER PRIMARY KEY AUTOINCREMENT, isim TEXT NOT NULL, yas INTEGER)''')\n",
        "conn.commit()\n",
        "\n",
        "# Sadece isimleri farklı olanları (benzersiz isimleri) sorgula\n",
        "cur.execute('SELECT DISTINCT isim FROM Kisiler ORDER BY isim')\n",
        "rows = cur.fetchall()\n",
        "\n",
        "print(\"Tablodaki Farklı İsimler:\")\n",
        "if rows:\n",
        "    for row in rows:\n",
        "        print(row[0])\n",
        "else:\n",
        "    print(\"Tabloda hiç isim bulunamadı.\")\n",
        "\n",
        "conn.close()"
      ]
    },
    {
      "cell_type": "markdown",
      "metadata": {
        "id": "8OMGbRsDzq-c"
      },
      "source": [
        "**Açıklama:** `SELECT DISTINCT isim` ifadesi, `isim` sütunundaki tekrarlayan değerleri dikkate almadan sadece benzersiz isimleri listeler."
      ]
    },
    {
      "cell_type": "markdown",
      "metadata": {
        "id": "uQ4Ov7_hzq-c"
      },
      "source": [
        "### 40. Kisiler Tablosunda Yaşı Belirli Bir Değerden Küçük Olan Kişilerin Sayısını Almak"
      ]
    },
    {
      "cell_type": "code",
      "execution_count": null,
      "metadata": {
        "colab": {
          "base_uri": "https://localhost:8080/"
        },
        "id": "Gc3fEgUYzq-d",
        "outputId": "02f94e13-3cc1-4098-a61f-6164e1647977"
      },
      "outputs": [
        {
          "output_type": "stream",
          "name": "stdout",
          "text": [
            "Yaşı 35'ten küçük olan kişi sayısı: 6\n"
          ]
        }
      ],
      "source": [
        "import sqlite3\n",
        "\n",
        "conn = sqlite3.connect('test.db')\n",
        "cur = conn.cursor()\n",
        "\n",
        "cur.execute('''CREATE TABLE IF NOT EXISTS Kisiler (id INTEGER PRIMARY KEY AUTOINCREMENT, isim TEXT NOT NULL, yas INTEGER)''')\n",
        "conn.commit()\n",
        "\n",
        "# Yaşı 35'ten küçük olan kişilerin sayısını al\n",
        "yas_ust_sinir = 35\n",
        "cur.execute('SELECT COUNT(*) FROM Kisiler WHERE yas < ?', (yas_ust_sinir,))\n",
        "count_kucuk = cur.fetchone()[0]\n",
        "\n",
        "print(f\"Yaşı {yas_ust_sinir}'ten küçük olan kişi sayısı: {count_kucuk}\")\n",
        "\n",
        "conn.close()"
      ]
    },
    {
      "cell_type": "markdown",
      "metadata": {
        "id": "sGdaj6ftzq-d"
      },
      "source": [
        "**Açıklama:** Bu sorgu, `Kisiler` tablosunda yaşı 35'ten küçük olan kişi sayısını verir."
      ]
    },
    {
      "cell_type": "markdown",
      "metadata": {
        "id": "tlMkFCpRzq-d"
      },
      "source": [
        "### 41. Kisiler Tablosunda İsimleri Tersine Alfabetik Sırada Listeleme"
      ]
    },
    {
      "cell_type": "code",
      "execution_count": null,
      "metadata": {
        "colab": {
          "base_uri": "https://localhost:8080/"
        },
        "id": "E88Ep_0bzq-d",
        "outputId": "0af4345f-0ab8-42b8-d4c0-8d799078a25c"
      },
      "outputs": [
        {
          "output_type": "stream",
          "name": "stdout",
          "text": [
            "İsimler Tersine Alfabetik Sırada:\n",
            "İsim: Veli, Yaş: 22\n",
            "İsim: Fatma, Yaş: 25\n",
            "İsim: Elif, Yaş: 35\n",
            "İsim: Deniz, Yaş: 27\n",
            "İsim: Can, Yaş: 25\n",
            "İsim: Can, Yaş: 35\n",
            "İsim: Burak, Yaş: 32\n",
            "İsim: Ayşe, Yaş: 28\n",
            "İsim: Ali Veli, Yaş: 40\n",
            "İsim: Ali Veli, Yaş: 40\n"
          ]
        }
      ],
      "source": [
        "import sqlite3\n",
        "\n",
        "conn = sqlite3.connect('test.db')\n",
        "cur = conn.cursor()\n",
        "\n",
        "cur.execute('''CREATE TABLE IF NOT EXISTS Kisiler (id INTEGER PRIMARY KEY AUTOINCREMENT, isim TEXT NOT NULL, yas INTEGER)''')\n",
        "conn.commit()\n",
        "\n",
        "# İsimleri tersine alfabetik sırada (Z'den A'ya) sorgula\n",
        "cur.execute('SELECT isim, yas FROM Kisiler ORDER BY isim DESC')\n",
        "rows = cur.fetchall()\n",
        "\n",
        "print(\"İsimler Tersine Alfabetik Sırada:\")\n",
        "if rows:\n",
        "    for row in rows:\n",
        "        print(f\"İsim: {row[0]}, Yaş: {row[1]}\")\n",
        "else:\n",
        "    print(\"Tabloda veri yok.\")\n",
        "\n",
        "conn.close()"
      ]
    },
    {
      "cell_type": "markdown",
      "metadata": {
        "id": "Ab4QKyGezq-d"
      },
      "source": [
        "**Açıklama:** `ORDER BY isim DESC` ifadesi, `Kisiler` tablosundaki kayıtları `isim` sütununa göre azalan (ters alfabetik) sırada sıralar."
      ]
    },
    {
      "cell_type": "markdown",
      "metadata": {
        "id": "noWYFhFdzq-d"
      },
      "source": [
        "### 42. Kisiler Tablosunda İsimleri Aynı Olan Kişilerin Sayısını (Her İsim İçin Ayrı) Hesaplamak"
      ]
    },
    {
      "cell_type": "code",
      "execution_count": null,
      "metadata": {
        "colab": {
          "base_uri": "https://localhost:8080/"
        },
        "id": "TpTktVOqzq-d",
        "outputId": "486a8fa2-5247-4344-9040-08e6cecc9350"
      },
      "outputs": [
        {
          "output_type": "stream",
          "name": "stdout",
          "text": [
            "Her İsmin Tekrar Sayısı:\n",
            "İsim: Ali Veli, Tekrar Sayısı: 2\n",
            "İsim: Can, Tekrar Sayısı: 2\n",
            "İsim: Ayşe, Tekrar Sayısı: 1\n",
            "İsim: Burak, Tekrar Sayısı: 1\n",
            "İsim: Deniz, Tekrar Sayısı: 1\n",
            "İsim: Elif, Tekrar Sayısı: 1\n",
            "İsim: Fatma, Tekrar Sayısı: 1\n",
            "İsim: Veli, Tekrar Sayısı: 1\n"
          ]
        }
      ],
      "source": [
        "import sqlite3\n",
        "\n",
        "conn = sqlite3.connect('test.db')\n",
        "cur = conn.cursor()\n",
        "\n",
        "cur.execute('''CREATE TABLE IF NOT EXISTS Kisiler (id INTEGER PRIMARY KEY AUTOINCREMENT, isim TEXT NOT NULL, yas INTEGER)''')\n",
        "conn.commit()\n",
        "\n",
        "# Aynı isme sahip kişilerin sayısını (her isim için ayrı ayrı) hesapla\n",
        "cur.execute('''\n",
        "    SELECT isim, COUNT(*) as tekrar_sayisi\n",
        "    FROM Kisiler\n",
        "    GROUP BY isim\n",
        "    ORDER BY tekrar_sayisi DESC, isim ASC\n",
        "''')\n",
        "rows = cur.fetchall()\n",
        "\n",
        "print(\"Her İsmin Tekrar Sayısı:\")\n",
        "if rows:\n",
        "    for row in rows:\n",
        "        print(f\"İsim: {row[0]}, Tekrar Sayısı: {row[1]}\")\n",
        "else:\n",
        "    print(\"Tabloda veri yok.\")\n",
        "\n",
        "conn.close()"
      ]
    },
    {
      "cell_type": "markdown",
      "metadata": {
        "id": "XiniUo4Rzq-e"
      },
      "source": [
        "**Açıklama:** Bu sorgu, `Kisiler` tablosundaki her bir ismin kaç kez geçtiğini (yani aynı isme sahip kaç kişi olduğunu) sayar ve sonuçları tekrar sayısına göre azalan, sonra da isme göre artan sırada listeler."
      ]
    },
    {
      "cell_type": "markdown",
      "metadata": {
        "id": "Da30gQlszq-e"
      },
      "source": [
        "### 43. Kisiler Tablosunda İlk N Kişiyi Sorgulamak (Örn: İlk 5 Kişi)"
      ]
    },
    {
      "cell_type": "code",
      "execution_count": null,
      "metadata": {
        "colab": {
          "base_uri": "https://localhost:8080/"
        },
        "id": "2Mijxnk7zq-e",
        "outputId": "2613a968-a441-4791-810e-b3bc0f30b4de"
      },
      "outputs": [
        {
          "output_type": "stream",
          "name": "stdout",
          "text": [
            "Tablodaki İlk 5 Kişi:\n",
            "(1, 'Fatma', 25)\n",
            "(2, 'Ali Veli', 40)\n",
            "(3, 'Veli', 22)\n",
            "(4, 'Ayşe', 28)\n",
            "(6, 'Burak', 32)\n"
          ]
        }
      ],
      "source": [
        "import sqlite3\n",
        "\n",
        "conn = sqlite3.connect('test.db')\n",
        "cur = conn.cursor()\n",
        "\n",
        "cur.execute('''CREATE TABLE IF NOT EXISTS Kisiler (id INTEGER PRIMARY KEY AUTOINCREMENT, isim TEXT NOT NULL, yas INTEGER)''')\n",
        "conn.commit()\n",
        "\n",
        "# İlk 5 kişiyi sorgula (varsayılan ID sırasına göre)\n",
        "limit_sayisi = 5\n",
        "cur.execute('SELECT * FROM Kisiler LIMIT ?', (limit_sayisi,))\n",
        "rows = cur.fetchall()\n",
        "\n",
        "print(f\"Tablodaki İlk {limit_sayisi} Kişi:\")\n",
        "if rows:\n",
        "    for row in rows:\n",
        "        print(row)\n",
        "else:\n",
        "    print(\"Tabloda yeterli sayıda veya hiç kayıt yok.\")\n",
        "\n",
        "conn.close()"
      ]
    },
    {
      "cell_type": "markdown",
      "metadata": {
        "id": "xcuefv9Lzq-e"
      },
      "source": [
        "**Açıklama:** `LIMIT 5` ifadesi, sorgu sonucunda en fazla 5 kaydın getirilmesini sağlar. Eğer belirli bir sıralama isteniyorsa `ORDER BY` ifadesi `LIMIT`'ten önce kullanılmalıdır."
      ]
    },
    {
      "cell_type": "markdown",
      "metadata": {
        "id": "pVtij0gbzq-e"
      },
      "source": [
        "### 44. Kisiler Tablosunda Yaşları Belirli İki Değer Arasında (Örn: 30-40) Olanları Sorgulamak"
      ]
    },
    {
      "cell_type": "code",
      "execution_count": null,
      "metadata": {
        "colab": {
          "base_uri": "https://localhost:8080/"
        },
        "id": "l5B0-KuLzq-e",
        "outputId": "33def5f1-6543-45f2-d1ef-be5c7cb10e78"
      },
      "outputs": [
        {
          "output_type": "stream",
          "name": "stdout",
          "text": [
            "Yaşı 30 ile 40 Arasında Olan Kişiler:\n",
            "(6, 'Burak', 32)\n",
            "(8, 'Elif', 35)\n",
            "(11, 'Can', 35)\n",
            "(2, 'Ali Veli', 40)\n",
            "(9, 'Ali Veli', 40)\n"
          ]
        }
      ],
      "source": [
        "import sqlite3\n",
        "\n",
        "conn = sqlite3.connect('test.db')\n",
        "cur = conn.cursor()\n",
        "\n",
        "cur.execute('''CREATE TABLE IF NOT EXISTS Kisiler (id INTEGER PRIMARY KEY AUTOINCREMENT, isim TEXT NOT NULL, yas INTEGER)''')\n",
        "conn.commit()\n",
        "\n",
        "# Yaşı 30 ile 40 (dahil) arasında olanları sorgula\n",
        "yas_alt = 30\n",
        "yas_ust = 40\n",
        "cur.execute('SELECT * FROM Kisiler WHERE yas >= ? AND yas <= ? ORDER BY yas', (yas_alt, yas_ust))\n",
        "# Alternatif: cur.execute('SELECT * FROM Kisiler WHERE yas BETWEEN ? AND ?', (yas_alt, yas_ust))\n",
        "rows = cur.fetchall()\n",
        "\n",
        "print(f\"Yaşı {yas_alt} ile {yas_ust} Arasında Olan Kişiler:\")\n",
        "if rows:\n",
        "    for row in rows:\n",
        "        print(row)\n",
        "else:\n",
        "    print(\"Belirtilen yaş aralığında kimse bulunamadı.\")\n",
        "\n",
        "conn.close()"
      ]
    },
    {
      "cell_type": "markdown",
      "metadata": {
        "id": "0YXIMBu4zq-f"
      },
      "source": [
        "**Açıklama:** Bu sorgu, yaşı 30 (dahil) ile 40 (dahil) arasında olan kişileri getirir. `BETWEEN` operatörü de aynı amaçla kullanılabilir."
      ]
    },
    {
      "cell_type": "markdown",
      "metadata": {
        "id": "5FtcPDpUzq-f"
      },
      "source": [
        "### 45. Kisiler Tablosunda Yaşları Belirli Bir Değerden Küçük Olanları Silmek"
      ]
    },
    {
      "cell_type": "code",
      "execution_count": null,
      "metadata": {
        "colab": {
          "base_uri": "https://localhost:8080/"
        },
        "id": "lesZn4oDzq-f",
        "outputId": "78f2a5d9-ec54-4718-fbc8-105a80514d36"
      },
      "outputs": [
        {
          "output_type": "stream",
          "name": "stdout",
          "text": [
            "Yaşı 20'den küçük olan 0 kişi silindi.\n"
          ]
        }
      ],
      "source": [
        "import sqlite3\n",
        "\n",
        "conn = sqlite3.connect('test.db')\n",
        "cur = conn.cursor()\n",
        "\n",
        "cur.execute('''CREATE TABLE IF NOT EXISTS Kisiler (id INTEGER PRIMARY KEY AUTOINCREMENT, isim TEXT NOT NULL, yas INTEGER)''')\n",
        "conn.commit()\n",
        "\n",
        "# Yaşı 20'den küçük olanları sil\n",
        "yas_silme_siniri = 20\n",
        "cur.execute('DELETE FROM Kisiler WHERE yas < ?', (yas_silme_siniri,))\n",
        "silinen_satir_sayisi_kucuk = cur.rowcount\n",
        "conn.commit()\n",
        "\n",
        "print(f\"Yaşı {yas_silme_siniri}'den küçük olan {silinen_satir_sayisi_kucuk} kişi silindi.\")\n",
        "\n",
        "conn.close()"
      ]
    },
    {
      "cell_type": "markdown",
      "metadata": {
        "id": "9N8EVKulzq-f"
      },
      "source": [
        "**Açıklama:** Bu sorgu, yaşı 20'den küçük olan tüm kişileri `Kisiler` tablosundan siler."
      ]
    },
    {
      "cell_type": "markdown",
      "metadata": {
        "id": "nxAisUzxzq-f"
      },
      "source": [
        "### 46. Kisiler Tablosunda İsimlerin Karakter Sayısını Hesaplama"
      ]
    },
    {
      "cell_type": "code",
      "execution_count": null,
      "metadata": {
        "colab": {
          "base_uri": "https://localhost:8080/"
        },
        "id": "DTuths7Tzq-f",
        "outputId": "4b7bc1e6-ffd7-44bc-998a-3f90c0b1c908"
      },
      "outputs": [
        {
          "output_type": "stream",
          "name": "stdout",
          "text": [
            "İsimler ve Karakter Sayıları:\n",
            "İsim: Fatma, Karakter Sayısı: 5\n",
            "İsim: Ali Veli, Karakter Sayısı: 8\n",
            "İsim: Veli, Karakter Sayısı: 4\n",
            "İsim: Ayşe, Karakter Sayısı: 4\n",
            "İsim: Burak, Karakter Sayısı: 5\n",
            "İsim: Deniz, Karakter Sayısı: 5\n",
            "İsim: Elif, Karakter Sayısı: 4\n",
            "İsim: Ali Veli, Karakter Sayısı: 8\n",
            "İsim: Can, Karakter Sayısı: 3\n",
            "İsim: Can, Karakter Sayısı: 3\n"
          ]
        }
      ],
      "source": [
        "import sqlite3\n",
        "\n",
        "conn = sqlite3.connect('test.db')\n",
        "cur = conn.cursor()\n",
        "\n",
        "cur.execute('''CREATE TABLE IF NOT EXISTS Kisiler (id INTEGER PRIMARY KEY AUTOINCREMENT, isim TEXT NOT NULL, yas INTEGER)''')\n",
        "conn.commit()\n",
        "\n",
        "# İsimlerin karakter sayısını (uzunluğunu) hesapla\n",
        "cur.execute('SELECT isim, LENGTH(isim) as karakter_sayisi FROM Kisiler')\n",
        "rows = cur.fetchall()\n",
        "\n",
        "print(\"İsimler ve Karakter Sayıları:\")\n",
        "if rows:\n",
        "    for row in rows:\n",
        "        print(f\"İsim: {row[0]}, Karakter Sayısı: {row[1]}\")\n",
        "else:\n",
        "    print(\"Tabloda veri yok.\")\n",
        "\n",
        "conn.close()"
      ]
    },
    {
      "cell_type": "markdown",
      "metadata": {
        "id": "4wuIXpgUzq-g"
      },
      "source": [
        "**Açıklama:** `LENGTH(isim)` SQL fonksiyonu, `isim` sütunundaki her bir metnin karakter uzunluğunu hesaplar."
      ]
    },
    {
      "cell_type": "markdown",
      "metadata": {
        "id": "T9vxw9xmzq-g"
      },
      "source": [
        "### 47. Kisiler Tablosunda Yaşları Belirli Bir Değerden Büyük VE İsimleri Belirli Bir Harfle Başlayanları Sorgulamak"
      ]
    },
    {
      "cell_type": "code",
      "execution_count": null,
      "metadata": {
        "colab": {
          "base_uri": "https://localhost:8080/"
        },
        "id": "HiKlzzwbzq-g",
        "outputId": "45e16e11-f455-4cfe-a24b-75c4e8351b28"
      },
      "outputs": [
        {
          "output_type": "stream",
          "name": "stdout",
          "text": [
            "Yaşı 20'den Büyük ve İsmi 'A' ile Başlayan Kişiler:\n",
            "(2, 'Ali Veli', 40)\n",
            "(4, 'Ayşe', 28)\n",
            "(9, 'Ali Veli', 40)\n"
          ]
        }
      ],
      "source": [
        "import sqlite3\n",
        "\n",
        "conn = sqlite3.connect('test.db')\n",
        "cur = conn.cursor()\n",
        "\n",
        "cur.execute('''CREATE TABLE IF NOT EXISTS Kisiler (id INTEGER PRIMARY KEY AUTOINCREMENT, isim TEXT NOT NULL, yas INTEGER)''')\n",
        "conn.commit()\n",
        "\n",
        "# Yaşı 20'den büyük VE ismi 'A' ile başlayanları sorgula\n",
        "yas_kosulu = 20\n",
        "isim_baslangic_kosulu = 'A'\n",
        "cur.execute('SELECT * FROM Kisiler WHERE yas > ? AND isim LIKE ?', (yas_kosulu, isim_baslangic_kosulu + '%'))\n",
        "rows = cur.fetchall()\n",
        "\n",
        "print(f\"Yaşı {yas_kosulu}'den Büyük ve İsmi '{isim_baslangic_kosulu}' ile Başlayan Kişiler:\")\n",
        "if rows:\n",
        "    for row in rows:\n",
        "        print(row)\n",
        "else:\n",
        "    print(\"Belirtilen koşullara uyan kimse bulunamadı.\")\n",
        "\n",
        "conn.close()"
      ]
    },
    {
      "cell_type": "markdown",
      "metadata": {
        "id": "jZTmThZqzq-g"
      },
      "source": [
        "**Açıklama:** `AND` operatörü ile birden fazla koşul birleştirilir. Bu sorgu, yaşı 20'den büyük olan *ve aynı zamanda* ismi 'A' harfi ile başlayan kişileri getirir."
      ]
    },
    {
      "cell_type": "markdown",
      "metadata": {
        "id": "qSnzWtPxzq-g"
      },
      "source": [
        "### 48. Kisiler Tablosunda Yaşları Belirli Bir Aralıkta Olanları Silmek"
      ]
    },
    {
      "cell_type": "code",
      "execution_count": null,
      "metadata": {
        "colab": {
          "base_uri": "https://localhost:8080/"
        },
        "id": "GUpGDaBqzq-g",
        "outputId": "44697efe-03ca-44b5-b272-718db11d773c"
      },
      "outputs": [
        {
          "output_type": "stream",
          "name": "stdout",
          "text": [
            "Yaşı 30 ile 50 arasında olan 5 kişi silindi.\n"
          ]
        }
      ],
      "source": [
        "import sqlite3\n",
        "\n",
        "conn = sqlite3.connect('test.db')\n",
        "cur = conn.cursor()\n",
        "\n",
        "cur.execute('''CREATE TABLE IF NOT EXISTS Kisiler (id INTEGER PRIMARY KEY AUTOINCREMENT, isim TEXT NOT NULL, yas INTEGER)''')\n",
        "conn.commit()\n",
        "\n",
        "# Yaşı 30 ile 50 (dahil) arasında olanları sil\n",
        "sil_yas_alt = 30\n",
        "sil_yas_ust = 50\n",
        "cur.execute('DELETE FROM Kisiler WHERE yas BETWEEN ? AND ?', (sil_yas_alt, sil_yas_ust))\n",
        "silinen_aralik_sayisi = cur.rowcount\n",
        "conn.commit()\n",
        "\n",
        "print(f\"Yaşı {sil_yas_alt} ile {sil_yas_ust} arasında olan {silinen_aralik_sayisi} kişi silindi.\")\n",
        "\n",
        "conn.close()"
      ]
    },
    {
      "cell_type": "markdown",
      "metadata": {
        "id": "dsdab_zWzq-h"
      },
      "source": [
        "**Açıklama:** Bu sorgu, yaşı 30 ile 50 (dahil) arasında olan tüm kişileri `Kisiler` tablosundan siler."
      ]
    },
    {
      "cell_type": "markdown",
      "metadata": {
        "id": "-GgT17f-zq-h"
      },
      "source": [
        "### 49. Kisiler Tablosunda İsimlerin Son Harfini Almak"
      ]
    },
    {
      "cell_type": "code",
      "execution_count": null,
      "metadata": {
        "colab": {
          "base_uri": "https://localhost:8080/"
        },
        "id": "I56MH-q3zq-h",
        "outputId": "dc0d8dc0-26d4-41a8-da62-706b47c73d86"
      },
      "outputs": [
        {
          "output_type": "stream",
          "name": "stdout",
          "text": [
            "İsimler ve Son Harfleri:\n",
            "İsim: Fatma, Son Harf: a\n",
            "İsim: Veli, Son Harf: i\n",
            "İsim: Ayşe, Son Harf: e\n",
            "İsim: Deniz, Son Harf: z\n",
            "İsim: Can, Son Harf: n\n"
          ]
        }
      ],
      "source": [
        "import sqlite3\n",
        "\n",
        "conn = sqlite3.connect('test.db')\n",
        "cur = conn.cursor()\n",
        "\n",
        "cur.execute('''CREATE TABLE IF NOT EXISTS Kisiler (id INTEGER PRIMARY KEY AUTOINCREMENT, isim TEXT NOT NULL, yas INTEGER)''')\n",
        "conn.commit()\n",
        "\n",
        "# İsimlerin son harfini al (SQLite'ta SUBSTR kullanılır)\n",
        "cur.execute('SELECT isim, SUBSTR(isim, -1) as son_harf FROM Kisiler')\n",
        "rows = cur.fetchall()\n",
        "\n",
        "print(\"İsimler ve Son Harfleri:\")\n",
        "if rows:\n",
        "    for row in rows:\n",
        "        print(f\"İsim: {row[0]}, Son Harf: {row[1]}\")\n",
        "else:\n",
        "    print(\"Tabloda veri yok.\")\n",
        "\n",
        "conn.close()"
      ]
    },
    {
      "cell_type": "markdown",
      "metadata": {
        "id": "KMfU5LXFzq-h"
      },
      "source": [
        "**Açıklama:** `SUBSTR(isim, -1)` SQLite fonksiyonu, `isim` sütunundaki her bir metnin son karakterini (-1 indeksi ile) alır."
      ]
    },
    {
      "cell_type": "markdown",
      "metadata": {
        "id": "V2OlOzUezq-h"
      },
      "source": [
        "### 50. Kisiler Tablosunda Her Kişinin Adını ve Yaşını Birleştirip Tek Sütunda Göstermek ve Gruplamak"
      ]
    },
    {
      "cell_type": "code",
      "execution_count": null,
      "metadata": {
        "colab": {
          "base_uri": "https://localhost:8080/"
        },
        "id": "v8LzHznEzq-h",
        "outputId": "bd190a06-ea23-4c5e-a897-ad386dda888c"
      },
      "outputs": [
        {
          "output_type": "stream",
          "name": "stdout",
          "text": [
            "Kişi Bilgisi (İsim ve Yaş Birleşik) ve Tekrar Sayıları:\n",
            "Bilgi: Ayşe (28), Sayı: 1\n",
            "Bilgi: Can (25), Sayı: 1\n",
            "Bilgi: Deniz (27), Sayı: 1\n",
            "Bilgi: Fatma (25), Sayı: 1\n",
            "Bilgi: Veli (22), Sayı: 1\n"
          ]
        }
      ],
      "source": [
        "import sqlite3\n",
        "\n",
        "conn = sqlite3.connect('test.db')\n",
        "cur = conn.cursor()\n",
        "\n",
        "cur.execute('''CREATE TABLE IF NOT EXISTS Kisiler (id INTEGER PRIMARY KEY AUTOINCREMENT, isim TEXT NOT NULL, yas INTEGER)''')\n",
        "conn.commit()\n",
        "\n",
        "# Her kişinin adını ve yaşını birleştirip (örneğin 'İsim (Yaş)' formatında)\n",
        "# bu birleşik bilgiye göre gruplayıp sayısını al\n",
        "cur.execute('''\n",
        "    SELECT (isim || ' (' || yas || ')') as kisi_bilgisi, COUNT(*) as sayi\n",
        "    FROM Kisiler\n",
        "    WHERE yas IS NOT NULL -- Yaşı olmayanları hariç tut\n",
        "    GROUP BY kisi_bilgisi\n",
        "    ORDER BY sayi DESC, kisi_bilgisi ASC\n",
        "''')\n",
        "rows = cur.fetchall()\n",
        "\n",
        "print(\"Kişi Bilgisi (İsim ve Yaş Birleşik) ve Tekrar Sayıları:\")\n",
        "if rows:\n",
        "    for row in rows:\n",
        "        print(f\"Bilgi: {row[0]}, Sayı: {row[1]}\")\n",
        "else:\n",
        "    print(\"Tabloda uygun veri yok.\")\n",
        "\n",
        "conn.close()"
      ]
    },
    {
      "cell_type": "markdown",
      "metadata": {
        "id": "2yZLWl0tzq-h"
      },
      "source": [
        "**Açıklama:** `isim || ' (' || yas || ')'` ifadesi SQLite'ta metin birleştirme (concatenation) için kullanılır. `isim`, ` (`, `yas` ve `)` metinlerini birleştirerek `kisi_bilgisi` adında yeni bir sanal sütun oluşturur. Daha sonra bu `kisi_bilgisi`'ne göre gruplama yapılır ve her bir benzersiz birleşik bilginin kaç kez geçtiği sayılır. `WHERE yas IS NOT NULL` ile yaşı olmayan kayıtlar (eğer varsa) hariç tutulmuştur."
      ]
    }
  ],
  "metadata": {
    "kernelspec": {
      "display_name": "Python 3",
      "language": "python",
      "name": "python3"
    },
    "language_info": {
      "codemirror_mode": {
        "name": "ipython",
        "version": 3
      },
      "file_extension": ".py",
      "mimetype": "text/x-python",
      "name": "python",
      "nbconvert_exporter": "python",
      "pygments_lexer": "ipython3",
      "version": "3.9.7"
    },
    "colab": {
      "provenance": [],
      "collapsed_sections": [
        "k1sZV4WWzq-H"
      ],
      "include_colab_link": true
    }
  },
  "nbformat": 4,
  "nbformat_minor": 0
}