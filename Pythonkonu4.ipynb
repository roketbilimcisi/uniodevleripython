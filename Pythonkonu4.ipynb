{
  "nbformat": 4,
  "nbformat_minor": 0,
  "metadata": {
    "colab": {
      "provenance": [],
      "authorship_tag": "ABX9TyOpCK9LW/7/zo3DTS25wA2q",
      "include_colab_link": true
    },
    "kernelspec": {
      "name": "python3",
      "display_name": "Python 3"
    },
    "language_info": {
      "name": "python"
    }
  },
  "cells": [
    {
      "cell_type": "markdown",
      "metadata": {
        "id": "view-in-github",
        "colab_type": "text"
      },
      "source": [
        "<a href=\"https://colab.research.google.com/github/roketbilimcisi/uniodevleripython/blob/main/Pythonkonu4.ipynb\" target=\"_parent\"><img src=\"https://colab.research.google.com/assets/colab-badge.svg\" alt=\"Open In Colab\"/></a>"
      ]
    },
    {
      "cell_type": "markdown",
      "source": [
        " **1. If, Else, Elif Nedir?**"
      ],
      "metadata": {
        "id": "THYtDPP6L9zp"
      }
    },
    {
      "cell_type": "markdown",
      "source": [
        "**If (Eğer):**\n",
        "Bir koşulun doğru olup olmadığını kontrol eder. Eğer koşul **True** dönerse, `if` bloğundaki kod çalışır.  \n"
      ],
      "metadata": {
        "id": "CCz0ze2yL-U7"
      }
    },
    {
      "cell_type": "code",
      "source": [
        "furkan = 10\n",
        "\n",
        "if furkan > 5:  # if koşul:  (Belli bir koşul belirteceğiz)\n",
        "    print(\"Furkan 5'ten büyüktür.\")"
      ],
      "metadata": {
        "colab": {
          "base_uri": "https://localhost:8080/"
        },
        "id": "_XiS0VT_PAmb",
        "outputId": "d291e060-d590-47f8-dfd7-88c0f90ff040"
      },
      "execution_count": null,
      "outputs": [
        {
          "output_type": "stream",
          "name": "stdout",
          "text": [
            "Furkan 5'ten büyüktür.\n"
          ]
        }
      ]
    },
    {
      "cell_type": "markdown",
      "source": [
        "**Else (Değilse):**\n",
        "`if` koşulu yanlışsa (False), `else` bloğundaki kod çalışır."
      ],
      "metadata": {
        "id": "Y_UThY9OPNIy"
      }
    },
    {
      "cell_type": "code",
      "source": [
        "sonmez = False\n",
        "if sonmez:\n",
        "  print(\"Doğru olunca çalışacak\")\n",
        "else:\n",
        "  print(\"Yanlış olunca çalışacak\")"
      ],
      "metadata": {
        "colab": {
          "base_uri": "https://localhost:8080/"
        },
        "id": "QQCvhqsKPfG6",
        "outputId": "05c8ebbc-f05a-4443-f09d-9797d8b46f62"
      },
      "execution_count": null,
      "outputs": [
        {
          "output_type": "stream",
          "name": "stdout",
          "text": [
            "Yanlış olunca çalışacak\n"
          ]
        }
      ]
    },
    {
      "cell_type": "markdown",
      "source": [
        "**Elif (Başka bir koşul kontrol et):**\n",
        "Birden fazla koşul kontrol etmek için kullanılır.  "
      ],
      "metadata": {
        "id": "ph0qMA9oP-JS"
      }
    },
    {
      "cell_type": "code",
      "source": [
        "kosul = 10\n",
        "\n",
        "if kosul > 10 :\n",
        "  print(\"10'dan büyük\")\n",
        "elif kosul == 10:\n",
        "  print(\"10'a eşit\")\n",
        "else:\n",
        "  print(\"10'dan küçük\")"
      ],
      "metadata": {
        "colab": {
          "base_uri": "https://localhost:8080/"
        },
        "id": "VrwUC6QVQCqd",
        "outputId": "1c5af211-82e5-41f9-9f37-d427dedf7e4a"
      },
      "execution_count": null,
      "outputs": [
        {
          "output_type": "stream",
          "name": "stdout",
          "text": [
            "10'a eşit\n"
          ]
        }
      ]
    },
    {
      "cell_type": "markdown",
      "source": [
        "**İç İçe If (Nested If):**\n",
        "Bir `if` bloğunun içinde başka bir `if` bloğu yer alabilir. Bu, daha karmaşık mantıkların kurulmasına olanak tanır.\n"
      ],
      "metadata": {
        "id": "7IsQn6ASQgs7"
      }
    },
    {
      "cell_type": "code",
      "source": [
        "x, y = 10, 20\n",
        "\n",
        "if x > 0:\n",
        "    if y > 0: # tek tab\n",
        "        print(\"Hem x hem y pozitif.\")  # çift tab\n",
        "    else:\n",
        "        print(\"x pozitif ama y negatif.\")\n",
        "else:\n",
        "    print(\"x pozitif değil.\\n\")"
      ],
      "metadata": {
        "colab": {
          "base_uri": "https://localhost:8080/"
        },
        "id": "Ur8CM6JWQhdS",
        "outputId": "692f32fc-c70d-4b2a-d042-f3f4fb3f5bb4"
      },
      "execution_count": null,
      "outputs": [
        {
          "output_type": "stream",
          "name": "stdout",
          "text": [
            "Hem x hem y pozitif.\n"
          ]
        }
      ]
    },
    {
      "cell_type": "markdown",
      "source": [
        "**2. Kolay Seviye**"
      ],
      "metadata": {
        "id": "0xrRI_0xRPAf"
      }
    },
    {
      "cell_type": "markdown",
      "source": [
        "2.1 Örnek: Pozitif bir sayıyı kontrol et\n"
      ],
      "metadata": {
        "id": "FXy7l02ARfR8"
      }
    },
    {
      "cell_type": "code",
      "source": [
        "x = int(input(\"Bir sayı girin: \"))\n",
        "if x > 0:\n",
        "    print(\"Pozitif sayı.\")\n",
        "else:\n",
        "    print(\"Negatif sayı.\\n\")\n"
      ],
      "metadata": {
        "id": "gDEGPGwVRgUC",
        "colab": {
          "base_uri": "https://localhost:8080/"
        },
        "outputId": "c8800e83-7e22-4157-b306-56e68dae4ad8"
      },
      "execution_count": null,
      "outputs": [
        {
          "output_type": "stream",
          "name": "stdout",
          "text": [
            "Bir sayı girin: 10\n",
            "Pozitif sayı.\n"
          ]
        }
      ]
    },
    {
      "cell_type": "markdown",
      "source": [
        "2.2 Örnek: Tek veya çift sayı kontrolü\n"
      ],
      "metadata": {
        "id": "lQ5etymORk8S"
      }
    },
    {
      "cell_type": "code",
      "source": [
        "x = int(input(\"Bir sayı girin: \"))\n",
        "if x % 2 == 0:\n",
        "    print(\"Çift sayı.\")\n",
        "else:\n",
        "    print(\"Tek sayı.\\n\")\n"
      ],
      "metadata": {
        "id": "Bl8u7VI3RnSE",
        "colab": {
          "base_uri": "https://localhost:8080/"
        },
        "outputId": "08a290df-7053-4540-fb6b-b7118bac793f"
      },
      "execution_count": null,
      "outputs": [
        {
          "output_type": "stream",
          "name": "stdout",
          "text": [
            "Bir sayı girin: 20\n",
            "Çift sayı.\n"
          ]
        }
      ]
    },
    {
      "cell_type": "markdown",
      "source": [
        "2.3 Örnek: Kullanıcı girişine göre selamlama"
      ],
      "metadata": {
        "id": "rtW-gwGJRp8N"
      }
    },
    {
      "cell_type": "code",
      "source": [
        "ad = input(\"Adınızı girin: \")\n",
        "if ad:\n",
        "    print(f\"Merhaba, {ad}!\")\n",
        "else:\n",
        "    print(\"Adınızı girmediniz.\\n\")"
      ],
      "metadata": {
        "id": "MPIN1gDoRtUh",
        "colab": {
          "base_uri": "https://localhost:8080/"
        },
        "outputId": "faee8936-e11a-4fd0-8906-6e34d024d08d"
      },
      "execution_count": null,
      "outputs": [
        {
          "output_type": "stream",
          "name": "stdout",
          "text": [
            "Adınızı girin: Furkan\n",
            "Merhaba, Furkan!\n"
          ]
        }
      ]
    },
    {
      "cell_type": "markdown",
      "source": [
        "2.4 Örnek: Sıcaklık durumu"
      ],
      "metadata": {
        "id": "oA3NJ9WhR2Bq"
      }
    },
    {
      "cell_type": "code",
      "source": [
        "sıcaklık = int(input(\"Sıcaklık değerini girin: \"))\n",
        "if sıcaklık > 30:\n",
        "    print(\"Hava çok sıcak!\")\n",
        "elif sıcaklık > 15:\n",
        "    print(\"Hava ılık.\")\n",
        "else:\n",
        "    print(\"Hava soğuk.\\n\")"
      ],
      "metadata": {
        "id": "59H4cNffR4ob",
        "colab": {
          "base_uri": "https://localhost:8080/"
        },
        "outputId": "7b34e534-d6de-449f-dfab-03e3be449bd5"
      },
      "execution_count": null,
      "outputs": [
        {
          "output_type": "stream",
          "name": "stdout",
          "text": [
            "Sıcaklık değerini girin: 45\n",
            "Hava çok sıcak!\n"
          ]
        }
      ]
    },
    {
      "cell_type": "markdown",
      "source": [
        "2.5 Örnek: İki sayıyı karşılaştır\n"
      ],
      "metadata": {
        "id": "CbR6ZDRdR7Xm"
      }
    },
    {
      "cell_type": "code",
      "source": [
        "a = int(input(\"Birinci sayıyı girin: \"))\n",
        "b = int(input(\"İkinci sayıyı girin: \"))\n",
        "if a > b:\n",
        "    print(f\"{a} büyüktür {b}.\")\n",
        "else:\n",
        "    print(f\"{b} büyüktür {a}.\\n\")\n"
      ],
      "metadata": {
        "id": "h0pehAeUR9yk",
        "colab": {
          "base_uri": "https://localhost:8080/"
        },
        "outputId": "b56265cf-c01f-4b1b-b3cf-972a8a8617ef"
      },
      "execution_count": null,
      "outputs": [
        {
          "output_type": "stream",
          "name": "stdout",
          "text": [
            "Birinci sayıyı girin: 5\n",
            "İkinci sayıyı girin: 7\n",
            "7 büyüktür 5.\n",
            "\n"
          ]
        }
      ]
    },
    {
      "cell_type": "markdown",
      "source": [
        "**3. Orta Seviye**\n"
      ],
      "metadata": {
        "id": "8i3Ng97UR_xR"
      }
    },
    {
      "cell_type": "markdown",
      "source": [
        "3.1 Örnek: Öğrencinin notuna göre harf notu\n"
      ],
      "metadata": {
        "id": "uyumh1FWSF2h"
      }
    },
    {
      "cell_type": "code",
      "source": [
        "notu = int(input(\"Öğrencinin notunu girin: \"))\n",
        "if notu >= 90:\n",
        "    print(\"AA\")\n",
        "elif notu >= 80:\n",
        "    print(\"BA\")\n",
        "elif notu >= 70:\n",
        "    print(\"BB\")\n",
        "else:\n",
        "    print(\"Daha fazla çalışmalısınız.\\n\")"
      ],
      "metadata": {
        "id": "tOOsZHVfSGVH",
        "colab": {
          "base_uri": "https://localhost:8080/"
        },
        "outputId": "1ff3d7f7-6b69-4ab9-8878-4af45d83d2ac"
      },
      "execution_count": null,
      "outputs": [
        {
          "output_type": "stream",
          "name": "stdout",
          "text": [
            "Öğrencinin notunu girin: 100\n",
            "AA\n"
          ]
        }
      ]
    },
    {
      "cell_type": "markdown",
      "source": [
        "3.2 Örnek: Bir yılın artık yıl olup olmadığını kontrol et\n"
      ],
      "metadata": {
        "id": "QonPfBatSLQ8"
      }
    },
    {
      "cell_type": "code",
      "source": [
        "yıl = int(input(\"Yılı girin: \"))\n",
        "if yıl % 4 == 0 and (yıl % 100 != 0 or yıl % 400 == 0):\n",
        "    print(\"Artık yıl.\")\n",
        "else:\n",
        "    print(\"Artık yıl değil.\\n\")\n"
      ],
      "metadata": {
        "id": "TgqCUB1ySNNY",
        "colab": {
          "base_uri": "https://localhost:8080/"
        },
        "outputId": "c508a318-cb39-49aa-b36c-da726bd483b8"
      },
      "execution_count": null,
      "outputs": [
        {
          "output_type": "stream",
          "name": "stdout",
          "text": [
            "Yılı girin: 2004\n",
            "Artık yıl.\n"
          ]
        }
      ]
    },
    {
      "cell_type": "markdown",
      "source": [
        "3.3 Örnek: İç içe if ile üçgen tipi kontrolü\n"
      ],
      "metadata": {
        "id": "R214ZHs7SO9a"
      }
    },
    {
      "cell_type": "code",
      "source": [
        "a, b, c = map(int, input(\"Üçgenin kenar uzunluklarını girin (a b c): \").split())\n",
        "if a + b > c and a + c > b and b + c > a:\n",
        "    if a == b == c:\n",
        "        print(\"Eşkenar üçgen.\")\n",
        "    elif a == b or a == c or b == c:\n",
        "        print(\"İkizkenar üçgen.\")\n",
        "    else:\n",
        "        print(\"Çeşitkenar üçgen.\")\n",
        "else:\n",
        "    print(\"Bu bir üçgen değil.\\n\")\n"
      ],
      "metadata": {
        "id": "J5wuKgXISQ_X",
        "colab": {
          "base_uri": "https://localhost:8080/"
        },
        "outputId": "37477aec-cc7b-4082-8d2f-54adaf2c787a"
      },
      "execution_count": null,
      "outputs": [
        {
          "output_type": "stream",
          "name": "stdout",
          "text": [
            "Üçgenin kenar uzunluklarını girin (a b c): 15 30 45\n",
            "Bu bir üçgen değil.\n",
            "\n"
          ]
        }
      ]
    },
    {
      "cell_type": "markdown",
      "source": [
        "3.4 Örnek: Bir sayının pozitif, negatif ya da sıfır olduğunu kontrol et\n"
      ],
      "metadata": {
        "id": "hX81eX-VSTTf"
      }
    },
    {
      "cell_type": "code",
      "source": [
        "x = int(input(\"Bir sayı girin: \"))\n",
        "if x > 0:\n",
        "    print(\"Pozitif sayı.\")\n",
        "elif x < 0:\n",
        "    print(\"Negatif sayı.\")\n",
        "else:\n",
        "    print(\"Sayı sıfır.\\n\")"
      ],
      "metadata": {
        "id": "WUyCzMWPSUlE",
        "colab": {
          "base_uri": "https://localhost:8080/"
        },
        "outputId": "2f881aa5-dfb8-4883-c622-df1ff5a06c12"
      },
      "execution_count": null,
      "outputs": [
        {
          "output_type": "stream",
          "name": "stdout",
          "text": [
            "Bir sayı girin: 5\n",
            "Pozitif sayı.\n"
          ]
        }
      ]
    },
    {
      "cell_type": "markdown",
      "source": [
        "3.5 Örnek: Kullanıcıdan yaş al ve uygunluk kontrol et\n"
      ],
      "metadata": {
        "id": "qRFNbdIfS3Dy"
      }
    },
    {
      "cell_type": "code",
      "source": [
        "yaş = int(input(\"Yaşınızı giriniz: \"))\n",
        "if yaş >= 18:\n",
        "    print(\"Ehliyet alabilirsiniz.\")\n",
        "else:\n",
        "    print(\"Ehliyet alamazsınız.\\n\")"
      ],
      "metadata": {
        "id": "WLqj4HSfS3ov",
        "colab": {
          "base_uri": "https://localhost:8080/"
        },
        "outputId": "33091ebb-97f1-4c98-f671-ce3a6bd210de"
      },
      "execution_count": null,
      "outputs": [
        {
          "output_type": "stream",
          "name": "stdout",
          "text": [
            "Yaşınızı giriniz: 20\n",
            "Ehliyet alabilirsiniz.\n"
          ]
        }
      ]
    },
    {
      "cell_type": "markdown",
      "source": [
        "**4.Orta ve Zor Seviye Örnekler**"
      ],
      "metadata": {
        "id": "ErGsbPTvV7_0"
      }
    },
    {
      "cell_type": "markdown",
      "source": [
        "4.1 Örnek: Sayının 5 ile 10 arasında olup olmadığını kontrol et\n"
      ],
      "metadata": {
        "id": "YfFSJNLIWLFN"
      }
    },
    {
      "cell_type": "code",
      "source": [
        "x = 7\n",
        "if x > 5:\n",
        "    if x < 10:\n",
        "        print(\"x, 5 ile 10 arasında.\")\n",
        "    else:\n",
        "        print(\"x, 10 veya daha büyük.\")\n",
        "else:\n",
        "    print(\"x, 5 veya daha küçük.\")"
      ],
      "metadata": {
        "id": "sfXrD8iMWl41",
        "colab": {
          "base_uri": "https://localhost:8080/"
        },
        "outputId": "db83d24e-8a4e-43c6-f24c-e38b2d84955b"
      },
      "execution_count": null,
      "outputs": [
        {
          "output_type": "stream",
          "name": "stdout",
          "text": [
            "x, 5 ile 10 arasında.\n"
          ]
        }
      ]
    },
    {
      "cell_type": "markdown",
      "source": [
        "4.2 Örnek: Gün kontrolü\n"
      ],
      "metadata": {
        "id": "tMPfJcD3WTsN"
      }
    },
    {
      "cell_type": "code",
      "source": [
        "gün = \"Cumartesi\"\n",
        "if gün in [\"Cumartesi\", \"Pazar\"]:\n",
        "    print(\"Hafta sonu.\")\n",
        "else:\n",
        "    print(\"Hafta içi.\")"
      ],
      "metadata": {
        "id": "0aQfhFblWoXY",
        "colab": {
          "base_uri": "https://localhost:8080/"
        },
        "outputId": "46c4d21a-7c67-4f72-8def-29f05c95733f"
      },
      "execution_count": null,
      "outputs": [
        {
          "output_type": "stream",
          "name": "stdout",
          "text": [
            "Hafta sonu.\n"
          ]
        }
      ]
    },
    {
      "cell_type": "markdown",
      "source": [
        "4.3 Örnek: Sayı kontrolü (Çoklu koşul)\n",
        "\n"
      ],
      "metadata": {
        "id": "IuvCIfgkWYDX"
      }
    },
    {
      "cell_type": "code",
      "source": [
        "x = 15\n",
        "if x % 3 == 0 and x % 5 == 0:\n",
        "    print(\"Sayı 3 ve 5'e tam bölünüyor.\")\n",
        "else:\n",
        "    print(\"Sayı 3 veya 5'e tam bölünmüyor.\")"
      ],
      "metadata": {
        "id": "a8R44kjEWqVW",
        "colab": {
          "base_uri": "https://localhost:8080/"
        },
        "outputId": "f5fc8cac-63c0-4b46-db28-728fe3b65b35"
      },
      "execution_count": null,
      "outputs": [
        {
          "output_type": "stream",
          "name": "stdout",
          "text": [
            "Sayı 3 ve 5'e tam bölünüyor.\n"
          ]
        }
      ]
    },
    {
      "cell_type": "markdown",
      "source": [
        "4.4 Örnek: Kullanıcı adı ve şifre doğrulama\n",
        "\n"
      ],
      "metadata": {
        "id": "gJncnhJBWYab"
      }
    },
    {
      "cell_type": "code",
      "source": [
        "kullanıcı_adı = \"admin\"\n",
        "şifre = \"1234\"\n",
        "giriş_adı = input(\"Kullanıcı adınızı girin: \")\n",
        "giriş_şifre = input(\"Şifrenizi girin: \")\n",
        "\n",
        "if giriş_adı == kullanıcı_adı:\n",
        "    if giriş_şifre == şifre:\n",
        "        print(\"Giriş başarılı!\")\n",
        "    else:\n",
        "        print(\"Şifre yanlış.\")\n",
        "else:\n",
        "    print(\"Kullanıcı adı yanlış.\")"
      ],
      "metadata": {
        "id": "9sXLKbYNWsKO",
        "colab": {
          "base_uri": "https://localhost:8080/"
        },
        "outputId": "197ce701-a73f-4ddf-e202-530c29ef9595"
      },
      "execution_count": null,
      "outputs": [
        {
          "output_type": "stream",
          "name": "stdout",
          "text": [
            "Kullanıcı adınızı girin: Furkan\n",
            "Şifrenizi girin: sonmez\n",
            "Kullanıcı adı yanlış.\n"
          ]
        }
      ]
    },
    {
      "cell_type": "markdown",
      "source": [
        "4.5 Örnek: Sayı büyüklük karşılaştırması\n"
      ],
      "metadata": {
        "id": "9oDh41J6WYu7"
      }
    },
    {
      "cell_type": "code",
      "source": [
        "a, b, c = 3, 7, 5\n",
        "if a > b and a > c:\n",
        "    print(f\"En büyük sayı: {a}\")\n",
        "elif b > c:\n",
        "    print(f\"En büyük sayı: {b}\")\n",
        "else:\n",
        "    print(f\"En büyük sayı: {c}\")"
      ],
      "metadata": {
        "id": "8Qx8npb4WujA",
        "colab": {
          "base_uri": "https://localhost:8080/"
        },
        "outputId": "692761fd-8638-4b41-d43d-b88ddf24d303"
      },
      "execution_count": null,
      "outputs": [
        {
          "output_type": "stream",
          "name": "stdout",
          "text": [
            "En büyük sayı: 7\n"
          ]
        }
      ]
    },
    {
      "cell_type": "markdown",
      "source": [
        "**5. Zor Seviye**\n"
      ],
      "metadata": {
        "id": "FC8eBppnS6m6"
      }
    },
    {
      "cell_type": "markdown",
      "source": [
        "5.1 Örnek: Sayının asal olup olmadığını kontrol et\n"
      ],
      "metadata": {
        "id": "u1yt5E3DS_Bz"
      }
    },
    {
      "cell_type": "code",
      "source": [
        "x = int(input(\"Bir sayı girin: \"))\n",
        "if x > 1:\n",
        "    for i in range(2, int(x ** 0.5) + 1):\n",
        "        if x % i == 0:\n",
        "            print(\"Asal değil.\")\n",
        "            break\n",
        "    else:\n",
        "        print(\"Asal sayı.\")\n",
        "else:\n",
        "    print(\"Asal değil.\\n\")"
      ],
      "metadata": {
        "id": "iIJRvAs6S_qe",
        "colab": {
          "base_uri": "https://localhost:8080/"
        },
        "outputId": "3b2f6244-0123-43a6-fc8a-7c201be3752f"
      },
      "execution_count": null,
      "outputs": [
        {
          "output_type": "stream",
          "name": "stdout",
          "text": [
            "Bir sayı girin: 50\n",
            "Asal değil.\n"
          ]
        }
      ]
    },
    {
      "cell_type": "markdown",
      "source": [
        "5.2 Örnek: Üçgen tipi kontrolü"
      ],
      "metadata": {
        "id": "LtWfjDBfTCXq"
      }
    },
    {
      "cell_type": "code",
      "source": [
        "a, b, c = 6, 8, 10\n",
        "if a + b > c and a + c > b and b + c > a:\n",
        "    if a == b == c:\n",
        "        print(\"Eşkenar üçgen.\")\n",
        "    elif a == b or a == c or b == c:\n",
        "        print(\"İkizkenar üçgen.\")\n",
        "    else:\n",
        "        print(\"Çeşitkenar üçgen.\")\n",
        "else:\n",
        "    print(\"Üçgen oluşturulamaz.\")"
      ],
      "metadata": {
        "id": "SXL1dqvOTEVr",
        "colab": {
          "base_uri": "https://localhost:8080/"
        },
        "outputId": "06b301ca-07d3-4167-e9b3-498b60a78b54"
      },
      "execution_count": null,
      "outputs": [
        {
          "output_type": "stream",
          "name": "stdout",
          "text": [
            "Çeşitkenar üçgen.\n"
          ]
        }
      ]
    },
    {
      "cell_type": "markdown",
      "source": [
        "5.3 Örnek: BMI hesaplama"
      ],
      "metadata": {
        "id": "w73uthyNX8MZ"
      }
    },
    {
      "cell_type": "code",
      "source": [
        "boy = float(input(\"Boyunuzu metre cinsinden girin: \"))\n",
        "kilo = float(input(\"Kilonuzu girin: \"))\n",
        "bmi = kilo / (boy ** 2)\n",
        "\n",
        "if bmi < 18.5:\n",
        "    print(\"Zayıf\")\n",
        "elif bmi < 24.9:\n",
        "    print(\"Normal\")\n",
        "elif bmi < 29.9:\n",
        "    print(\"Fazla kilolu\")\n",
        "else:\n",
        "    print(\"Obez\")"
      ],
      "metadata": {
        "id": "_HtFo4IpYN3P",
        "colab": {
          "base_uri": "https://localhost:8080/"
        },
        "outputId": "6392134d-973e-45d9-a82c-e8cd107da2e7"
      },
      "execution_count": null,
      "outputs": [
        {
          "output_type": "stream",
          "name": "stdout",
          "text": [
            "Boyunuzu metre cinsinden girin: 185\n",
            "Kilonuzu girin: 110\n",
            "Zayıf\n"
          ]
        }
      ]
    },
    {
      "cell_type": "markdown",
      "source": [
        "5.4 Örnek: Bir string içinde belirli bir harfin olup olmadığını kontrol et"
      ],
      "metadata": {
        "id": "YYtUu_R-X8pt"
      }
    },
    {
      "cell_type": "code",
      "source": [
        "kelime = \"Merhaba\"\n",
        "harf = \"e\"\n",
        "if harf in kelime:\n",
        "    print(f\"'{harf}' harfi kelimede var.\")\n",
        "else:\n",
        "    print(f\"'{harf}' harfi kelimede yok.\")"
      ],
      "metadata": {
        "id": "fKrRg5BuYQ7x",
        "colab": {
          "base_uri": "https://localhost:8080/"
        },
        "outputId": "585363e1-f3f7-4e9f-bd09-9a13711f1892"
      },
      "execution_count": null,
      "outputs": [
        {
          "output_type": "stream",
          "name": "stdout",
          "text": [
            "'e' harfi kelimede var.\n"
          ]
        }
      ]
    },
    {
      "cell_type": "markdown",
      "source": [
        "5.5 Örnek: Elektrik faturası hesaplama"
      ],
      "metadata": {
        "id": "ntHVQM7vX8y8"
      }
    },
    {
      "cell_type": "code",
      "source": [
        "tüketim = int(input(\"Tüketilen kWh miktarını girin: \"))\n",
        "if tüketim <= 150:\n",
        "    tutar = tüketim * 0.5\n",
        "elif tüketim <= 300:\n",
        "    tutar = (150 * 0.5) + ((tüketim - 150) * 0.75)\n",
        "else:\n",
        "    tutar = (150 * 0.5) + (150 * 0.75) + ((tüketim - 300) * 1.0)"
      ],
      "metadata": {
        "id": "Ru5NNA8dYYKF",
        "colab": {
          "base_uri": "https://localhost:8080/"
        },
        "outputId": "c76cc44a-b949-48d2-92df-644a2af4823c"
      },
      "execution_count": null,
      "outputs": [
        {
          "name": "stdout",
          "output_type": "stream",
          "text": [
            "Tüketilen kWh miktarını girin: 58\n"
          ]
        }
      ]
    },
    {
      "cell_type": "markdown",
      "source": [
        "**6.Gelişmiş Örnekler**"
      ],
      "metadata": {
        "id": "EVuMdvAGYtbV"
      }
    },
    {
      "cell_type": "markdown",
      "source": [
        "6.1 Örnek: Girilen üç sayıdan birinin toplamının diğer ikisine eşit olup olmadığını kontrol et"
      ],
      "metadata": {
        "id": "u7qn7mWxf5Zz"
      }
    },
    {
      "cell_type": "code",
      "source": [
        "a, b, c = 5, 10, 15\n",
        "if a + b == c or a + c == b or b + c == a:\n",
        "  print(\"Bir sayı diğer iki sayının toplamına eşittir.\")\n",
        "else:\n",
        "  print(\"Hiçbir sayı diğer ikisinin toplamına eşit değil.\")"
      ],
      "metadata": {
        "colab": {
          "base_uri": "https://localhost:8080/"
        },
        "id": "ism8i_jpgH7E",
        "outputId": "e85338da-3409-4836-bbd3-f79da1da0002"
      },
      "execution_count": null,
      "outputs": [
        {
          "output_type": "stream",
          "name": "stdout",
          "text": [
            "Bir sayı diğer iki sayının toplamına eşittir.\n"
          ]
        }
      ]
    },
    {
      "cell_type": "markdown",
      "source": [
        "6.2 Örnek: E-posta adresi doğrulama"
      ],
      "metadata": {
        "id": "8JOtqNwrZU7G"
      }
    },
    {
      "cell_type": "code",
      "source": [
        "email = input(\"E-posta adresinizi girin: \")\n",
        "if \"@\" in email and \".\" in email:\n",
        "  print(\"Geçerli bir e-posta adresi.\")\n",
        "else:\n",
        "  print(\"Geçersiz e-posta adresi.\")"
      ],
      "metadata": {
        "colab": {
          "base_uri": "https://localhost:8080/"
        },
        "id": "ceNxz2mhgb0-",
        "outputId": "38796d97-c745-42ae-8acf-99fbff3b91b7"
      },
      "execution_count": null,
      "outputs": [
        {
          "output_type": "stream",
          "name": "stdout",
          "text": [
            "E-posta adresinizi girin: furkansonmez2024@gmail.com\n",
            "Geçerli bir e-posta adresi.\n"
          ]
        }
      ]
    },
    {
      "cell_type": "markdown",
      "source": [
        "6.3 Örnek: Sıcaklık durumuna göre elbise önerisi"
      ],
      "metadata": {
        "id": "hORLVsXgZVuE"
      }
    },
    {
      "cell_type": "code",
      "source": [
        "sıcaklık = int(input(\"Hava sıcaklığını girin: \"))\n",
        "if sıcaklık > 30:\n",
        "  print(\"Tişört giyin.\")\n",
        "elif sıcaklık > 20:\n",
        "  print(\"Hafif bir ceket alın.\")\n",
        "elif sıcaklık > 10:\n",
        "  print(\"Kalın bir mont giyin.\")\n",
        "else:\n",
        "  print(\"Atkı ve bere takmayı unutmayın.\")"
      ],
      "metadata": {
        "colab": {
          "base_uri": "https://localhost:8080/"
        },
        "id": "fKc5EAcEgk8B",
        "outputId": "98596313-56fd-4341-bd0e-71cc81d7fd85"
      },
      "execution_count": null,
      "outputs": [
        {
          "output_type": "stream",
          "name": "stdout",
          "text": [
            "Hava sıcaklığını girin: 45\n",
            "Tişört giyin.\n"
          ]
        }
      ]
    },
    {
      "cell_type": "markdown",
      "source": [
        "6.4 Örnek: Alışveriş indirim hesaplama"
      ],
      "metadata": {
        "id": "kdS8y0lmZV4D"
      }
    },
    {
      "cell_type": "code",
      "source": [
        "tutar = float(input(\"Alışveriş tutarını girin: \"))\n",
        "if tutar > 500:\n",
        "  indirim = tutar * 0.2\n",
        "elif tutar > 250:\n",
        "  indirim = tutar * 0.1\n",
        "else:\n",
        "  indirim = 0\n",
        "print(f\"İndiriminiz: {indirim} TL\")\n",
        "print(f\"Ödenecek tutar: {tutar - indirim} TL\")"
      ],
      "metadata": {
        "colab": {
          "base_uri": "https://localhost:8080/"
        },
        "id": "nbDVMqEzgp-S",
        "outputId": "6d7a810d-7f9e-42cd-d76c-109a8af50382"
      },
      "execution_count": null,
      "outputs": [
        {
          "output_type": "stream",
          "name": "stdout",
          "text": [
            "Alışveriş tutarını girin: 65\n",
            "İndiriminiz: 0 TL\n",
            "Ödenecek tutar: 65.0 TL\n"
          ]
        }
      ]
    },
    {
      "cell_type": "markdown",
      "source": [
        "6.5 Örnek: Kullanıcının yaşına göre kategorisini belirle"
      ],
      "metadata": {
        "id": "3VD7VOCUZWCN"
      }
    },
    {
      "cell_type": "code",
      "source": [
        "yaş = int(input(\"Yaşınızı girin: \"))\n",
        "if yaş < 13:\n",
        "  print(\"Çocuk\")\n",
        "elif yaş < 18:\n",
        "  print(\"Genç\")\n",
        "elif yaş < 60:\n",
        "  print(\"Yetişkin\")\n",
        "else:\n",
        "  print(\"Yaşlı\")"
      ],
      "metadata": {
        "colab": {
          "base_uri": "https://localhost:8080/"
        },
        "id": "7l9XsTvAgw63",
        "outputId": "53815809-edf6-4539-813a-e220eac36579"
      },
      "execution_count": null,
      "outputs": [
        {
          "output_type": "stream",
          "name": "stdout",
          "text": [
            "Yaşınızı girin: 20\n",
            "Yetişkin\n"
          ]
        }
      ]
    },
    {
      "cell_type": "markdown",
      "source": [
        "**7.Gelişmiş ve Zor Seviye Örnekler**"
      ],
      "metadata": {
        "id": "LhycMJ_Rapuj"
      }
    },
    {
      "cell_type": "markdown",
      "source": [
        "7.1 Örnek: Öğrenci geçme durumu kontrolü"
      ],
      "metadata": {
        "id": "-dIZzHVlcjDj"
      }
    },
    {
      "cell_type": "code",
      "source": [
        "vize = float(input(\"Vize notunu girin: \"))\n",
        "final = float(input(\"Final notunu girin: \"))\n",
        "ortalama = (vize * 0.4) + (final * 0.6)\n",
        "if ortalama >= 50:\n",
        "    print(f\"Geçtiniz! Ortalamanız: {ortalama}\")\n",
        "else:\n",
        "    print(f\"Kaldınız. Ortalamanız: {ortalama}\")"
      ],
      "metadata": {
        "colab": {
          "base_uri": "https://localhost:8080/"
        },
        "id": "N9YR6Zy9g7lv",
        "outputId": "3c55fc28-f9bb-4597-d34c-e05408025de1"
      },
      "execution_count": null,
      "outputs": [
        {
          "output_type": "stream",
          "name": "stdout",
          "text": [
            "Vize notunu girin: 100\n",
            "Final notunu girin: 100\n",
            "Geçtiniz! Ortalamanız: 100.0\n"
          ]
        }
      ]
    },
    {
      "cell_type": "markdown",
      "source": [
        "7.2 Örnek: Şifre güvenliği kontrolü"
      ],
      "metadata": {
        "id": "rdoNzVKocjY8"
      }
    },
    {
      "cell_type": "code",
      "source": [
        "şifre = input(\"Şifrenizi girin: \")\n",
        "if len(şifre) >= 8:\n",
        "    if any(char.isdigit() for char in şifre) and any(char.isalpha() for char in şifre):\n",
        "        print(\"Şifreniz güçlü.\")\n",
        "    else:\n",
        "        print(\"Şifreniz harf ve rakam içermeli.\")\n",
        "else:\n",
        "    print(\"Şifreniz en az 8 karakter olmalı.\")"
      ],
      "metadata": {
        "colab": {
          "base_uri": "https://localhost:8080/"
        },
        "id": "oynhxLQuhBdx",
        "outputId": "01974d69-88f2-4319-a495-8aade08cade1"
      },
      "execution_count": null,
      "outputs": [
        {
          "output_type": "stream",
          "name": "stdout",
          "text": [
            "Şifrenizi girin: 858\n",
            "Şifreniz en az 8 karakter olmalı.\n"
          ]
        }
      ]
    },
    {
      "cell_type": "markdown",
      "source": [
        "7.3 Örnek: Alışveriş kampanya kontrolü"
      ],
      "metadata": {
        "id": "L9yE1ndccjkH"
      }
    },
    {
      "cell_type": "code",
      "source": [
        "tutar = float(input(\"Alışveriş tutarını girin: \"))\n",
        "if tutar >= 1000:\n",
        "    print(\"Bir sonraki alışverişinizde %20 indirim kazandınız!\")\n",
        "elif tutar >= 500:\n",
        "    print(\"Bir sonraki alışverişinizde %10 indirim kazandınız!\")\n",
        "else:\n",
        "    print(\"Maalesef kampanyaya dahil değilsiniz.\")"
      ],
      "metadata": {
        "colab": {
          "base_uri": "https://localhost:8080/"
        },
        "id": "9vDzUEzThHoI",
        "outputId": "8b1d8675-7b3a-4b3c-a72d-03d53b8cdcea"
      },
      "execution_count": null,
      "outputs": [
        {
          "output_type": "stream",
          "name": "stdout",
          "text": [
            "Alışveriş tutarını girin: 8484\n",
            "Bir sonraki alışverişinizde %20 indirim kazandınız!\n"
          ]
        }
      ]
    },
    {
      "cell_type": "markdown",
      "source": [
        "7.4 Örnek: Saatlik ücret ve fazla mesai hesaplama"
      ],
      "metadata": {
        "id": "Komxh7GccjvN"
      }
    },
    {
      "cell_type": "code",
      "source": [
        "saatlik_ücret = 50\n",
        "çalışma_saati = int(input(\"Toplam çalışma saatini girin: \"))\n",
        "if çalışma_saati > 40:\n",
        "    fazla_mesai = çalışma_saati - 40\n",
        "    toplam_ücret = (40 * saatlik_ücret) + (fazla_mesai * saatlik_ücret * 1.5)\n",
        "else:\n",
        "    toplam_ücret = çalışma_saati * saatlik_ücret\n",
        "print(f\"Toplam ücret: {toplam_ücret} TL\")"
      ],
      "metadata": {
        "colab": {
          "base_uri": "https://localhost:8080/"
        },
        "id": "zJP4eEFyhMiF",
        "outputId": "89da70c7-d666-44a7-ac86-1d0462f2646a"
      },
      "execution_count": null,
      "outputs": [
        {
          "output_type": "stream",
          "name": "stdout",
          "text": [
            "Toplam çalışma saatini girin: 48\n",
            "Toplam ücret: 2600.0 TL\n"
          ]
        }
      ]
    },
    {
      "cell_type": "markdown",
      "source": [
        "7.5 Örnek: Ürün stok durumu kontrolü"
      ],
      "metadata": {
        "id": "zsHAHlqrcj7U"
      }
    },
    {
      "cell_type": "code",
      "source": [
        "stok = 20\n",
        "sipariş = int(input(\"Sipariş adedini girin: \"))\n",
        "if sipariş <= stok:\n",
        "    print(\"Siparişiniz hazırlanıyor.\")\n",
        "else:\n",
        "    print(f\"Yetersiz stok! Mevcut stok: {stok}\")"
      ],
      "metadata": {
        "colab": {
          "base_uri": "https://localhost:8080/"
        },
        "id": "72NiVsdjhRdR",
        "outputId": "4e47e9f4-0659-4570-b098-bdc7e655a8d4"
      },
      "execution_count": null,
      "outputs": [
        {
          "output_type": "stream",
          "name": "stdout",
          "text": [
            "Sipariş adedini girin: 48\n",
            "Yetersiz stok! Mevcut stok: 20\n"
          ]
        }
      ]
    },
    {
      "cell_type": "markdown",
      "source": [
        "7.6 Örnek: Sayının mutlak değerini hesapla"
      ],
      "metadata": {
        "id": "CZ5RXbMbckmc"
      }
    },
    {
      "cell_type": "code",
      "source": [
        "sayı = int(input(\"Bir sayı girin: \"))\n",
        "if sayı < 0:\n",
        "    mutlak_değer = -sayı\n",
        "else:\n",
        "    mutlak_değer = sayı\n",
        "print(f\"Sayıyı mutlak değerine dönüştürdük: {mutlak_değer}\")"
      ],
      "metadata": {
        "colab": {
          "base_uri": "https://localhost:8080/"
        },
        "id": "jHX145fwhRLl",
        "outputId": "17b519e1-9fe2-4fa4-aabc-22e5cab8c7d4"
      },
      "execution_count": null,
      "outputs": [
        {
          "output_type": "stream",
          "name": "stdout",
          "text": [
            "Bir sayı girin: 15\n",
            "Sayıyı mutlak değerine dönüştürdük: 15\n"
          ]
        }
      ]
    },
    {
      "cell_type": "markdown",
      "source": [
        "7.7 Örnek: Üç sayı arasından ortancayı bulma"
      ],
      "metadata": {
        "id": "vTJmGLOfcpg2"
      }
    },
    {
      "cell_type": "code",
      "source": [
        "a, b, c = map(int, input(\"Üç sayı girin: \").split())\n",
        "if (a > b and a < c) or (a > c and a < b):\n",
        "    print(f\"Ortanca sayı: {a}\")\n",
        "elif (b > a and b < c) or (b > c and b < a):\n",
        "    print(f\"Ortanca sayı: {b}\")\n",
        "else:\n",
        "    print(f\"Ortanca sayı: {c}\")"
      ],
      "metadata": {
        "colab": {
          "base_uri": "https://localhost:8080/"
        },
        "id": "t_T4T7gshjHd",
        "outputId": "3a22e364-1e94-48db-dcbb-b514d2b6670c"
      },
      "execution_count": null,
      "outputs": [
        {
          "output_type": "stream",
          "name": "stdout",
          "text": [
            "Üç sayı girin: 10 20 30\n",
            "Ortanca sayı: 20\n"
          ]
        }
      ]
    },
    {
      "cell_type": "markdown",
      "source": [
        "7.8 Örnek: Müşteri sadakat programı"
      ],
      "metadata": {
        "id": "DgCkLt4IcpvJ"
      }
    },
    {
      "cell_type": "code",
      "source": [
        "harcama = float(input(\"Toplam harcama tutarını girin: \"))\n",
        "if harcama > 10000:\n",
        "    print(\"Platin müşteri seviyesindesiniz.\")\n",
        "elif harcama > 5000:\n",
        "    print(\"Altın müşteri seviyesindesiniz.\")\n",
        "elif harcama > 1000:\n",
        "    print(\"Gümüş müşteri seviyesindesiniz.\")\n",
        "else:\n",
        "    print(\"Standart müşteri seviyesindesiniz.\")"
      ],
      "metadata": {
        "id": "ahPi5dSGhnFx",
        "colab": {
          "base_uri": "https://localhost:8080/"
        },
        "outputId": "80c369d0-d4b9-46a8-f011-cfbdd90298ee"
      },
      "execution_count": null,
      "outputs": [
        {
          "output_type": "stream",
          "name": "stdout",
          "text": [
            "Toplam harcama tutarını girin: 45\n",
            "Standart müşteri seviyesindesiniz.\n"
          ]
        }
      ]
    },
    {
      "cell_type": "markdown",
      "source": [
        "7.9 Örnek: Kullanıcının maaşını gelir vergisine göre hesaplama"
      ],
      "metadata": {
        "id": "1lLGaToecp8J"
      }
    },
    {
      "cell_type": "code",
      "source": [
        "maaş = float(input(\"Maaşınızı girin: \"))\n",
        "if maaş > 40000:\n",
        "    vergi = maaş * 0.3\n",
        "elif maaş > 20000:\n",
        "    vergi = maaş * 0.2\n",
        "else:\n",
        "    vergi = maaş * 0.1\n",
        "net_maaş = maaş - vergi\n",
        "print(f\"Net maaşınız: {net_maaş} TL\")"
      ],
      "metadata": {
        "id": "LdcnChLJhyVb",
        "colab": {
          "base_uri": "https://localhost:8080/"
        },
        "outputId": "3293232e-f7eb-4c46-ec92-91731f7b4881"
      },
      "execution_count": null,
      "outputs": [
        {
          "output_type": "stream",
          "name": "stdout",
          "text": [
            "Maaşınızı girin: 8484\n",
            "Net maaşınız: 7635.6 TL\n"
          ]
        }
      ]
    },
    {
      "cell_type": "markdown",
      "source": [
        "7.10 Örnek: Sıcaklık birimi dönüştürme"
      ],
      "metadata": {
        "id": "yRpDhazocqKG"
      }
    },
    {
      "cell_type": "code",
      "source": [
        "birim = input(\"Sıcaklık birimi (C/F): \").upper()\n",
        "değer = float(input(\"Sıcaklık değerini girin: \"))\n",
        "if birim == \"C\":\n",
        "    dönüşüm = (değer * 9/5) + 32\n",
        "    print(f\"Sıcaklık: {dönüşüm} Fahrenheit\")\n",
        "elif birim == \"F\":\n",
        "    dönüşüm = (değer - 32) * 5/9\n",
        "    print(f\"Sıcaklık: {dönüşüm} Celsius\")\n",
        "else:\n",
        "    print(\"Geçersiz birim.\")"
      ],
      "metadata": {
        "id": "YQMC2oUqiC8M",
        "colab": {
          "base_uri": "https://localhost:8080/"
        },
        "outputId": "3ce3520b-a328-4382-dc47-6cb8b75c612f"
      },
      "execution_count": null,
      "outputs": [
        {
          "output_type": "stream",
          "name": "stdout",
          "text": [
            "Sıcaklık birimi (C/F): 18\n",
            "Sıcaklık değerini girin: 48\n",
            "Geçersiz birim.\n"
          ]
        }
      ]
    },
    {
      "cell_type": "markdown",
      "source": [
        "**8. Zor Seviye** **(2.adım)**"
      ],
      "metadata": {
        "id": "FV1rMGyZb_6A"
      }
    },
    {
      "cell_type": "markdown",
      "source": [
        "8.1 Örnek: Kullanıcı giriş sistemi"
      ],
      "metadata": {
        "id": "AmitsYQJdD6V"
      }
    },
    {
      "cell_type": "code",
      "source": [
        "kullanıcı_adı = \"admin\"\n",
        "şifre = \"password123\"\n",
        "girilen_ad = input(\"Kullanıcı adını girin: \")\n",
        "girilen_şifre = input(\"Şifreyi girin: \")\n",
        "if girilen_ad == kullanıcı_adı:\n",
        "    if girilen_şifre == şifre:\n",
        "        print(\"Giriş başarılı!\")\n",
        "    else:\n",
        "        print(\"Hatalı şifre!\")\n",
        "else:\n",
        "    print(\"Kullanıcı adı bulunamadı!\")"
      ],
      "metadata": {
        "id": "xQZHjHXfiNe9",
        "colab": {
          "base_uri": "https://localhost:8080/"
        },
        "outputId": "3cb0941a-1090-40e5-f7f8-87a2820b5577"
      },
      "execution_count": null,
      "outputs": [
        {
          "output_type": "stream",
          "name": "stdout",
          "text": [
            "Kullanıcı adını girin: Furkan\n",
            "Şifreyi girin: sonmezzsonmez\n",
            "Kullanıcı adı bulunamadı!\n"
          ]
        }
      ]
    },
    {
      "cell_type": "markdown",
      "source": [
        "8.2 Örnek: Dörtgen tipi kontrolü"
      ],
      "metadata": {
        "id": "GcpWicn3dEfL"
      }
    },
    {
      "cell_type": "code",
      "source": [
        "a, b, c, d = map(int, input(\"Dört kenar uzunluğunu girin (boşluklarla ayırarak): \").split())\n",
        "if a == b == c == d:\n",
        "    print(\"Kare\")\n",
        "elif a == c and b == d:\n",
        "    print(\"Dikdörtgen\")\n",
        "else:\n",
        "    print(\"Sıradan dörtgen\")"
      ],
      "metadata": {
        "id": "K-KGKKjGiRpq",
        "colab": {
          "base_uri": "https://localhost:8080/"
        },
        "outputId": "5abb8724-f2a2-4a0f-d242-b56df936b534"
      },
      "execution_count": null,
      "outputs": [
        {
          "output_type": "stream",
          "name": "stdout",
          "text": [
            "Dört kenar uzunluğunu girin (boşluklarla ayırarak): 10 20 30 40 \n",
            "Sıradan dörtgen\n"
          ]
        }
      ]
    },
    {
      "cell_type": "markdown",
      "source": [
        "8.3 Örnek: Telefon fatura hesaplama"
      ],
      "metadata": {
        "id": "-yUU3gVTdEnY"
      }
    },
    {
      "cell_type": "code",
      "source": [
        "dakika = int(input(\"Toplam konuşma süresini (dakika) girin: \"))\n",
        "if dakika <= 100:\n",
        "    ücret = dakika * 0.5\n",
        "elif dakika <= 300:\n",
        "    ücret = (100 * 0.5) + ((dakika - 100) * 0.4)\n",
        "else:\n",
        "    ücret = (100 * 0.5) + (200 * 0.4) + ((dakika - 300) * 0.3)\n",
        "print(f\"Toplam fatura tutarınız: {ücret} TL\")"
      ],
      "metadata": {
        "id": "o02hsYRciXr9",
        "colab": {
          "base_uri": "https://localhost:8080/"
        },
        "outputId": "e00274b3-1861-401b-957a-2a56637bb0d4"
      },
      "execution_count": null,
      "outputs": [
        {
          "output_type": "stream",
          "name": "stdout",
          "text": [
            "Toplam konuşma süresini (dakika) girin: 584\n",
            "Toplam fatura tutarınız: 215.2 TL\n"
          ]
        }
      ]
    },
    {
      "cell_type": "markdown",
      "source": [
        "8.4 Örnek: Geçerli üçgen kontrolü"
      ],
      "metadata": {
        "id": "WUG30GMndEvV"
      }
    },
    {
      "cell_type": "code",
      "source": [
        "a, b, c = map(int, input(\"Üç kenar uzunluğunu girin: \").split())\n",
        "if a + b > c and a + c > b and b + c > a:\n",
        "    print(\"Bu bir üçgen oluşturabilir.\")\n",
        "else:\n",
        "    print(\"Bu bir üçgen oluşturamaz.\")"
      ],
      "metadata": {
        "id": "8OYbky3RiePf",
        "colab": {
          "base_uri": "https://localhost:8080/"
        },
        "outputId": "367d7edd-5ba7-4d0e-ea79-bc1ef2fb9039"
      },
      "execution_count": null,
      "outputs": [
        {
          "output_type": "stream",
          "name": "stdout",
          "text": [
            "Üç kenar uzunluğunu girin: 10 20 30\n",
            "Bu bir üçgen oluşturamaz.\n"
          ]
        }
      ]
    },
    {
      "cell_type": "markdown",
      "source": [
        "8.5 Örnek: Not hesaplama sistemi"
      ],
      "metadata": {
        "id": "q3Nu_tS4dE4P"
      }
    },
    {
      "cell_type": "code",
      "source": [
        "vize1 = float(input(\"1. Vize notunu girin: \"))\n",
        "vize2 = float(input(\"2. Vize notunu girin: \"))\n",
        "final = float(input(\"Final notunu girin: \"))\n",
        "ortalama = (vize1 * 0.3) + (vize2 * 0.3) + (final * 0.4)\n",
        "if ortalama >= 60:\n",
        "    if final >= 50:\n",
        "        print(\"Geçtiniz!\")\n",
        "    else:\n",
        "        print(\"Final notu düşük olduğu için kaldınız.\")\n",
        "else:\n",
        "    print(\"Kaldınız.\")"
      ],
      "metadata": {
        "id": "VBw3mzNyinyJ",
        "colab": {
          "base_uri": "https://localhost:8080/"
        },
        "outputId": "9def8db0-259e-49cc-c204-6feec1e78e50"
      },
      "execution_count": null,
      "outputs": [
        {
          "output_type": "stream",
          "name": "stdout",
          "text": [
            "1. Vize notunu girin: 50\n",
            "2. Vize notunu girin: 100\n",
            "Final notunu girin: 120\n",
            "Geçtiniz!\n"
          ]
        }
      ]
    },
    {
      "cell_type": "markdown",
      "source": [
        "8.6 Örnek: Geçerli şifre oluşturma"
      ],
      "metadata": {
        "id": "KD6P7099dFNX"
      }
    },
    {
      "cell_type": "code",
      "source": [
        "şifre = input(\"Şifre giriniz: \")\n",
        "if len(şifre) >= 8:\n",
        "    if any(char.isdigit() for char in şifre) and any(char.isupper() for char in şifre):\n",
        "        print(\"Şifre güvenli.\")\n",
        "    else:\n",
        "        print(\"Şifre, büyük harf ve rakam içermeli.\")\n",
        "else:\n",
        "    print(\"Şifre en az 8 karakter uzunluğunda olmalı.\")"
      ],
      "metadata": {
        "id": "OXSRo1gEji2C",
        "colab": {
          "base_uri": "https://localhost:8080/"
        },
        "outputId": "c6d6dbad-261f-4a54-8cbe-1e45f9c53248"
      },
      "execution_count": null,
      "outputs": [
        {
          "output_type": "stream",
          "name": "stdout",
          "text": [
            "Şifre giriniz: 488488\n",
            "Şifre en az 8 karakter uzunluğunda olmalı.\n"
          ]
        }
      ]
    },
    {
      "cell_type": "markdown",
      "source": [
        "8.7 Örnek: Kullanıcı tipi belirleme"
      ],
      "metadata": {
        "id": "qko_PCdOdFXL"
      }
    },
    {
      "cell_type": "code",
      "source": [
        "yaş = int(input(\"Yaşınızı giriniz: \"))\n",
        "if yaş < 13:\n",
        "    print(\"Çocuk kullanıcı.\")\n",
        "elif yaş < 18:\n",
        "    print(\"Genç kullanıcı.\")\n",
        "elif yaş < 65:\n",
        "    print(\"Yetişkin kullanıcı.\")\n",
        "else:\n",
        "    print(\"Yaşlı kullanıcı.\")"
      ],
      "metadata": {
        "id": "epWLw71WjnmE",
        "colab": {
          "base_uri": "https://localhost:8080/"
        },
        "outputId": "1932af8a-bbc1-49fd-d21d-339fed90f959"
      },
      "execution_count": null,
      "outputs": [
        {
          "output_type": "stream",
          "name": "stdout",
          "text": [
            "Yaşınızı giriniz: 20\n",
            "Yetişkin kullanıcı.\n"
          ]
        }
      ]
    },
    {
      "cell_type": "markdown",
      "source": [
        "8.8 Örnek: Sıcaklık durumuna göre klima önerisi"
      ],
      "metadata": {
        "id": "d9UA0B3WdFjP"
      }
    },
    {
      "cell_type": "code",
      "source": [
        "sıcaklık = int(input(\"Oda sıcaklığını girin: \"))\n",
        "if sıcaklık > 30:\n",
        "    print(\"Klima açılmalı.\")\n",
        "elif sıcaklık < 18:\n",
        "    print(\"Klima ısıtma modunda çalışmalı.\")\n",
        "else:\n",
        "    print(\"Klima kapalı kalabilir.\")"
      ],
      "metadata": {
        "id": "A7iYiQW8jtfP",
        "colab": {
          "base_uri": "https://localhost:8080/"
        },
        "outputId": "a1452b10-c7e5-412f-b07c-b244a5107480"
      },
      "execution_count": null,
      "outputs": [
        {
          "output_type": "stream",
          "name": "stdout",
          "text": [
            "Oda sıcaklığını girin: 45\n",
            "Klima açılmalı.\n"
          ]
        }
      ]
    },
    {
      "cell_type": "markdown",
      "source": [
        "8.9 Örnek: Banka faiz hesaplama"
      ],
      "metadata": {
        "id": "ChEl9T_4dFuJ"
      }
    },
    {
      "cell_type": "code",
      "source": [
        "miktar = float(input(\"Yatırılan miktarı girin: \"))\n",
        "if miktar < 1000:\n",
        "    faiz = miktar * 0.03\n",
        "elif miktar < 5000:\n",
        "    faiz = miktar * 0.05\n",
        "else:\n",
        "    faiz = miktar * 0.07\n",
        "print(f\"Yıllık faiz getiriniz: {faiz} TL\")"
      ],
      "metadata": {
        "id": "MaL4wNo8j3Nh",
        "colab": {
          "base_uri": "https://localhost:8080/"
        },
        "outputId": "81496eea-6e8c-45d9-c3c6-c766d7a3f016"
      },
      "execution_count": null,
      "outputs": [
        {
          "output_type": "stream",
          "name": "stdout",
          "text": [
            "Yatırılan miktarı girin: 8500\n",
            "Yıllık faiz getiriniz: 595.0 TL\n"
          ]
        }
      ]
    },
    {
      "cell_type": "markdown",
      "source": [
        "8.10 Örnek: Hangi mevsimde olduğumuzu belirleme"
      ],
      "metadata": {
        "id": "SC6-Iw2AdF5R"
      }
    },
    {
      "cell_type": "code",
      "source": [
        "ay = input(\"Ay ismini girin: \").lower()\n",
        "if ay in [\"aralık\", \"ocak\", \"şubat\"]:\n",
        "    print(\"Kış mevsimi.\")\n",
        "elif ay in [\"mart\", \"nisan\", \"mayıs\"]:\n",
        "    print(\"İlkbahar mevsimi.\")\n",
        "elif ay in [\"haziran\", \"temmuz\", \"ağustos\"]:\n",
        "    print(\"Yaz mevsimi.\")\n",
        "elif ay in [\"eylül\", \"ekim\", \"kasım\"]:\n",
        "    print(\"Sonbahar mevsimi.\")\n",
        "else:\n",
        "    print(\"Geçersiz ay ismi.\")"
      ],
      "metadata": {
        "id": "_R8CDfdbj7_x",
        "colab": {
          "base_uri": "https://localhost:8080/"
        },
        "outputId": "444d2f1a-2b38-4235-bed1-307c1e667bd9"
      },
      "execution_count": null,
      "outputs": [
        {
          "output_type": "stream",
          "name": "stdout",
          "text": [
            "Ay ismini girin: ocak\n",
            "Kış mevsimi.\n"
          ]
        }
      ]
    },
    {
      "cell_type": "markdown",
      "source": [
        "8.11 Örnek: ÖSYM sınav başarı durumu"
      ],
      "metadata": {
        "id": "bApbKJ0CdGE_"
      }
    },
    {
      "cell_type": "code",
      "source": [
        "puan = int(input(\"Sınav puanınızı girin: \"))\n",
        "if puan >= 90:\n",
        "    print(\"Başarı durumu: Üstün başarı\")\n",
        "elif puan >= 70:\n",
        "    print(\"Başarı durumu: Başarılı\")\n",
        "elif puan >= 50:\n",
        "    print(\"Başarı durumu: Orta\")\n",
        "else:\n",
        "    print(\"Başarı durumu: Başarısız\")"
      ],
      "metadata": {
        "id": "KBDmFXXekDWj",
        "colab": {
          "base_uri": "https://localhost:8080/"
        },
        "outputId": "bfaaf90b-6483-4f15-b4ed-707bffae9557"
      },
      "execution_count": null,
      "outputs": [
        {
          "output_type": "stream",
          "name": "stdout",
          "text": [
            "Sınav puanınızı girin: 100\n",
            "Başarı durumu: Üstün başarı\n"
          ]
        }
      ]
    },
    {
      "cell_type": "markdown",
      "source": [
        "8.12 Örnek: Sayının mutlak değerini bulma"
      ],
      "metadata": {
        "id": "Ntef7uaadGO1"
      }
    },
    {
      "cell_type": "code",
      "source": [
        "sayı = -10\n",
        "if sayı < 0:\n",
        "    mutlak_değer = -sayı\n",
        "else:\n",
        "    mutlak_değer = sayı\n",
        "print(f\"Mutlak değer: {mutlak_değer}\")"
      ],
      "metadata": {
        "id": "6bWJh0-rkH02",
        "colab": {
          "base_uri": "https://localhost:8080/"
        },
        "outputId": "a901ab62-82b3-48a5-ca43-8692751155b6"
      },
      "execution_count": null,
      "outputs": [
        {
          "output_type": "stream",
          "name": "stdout",
          "text": [
            "Mutlak değer: 10\n"
          ]
        }
      ]
    },
    {
      "cell_type": "markdown",
      "source": [
        "8.13 Örnek: Sıcaklık birimine göre dönüştürme"
      ],
      "metadata": {
        "id": "ozr--e6LdGZ3"
      }
    },
    {
      "cell_type": "code",
      "source": [
        "birim = \"C\"\n",
        "değer = 25\n",
        "if birim == \"C\":\n",
        "    dönüşüm = (değer * 9/5) + 32\n",
        "    print(f\"{değer} derece Celsius, {dönüşüm} Fahrenheit'e eşittir.\")\n",
        "elif birim == \"F\":\n",
        "    dönüşüm = (değer - 32) * 5/9\n",
        "    print(f\"{değer} derece Fahrenheit, {dönüşüm} Celsius'a eşittir.\")\n",
        "else:\n",
        "    print(\"Geçersiz birim girdiniz.\")"
      ],
      "metadata": {
        "id": "Ia9629pfkQ4l",
        "colab": {
          "base_uri": "https://localhost:8080/"
        },
        "outputId": "171d69ca-e708-4ea8-f56a-b5be4472fcc9"
      },
      "execution_count": null,
      "outputs": [
        {
          "output_type": "stream",
          "name": "stdout",
          "text": [
            "25 derece Celsius, 77.0 Fahrenheit'e eşittir.\n"
          ]
        }
      ]
    },
    {
      "cell_type": "markdown",
      "source": [
        "8.14 Örnek: Kullanıcının yaş grubunu belirleme"
      ],
      "metadata": {
        "id": "BJt5cYE1dGlr"
      }
    },
    {
      "cell_type": "code",
      "source": [
        "yaş = 40\n",
        "if yaş < 13:\n",
        "    print(\"Çocuk\")\n",
        "elif yaş < 20:\n",
        "    print(\"Genç\")\n",
        "elif yaş < 60:\n",
        "    print(\"Yetişkin\")\n",
        "else:\n",
        "    print(\"Yaşlı\")"
      ],
      "metadata": {
        "id": "w7d8_wq6kW3b",
        "colab": {
          "base_uri": "https://localhost:8080/"
        },
        "outputId": "423034e2-b5fd-4f5f-cb6b-00e7743477df"
      },
      "execution_count": null,
      "outputs": [
        {
          "output_type": "stream",
          "name": "stdout",
          "text": [
            "Yetişkin\n"
          ]
        }
      ]
    },
    {
      "cell_type": "markdown",
      "source": [
        "8.15 Örnek: Geçerli e-posta kontrolü"
      ],
      "metadata": {
        "id": "OikK-gZcdGwt"
      }
    },
    {
      "cell_type": "code",
      "source": [
        "email = \"ornek@domain.com\"\n",
        "if \"@\" in email and \".\" in email:\n",
        "    print(\"Geçerli bir e-posta adresi.\")\n",
        "else:\n",
        "    print(\"Geçersiz bir e-posta adresi.\")"
      ],
      "metadata": {
        "id": "uCWAdsZ8kcRr",
        "colab": {
          "base_uri": "https://localhost:8080/"
        },
        "outputId": "44812854-5b7a-43f0-a782-cf8849ff6591"
      },
      "execution_count": null,
      "outputs": [
        {
          "output_type": "stream",
          "name": "stdout",
          "text": [
            "Geçerli bir e-posta adresi.\n"
          ]
        }
      ]
    },
    {
      "cell_type": "markdown",
      "source": [
        "8.16 Örnek: Maaş vergisi hesaplama"
      ],
      "metadata": {
        "id": "s3HiSHKydG8N"
      }
    },
    {
      "cell_type": "code",
      "source": [
        "maaş = 45000\n",
        "if maaş > 40000:\n",
        "    vergi = maaş * 0.3\n",
        "elif maaş > 20000:\n",
        "    vergi = maaş * 0.2\n",
        "else:\n",
        "    vergi = maaş * 0.1\n",
        "net_maaş = maaş - vergi\n",
        "print(f\"Vergi sonrası maaşınız: {net_maaş}\")"
      ],
      "metadata": {
        "id": "jpeWEbpSkina",
        "colab": {
          "base_uri": "https://localhost:8080/"
        },
        "outputId": "3aa2dba7-663c-46b3-8909-c9968b094972"
      },
      "execution_count": null,
      "outputs": [
        {
          "output_type": "stream",
          "name": "stdout",
          "text": [
            "Vergi sonrası maaşınız: 31500.0\n"
          ]
        }
      ]
    },
    {
      "cell_type": "markdown",
      "source": [
        "8.17 Örnek: İki sayıyı karşılaştırma"
      ],
      "metadata": {
        "id": "1f0m7OlJdHG-"
      }
    },
    {
      "cell_type": "code",
      "source": [
        "a = 15\n",
        "b = 10\n",
        "if a > b:\n",
        "    print(f\"{a}, {b}'den büyüktür.\")\n",
        "elif a < b:\n",
        "    print(f\"{a}, {b}'den küçüktür.\")\n",
        "else:\n",
        "    print(f\"{a} ve {b} birbirine eşittir.\")"
      ],
      "metadata": {
        "id": "OmGYJ1sHkoQu",
        "colab": {
          "base_uri": "https://localhost:8080/"
        },
        "outputId": "a7c77c4d-115a-4333-f05c-43f70a142fab"
      },
      "execution_count": null,
      "outputs": [
        {
          "output_type": "stream",
          "name": "stdout",
          "text": [
            "15, 10'den büyüktür.\n"
          ]
        }
      ]
    },
    {
      "cell_type": "markdown",
      "source": [
        "8.18 Örnek: Sıcaklık durumuna göre öneri"
      ],
      "metadata": {
        "id": "sg9Wf_D2dHRo"
      }
    },
    {
      "cell_type": "code",
      "source": [
        "sıcaklık = 5\n",
        "if sıcaklık > 25:\n",
        "    print(\"Hava sıcak, dışarı çıkabilirsiniz.\")\n",
        "elif sıcaklık > 10:\n",
        "    print(\"Hava serin, bir ceket alabilirsiniz.\")\n",
        "else:\n",
        "    print(\"Hava soğuk, kalın giyinin.\")"
      ],
      "metadata": {
        "id": "3_fVASWwku8m",
        "colab": {
          "base_uri": "https://localhost:8080/"
        },
        "outputId": "b95445ef-96dd-43e2-f077-da34b5bf5186"
      },
      "execution_count": null,
      "outputs": [
        {
          "output_type": "stream",
          "name": "stdout",
          "text": [
            "Hava soğuk, kalın giyinin.\n"
          ]
        }
      ]
    },
    {
      "cell_type": "markdown",
      "source": [
        "8.19 Örnek: Kullanıcı adını kontrol etme"
      ],
      "metadata": {
        "id": "IBRi1mFtdHth"
      }
    },
    {
      "cell_type": "code",
      "source": [
        "kullanıcı_adı = \"admin\"\n",
        "if len(kullanıcı_adı) >= 5:\n",
        "    print(\"Kullanıcı adı geçerli.\")\n",
        "else:\n",
        "    print(\"Kullanıcı adı en az 5 karakter olmalıdır.\")"
      ],
      "metadata": {
        "id": "p68RR8R7k0QQ",
        "colab": {
          "base_uri": "https://localhost:8080/"
        },
        "outputId": "241a46ee-cdba-4618-f910-8358aa49b93b"
      },
      "execution_count": null,
      "outputs": [
        {
          "output_type": "stream",
          "name": "stdout",
          "text": [
            "Kullanıcı adı geçerli.\n"
          ]
        }
      ]
    },
    {
      "cell_type": "markdown",
      "source": [
        "8.20 Örnek: Kargo fiyatı hesaplama"
      ],
      "metadata": {
        "id": "M_4JhiiXdH4C"
      }
    },
    {
      "cell_type": "code",
      "source": [
        "mesafe = 300\n",
        "if mesafe <= 100:\n",
        "    ücret = 50\n",
        "elif mesafe <= 500:\n",
        "    ücret = 100\n",
        "else:\n",
        "    ücret = 150\n",
        "print(f\"Kargo ücreti: {ücret} TL\")\n"
      ],
      "metadata": {
        "id": "tZqdUR6mk55W",
        "colab": {
          "base_uri": "https://localhost:8080/"
        },
        "outputId": "d27cc06c-71a6-4add-9037-737f444544a7"
      },
      "execution_count": null,
      "outputs": [
        {
          "output_type": "stream",
          "name": "stdout",
          "text": [
            "Kargo ücreti: 100 TL\n"
          ]
        }
      ]
    },
    {
      "cell_type": "markdown",
      "source": [
        "8.21 Örnek: İki sayının toplamını kontrol etme"
      ],
      "metadata": {
        "id": "A85Ygpy9dICv"
      }
    },
    {
      "cell_type": "code",
      "source": [
        "a = 60\n",
        "b = 45\n",
        "if a + b > 100:\n",
        "    print(\"Toplam 100’den büyüktür.\")\n",
        "else:\n",
        "    print(\"Toplam 100’den küçüktür.\")"
      ],
      "metadata": {
        "id": "pXLhVARVk_EB",
        "colab": {
          "base_uri": "https://localhost:8080/"
        },
        "outputId": "dffb172a-cbd3-4882-c210-86f5c3d5f9a7"
      },
      "execution_count": null,
      "outputs": [
        {
          "output_type": "stream",
          "name": "stdout",
          "text": [
            "Toplam 100’den büyüktür.\n"
          ]
        }
      ]
    },
    {
      "cell_type": "markdown",
      "source": [
        "8.22 Örnek: Öğrenci başarı durumu"
      ],
      "metadata": {
        "id": "0epTKmzzdINR"
      }
    },
    {
      "cell_type": "code",
      "source": [
        "vize = 50\n",
        "final = 70\n",
        "ortalama = (vize * 0.4) + (final * 0.6)\n",
        "if ortalama >= 60:\n",
        "    print(\"Geçtiniz.\")\n",
        "else:\n",
        "    print(\"Kaldınız.\")"
      ],
      "metadata": {
        "id": "RTgGN2AllHmp",
        "colab": {
          "base_uri": "https://localhost:8080/"
        },
        "outputId": "09891846-74cd-49cc-bc48-f4265580d8dd"
      },
      "execution_count": null,
      "outputs": [
        {
          "output_type": "stream",
          "name": "stdout",
          "text": [
            "Geçtiniz.\n"
          ]
        }
      ]
    },
    {
      "cell_type": "markdown",
      "source": [
        "8.23 Örnek: Saatlik ücret hesaplama"
      ],
      "metadata": {
        "id": "XgCXRc2EdIYn"
      }
    },
    {
      "cell_type": "code",
      "source": [
        "saatlik_ücret = 20\n",
        "çalışma_saati = 45\n",
        "if çalışma_saati > 40:\n",
        "    fazla_mesai = çalışma_saati - 40\n",
        "    toplam_ücret = (40 * saatlik_ücret) + (fazla_mesai * saatlik_ücret * 1.5)\n",
        "else:\n",
        "    toplam_ücret = çalışma_saati * saatlik_ücret\n",
        "print(f\"Toplam maaş: {toplam_ücret}\")"
      ],
      "metadata": {
        "id": "_hq0Pz8SlM-r",
        "colab": {
          "base_uri": "https://localhost:8080/"
        },
        "outputId": "f2e8d69d-2f96-44de-e3cf-1d08260af24e"
      },
      "execution_count": null,
      "outputs": [
        {
          "output_type": "stream",
          "name": "stdout",
          "text": [
            "Toplam maaş: 950.0\n"
          ]
        }
      ]
    },
    {
      "cell_type": "markdown",
      "source": [
        "8.24 Örnek: Telefon faturası hesaplama"
      ],
      "metadata": {
        "id": "F27aU23AdIjx"
      }
    },
    {
      "cell_type": "code",
      "source": [
        "dakika = 350\n",
        "if dakika <= 100:\n",
        "    fatura = dakika * 0.5\n",
        "elif dakika <= 300:\n",
        "    fatura = (100 * 0.5) + ((dakika - 100) * 0.4)\n",
        "else:\n",
        "    fatura = (100 * 0.5) + (200 * 0.4) + ((dakika - 300) * 0.3)\n",
        "print(f\"Fatura tutarınız: {fatura} TL\")"
      ],
      "metadata": {
        "id": "bHVSYF32lR0s",
        "colab": {
          "base_uri": "https://localhost:8080/"
        },
        "outputId": "59ea3ebe-d4d8-4193-f339-6d8681020e5f"
      },
      "execution_count": null,
      "outputs": [
        {
          "output_type": "stream",
          "name": "stdout",
          "text": [
            "Fatura tutarınız: 145.0 TL\n"
          ]
        }
      ]
    },
    {
      "cell_type": "markdown",
      "source": [
        "8.25 Örnek: İndirim hesaplama"
      ],
      "metadata": {
        "id": "StoTamUBdIuz"
      }
    },
    {
      "cell_type": "code",
      "source": [
        "alışveriş = 6767\n",
        "if alışveriş > 1000:\n",
        "    indirim = alışveriş * 0.2\n",
        "elif alışveriş > 500:\n",
        "    indirim = alışveriş * 0.1\n",
        "else:\n",
        "    indirim = 0\n",
        "ödenecek = alışveriş - indirim\n",
        "print(f\"Ödenecek tutar: {ödenecek} TL\")"
      ],
      "metadata": {
        "id": "ZmErd9eflXWK",
        "colab": {
          "base_uri": "https://localhost:8080/"
        },
        "outputId": "d3c64a9d-059c-4367-de11-00ac20c425ae"
      },
      "execution_count": null,
      "outputs": [
        {
          "output_type": "stream",
          "name": "stdout",
          "text": [
            "Ödenecek tutar: 5413.6 TL\n"
          ]
        }
      ]
    },
    {
      "cell_type": "markdown",
      "source": [
        "8.26 Örnek: Ürün stok kontrolü"
      ],
      "metadata": {
        "id": "tZB_XOxJdI56"
      }
    },
    {
      "cell_type": "code",
      "source": [
        "stok = 30\n",
        "sipariş = 676\n",
        "if sipariş <= stok:\n",
        "    print(\"Siparişiniz kabul edildi.\")\n",
        "else:\n",
        "    print(f\"Yetersiz stok! Mevcut stok: {stok}\")"
      ],
      "metadata": {
        "id": "zcG5W6NClb_t",
        "colab": {
          "base_uri": "https://localhost:8080/"
        },
        "outputId": "858446ca-c36b-4816-ff3d-6e840864481f"
      },
      "execution_count": null,
      "outputs": [
        {
          "output_type": "stream",
          "name": "stdout",
          "text": [
            "Yetersiz stok! Mevcut stok: 30\n"
          ]
        }
      ]
    },
    {
      "cell_type": "markdown",
      "source": [
        "8.27 Örnek: Geçerli kullanıcı kontrolü"
      ],
      "metadata": {
        "id": "iMRVIsFQdJEs"
      }
    },
    {
      "cell_type": "code",
      "source": [
        "kullanıcı_adı = \"furkan\"\n",
        "şifre = \"585858\"\n",
        "girilen_ad = \"sonmez\"\n",
        "girilen_şifre = \"57575757\"\n",
        "if girilen_ad == kullanıcı_adı and girilen_şifre == şifre:\n",
        "    print(\"Giriş başarılı.\")\n",
        "else:\n",
        "    print(\"Kullanıcı adı veya şifre hatalı.\")"
      ],
      "metadata": {
        "id": "Szm5ng89limd",
        "colab": {
          "base_uri": "https://localhost:8080/"
        },
        "outputId": "52a0d139-22b9-4438-8b50-73f1d6351fc0"
      },
      "execution_count": null,
      "outputs": [
        {
          "output_type": "stream",
          "name": "stdout",
          "text": [
            "Kullanıcı adı veya şifre hatalı.\n"
          ]
        }
      ]
    },
    {
      "cell_type": "markdown",
      "source": [
        "8.28 Örnek: Alışveriş sepeti kampanya kontrolü"
      ],
      "metadata": {
        "id": "cKMbFtPcdJPH"
      }
    },
    {
      "cell_type": "code",
      "source": [
        "sepet_tutarı = 5854\n",
        "if sepet_tutarı >= 1000:\n",
        "    print(\"Bir sonraki alışverişte %20 indirim kazandınız.\")\n",
        "elif sepet_tutarı >= 500:\n",
        "    print(\"Bir sonraki alışverişte %10 indirim kazandınız.\")\n",
        "else:\n",
        "    print(\"Kampanyaya dahil değilsiniz.\")"
      ],
      "metadata": {
        "id": "LvsUj0BoloNq",
        "colab": {
          "base_uri": "https://localhost:8080/"
        },
        "outputId": "5f158bf6-1eb4-40f9-adb9-cd4136e58db7"
      },
      "execution_count": null,
      "outputs": [
        {
          "output_type": "stream",
          "name": "stdout",
          "text": [
            "Bir sonraki alışverişte %20 indirim kazandınız.\n"
          ]
        }
      ]
    },
    {
      "cell_type": "markdown",
      "source": [
        "8.29 Örnek: Elektrik faturası hesaplama"
      ],
      "metadata": {
        "id": "4ueKQlyqdJaZ"
      }
    },
    {
      "cell_type": "code",
      "source": [
        "tüketim = 400\n",
        "if tüketim <= 150:\n",
        "    fatura = tüketim * 0.5\n",
        "elif tüketim <= 300:\n",
        "    fatura = (150 * 0.5) + ((tüketim - 150) * 0.75)\n",
        "else:\n",
        "    fatura = (150 * 0.5) + (150 * 0.75) + ((tüketim - 300) * 1.0)\n",
        "print(f\"Fatura tutarınız: {fatura} TL\")"
      ],
      "metadata": {
        "id": "jzIoU506ls1i",
        "colab": {
          "base_uri": "https://localhost:8080/"
        },
        "outputId": "619d3e7a-6b4b-4979-ce73-bebe74a8a016"
      },
      "execution_count": null,
      "outputs": [
        {
          "output_type": "stream",
          "name": "stdout",
          "text": [
            "Fatura tutarınız: 287.5 TL\n"
          ]
        }
      ]
    },
    {
      "cell_type": "markdown",
      "source": [
        "8.30 Örnek: Vize ve final sınavı geçme durumu"
      ],
      "metadata": {
        "id": "gUwUxqjmdJl_"
      }
    },
    {
      "cell_type": "code",
      "source": [
        "vize = 47\n",
        "final = 58\n",
        "ortalama = (vize * 0.4) + (final * 0.6)\n",
        "if ortalama >= 50 and final >= 50:\n",
        "    print(\"Geçtiniz.\")\n",
        "else:\n",
        "    print(\"Kaldınız.\")"
      ],
      "metadata": {
        "id": "3igf-diplyFF",
        "colab": {
          "base_uri": "https://localhost:8080/"
        },
        "outputId": "10ced4b9-68f1-48a2-d69d-fd452cb5cb71"
      },
      "execution_count": null,
      "outputs": [
        {
          "output_type": "stream",
          "name": "stdout",
          "text": [
            "Geçtiniz.\n"
          ]
        }
      ]
    },
    {
      "cell_type": "markdown",
      "source": [
        "8.31 Örnek: Sıcaklık durumuna göre kıyafet önerisi"
      ],
      "metadata": {
        "id": "I-kvfMAkdJwi"
      }
    },
    {
      "cell_type": "code",
      "source": [
        "sıcaklık = 20\n",
        "if sıcaklık > 25:\n",
        "    print(\"Tişört giyin.\")\n",
        "elif sıcaklık > 15:\n",
        "    print(\"Hafif bir ceket giyin.\")\n",
        "else:\n",
        "    print(\"Kalın bir mont alın.\")"
      ],
      "metadata": {
        "id": "ERXNjIZll8tU",
        "colab": {
          "base_uri": "https://localhost:8080/"
        },
        "outputId": "0d3607dd-659a-45d2-add4-3ec6f2edd53f"
      },
      "execution_count": null,
      "outputs": [
        {
          "output_type": "stream",
          "name": "stdout",
          "text": [
            "Hafif bir ceket giyin.\n"
          ]
        }
      ]
    },
    {
      "cell_type": "markdown",
      "source": [
        "8.32 Örnek: Üç sayı arasındaki en büyüğü bulma"
      ],
      "metadata": {
        "id": "D5tNesKpdJ7k"
      }
    },
    {
      "cell_type": "code",
      "source": [
        "a = 45\n",
        "b = 2757\n",
        "c = 23\n",
        "if a > b and a > c:\n",
        "    print(f\"En büyük sayı: {a}\")\n",
        "elif b > c:\n",
        "    print(f\"En büyük sayı: {b}\")\n",
        "else:\n",
        "    print(f\"En büyük sayı: {c}\")"
      ],
      "metadata": {
        "id": "oXthlE7tmCGO",
        "colab": {
          "base_uri": "https://localhost:8080/"
        },
        "outputId": "f2d33272-6234-43b3-e7e3-d14a3cb6c5f4"
      },
      "execution_count": null,
      "outputs": [
        {
          "output_type": "stream",
          "name": "stdout",
          "text": [
            "En büyük sayı: 2757\n"
          ]
        }
      ]
    },
    {
      "cell_type": "markdown",
      "source": [
        "8.33 Örnek: Kullanıcı tipi belirleme"
      ],
      "metadata": {
        "id": "0q7eP-TqdKGc"
      }
    },
    {
      "cell_type": "code",
      "source": [
        "yaş = 20\n",
        "if yaş < 13:\n",
        "    print(\"Çocuk kullanıcı.\")\n",
        "elif yaş < 18:\n",
        "    print(\"Genç kullanıcı.\")\n",
        "elif yaş < 65:\n",
        "    print(\"Yetişkin kullanıcı.\")\n",
        "else:\n",
        "    print(\"Yaşlı kullanıcı.\")"
      ],
      "metadata": {
        "id": "5lqKHH3jmSPz",
        "colab": {
          "base_uri": "https://localhost:8080/"
        },
        "outputId": "13108c6d-fe51-4265-c5c0-86fe6b85cfd9"
      },
      "execution_count": null,
      "outputs": [
        {
          "output_type": "stream",
          "name": "stdout",
          "text": [
            "Yetişkin kullanıcı.\n"
          ]
        }
      ]
    },
    {
      "cell_type": "markdown",
      "source": [
        "8.34 Örnek: Girilen sayının pozitif, negatif ya da sıfır olduğunu belirleme"
      ],
      "metadata": {
        "id": "1E172r1_dKRP"
      }
    },
    {
      "cell_type": "code",
      "source": [
        "sayı = -5\n",
        "if sayı > 0:\n",
        "    print(\"Pozitif.\")\n",
        "elif sayı < 0:\n",
        "    print(\"Negatif.\")\n",
        "else:\n",
        "    print(\"Sıfır.\")"
      ],
      "metadata": {
        "id": "ld3O_vy4mXj0",
        "colab": {
          "base_uri": "https://localhost:8080/"
        },
        "outputId": "82f2206c-9fe1-4203-c3f0-6ba9f39f9318"
      },
      "execution_count": null,
      "outputs": [
        {
          "output_type": "stream",
          "name": "stdout",
          "text": [
            "Negatif.\n"
          ]
        }
      ]
    },
    {
      "cell_type": "markdown",
      "source": [
        "8.35 Örnek: Telefon hattı tarifesi"
      ],
      "metadata": {
        "id": "tv81iJ7_dKb6"
      }
    },
    {
      "cell_type": "code",
      "source": [
        "dakika = 500\n",
        "if dakika <= 100:\n",
        "    ücret = dakika * 0.5\n",
        "elif dakika <= 300:\n",
        "    ücret = (100 * 0.5) + ((dakika - 100) * 0.4)\n",
        "else:\n",
        "    ücret = (100 * 0.5) + (200 * 0.4) + ((dakika - 300) * 0.3)\n",
        "print(f\"Telefon faturası: {ücret} TL\")"
      ],
      "metadata": {
        "id": "Usvgb3-zmdPt",
        "colab": {
          "base_uri": "https://localhost:8080/"
        },
        "outputId": "89e5f40a-6cfa-485f-b823-fd304a7ba9c0"
      },
      "execution_count": null,
      "outputs": [
        {
          "output_type": "stream",
          "name": "stdout",
          "text": [
            "Telefon faturası: 190.0 TL\n"
          ]
        }
      ]
    },
    {
      "cell_type": "markdown",
      "source": [
        "8.36 Örnek: Şifre güvenliği kontrolü"
      ],
      "metadata": {
        "id": "915Q-_GIdKlz"
      }
    },
    {
      "cell_type": "code",
      "source": [
        "şifre = \"furkansonmezsifresi\"\n",
        "if len(şifre) >= 8:\n",
        "    if any(char.isdigit() for char in şifre) and any(char.isupper() for char in şifre):\n",
        "        print(\"Şifre güvenli.\")\n",
        "    else:\n",
        "        print(\"Şifre, hem harf hem rakam içermeli.\")\n",
        "else:\n",
        "    print(\"Şifre en az 8 karakter uzunluğunda olmalı.\")"
      ],
      "metadata": {
        "id": "vnl37kh8mh6E",
        "colab": {
          "base_uri": "https://localhost:8080/"
        },
        "outputId": "7ae29d4e-c145-4964-c4fa-62c5ffd2f7ba"
      },
      "execution_count": null,
      "outputs": [
        {
          "output_type": "stream",
          "name": "stdout",
          "text": [
            "Şifre, hem harf hem rakam içermeli.\n"
          ]
        }
      ]
    },
    {
      "cell_type": "markdown",
      "source": [
        "8.37 Örnek: Alışveriş kampanya uygulaması"
      ],
      "metadata": {
        "id": "IKCDapYPdKwS"
      }
    },
    {
      "cell_type": "code",
      "source": [
        "alışveriş_tutarı = 5000\n",
        "if alışveriş_tutarı > 1000:\n",
        "    indirim = alışveriş_tutarı * 0.2\n",
        "    print(f\"%20 indirim kazandınız! İndirim: {indirim} TL\")\n",
        "elif alışveriş_tutarı > 500:\n",
        "    indirim = alışveriş_tutarı * 0.1\n",
        "    print(f\"%10 indirim kazandınız! İndirim: {indirim} TL\")\n",
        "else:\n",
        "    indirim = 0\n",
        "    print(\"Kampanyaya dahil değilsiniz.\")\n",
        "print(f\"Ödenecek tutar: {alışveriş_tutarı - indirim} TL\")"
      ],
      "metadata": {
        "id": "FUUiZ5Ihmk19",
        "colab": {
          "base_uri": "https://localhost:8080/"
        },
        "outputId": "ab07ac6d-c698-4fb4-f846-fe9f6adc40c3"
      },
      "execution_count": null,
      "outputs": [
        {
          "output_type": "stream",
          "name": "stdout",
          "text": [
            "%20 indirim kazandınız! İndirim: 1000.0 TL\n",
            "Ödenecek tutar: 4000.0 TL\n"
          ]
        }
      ]
    },
    {
      "cell_type": "markdown",
      "source": [
        "8.38 Örnek: Bir sayının çift ya da tek olmasının ötesinde kategorilere ayırma"
      ],
      "metadata": {
        "id": "4OLoUlHodK7E"
      }
    },
    {
      "cell_type": "code",
      "source": [
        "sayı = 0\n",
        "if sayı == 0:\n",
        "    print(\"Sayı sıfır.\")\n",
        "elif sayı % 2 == 0:\n",
        "    print(\"Sayı çift.\")\n",
        "else:\n",
        "    print(\"Sayı tek.\")"
      ],
      "metadata": {
        "id": "7FVAwQRZmwdZ",
        "colab": {
          "base_uri": "https://localhost:8080/"
        },
        "outputId": "7130fa9d-a3d7-4505-bb52-9344fe6be974"
      },
      "execution_count": null,
      "outputs": [
        {
          "output_type": "stream",
          "name": "stdout",
          "text": [
            "Sayı sıfır.\n"
          ]
        }
      ]
    },
    {
      "cell_type": "markdown",
      "source": [
        "8.39 Örnek: Harf kategorisi belirleme"
      ],
      "metadata": {
        "id": "RcggxTrSdLGF"
      }
    },
    {
      "cell_type": "code",
      "source": [
        "harf = \"e\"\n",
        "if harf in \"aeiouAEIOU\":\n",
        "    print(f\"{harf} bir sesli harftir.\")\n",
        "else:\n",
        "    print(f\"{harf} bir sessiz harftir.\")"
      ],
      "metadata": {
        "id": "96mCddl9m42t",
        "colab": {
          "base_uri": "https://localhost:8080/"
        },
        "outputId": "e9017377-4526-4add-cc7c-aa56e94a3af8"
      },
      "execution_count": null,
      "outputs": [
        {
          "output_type": "stream",
          "name": "stdout",
          "text": [
            "e bir sesli harftir.\n"
          ]
        }
      ]
    },
    {
      "cell_type": "markdown",
      "source": [
        "8.40 Örnek: Kredi başvuru sonucu"
      ],
      "metadata": {
        "id": "Rb5HBK4NdLQS"
      }
    },
    {
      "cell_type": "code",
      "source": [
        "gelir = 6664\n",
        "kredi_notu = 2555\n",
        "if gelir >= 5000 and kredi_notu >= 750:\n",
        "    print(\"Kredi onaylandı.\")\n",
        "elif gelir >= 3000 and kredi_notu >= 650:\n",
        "    print(\"Kredi onaylandı, fakat düşük limit.\")\n",
        "else:\n",
        "    print(\"Kredi başvurunuz reddedildi.\")"
      ],
      "metadata": {
        "id": "XtEEEYWhm-Hq",
        "colab": {
          "base_uri": "https://localhost:8080/"
        },
        "outputId": "fafa2fc0-d6fd-43d7-b9ea-7c6a11c96a60"
      },
      "execution_count": null,
      "outputs": [
        {
          "output_type": "stream",
          "name": "stdout",
          "text": [
            "Kredi onaylandı.\n"
          ]
        }
      ]
    },
    {
      "cell_type": "markdown",
      "source": [
        "8.41 Örnek: Dönemlik kar-zarar hesaplama"
      ],
      "metadata": {
        "id": "Fuu2HcY1dLa2"
      }
    },
    {
      "cell_type": "code",
      "source": [
        "gelir = 5757\n",
        "gider = 8787\n",
        "if gelir > gider:\n",
        "    print(f\"Kar: {gelir - gider} TL\")\n",
        "elif gelir < gider:\n",
        "    print(f\"Zarar: {gider - gelir} TL\")\n",
        "else:\n",
        "    print(\"Ne kar ne zarar. Durum sıfır.\")"
      ],
      "metadata": {
        "id": "4o6V7ErDnDta",
        "colab": {
          "base_uri": "https://localhost:8080/"
        },
        "outputId": "792f269d-6060-49a1-b4e8-0421c27ba901"
      },
      "execution_count": null,
      "outputs": [
        {
          "output_type": "stream",
          "name": "stdout",
          "text": [
            "Zarar: 3030 TL\n"
          ]
        }
      ]
    },
    {
      "cell_type": "markdown",
      "source": [
        "8.42 Örnek: Araç hız kontrolü"
      ],
      "metadata": {
        "id": "dEQ2W3hudLlA"
      }
    },
    {
      "cell_type": "code",
      "source": [
        "hız = 557\n",
        "if hız <= 50:\n",
        "    print(\"Hızınız normal.\")\n",
        "elif hız <= 80:\n",
        "    print(\"Hızınızı düşürün , uyarı aldınız.\")\n",
        "else:\n",
        "    print(\"Hız sınırını aştınız! Ceza uygulanacak.\")"
      ],
      "metadata": {
        "id": "jbny0taxnLch",
        "colab": {
          "base_uri": "https://localhost:8080/"
        },
        "outputId": "15896f11-96e8-47b8-be6c-b254afdfade2"
      },
      "execution_count": null,
      "outputs": [
        {
          "output_type": "stream",
          "name": "stdout",
          "text": [
            "Hız sınırını aştınız! Ceza uygulanacak.\n"
          ]
        }
      ]
    },
    {
      "cell_type": "markdown",
      "source": [
        "8.43 Örnek: Kullanıcı şifre oluşturma kuralları"
      ],
      "metadata": {
        "id": "5AzFqlZGdLvV"
      }
    },
    {
      "cell_type": "code",
      "source": [
        "şifre = \"furkansonmez\"\n",
        "if len(şifre) >= 8:\n",
        "    if any(char.isdigit() for char in şifre) and any(char.isupper() for char in şifre):\n",
        "        print(\"Şifre kabul edildi.\")\n",
        "    else:\n",
        "        print(\"Şifre, en az bir rakam ve büyük harf içermelidir.\")\n",
        "else:\n",
        "    print(\"Şifre en az 8 karakter olmalıdır.\")"
      ],
      "metadata": {
        "id": "uZBLjGBqnUMV",
        "colab": {
          "base_uri": "https://localhost:8080/"
        },
        "outputId": "c2e3b495-31d6-4fcb-9b26-63d3c5865551"
      },
      "execution_count": null,
      "outputs": [
        {
          "output_type": "stream",
          "name": "stdout",
          "text": [
            "Şifre, en az bir rakam ve büyük harf içermelidir.\n"
          ]
        }
      ]
    },
    {
      "cell_type": "markdown",
      "source": [
        "8.44 Örnek: Üç sayının toplamının diğer bir sayıya eşit olup olmadığını kontrol etme\n"
      ],
      "metadata": {
        "id": "vWOq1m0KdL5M"
      }
    },
    {
      "cell_type": "code",
      "source": [
        "a = 47\n",
        "b = 57\n",
        "c = 45\n",
        "if a + b == c or a + c == b or b + c == a:\n",
        "    print(\"Bir sayı diğer ikisinin toplamına eşittir.\")\n",
        "else:\n",
        "    print(\"Hiçbir sayı diğerlerinin toplamına eşit değil.\")"
      ],
      "metadata": {
        "id": "UfTM7FX6noaH",
        "colab": {
          "base_uri": "https://localhost:8080/"
        },
        "outputId": "913312de-9a39-4c56-d330-291ca15e4cc6"
      },
      "execution_count": null,
      "outputs": [
        {
          "output_type": "stream",
          "name": "stdout",
          "text": [
            "Hiçbir sayı diğerlerinin toplamına eşit değil.\n"
          ]
        }
      ]
    },
    {
      "cell_type": "markdown",
      "source": [
        "8.45 Örnek: Öğrenci burs hakkı kontrolü"
      ],
      "metadata": {
        "id": "79P48RCRdMDg"
      }
    },
    {
      "cell_type": "code",
      "source": [
        "ortalama = 70\n",
        "ailenin_geliri = 4500\n",
        "if ortalama >= 90 or (ortalama >= 80 and ailenin_geliri < 4000):\n",
        "    print(\"Burs kazandınız.\")\n",
        "else:\n",
        "    print(\"Burs hakkınız yok.\")"
      ],
      "metadata": {
        "id": "9ej0GaxNntL6",
        "colab": {
          "base_uri": "https://localhost:8080/"
        },
        "outputId": "fd250bd8-4aba-46ca-c48e-63186ddf4458"
      },
      "execution_count": null,
      "outputs": [
        {
          "output_type": "stream",
          "name": "stdout",
          "text": [
            "Burs hakkınız yok.\n"
          ]
        }
      ]
    },
    {
      "cell_type": "markdown",
      "source": [
        "8.46 Örnek: Mevsim belirleme"
      ],
      "metadata": {
        "id": "1ybKTc3HdMNO"
      }
    },
    {
      "cell_type": "code",
      "source": [
        "ay = \"Nisan\"\n",
        "if ay in [\"Aralık\", \"Ocak\", \"Şubat\"]:\n",
        "    print(\"Kış mevsimi.\")\n",
        "elif ay in [\"Mart\", \"Nisan\", \"Mayıs\"]:\n",
        "    print(\"İlkbahar mevsimi.\")\n",
        "elif ay in [\"Haziran\", \"Temmuz\", \"Ağustos\"]:\n",
        "    print(\"Yaz mevsimi.\")\n",
        "elif ay in [\"Eylül\", \"Ekim\", \"Kasım\"]:\n",
        "    print(\"Sonbahar mevsimi.\")\n",
        "else:\n",
        "    print(\"Geçersiz ay girdiniz.\")"
      ],
      "metadata": {
        "id": "R2m9MMHnn94q",
        "colab": {
          "base_uri": "https://localhost:8080/"
        },
        "outputId": "28cecc00-74e6-4dcc-f1d2-5c211b82928d"
      },
      "execution_count": null,
      "outputs": [
        {
          "output_type": "stream",
          "name": "stdout",
          "text": [
            "İlkbahar mevsimi.\n"
          ]
        }
      ]
    },
    {
      "cell_type": "markdown",
      "source": [
        "8.47 Örnek: Maaş artırımı"
      ],
      "metadata": {
        "id": "2VLHAd8AdMXq"
      }
    },
    {
      "cell_type": "code",
      "source": [
        "maaş = 6000\n",
        "if maaş < 3000:\n",
        "    zam = maaş * 0.25\n",
        "elif maaş <= 5000:\n",
        "    zam = maaş * 0.15\n",
        "else:\n",
        "    zam = maaş * 0.10\n",
        "print(f\"Yeni maaşınız: {maaş + zam} TL\")"
      ],
      "metadata": {
        "id": "Lil_kxmWoFEJ",
        "colab": {
          "base_uri": "https://localhost:8080/"
        },
        "outputId": "e42771ec-b440-4e90-a306-5b21880a20ff"
      },
      "execution_count": null,
      "outputs": [
        {
          "output_type": "stream",
          "name": "stdout",
          "text": [
            "Yeni maaşınız: 6600.0 TL\n"
          ]
        }
      ]
    }
  ]
}